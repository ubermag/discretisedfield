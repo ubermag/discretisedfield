{
 "cells": [
  {
   "cell_type": "code",
   "execution_count": 1,
   "metadata": {},
   "outputs": [],
   "source": [
    "import numpy as np\n",
    "import matplotlib.pyplot as plt\n",
    "import scipy as sp\n",
    "import scipy.fftpack\n",
    "import matplotlib.pyplot as plt\n",
    "from mpl_toolkits.mplot3d import Axes3D\n",
    "# import ipyvolume as ipv\n",
    "%matplotlib inline\n",
    "import discretisedfield.tools as dft\n",
    "import discretisedfield as df\n",
    "import oommfc as oc\n",
    "import micromagneticmodel as mm"
   ]
  },
  {
   "cell_type": "markdown",
   "metadata": {},
   "source": [
    "A common problem in magnetics is the study of the Heisenberg Hamiltonian in 3-D space, commonly on a regular lattice:\n",
    "\n",
    "\\begin{equation}\n",
    "\\mathcal{H} = -\\frac{1}{2}\\sum_{ij}S_{i} J_{ij} S_{j} - h \\sum_{i} S_i - \\sum_{i} S_i \\sum_{j} \\frac{3(S_j \\cdot \\hat{r}_{ij})\\hat{r}_{ij}}{r_{ij}^5} - \\frac{S_j}{r_{ij}^3}\n",
    "\\end{equation}\n",
    "\n",
    "Commonly the dipolar field calculation is often neglected for large scale calculatiins because the computational complexity of calculating the interaction has $\\mathcal{O}(N^2)$ complexity. In some cases, particularly where modelling 2-D systems, it is approximated by including an energy term in the Hamiltonian which has the same form as the Uniaxial Anisotropy, however it has been shown that in 3-D cases this is *not* sufficient, and can give incorrect results when modelling magnetisation dynamics with the Landau-Lifshitz-Gilbert equation. The dipolar interaction is crucial to the stabilisation of many interesting features in the magnetic field, such as domain walls, vortices and skyrmions.\n",
    "\n",
    "In this notebook, we aim to show how the field can be calculated much more quickly, using a Fast Fourier Transform (FFT) convolution approach.\n",
    "\n",
    "To start, lets consider a three-dimensional cubic lattice of spins, with $n_x \\times n_y \\times n_z$ in total."
   ]
  },
  {
   "cell_type": "markdown",
   "metadata": {},
   "source": [
    "If we index each axis as (i, j, k) We can give each spin a unique index, given by its position in the lattice, as\n",
    "\\begin{equation}\n",
    "\\text{I} = n_x\\times n_y\\times k + n_x\\times j + i \n",
    "\\end{equation}\n",
    "\n",
    "The position of a given spin $I$ is then just given by:\n",
    "\\begin{equation}\n",
    "\\mathbf{r_I} = (i\\,a_x, j\\,a_y, k\\,a_z)\n",
    "\\end{equation}\n",
    "where $a_x, a_y, a_z$ are the distances between adjacent cubic unit cells along each coordinate axis.\n",
    "\n",
    "Below, we just plot the magnetisation for a uniformly magnetised sample:"
   ]
  },
  {
   "cell_type": "code",
   "execution_count": 2,
   "metadata": {},
   "outputs": [],
   "source": [
    "import numpy as np\n",
    "\n",
    "nx = ny = nz = 5\n",
    "lenx = 2*nx - 1\n",
    "leny = 2*ny - 1\n",
    "lenz = 2*nz - 1\n",
    "shape = (lenx, leny, lenz)\n",
    "ax = 1\n",
    "ay = 1\n",
    "az = 1\n",
    "\n",
    "np.random.seed(0)\n",
    "\n",
    "mx = np.random.uniform(-1, 1, (nz, ny, nz))\n",
    "my = np.random.uniform(-1, 1, (nz, ny, nz))\n",
    "mz = np.random.uniform(-1, 1, (nz, ny, nz))\n",
    "mod = np.sqrt(mx ** 2 + my ** 2 + mz ** 2)\n",
    "mx /= mod\n",
    "my /= mod\n",
    "mz /= mod\n",
    "#mx = np.ones((nx, ny, nz))\n",
    "#my = np.ones((nx, ny, nz)) * 2\n",
    "#mz = np.ones((nx, ny, nz)) * 3\n",
    "\n",
    "\n",
    "Hx = np.zeros_like(mx)\n",
    "Hy = np.zeros_like(my)\n",
    "Hz = np.zeros_like(mz)\n",
    "\n",
    "Hx_fft = np.zeros_like(mx)\n",
    "Hy_fft = np.zeros_like(my)\n",
    "Hz_fft = np.zeros_like(mz)"
   ]
  },
  {
   "cell_type": "code",
   "execution_count": 3,
   "metadata": {},
   "outputs": [
    {
     "name": "stdout",
     "output_type": "stream",
     "text": [
      "(9, 9, 9)\n",
      "(9, 9, 5)\n"
     ]
    }
   ],
   "source": [
    "def H_direct(mx, my, mz, Hx, Hy, Hz):\n",
    "    Hx[:] = 0\n",
    "    Hy[:] = 0\n",
    "    Hz[:] = 0\n",
    "    for k in range(nz):\n",
    "        for j in range(ny):\n",
    "            for i in range(nx):            \n",
    "                for kp in range(nz):\n",
    "                    for jp in range(ny):\n",
    "                        for ip in range(nx):\n",
    "                            x = (i - ip)*ax\n",
    "                            y = (j - jp)*ay\n",
    "                            z = (k - kp)*az\n",
    "                            dr = np.sqrt(x**2 + y**2 + z**2)\n",
    "                            # Spins don't interact with themselves, so skip if on same position\n",
    "                            if (dr == 0):\n",
    "                                continue\n",
    "                            r = np.array([x, y, z])\n",
    "                            S = np.array([mx[kp, jp, ip], my[kp, jp, ip], mz[kp, jp, ip]])\n",
    "                            H = 1e-7 * (3*(r.dot(S))*r / dr**5 - S/dr**3)\n",
    "                            Hx[k, j, i] += H[0]\n",
    "                            Hy[k, j, i] += H[1]\n",
    "                            Hz[k, j, i] += H[2]\n",
    "\n",
    "def Nxx_calc(x, y, z):\n",
    "    x2 = x*x\n",
    "    y2 = y*y\n",
    "    z2 = z*z\n",
    "    \n",
    "    # x, y, z - coords in mesh\n",
    "    # mesh.r(point, origin=pmin)\n",
    "    r2 = x2 + y2 + z2\n",
    "    \n",
    "    return (2 * x2 - y2 - z2) / r2**2.5 if r2 != 0 else 0\n",
    "    \n",
    "def Nxy_calc(x, y, z):\n",
    "    r2 = x*x + y*y + z*z\n",
    "    \n",
    "    return 3*x*y / r2**2.5 if r2 != 0 else 0\n",
    "    \n",
    "def ComputeTensor(nx, ny, nz, ax, ay, az):\n",
    "    lenx = 2*nx - 1\n",
    "    leny = 2*ny - 1\n",
    "    lenz = 2*nz - 1\n",
    "    total = lenx*leny*lenz\n",
    "    shape = (lenx, leny, lenz)\n",
    "    rshape = (lenx, leny, lenz//2 + 1)\n",
    "    Nxx = np.zeros(shape)\n",
    "    Nxy = np.zeros_like(Nxx)\n",
    "    Nxz = np.zeros_like(Nxx)\n",
    "    Nyy = np.zeros_like(Nxx)\n",
    "    Nyz = np.zeros_like(Nxx)\n",
    "    Nzz = np.zeros_like(Nxx)\n",
    "    for k in range(lenz):\n",
    "        for i in range(lenx):\n",
    "            for j in range(leny):\n",
    "                # Notice that this spans the whole range of -nx*ax to nx*ax\n",
    "                x = (i - nx + 1) * ax \n",
    "                y = (j - ny + 1) * ay\n",
    "                z = (k - nz + 1) * az\n",
    "                Nxx[k, j, i] = Nxx_calc(x, y, z)\n",
    "                Nyy[k, j, i] = Nxx_calc(y, x, z)\n",
    "                Nzz[k, j, i] = Nxx_calc(z, y, x)\n",
    "                Nxy[k, j, i] = Nxy_calc(x, y, z)\n",
    "                Nxz[k, j, i] = Nxy_calc(x, z, y)\n",
    "                Nyz[k, j, i] = Nxy_calc(y, z, x)\n",
    "    print(Nxx.shape)\n",
    "    Nxxt = np.fft.rfftn(Nxx)\n",
    "    print(Nxxt.shape)\n",
    "    Nxyt = np.fft.rfftn(Nxy)\n",
    "    Nxzt = np.fft.rfftn(Nxz)\n",
    "    Nyyt = np.fft.rfftn(Nyy)\n",
    "    Nyzt = np.fft.rfftn(Nyz)\n",
    "    Nzzt = np.fft.rfftn(Nzz)\n",
    "    return (Nxx, Nxy, Nxz, Nyy, Nyz, Nzz), (Nxxt, Nxyt, Nxzt, Nyyt, Nyzt, Nzzt)\n",
    "\n",
    "untransformed, tensor = ComputeTensor(nx, ny, nz, ax, ay, az)\n",
    "\n",
    "def H_FFT(mx, my, mz, tensor, Hx, Hy, Hz):\n",
    "    Hx[:] = 0\n",
    "    Hy[:] = 0\n",
    "    Hz[:] = 0\n",
    "    Nxxt, Nxyt, Nxzt, Nyyt, Nyzt, Nzzt = tensor\n",
    "    nz, ny, nx = mx.shape\n",
    "    shape = (lenx, leny, lenz)\n",
    "    mx_padded = np.zeros(shape)\n",
    "    my_padded = np.zeros(shape)\n",
    "    mz_padded = np.zeros(shape)\n",
    "    mx_padded[:nx, :ny, :nz] = mx*1e-7\n",
    "\n",
    "    my_padded[:nx, :ny, :nz] = my*1e-7\n",
    "    mz_padded[:nx, :ny, :nz] = mz*1e-7\n",
    "    Mxt = np.fft.rfftn(mx_padded)\n",
    "    Myt = np.fft.rfftn(my_padded)\n",
    "    Mzt = np.fft.rfftn(mz_padded)\n",
    "\n",
    "    Hxt = (Nxxt*Mxt + Nxyt*Myt + Nxzt*Mzt)\n",
    "    Hyt = (Nxyt*Mxt + Nyyt*Myt + Nyzt*Mzt)\n",
    "    Hzt = (Nxzt*Mxt + Nyzt*Myt + Nzzt*Mzt)\n",
    "    hxc = np.fft.irfftn(Hxt, s=mx_padded.shape)\n",
    "    hyc = np.fft.irfftn(Hyt, s=mx_padded.shape)\n",
    "    hzc = np.fft.irfftn(Hzt, s=mx_padded.shape)\n",
    "\n",
    "    for k in range(nz):\n",
    "        for j in range(ny):\n",
    "            for i in range(nx):\n",
    "                Hx[k, j, i] = hxc[k + nz - 1, j + ny - 1, i + nx - 1]\n",
    "                Hy[k, j, i] = hyc[k + nz - 1, j + ny - 1, i + nx - 1]\n",
    "                Hz[k, j, i] = hzc[k + nz - 1, j + ny - 1, i + nx - 1]\n",
    "    return hxc, hyc, hzc"
   ]
  },
  {
   "cell_type": "code",
   "execution_count": 4,
   "metadata": {},
   "outputs": [],
   "source": [
    "mesh = df.Mesh(p1=(0,0,0), p2=(5,5,5), cell=(1,1,1))"
   ]
  },
  {
   "cell_type": "code",
   "execution_count": 5,
   "metadata": {},
   "outputs": [],
   "source": [
    "def f(x, y, z):\n",
    "    eps = 1e-18  # to avoid zero division; similar to Albert et al. 2015 \n",
    "    return (abs(y) / 2 * (z**2 - x**2) * np.arcsinh(abs(y) / (np.sqrt(x**2 + z**2) + eps))\n",
    "            + abs(z) / 2 * (y**2 - x**2) * np.arcsinh(abs(z) / (np.sqrt(x**2 + y**2) + eps))\n",
    "            - abs(x * y * z) * np.arctan(abs(y * z) / (abs(x) * np.sqrt(x**2 + y**2 + z**2) + eps))\n",
    "            + 1/6 * (2 * x**2 - y**2 - z**2) * np.sqrt(x**2 + y**2 + z**2))\n",
    "\n",
    "def g(x, y, z):\n",
    "    eps = 1e-18\n",
    "    return (x * y * z * np.arcsinh(z / (np.sqrt(x**2 + y**2) + eps))\n",
    "            + y / 6 * (3 * z**2 - y**2) * np.arcsinh(x / (np.sqrt(y**2 + z**2) + eps))\n",
    "            + x / 6 * (3 * z**2 - x**2) * np.arcsinh(y / (np.sqrt(x**2 + z**2) + eps))\n",
    "            - z**3 / 6 * np.arctan(x * y / (z * np.sqrt(x**2 + y**2 + z**2) + eps))\n",
    "            - z * y**2 / 2 * np.arctan(x * z / (y * np.sqrt(x**2 + y**2 + z**2) + eps))\n",
    "            - z * x**2 / 2 * np.arctan(y * z / (x * np.sqrt(x**2 + y**2 + z**2) + eps))\n",
    "            - x * y * np.sqrt(x**2 + y**2 + z**2) / 3\n",
    "    )\n",
    "\n",
    "def N_element(x, y, z, mesh, function):\n",
    "    dx, dy, dz = mesh.cell\n",
    "    value = 0.\n",
    "    for i in np.rollaxis(np.indices((2,) * 6), 0, 7).reshape(64, 6):\n",
    "        #print(x + (i[0] - i[3]) * dx, y + (i[1] - i[4]) * dy , z + (i[2] - i[5]) * dz, (-1)**np.sum(i), function(x + (i[0] - i[3]) * dx, y + (i[1] - i[4]) * dy , z + (i[2] - i[5]) * dz))\n",
    "        value += (-1)**np.sum(i) * function(x + (i[0] - i[3]) * dx, y + (i[1] - i[4]) * dy , z + (i[2] - i[5]) * dz)\n",
    "    return - value / (4 * np.pi * np.prod(mesh.cell))\n",
    "    \n",
    "def N_calc_new(mesh):\n",
    "    def _inner(p):\n",
    "        x, y, z = p\n",
    "        return (N_element(x, y, z, mesh, f),  # Nxx\n",
    "                N_element(y, z, x, mesh, f),  # Nyy\n",
    "                N_element(z, x, y, mesh, f),  # Nzz\n",
    "                N_element(x, y, z, mesh, g),  # Nxy\n",
    "                N_element(x, z, y, mesh, g),  # Nxz\n",
    "                N_element(y, z, x, mesh, g))  # Nyz\n",
    "    return _inner"
   ]
  },
  {
   "cell_type": "code",
   "execution_count": 6,
   "metadata": {},
   "outputs": [],
   "source": [
    "def Nxx_calc(x, y, z):\n",
    "    x2 = x*x\n",
    "    y2 = y*y\n",
    "    z2 = z*z\n",
    "    \n",
    "    # x, y, z - coords in mesh\n",
    "    # mesh.r(point, origin=pmin)\n",
    "    r2 = x2 + y2 + z2\n",
    "    \n",
    "    return (2 * x2 - y2 - z2) / r2**2.5 if r2 != 0 else 0\n",
    "    \n",
    "def Nxy_calc(x, y, z):\n",
    "    r2 = x*x + y*y + z*z\n",
    "    \n",
    "    return 3*x*y / r2**2.5 if r2 != 0 else 0\n",
    "\n",
    "def N_calc(p):\n",
    "    x, y, z = p\n",
    "    return (Nxx_calc(x, y, z), Nxx_calc(y, z, x), Nxx_calc(z, x, y),\n",
    "            Nxy_calc(x, y, z), Nxy_calc(x, z, y), Nxy_calc(y, z, x))\n",
    "\n",
    "def ComputeTensor_new(mesh):\n",
    "    p1 = [(-i + 1) * j - j/2 for i, j in zip(mesh.n, mesh.cell)]\n",
    "    p2 = [(i - 1) * j + j/2 for i, j in zip(mesh.n, mesh.cell)]\n",
    "    n = [2*i - 1 for i in mesh.n]\n",
    "    mesh_new = df.Mesh(p1=p1, p2=p2, n=n)\n",
    "\n",
    "    return df.Field(mesh_new, dim=6, value=N_calc_new(mesh_new)).fftn\n",
    "    # Nxxt, Nyyt, Nzzt, Nxyt, Nxzt, Nyzt\n",
    "    #   0     1     2     3     4     5\n",
    "\n",
    "def H_FFT(mx, my, mz, tensor, Hx, Hy, Hz):\n",
    "    Hx[:] = 0\n",
    "    Hy[:] = 0\n",
    "    Hz[:] = 0\n",
    "    Nxxt, Nxyt, Nxzt, Nyyt, Nyzt, Nzzt = tensor\n",
    "    nz, ny, nx = mx.shape\n",
    "    shape = (lenx, leny, lenz)\n",
    "    mx_padded = np.zeros(shape)\n",
    "    my_padded = np.zeros(shape)\n",
    "    mz_padded = np.zeros(shape)\n",
    "    mx_padded[:nx, :ny, :nz] = mx*1e-7\n",
    "\n",
    "    my_padded[:nx, :ny, :nz] = my*1e-7\n",
    "    mz_padded[:nx, :ny, :nz] = mz*1e-7\n",
    "    Mxt = np.fft.rfftn(mx_padded)\n",
    "    Myt = np.fft.rfftn(my_padded)\n",
    "    Mzt = np.fft.rfftn(mz_padded)\n",
    "\n",
    "    Hxt = (Nxxt*Mxt + Nxyt*Myt + Nxzt*Mzt)\n",
    "    Hyt = (Nxyt*Mxt + Nyyt*Myt + Nyzt*Mzt)\n",
    "    Hzt = (Nxzt*Mxt + Nyzt*Myt + Nzzt*Mzt)\n",
    "    hxc = np.fft.irfftn(Hxt, s=mx_padded.shape)\n",
    "    hyc = np.fft.irfftn(Hyt, s=mx_padded.shape)\n",
    "    hzc = np.fft.irfftn(Hzt, s=mx_padded.shape)\n",
    "\n",
    "    for k in range(nz):\n",
    "        for j in range(ny):\n",
    "            for i in range(nx):\n",
    "                Hx[k, j, i] = hxc[k + nz - 1, j + ny - 1, i + nx - 1]\n",
    "                Hy[k, j, i] = hyc[k + nz - 1, j + ny - 1, i + nx - 1]\n",
    "                Hz[k, j, i] = hzc[k + nz - 1, j + ny - 1, i + nx - 1]\n",
    "    return hxc, hyc, hzc"
   ]
  },
  {
   "cell_type": "code",
   "execution_count": 7,
   "metadata": {},
   "outputs": [],
   "source": [
    "m_field = df.Field(mesh, dim=3, value=np.stack((mx, my, mz), axis=3), norm=1)"
   ]
  },
  {
   "cell_type": "code",
   "execution_count": 8,
   "metadata": {},
   "outputs": [],
   "source": [
    "system = mm.System(name='test')\n",
    "system.m = m_field\n",
    "system.energy = mm.Demag()"
   ]
  },
  {
   "cell_type": "code",
   "execution_count": 9,
   "metadata": {},
   "outputs": [
    {
     "name": "stdout",
     "output_type": "stream",
     "text": [
      "Running OOMMF (ExeOOMMFRunner) [2021/08/03 17:50]... (1.1 s)\n"
     ]
    }
   ],
   "source": [
    "oc_field = oc.compute(system.energy.demag.effective_field, system)"
   ]
  },
  {
   "cell_type": "code",
   "execution_count": 10,
   "metadata": {},
   "outputs": [],
   "source": [
    "tensor_new = ComputeTensor_new(mesh)"
   ]
  },
  {
   "cell_type": "code",
   "execution_count": 11,
   "metadata": {},
   "outputs": [],
   "source": [
    "tensor_dft = dft.demag_tensor(mesh)"
   ]
  },
  {
   "cell_type": "code",
   "execution_count": 12,
   "metadata": {},
   "outputs": [],
   "source": [
    "def H_FFT_new(m, tensor):\n",
    "    m_pad = m.pad({d: (0, m.mesh.n[i] - 1) for d, i in zip(['x', 'y', 'z'], range(3))}, mode='constant')\n",
    "    m_pad_fft = m_pad.fftn\n",
    "    \n",
    "    hx = tensor.array[..., 0] * m_pad_fft.x.array.squeeze() + tensor.array[..., 3] * m_pad_fft.y.array.squeeze() + tensor.array[..., 4] * m_pad_fft.z.array.squeeze()\n",
    "    hy = tensor.array[..., 3] * m_pad_fft.x.array.squeeze() + tensor.array[..., 1] * m_pad_fft.y.array.squeeze() + tensor.array[..., 5] * m_pad_fft.z.array.squeeze()\n",
    "    hz = tensor.array[..., 4] * m_pad_fft.x.array.squeeze() + tensor.array[..., 5] * m_pad_fft.y.array.squeeze() + tensor.array[..., 2] * m_pad_fft.z.array.squeeze()\n",
    "    H = df.Field(m_pad_fft.mesh, dim=3, value=np.stack((hx, hy, hz), axis=3)).ifftn\n",
    "    return df.Field(m.mesh, dim=3, value=H.array[m.mesh.n[0] - 1:, m.mesh.n[1] - 1:, m.mesh.n[2] - 1:, :]).real"
   ]
  },
  {
   "cell_type": "raw",
   "metadata": {},
   "source": [
    "H_direct(mx, my, mz, Hx, Hy, Hz)"
   ]
  },
  {
   "cell_type": "raw",
   "metadata": {},
   "source": [
    "hxc, hyc, hzc = H_FFT(mx, my, mz, tensor, Hx_fft, Hy_fft, Hz_fft)"
   ]
  },
  {
   "cell_type": "code",
   "execution_count": 13,
   "metadata": {},
   "outputs": [],
   "source": [
    "H_new = H_FFT_new(m_field, tensor_new)"
   ]
  },
  {
   "cell_type": "code",
   "execution_count": 14,
   "metadata": {},
   "outputs": [],
   "source": [
    "H_dft = dft.demag_field(m_field, tensor_dft)"
   ]
  },
  {
   "cell_type": "code",
   "execution_count": 19,
   "metadata": {},
   "outputs": [
    {
     "data": {
      "image/png": "[encoded data removed]",
      "text/plain": [
       "<Figure size 576x432 with 2 Axes>"
      ]
     },
     "metadata": {},
     "output_type": "display_data"
    }
   ],
   "source": [
    "H_new.plane(z=1.5).mpl()"
   ]
  },
  {
   "cell_type": "code",
   "execution_count": 18,
   "metadata": {},
   "outputs": [
    {
     "data": {
      "image/png": "[encoded data removed]",
      "text/plain": [
       "<Figure size 576x432 with 2 Axes>"
      ]
     },
     "metadata": {},
     "output_type": "display_data"
    }
   ],
   "source": [
    "oc_field.plane(z=1.5).mpl()"
   ]
  },
  {
   "cell_type": "code",
   "execution_count": 20,
   "metadata": {},
   "outputs": [
    {
     "data": {
      "image/png": "[encoded data removed]",
      "text/plain": [
       "<Figure size 576x432 with 2 Axes>"
      ]
     },
     "metadata": {},
     "output_type": "display_data"
    }
   ],
   "source": [
    "H_dft.plane(z=1.5).mpl()"
   ]
  },
  {
   "cell_type": "code",
   "execution_count": null,
   "metadata": {},
   "outputs": [],
   "source": []
  }
 ],
 "metadata": {
  "kernelspec": {
   "display_name": "Python 3",
   "language": "python",
   "name": "python3"
  },
  "language_info": {
   "codemirror_mode": {
    "name": "ipython",
    "version": 3
   },
   "file_extension": ".py",
   "mimetype": "text/x-python",
   "name": "python",
   "nbconvert_exporter": "python",
   "pygments_lexer": "ipython3",
   "version": "3.8.10"
  }
 },
 "nbformat": 4,
 "nbformat_minor": 4
}
