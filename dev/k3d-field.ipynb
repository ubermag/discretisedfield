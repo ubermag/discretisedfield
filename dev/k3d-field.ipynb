{
 "cells": [
  {
   "cell_type": "markdown",
   "metadata": {},
   "source": [
    "# k3d field"
   ]
  },
  {
   "cell_type": "code",
   "execution_count": 1,
   "metadata": {},
   "outputs": [],
   "source": [
    "import k3d\n",
    "import discretisedfield as df\n",
    "import matplotlib.pyplot as plt\n",
    "\n",
    "p1 = (-10e-9, -10e-9, -20e-9)\n",
    "p2 = (10e-9, 10e-9, 20e-9)\n",
    "cell = (2e-9, 2e-9, 2e-9)\n",
    "\n",
    "region = df.Region(p1=p1, p2=p2)\n",
    "mesh = df.Mesh(region, cell=cell)\n",
    "\n",
    "def norm_fun(point):\n",
    "    x, y, z = point\n",
    "    \n",
    "    if x**2 + y**2 < (10e-9**2):\n",
    "        return 1e6\n",
    "    else:\n",
    "        return 0\n",
    "    \n",
    "def value_fun(point):\n",
    "    x, y, z = point\n",
    "    c = 1e9\n",
    "    return (c*x, c*y, c*z)\n",
    "    \n",
    "field = df.Field(mesh, dim=3, value=value_fun, norm=norm_fun)"
   ]
  },
  {
   "cell_type": "code",
   "execution_count": 2,
   "metadata": {},
   "outputs": [],
   "source": [
    "#field.norm.plane('z').k3d_nonzero()"
   ]
  },
  {
   "cell_type": "code",
   "execution_count": 3,
   "metadata": {},
   "outputs": [],
   "source": [
    "# plot = k3d.plot()\n",
    "\n",
    "# @df.interact(z=mesh.slider('z'))\n",
    "# def myplot(z):\n",
    "#     field.norm.plane(z=z).k3d_nonzero(plot=plot, interactive_field=field)\n",
    "    \n",
    "# plot.display()"
   ]
  },
  {
   "cell_type": "code",
   "execution_count": 4,
   "metadata": {},
   "outputs": [
    {
     "data": {
      "application/vnd.jupyter.widget-view+json": {
       "model_id": "3ff552f07efa4bb5be780d468d3bef5c",
       "version_major": 2,
       "version_minor": 0
      },
      "text/plain": [
       "Output()"
      ]
     },
     "metadata": {},
     "output_type": "display_data"
    }
   ],
   "source": [
    "field.x.plane('y').k3d_scalar()"
   ]
  },
  {
   "cell_type": "code",
   "execution_count": 5,
   "metadata": {},
   "outputs": [],
   "source": [
    "#field.x.plane('z').mpl()"
   ]
  },
  {
   "cell_type": "code",
   "execution_count": 6,
   "metadata": {},
   "outputs": [],
   "source": [
    "# plot = k3d.plot()\n",
    "\n",
    "# @df.interact(z=mesh.slider('z'))\n",
    "# def myplot(z):\n",
    "#     field.x.plane(z=z).k3d_scalar(plot=plot, filter_field=field.norm, interactive_field=field)\n",
    "    \n",
    "# plot.display()"
   ]
  },
  {
   "cell_type": "code",
   "execution_count": 7,
   "metadata": {},
   "outputs": [],
   "source": [
    "# field.plane('z').k3d_vector()"
   ]
  },
  {
   "cell_type": "code",
   "execution_count": 8,
   "metadata": {},
   "outputs": [],
   "source": [
    "# plot = k3d.plot()\n",
    "\n",
    "# @df.interact(z=mesh.slider('z'))\n",
    "# def myplot(z):\n",
    "#     field.plane(z=z).k3d_vector(plot=plot, color_field=field.x, cmap='hsv', interactive_field=field)\n",
    "    \n",
    "# plot.display()"
   ]
  },
  {
   "cell_type": "code",
   "execution_count": null,
   "metadata": {},
   "outputs": [],
   "source": []
  }
 ],
 "metadata": {
  "kernelspec": {
   "display_name": "Python 3",
   "language": "python",
   "name": "python3"
  },
  "language_info": {
   "codemirror_mode": {
    "name": "ipython",
    "version": 3
   },
   "file_extension": ".py",
   "mimetype": "text/x-python",
   "name": "python",
   "nbconvert_exporter": "python",
   "pygments_lexer": "ipython3",
   "version": "3.8.5"
  }
 },
 "nbformat": 4,
 "nbformat_minor": 4
}
