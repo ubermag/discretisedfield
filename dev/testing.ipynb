{
 "cells": [
  {
   "cell_type": "code",
   "execution_count": 1,
   "metadata": {},
   "outputs": [],
   "source": [
    "import k3d\n",
    "\n",
    "import discretisedfield as df\n",
    "\n",
    "#import discretisedfield.util as dfu\n",
    "%matplotlib inline\n",
    "\n",
    "p1 = (-5e-9, -5e-9, -2e-9)\n",
    "p2 = (5e-9, 5e-9, 10e-9)\n",
    "cell = (1e-9, 1e-9, 1e-9)\n",
    "mesh = df.Mesh(p1=p1, p2=p2, cell=cell)\n",
    "\n",
    "value_fun = lambda pos: (pos[0], pos[1], pos[2]*pos[1])\n",
    "\n",
    "def norm_fun(pos):\n",
    "    x, y, z = pos\n",
    "    if x**2 + y**2 < 5e-9**2:\n",
    "        return 1\n",
    "    else:\n",
    "        return 0\n",
    "    \n",
    "field = df.Field(mesh, dim=3, value=value_fun, norm=norm_fun)"
   ]
  },
  {
   "cell_type": "code",
   "execution_count": 2,
   "metadata": {},
   "outputs": [
    {
     "data": {
      "application/vnd.jupyter.widget-view+json": {
       "model_id": "9dd67aa4cc714c17b286e663b96607d3",
       "version_major": 2,
       "version_minor": 0
      },
      "text/plain": [
       "interactive(children=(SelectionSlider(description='y (nm)', index=5, options=((-4.5, -4.5e-09), (-3.5, -3.5e-0…"
      ]
     },
     "metadata": {},
     "output_type": "display_data"
    }
   ],
   "source": [
    "plot1 = k3d.plot()\n",
    "@df.interact(z=field.mesh.slider('y', continuous_update=True),\n",
    "             axis=field.mesh.axis_selection())\n",
    "def myplot(z, axis):\n",
    "    getattr(field, axis).plane(y=z).k3d_voxels(filter_field=field.norm,\n",
    "                                               interactive=True,\n",
    "                                               field=field,\n",
    "                                               plot=plot1)"
   ]
  },
  {
   "cell_type": "code",
   "execution_count": 3,
   "metadata": {},
   "outputs": [
    {
     "data": {
      "application/vnd.jupyter.widget-view+json": {
       "model_id": "3695ac9b369c436ab661a3f4d28c91d7",
       "version_major": 2,
       "version_minor": 0
      },
      "text/plain": [
       "Output()"
      ]
     },
     "metadata": {},
     "output_type": "display_data"
    }
   ],
   "source": [
    "field.x.plane(y=0).k3d_voxels(filter_field=field.norm, field=field)"
   ]
  },
  {
   "cell_type": "code",
   "execution_count": 4,
   "metadata": {},
   "outputs": [
    {
     "data": {
      "application/vnd.jupyter.widget-view+json": {
       "model_id": "22ed157b477543dd8eb05fe69e3b2adf",
       "version_major": 2,
       "version_minor": 0
      },
      "text/plain": [
       "interactive(children=(SelectionSlider(description='y (nm)', index=5, options=((-4.5, -4.5e-09), (-3.5, -3.5e-0…"
      ]
     },
     "metadata": {},
     "output_type": "display_data"
    }
   ],
   "source": [
    "plot2 = k3d.plot()\n",
    "@df.interact(z=field.mesh.slider('y', continuous_update=True),\n",
    "             axis=field.mesh.axis_selection())\n",
    "def myplot(z, axis):\n",
    "    field.plane(y=z).k3d_vectors(color_field=field.x,\n",
    "                                 interactive=True,\n",
    "                                 field=field,\n",
    "                                 plot=plot2)"
   ]
  },
  {
   "cell_type": "code",
   "execution_count": 5,
   "metadata": {},
   "outputs": [
    {
     "data": {
      "application/vnd.jupyter.widget-view+json": {
       "model_id": "72a2d08284714af88cd85424a4486c32",
       "version_major": 2,
       "version_minor": 0
      },
      "text/plain": [
       "Output()"
      ]
     },
     "metadata": {},
     "output_type": "display_data"
    }
   ],
   "source": [
    "field.k3d_vectors(color_field=field.x, field=field)"
   ]
  },
  {
   "cell_type": "code",
   "execution_count": 6,
   "metadata": {},
   "outputs": [
    {
     "data": {
      "application/vnd.jupyter.widget-view+json": {
       "model_id": "17c4e4b313774811a76b155098a9d696",
       "version_major": 2,
       "version_minor": 0
      },
      "text/plain": [
       "interactive(children=(SelectionSlider(description='z (nm)', index=6, options=((-1.5, -1.5000000000000002e-09),…"
      ]
     },
     "metadata": {},
     "output_type": "display_data"
    }
   ],
   "source": [
    "plot3 = k3d.plot()\n",
    "@df.interact(z=field.mesh.slider('z', continuous_update=True),\n",
    "             axis=field.mesh.axis_selection())\n",
    "def myplot(z, axis):\n",
    "    field.norm.plane(z=z).k3d_nonzero(color_field=field.x,\n",
    "                                 interactive=True,\n",
    "                                 field=field,\n",
    "                                 plot=plot3)"
   ]
  },
  {
   "cell_type": "code",
   "execution_count": 7,
   "metadata": {},
   "outputs": [
    {
     "data": {
      "application/vnd.jupyter.widget-view+json": {
       "model_id": "02bbad861db24d8b9e99edb3cfce1516",
       "version_major": 2,
       "version_minor": 0
      },
      "text/plain": [
       "interactive(children=(SelectionSlider(description='z (nm)', index=6, options=((-1.5, -1.5000000000000002e-09),…"
      ]
     },
     "metadata": {},
     "output_type": "display_data"
    }
   ],
   "source": [
    "@df.interact(z=field.mesh.slider('z', continuous_update=True),\n",
    "             axis=field.mesh.axis_selection(widget='radiobuttons', description='something'))\n",
    "def myplot(z, axis):\n",
    "    getattr(field, axis).plane(z=z).mpl(figsize=(6, 6))"
   ]
  },
  {
   "cell_type": "code",
   "execution_count": null,
   "metadata": {},
   "outputs": [],
   "source": []
  }
 ],
 "metadata": {
  "kernelspec": {
   "display_name": "Python 3",
   "language": "python",
   "name": "python3"
  },
  "language_info": {
   "codemirror_mode": {
    "name": "ipython",
    "version": 3
   },
   "file_extension": ".py",
   "mimetype": "text/x-python",
   "name": "python",
   "nbconvert_exporter": "python",
   "pygments_lexer": "ipython3",
   "version": "3.8.3"
  },
  "widgets": {
   "application/vnd.jupyter.widget-state+json": {
    "state": {
     "014a81325f714274829ca0e4259f937b": {
      "buffers": [
       {
        "data": "eNrzU2Jg8APiHD0IznU2BOP81CQwLp80E4yTd58FY89r78DY4sU/MPYb1T+qfwjrBwAWyQRo",
        "encoding": "base64",
        "path": [
         "colors",
         "compressed_buffer"
        ]
       },
       {
        "data": "eNpjYGiwZ8AAxIsBAF7EAv0=",
        "encoding": "base64",
        "path": [
         "model_matrix",
         "compressed_buffer"
        ]
       },
       {
        "data": "eNpN0KFtBDEQheGJdMAk3HB7CF97wdHUEB50nTgNpIAgV5CbAi6Sa1gc4BLu1vLc/MDSA36fnma/nPUtvGYRvf78B328kb8+v6/vp9PIf7fbr4hYXi0//iT7c/Ssu1/O2cz96Qt8gS/wBb7AF/gCX+gn+Al+gp/gJ/gJfoKf3Ff4Cl/hK3yFr/AVvsJfsvtLdn/J7o+8WnZ/dLN13R95+C/y8fSPbP6RzZ95tWz+7Gbrmj/z3F+wv2B/wf6C/QX7C/YX7C/wK/wKv8Kv8Cv8Cr/Cr7hPw30a7tNwn4b7NNyn4T4N92nY37G/Y3/H/o79Hfs79nfs7/DD5n7Y3A+b+yOvlt0f3Wxd90eefoQf4Uf4EX6EH+FH+HG7A960c2A=",
        "encoding": "base64",
        "path": [
         "origins",
         "compressed_buffer"
        ]
       },
       {
        "data": "eNpN0E8og3EcBvD35M/BkgOllFJS0vt7V5pS3ly4zAFL7cJabReXVykHF6LmpPw5aCuiJGRbcZhiMyJlyHJxkHZ2sMNbygF7yvP1O3zrOTzP5/B1nUAumm2y56PT6WS8J1c5O7O/nj4frsqtvk7Yl4Mn6fuCP2sYc/ZyxwNyH3OlY7ODHbeuE7Bpun++8bGTor/lu0nRT06UU/RDTq34yPTRoY8tfZiab2q+qfmm5ivNV5pvar6p+ab7/x+l/Udp/1Haf5T2H6X9R2n/Udp/FP38wZ34setP8e97Gy36M4VOiz4yfXToY0sfJv3WFY9F/9Dpsuifjo6Iv7foiI9MHx362NKHSb/k94m/9j0ufrE7Jv7kZlx8ZPro0MeWPkz62zUh8fsGlsS/7d8Vf+HrTHxk+ujQx5Y+TPoqvCi+t25b/OzQlfiJsTfxkemjQx9b+jDp119siN/+fCr+cbAkfvDF8NJHpo8OfWzpw6RfbjkSvzlRFH8/8iN+pLpBfGT66NDHlj5M+k+zefE94XfxHzMeL/2p7jbxkemjQx9b+jB/AQUVAQk=",
        "encoding": "base64",
        "path": [
         "vectors",
         "compressed_buffer"
        ]
       }
      ],
      "model_module": "k3d",
      "model_module_version": "2.7.3",
      "model_name": "ObjectModel",
      "state": {
       "_view_count": null,
       "_view_module": null,
       "_view_module_version": "",
       "_view_name": null,
       "colors": {
        "compressed_buffer": {},
        "dtype": "uint32",
        "shape": [
         96,
         2
        ]
       },
       "compression_level": 0,
       "head_color": 255,
       "head_size": 1,
       "id": 139655185067072,
       "label_size": 1,
       "labels": [],
       "line_width": 0.01,
       "model_matrix": {
        "compressed_buffer": {},
        "dtype": "float32",
        "shape": [
         4,
         4
        ]
       },
       "name": "Vectors #3",
       "origin_color": 255,
       "origins": {
        "compressed_buffer": {},
        "dtype": "float32",
        "shape": [
         96,
         3
        ]
       },
       "type": "Vectors",
       "use_head": true,
       "vectors": {
        "compressed_buffer": {},
        "dtype": "float32",
        "shape": [
         96,
         3
        ]
       },
       "visible": true
      }
     },
     "0379944c68424d8ba21822330a1f47a4": {
      "model_module": "@jupyter-widgets/base",
      "model_module_version": "1.2.0",
      "model_name": "LayoutModel",
      "state": {}
     },
     "04073793f61041c8a8ea53920b13abce": {
      "buffers": [
       {
        "data": "eNrbUOTDAAAEsgFv",
        "encoding": "base64",
        "path": [
         "color_map",
         "compressed_buffer"
        ]
       },
       {
        "data": "eNpjYFBwZMAA2MQa7BkYPjigiwEATbADcQ==",
        "encoding": "base64",
        "path": [
         "model_matrix",
         "compressed_buffer"
        ]
       },
       {
        "data": "eNpjYGBgBAIGBggNYcNZjEQCbHoZ4CYDABAsAFE=",
        "encoding": "base64",
        "path": [
         "voxels",
         "compressed_buffer"
        ]
       }
      ],
      "model_module": "k3d",
      "model_module_version": "2.7.3",
      "model_name": "ObjectModel",
      "state": {
       "_view_count": null,
       "_view_module": null,
       "_view_module_version": "",
       "_view_name": null,
       "color_map": {
        "compressed_buffer": {},
        "dtype": "uint32",
        "shape": []
       },
       "compression_level": 0,
       "id": 139656145568960,
       "model_matrix": {
        "compressed_buffer": {},
        "dtype": "float32",
        "shape": [
         4,
         4
        ]
       },
       "name": "Voxels #13",
       "opacity": 1,
       "outlines": false,
       "outlines_color": 0,
       "type": "Voxels",
       "visible": true,
       "voxels": {
        "compressed_buffer": {},
        "dtype": "uint8",
        "shape": [
         1,
         10,
         10
        ]
       },
       "wireframe": false
      }
     },
     "070c465afde24b39a5974e6e1bedd0aa": {
      "model_module": "@jupyter-widgets/output",
      "model_module_version": "1.0.0",
      "model_name": "OutputModel",
      "state": {
       "layout": "IPY_MODEL_8be7a35b1ae1474e864ea09049757575",
       "outputs": [
        {
         "data": {
          "application/vnd.jupyter.widget-view+json": {
           "model_id": "682b436783e24606817e3ebe46b55416",
           "version_major": 2,
           "version_minor": 0
          },
          "text/plain": "Plot(antialias=3, axes=['x (nm)', 'y (nm)', 'z (nm)'], axes_helper=1.0, background_color=16777215, camera=[2, …"
         },
         "metadata": {},
         "output_type": "display_data"
        }
       ]
      }
     },
     "088dff4a574e4be2bc490255ecfc24a1": {
      "model_module": "@jupyter-widgets/controls",
      "model_module_version": "1.5.0",
      "model_name": "SelectionSliderModel",
      "state": {
       "_options_labels": [
        "-1.5",
        "-0.5",
        "0.5",
        "1.5",
        "2.5",
        "3.5",
        "4.5",
        "5.5",
        "6.5",
        "7.5",
        "8.5",
        "9.5"
       ],
       "description": "z (nm)",
       "index": 6,
       "layout": "IPY_MODEL_422c4dde3a5040f68211bf2ea0654bba",
       "style": "IPY_MODEL_db55abee8dec4e678d3fc886985df8f5"
      }
     },
     "0a604418bfaa4183b83dfa0121e44309": {
      "buffers": [
       {
        "data": "eNoDAAAAAAE=",
        "encoding": "base64",
        "path": [
         "colors",
         "compressed_buffer"
        ]
       },
       {
        "data": "eNpjYGiwZ8AAxIsBAF7EAv0=",
        "encoding": "base64",
        "path": [
         "model_matrix",
         "compressed_buffer"
        ]
       },
       {
        "data": "eNpd0cGtwyAQhOHJLSXskU7AnbySthQ68JZAKZTwZBvMHw6RRoTwaSaSh6QsxfnR35ulhHx9ZhZzxh3kVPBmWefOPN4XXMEVXMEVXMEVXMEVXNHNcDPcrduPh08gv26Gm+Hm5QbcgBtwA25sZiC/O8MNuAE3leVev0vI073fO/dO4w7y/O5+s6xzZ465x3Sfuwn5cccb577fuIP8uOPNss6dOeb2q6+jr6Ovo69v/1sgz76Ovo6+DrfCrXAr3Aq3wq1wK9wKt8Kt2Llh54adG3Zu2Llh54adG3Zu2Llh54a+HX07+nb07ejb0bejb0ffjr4dfTvc77Hc77HcK0/3ymLOuIM83fvNss6debxvcA2uwTW4BtfgGlyDa3Dt+AeTyOAx",
        "encoding": "base64",
        "path": [
         "positions",
         "compressed_buffer"
        ]
       }
      ],
      "model_module": "k3d",
      "model_module_version": "2.7.3",
      "model_name": "ObjectModel",
      "state": {
       "_view_count": null,
       "_view_module": null,
       "_view_module_version": "",
       "_view_name": null,
       "color": 5010096,
       "colors": {
        "compressed_buffer": {},
        "dtype": "uint32",
        "shape": [
         0
        ]
       },
       "compression_level": 0,
       "id": 139655184743872,
       "mesh_detail": 2,
       "model_matrix": {
        "compressed_buffer": {},
        "dtype": "float32",
        "shape": [
         4,
         4
        ]
       },
       "name": "Points #1",
       "opacity": 1,
       "point_size": 0.24999999999999994,
       "positions": {
        "compressed_buffer": {},
        "dtype": "float32",
        "shape": [
         120,
         3
        ]
       },
       "shader": "3dSpecular",
       "type": "Points",
       "visible": true
      }
     },
     "0e4efa3316ad4f5a95773652dad3edc9": {
      "buffers": [
       {
        "data": "eNolw2dslWUYgOHbHyb8MDExxhhjjAqCgIDQQSmlpaUtXXSP073X6fuNs7/D3puy9yqjQNl7j7KLbMqQPQREjTuuqI3PiVdypX4MaZ0howtkfQLZMrcr2LpB/qdQKIu7Q2kPKJcVPaHqM6iRdb3A3huU1PqA8TmYgX3BEdjvNRxBr2MGdcIMfgMz5E35Fmbo25j938Ho/y5G2HsYA97HCP9Afog+8CP0iM6yC/qgruiR3dCjuqNF9UAb3BMtupfsjRbTB21IX9kPLTYIFRcsQ1DxoaihYaiEATIclTgQlRQhB6GSI1EpUXIwalg0KjVGDkGlxaLS41AZ8XIoKjMBlZUok1DZyaicFDkMlZuKykuT6Wi2DLT8TLSCLJmNVpiDVhSYi1ach1ZiQy/JRy8tQC8rRC8vksXoFSUYlYGlGFVlGNXlsgKzphKztgqzrvr/9TU47LWyDkdDPQ5lx6k1SIVTl4aGy9BxmQYuh4nb6ZBO3C4nHrdLuvF4PHi9Xrw+H75Ay8Ln92MNHy5HYI0YiTVylByNNUqOHoM1Zqwch3/sePzjJuAfP1FOwj9hMtbEKViTpsppWJOnY02ZgTV1ppyFNa0Ra/psrBlz5FysmfOwZsnG+fgaF+CbvRDfnEX45i7GN2+JXIp3/jK8C5bjXbhCrsS7aBWexavxLGnCs3SNXIt72Trcy9fjXtEsN+BauRHXqk24VrfgatqMs2kLzjVbca7dhmPddhzrd+Bo3onZvAtzwx6MjXsxNu3DaNmP3nIAffNBtC2H0LYeRtt2BLX9qDxGw47jNOw8gX1XK/bdJ6nfc0qepm7vGer2naV2/zlqD5yn5mAb1YcuyItUHb5E5ZHLVB69QsWxq1Qcv0b5ieuUtd6gtLWd0pM3KTl1i+LTtyk6c4eis3cpPHePgvP3yW97gK3tIbYLj8j74jG5F5+Qc+kp2ZefkXXlOZlXX5Bx7SXp178m7cYrUtu/IaX9W5JvfkfSre9JvP0DCXd+JP7Ln4i7+zOx934h5v6vRD/4jaiHvxP56A8iHv9J+JO/CHv6N6HP/iH4q38Jft5ByIsOQl92EPaqg/8ABrdj6Q==",
        "encoding": "base64",
        "path": [
         "color_map",
         "compressed_buffer"
        ]
       },
       {
        "data": "eNpjYFBwZMAADfZQxn6EmANQXYMDujoAaIcD4A==",
        "encoding": "base64",
        "path": [
         "model_matrix",
         "compressed_buffer"
        ]
       },
       {
        "data": "eNoBeACH/+Lj5uz//+zm4+Le3+Di6Oji4N/e29rZ19HR19na29fV0826us3T1dfT0czDo6PDzNHT0MzGuIyMuMbM0MzIwK50dK7AyMzJw7mkXV2kucPJxb6zmUZGmbO+xcG6rI8vL4+susG+taaFGBiFprW+urCgegEBeqCwukO4VU0=",
        "encoding": "base64",
        "path": [
         "voxels",
         "compressed_buffer"
        ]
       }
      ],
      "model_module": "k3d",
      "model_module_version": "2.7.3",
      "model_name": "ObjectModel",
      "state": {
       "_view_count": null,
       "_view_module": null,
       "_view_module_version": "",
       "_view_name": null,
       "color_map": {
        "compressed_buffer": {},
        "dtype": "uint32",
        "shape": [
         256
        ]
       },
       "compression_level": 0,
       "id": 139656145569104,
       "model_matrix": {
        "compressed_buffer": {},
        "dtype": "float32",
        "shape": [
         4,
         4
        ]
       },
       "name": "Voxels #10",
       "opacity": 1,
       "outlines": false,
       "outlines_color": 0,
       "type": "Voxels",
       "visible": true,
       "voxels": {
        "compressed_buffer": {},
        "dtype": "uint8",
        "shape": [
         12,
         1,
         10
        ]
       },
       "wireframe": false
      }
     },
     "0eeed38279fc4ee786bd6f32b0b1bc27": {
      "model_module": "@jupyter-widgets/base",
      "model_module_version": "1.2.0",
      "model_name": "LayoutModel",
      "state": {}
     },
     "0fc57eda6efc433d8af5db6fc0272ca9": {
      "buffers": [
       {
        "data": "eNoDAAAAAAE=",
        "encoding": "base64",
        "path": [
         "colors",
         "compressed_buffer"
        ]
       },
       {
        "data": "eNpjYGiwZ8AAxIsBAF7EAv0=",
        "encoding": "base64",
        "path": [
         "model_matrix",
         "compressed_buffer"
        ]
       },
       {
        "data": "eNpN0cF1wyAUBMDvm0vg6E5AnbgkSqGDUAKlUEIiCaI5+Gkto3nr1Su+PeLz9+k/93Xn/f28hjlzhvwpO7/ia15m4Ad+4Ad+4Ad+4Id+xs/4GT/jZ/yMn/Hz43f8jt/xO37H7/gdv+Pv33f+fx+F7Qr/s9Cp8Hx5/CtfJvdWvv07hzlzhnz7Z97WyqtzpX+lf6V/pX+lf6V/pX/Fb/gNv+E3/Ibf8Bt+Y5/BPoN9BvsM9hnsM9hnsM+g/6T/pP+k/6T/pP+k/6T/xH8fj3/m7Z85zJkz5O2/j8e/8jITfsJP+Ak/4Sf8hJ+OX15y6uk=",
        "encoding": "base64",
        "path": [
         "positions",
         "compressed_buffer"
        ]
       }
      ],
      "model_module": "k3d",
      "model_module_version": "2.7.3",
      "model_name": "ObjectModel",
      "state": {
       "_view_count": null,
       "_view_module": null,
       "_view_module_version": "",
       "_view_name": null,
       "color": 5010096,
       "colors": {
        "compressed_buffer": {},
        "dtype": "uint32",
        "shape": [
         0
        ]
       },
       "compression_level": 0,
       "id": 139655184618160,
       "mesh_detail": 2,
       "model_matrix": {
        "compressed_buffer": {},
        "dtype": "float32",
        "shape": [
         4,
         4
        ]
       },
       "name": "Points #11",
       "opacity": 1,
       "point_size": 0.24999999999999994,
       "positions": {
        "compressed_buffer": {},
        "dtype": "float32",
        "shape": [
         96,
         3
        ]
       },
       "shader": "3dSpecular",
       "type": "Points",
       "visible": true
      }
     },
     "1029eb15554c43999c10cf3fa5beb642": {
      "buffers": [
       {
        "data": "eNrbUOTDAAAEsgFv",
        "encoding": "base64",
        "path": [
         "color_map",
         "compressed_buffer"
        ]
       },
       {
        "data": "eNpjYFBwZMAA2MQa7IHiDuhiAD8QAqE=",
        "encoding": "base64",
        "path": [
         "model_matrix",
         "compressed_buffer"
        ]
       },
       {
        "data": "eNpjYGBgBAIGBggNYcNZjEQCbHoZ4CYDABAsAFE=",
        "encoding": "base64",
        "path": [
         "voxels",
         "compressed_buffer"
        ]
       }
      ],
      "model_module": "k3d",
      "model_module_version": "2.7.3",
      "model_name": "ObjectModel",
      "state": {
       "_view_count": null,
       "_view_module": null,
       "_view_module_version": "",
       "_view_name": null,
       "color_map": {
        "compressed_buffer": {},
        "dtype": "uint32",
        "shape": []
       },
       "compression_level": 0,
       "id": 139655184791200,
       "model_matrix": {
        "compressed_buffer": {},
        "dtype": "float32",
        "shape": [
         4,
         4
        ]
       },
       "name": "Voxels #4",
       "opacity": 1,
       "outlines": false,
       "outlines_color": 0,
       "type": "Voxels",
       "visible": true,
       "voxels": {
        "compressed_buffer": {},
        "dtype": "uint8",
        "shape": [
         1,
         10,
         10
        ]
       },
       "wireframe": false
      }
     },
     "1066468403744fdfb0ecc4e357458653": {
      "buffers": [
       {
        "data": "eNolw2dslWUYgOHbHyb8MDExxhhjjAqCgIDQQSmlpaUtXXSP073X6fuNs7/D3puy9yqjQNl7j7KLbMqQPQREjTuuqI3PiVdypX4MaZ0howtkfQLZMrcr2LpB/qdQKIu7Q2kPKJcVPaHqM6iRdb3A3huU1PqA8TmYgX3BEdjvNRxBr2MGdcIMfgMz5E35Fmbo25j938Ho/y5G2HsYA97HCP9Afog+8CP0iM6yC/qgruiR3dCjuqNF9UAb3BMtupfsjRbTB21IX9kPLTYIFRcsQ1DxoaihYaiEATIclTgQlRQhB6GSI1EpUXIwalg0KjVGDkGlxaLS41AZ8XIoKjMBlZUok1DZyaicFDkMlZuKykuT6Wi2DLT8TLSCLJmNVpiDVhSYi1ach1ZiQy/JRy8tQC8rRC8vksXoFSUYlYGlGFVlGNXlsgKzphKztgqzrvr/9TU47LWyDkdDPQ5lx6k1SIVTl4aGy9BxmQYuh4nb6ZBO3C4nHrdLuvF4PHi9Xrw+H75Ay8Ln92MNHy5HYI0YiTVylByNNUqOHoM1Zqwch3/sePzjJuAfP1FOwj9hMtbEKViTpsppWJOnY02ZgTV1ppyFNa0Ra/psrBlz5FysmfOwZsnG+fgaF+CbvRDfnEX45i7GN2+JXIp3/jK8C5bjXbhCrsS7aBWexavxLGnCs3SNXIt72Trcy9fjXtEsN+BauRHXqk24VrfgatqMs2kLzjVbca7dhmPddhzrd+Bo3onZvAtzwx6MjXsxNu3DaNmP3nIAffNBtC2H0LYeRtt2BLX9qDxGw47jNOw8gX1XK/bdJ6nfc0qepm7vGer2naV2/zlqD5yn5mAb1YcuyItUHb5E5ZHLVB69QsWxq1Qcv0b5ieuUtd6gtLWd0pM3KTl1i+LTtyk6c4eis3cpPHePgvP3yW97gK3tIbYLj8j74jG5F5+Qc+kp2ZefkXXlOZlXX5Bx7SXp178m7cYrUtu/IaX9W5JvfkfSre9JvP0DCXd+JP7Ln4i7+zOx934h5v6vRD/4jaiHvxP56A8iHv9J+JO/CHv6N6HP/iH4q38Jft5ByIsOQl92EPaqg/8ABrdj6Q==",
        "encoding": "base64",
        "path": [
         "color_map",
         "compressed_buffer"
        ]
       },
       {
        "data": "eNpjYFBwZMAADfYQOsEBIeYAVNfggK4OAGToA8E=",
        "encoding": "base64",
        "path": [
         "model_matrix",
         "compressed_buffer"
        ]
       },
       {
        "data": "eNoBeACH/wALBwMBAQMHCwAAGxoZGBgZGhsAACwtLi8vLi0sAAA8QERGRkRAPAAATVNZXV1ZU00AAF1mb3R0b2ZdAABueYSMjIR5bgAAfoyao6OajH4AAI+fr7q6r5+PAACfssTR0cSynwAAsMXa6OjaxbAAAMDY7///79jAAMCqK1k=",
        "encoding": "base64",
        "path": [
         "voxels",
         "compressed_buffer"
        ]
       }
      ],
      "model_module": "k3d",
      "model_module_version": "2.7.3",
      "model_name": "ObjectModel",
      "state": {
       "_view_count": null,
       "_view_module": null,
       "_view_module_version": "",
       "_view_name": null,
       "color_map": {
        "compressed_buffer": {},
        "dtype": "uint32",
        "shape": [
         256
        ]
       },
       "compression_level": 0,
       "id": 139656145611648,
       "model_matrix": {
        "compressed_buffer": {},
        "dtype": "float32",
        "shape": [
         4,
         4
        ]
       },
       "name": "Voxels #14",
       "opacity": 1,
       "outlines": false,
       "outlines_color": 0,
       "type": "Voxels",
       "visible": true,
       "voxels": {
        "compressed_buffer": {},
        "dtype": "uint8",
        "shape": [
         12,
         1,
         10
        ]
       },
       "wireframe": false
      }
     },
     "1112458d082e447cbdcadba5f17f0934": {
      "buffers": [
       {
        "data": "eNoDAAAAAAE=",
        "encoding": "base64",
        "path": [
         "colors",
         "compressed_buffer"
        ]
       },
       {
        "data": "eNpjYGiwZ8AAxIsBAF7EAv0=",
        "encoding": "base64",
        "path": [
         "model_matrix",
         "compressed_buffer"
        ]
       },
       {
        "data": "eNpNzkENAzEMRNHpbSHkuEy8YbKQDCUMOhACJRAqRVH9T/6Hp5Elf6W09hU7qs0+RvCCF7zoAz7gAz7KG97whjf8/ZTfHdVmb/PR+/eno9rss5nYT+wn9hN+wA/4AT/wz8Q/E/9M/DOxv7C/sL+wv+CvXn53VJt9TINv8A2+9R9cRo1R",
        "encoding": "base64",
        "path": [
         "positions",
         "compressed_buffer"
        ]
       }
      ],
      "model_module": "k3d",
      "model_module_version": "2.7.3",
      "model_name": "ObjectModel",
      "state": {
       "_view_count": null,
       "_view_module": null,
       "_view_module_version": "",
       "_view_name": null,
       "color": 5010096,
       "colors": {
        "compressed_buffer": {},
        "dtype": "uint32",
        "shape": [
         0
        ]
       },
       "compression_level": 0,
       "id": 139655149190928,
       "mesh_detail": 2,
       "model_matrix": {
        "compressed_buffer": {},
        "dtype": "float32",
        "shape": [
         4,
         4
        ]
       },
       "name": "Points #9",
       "opacity": 1,
       "point_size": 0.25,
       "positions": {
        "compressed_buffer": {},
        "dtype": "float32",
        "shape": [
         48,
         3
        ]
       },
       "shader": "3dSpecular",
       "type": "Points",
       "visible": true
      }
     },
     "1350fcd157f14e1fa293c0c66798f850": {
      "model_module": "@jupyter-widgets/output",
      "model_module_version": "1.0.0",
      "model_name": "OutputModel",
      "state": {
       "layout": "IPY_MODEL_719d160ee31d4976991abb8013a62f57",
       "outputs": [
        {
         "data": {
          "application/vnd.jupyter.widget-view+json": {
           "model_id": "7e2d175e48a9432096cee4e6f3608dab",
           "version_major": 2,
           "version_minor": 0
          },
          "text/plain": "Plot(antialias=3, axes=['x', 'y', 'z'], axes_helper=1.0, background_color=16777215, camera=[2, -3, 0.2, 0.0, 0…"
         },
         "metadata": {},
         "output_type": "display_data"
        }
       ]
      }
     },
     "161fd097553545bc84d0817b16c869c1": {
      "model_module": "@jupyter-widgets/base",
      "model_module_version": "1.2.0",
      "model_name": "LayoutModel",
      "state": {}
     },
     "16a203d1bbaa486bbbbeb259a2572463": {
      "model_module": "@jupyter-widgets/output",
      "model_module_version": "1.0.0",
      "model_name": "OutputModel",
      "state": {
       "layout": "IPY_MODEL_e7ae92aded73436cbd7b804bb37e6984",
       "outputs": [
        {
         "data": {
          "application/vnd.jupyter.widget-view+json": {
           "model_id": "3302d2e941a44910a6763bc4a1fe16d7",
           "version_major": 2,
           "version_minor": 0
          },
          "text/plain": "Output()"
         },
         "metadata": {},
         "output_type": "display_data"
        }
       ]
      }
     },
     "16e7ff9936244847b58a51c196d67bc5": {
      "buffers": [
       {
        "data": "eNrzU2Jg8ANif2UIDlSB4Ah1CM6zUQbjmCPXwdji4W8wNn36D4zNnkGwxQsI9hs1b9S8UfPoZh4AhVY34A==",
        "encoding": "base64",
        "path": [
         "colors",
         "compressed_buffer"
        ]
       },
       {
        "data": "eNpjYGiwZ8AAxIsBAF7EAv0=",
        "encoding": "base64",
        "path": [
         "model_matrix",
         "compressed_buffer"
        ]
       },
       {
        "data": "eNpN0DFOxDAQheGhS0/jjtTcgILYvgkXgBNQrKgRsjgEJXKPtDvVdkjuKanofAQSK7PzF5FekfGn90QOevf2u4jo6WlOen7/GfnjUfT++Xvkm7+X0+3r58jHr+vj+lleLK//RPtnvU12u76Z7E2RQzJLLq7AFbgCV+AKXIErcAWuwBW6EW6EG+FGuBFuhBvhRrgRbnRX4SpchatwFa7CVbgKV+Eq3Dm5Oyd35+TunNwdebHs7rhNduvunNwdebhX8nBxt2zuls3dsrl7Xiybu98muzV3y+buee9b0Legb0Hfgr4FfQv6FvQt6FvQt8CtcCvcCrfCrXAr3Aq3wq1wK3Zu2Llh54adG3Zu2Llh54adG3Zu2Lmhb0ffjr4dfTv6dvTt6NvRt6NvR98Od8ruTtndKbs7ZXdHXiy7O26T3bo7ZXdH3t0AN8ANcAPcADfADXAD3AA35H/xv/8I",
        "encoding": "base64",
        "path": [
         "origins",
         "compressed_buffer"
        ]
       },
       {
        "data": "eNpN0k8o3nEcB/AfOyD5s+Ygh0coW61+3+9TIszzc6LmoJSsWXPioNVWz5OD9OwRttpBaIqSg9ou4/k5ENvlJ6RJyIG4cJBZa4cdOD2K513en30Ov/oc3u/P69enr+MkgtrR84b3jTX+55t4cLn0MNK60OvvTwwEuQXPI6Wrc/5wZyxYuJyLPLMPFsvKq4P057XNT2D2OKczHjPprsdueqfHnY6T8Gg59+5teyxJ91N0Jkk3fn2cpJv64/p034xt+HQx00WGLrp0sZMuLOW6ynWV6yrXKNco1yjXKNdVrqtc1/l/Z6PubNSdjbqzVXe26s5W3dmqOxt1Z6PubOiuLU+Ji/+n+3Y6y9L98eWluB9jV+JiposMXXTpYiddWHS9nUNxiy+yLd29owZxZ/KmxX0dehqmi5kuMnTRpYuddGHR7XqXY+mmMqy4blFM3M6fm+L2Z74SFzNdZOiiSxc76cKiW5p6LO5pqEPcrSeT4pYM/RO3JfpBXMx0kaGLLl3spAuL7tlIk7hr9XFx+5oXxf0byg/TfXExKy5musjQRZcudtKFRXe2sFtcvE+6lT074rbcVIjb07EiLma6yNBFly520oVF198dFHej7qu4h8O/xP12UitudHtfXMx0kaGLLl3spAuLbsGjcXGrtr+Lu37ghOnmrrSKO1j/W1zMdJGhiy5d7KQL6w5MEVnv",
        "encoding": "base64",
        "path": [
         "vectors",
         "compressed_buffer"
        ]
       }
      ],
      "model_module": "k3d",
      "model_module_version": "2.7.3",
      "model_name": "ObjectModel",
      "state": {
       "_view_count": null,
       "_view_module": null,
       "_view_module_version": "",
       "_view_name": null,
       "colors": {
        "compressed_buffer": {},
        "dtype": "uint32",
        "shape": [
         120,
         2
        ]
       },
       "compression_level": 0,
       "head_color": 255,
       "head_size": 1,
       "id": 139655184791776,
       "label_size": 1,
       "labels": [],
       "line_width": 0.01,
       "model_matrix": {
        "compressed_buffer": {},
        "dtype": "float32",
        "shape": [
         4,
         4
        ]
       },
       "name": "Vectors #14",
       "origin_color": 255,
       "origins": {
        "compressed_buffer": {},
        "dtype": "float32",
        "shape": [
         120,
         3
        ]
       },
       "type": "Vectors",
       "use_head": true,
       "vectors": {
        "compressed_buffer": {},
        "dtype": "float32",
        "shape": [
         120,
         3
        ]
       },
       "visible": true
      }
     },
     "19facd3a9b7d4c069a8d179c8d8a140d": {
      "buffers": [
       {
        "data": "eNrbUOTDAAAEsgFv",
        "encoding": "base64",
        "path": [
         "color_map",
         "compressed_buffer"
        ]
       },
       {
        "data": "eNpjYFBwZMAA2MQcgGINDqhiDfYAQHoCww==",
        "encoding": "base64",
        "path": [
         "model_matrix",
         "compressed_buffer"
        ]
       },
       {
        "data": "eNpjBAAAAgAC",
        "encoding": "base64",
        "path": [
         "voxels",
         "compressed_buffer"
        ]
       }
      ],
      "model_module": "k3d",
      "model_module_version": "2.7.3",
      "model_name": "ObjectModel",
      "state": {
       "_view_count": null,
       "_view_module": null,
       "_view_module_version": "",
       "_view_name": null,
       "color_map": {
        "compressed_buffer": {},
        "dtype": "uint32",
        "shape": []
       },
       "compression_level": 0,
       "id": 139655184790960,
       "model_matrix": {
        "compressed_buffer": {},
        "dtype": "float32",
        "shape": [
         4,
         4
        ]
       },
       "name": "Voxels #1",
       "opacity": 0.025,
       "outlines": false,
       "outlines_color": 0,
       "type": "Voxels",
       "visible": true,
       "voxels": {
        "compressed_buffer": {},
        "dtype": "uint8",
        "shape": [
         1,
         1,
         1
        ]
       },
       "wireframe": false
      }
     },
     "1b8a5a8bbdde4c17854b414f414acfb6": {
      "buffers": [
       {
        "data": "eNrbUOTDAAAEsgFv",
        "encoding": "base64",
        "path": [
         "color_map",
         "compressed_buffer"
        ]
       },
       {
        "data": "eNpjYFBwZMAA2MQcgGINDqhiDfYAQHoCww==",
        "encoding": "base64",
        "path": [
         "model_matrix",
         "compressed_buffer"
        ]
       },
       {
        "data": "eNpjBAAAAgAC",
        "encoding": "base64",
        "path": [
         "voxels",
         "compressed_buffer"
        ]
       }
      ],
      "model_module": "k3d",
      "model_module_version": "2.7.3",
      "model_name": "ObjectModel",
      "state": {
       "_view_count": null,
       "_view_module": null,
       "_view_module_version": "",
       "_view_name": null,
       "color_map": {
        "compressed_buffer": {},
        "dtype": "uint32",
        "shape": []
       },
       "compression_level": 0,
       "id": 139656145609728,
       "model_matrix": {
        "compressed_buffer": {},
        "dtype": "float32",
        "shape": [
         4,
         4
        ]
       },
       "name": "Voxels #1",
       "opacity": 0.025,
       "outlines": false,
       "outlines_color": 0,
       "type": "Voxels",
       "visible": true,
       "voxels": {
        "compressed_buffer": {},
        "dtype": "uint8",
        "shape": [
         1,
         1,
         1
        ]
       },
       "wireframe": false
      }
     },
     "2003fd93f772415ba6ab9d45a70811f6": {
      "buffers": [
       {
        "data": "eNolw2dslWUYgOHbHyb8MDExxhhjjAqCgIDQQSmlpaUtXXSP073X6fuNs7/D3puy9yqjQNl7j7KLbMqQPQREjTuuqI3PiVdypX4MaZ0howtkfQLZMrcr2LpB/qdQKIu7Q2kPKJcVPaHqM6iRdb3A3huU1PqA8TmYgX3BEdjvNRxBr2MGdcIMfgMz5E35Fmbo25j938Ho/y5G2HsYA97HCP9Afog+8CP0iM6yC/qgruiR3dCjuqNF9UAb3BMtupfsjRbTB21IX9kPLTYIFRcsQ1DxoaihYaiEATIclTgQlRQhB6GSI1EpUXIwalg0KjVGDkGlxaLS41AZ8XIoKjMBlZUok1DZyaicFDkMlZuKykuT6Wi2DLT8TLSCLJmNVpiDVhSYi1ach1ZiQy/JRy8tQC8rRC8vksXoFSUYlYGlGFVlGNXlsgKzphKztgqzrvr/9TU47LWyDkdDPQ5lx6k1SIVTl4aGy9BxmQYuh4nb6ZBO3C4nHrdLuvF4PHi9Xrw+H75Ay8Ln92MNHy5HYI0YiTVylByNNUqOHoM1Zqwch3/sePzjJuAfP1FOwj9hMtbEKViTpsppWJOnY02ZgTV1ppyFNa0Ra/psrBlz5FysmfOwZsnG+fgaF+CbvRDfnEX45i7GN2+JXIp3/jK8C5bjXbhCrsS7aBWexavxLGnCs3SNXIt72Trcy9fjXtEsN+BauRHXqk24VrfgatqMs2kLzjVbca7dhmPddhzrd+Bo3onZvAtzwx6MjXsxNu3DaNmP3nIAffNBtC2H0LYeRtt2BLX9qDxGw47jNOw8gX1XK/bdJ6nfc0qepm7vGer2naV2/zlqD5yn5mAb1YcuyItUHb5E5ZHLVB69QsWxq1Qcv0b5ieuUtd6gtLWd0pM3KTl1i+LTtyk6c4eis3cpPHePgvP3yW97gK3tIbYLj8j74jG5F5+Qc+kp2ZefkXXlOZlXX5Bx7SXp178m7cYrUtu/IaX9W5JvfkfSre9JvP0DCXd+JP7Ln4i7+zOx934h5v6vRD/4jaiHvxP56A8iHv9J+JO/CHv6N6HP/iH4q38Jft5ByIsOQl92EPaqg/8ABrdj6Q==",
        "encoding": "base64",
        "path": [
         "color_map",
         "compressed_buffer"
        ]
       },
       {
        "data": "eNpjYFBwZMAADfaYYg5AdQ0O6OoAT+gDIQ==",
        "encoding": "base64",
        "path": [
         "model_matrix",
         "compressed_buffer"
        ]
       },
       {
        "data": "eNpjZGJmV7v18++//4x0ZQEAncc8AQ==",
        "encoding": "base64",
        "path": [
         "voxels",
         "compressed_buffer"
        ]
       }
      ],
      "model_module": "k3d",
      "model_module_version": "2.7.3",
      "model_name": "ObjectModel",
      "state": {
       "_view_count": null,
       "_view_module": null,
       "_view_module_version": "",
       "_view_name": null,
       "color_map": {
        "compressed_buffer": {},
        "dtype": "uint32",
        "shape": [
         256
        ]
       },
       "compression_level": 0,
       "id": 139655184791680,
       "model_matrix": {
        "compressed_buffer": {},
        "dtype": "float32",
        "shape": [
         4,
         4
        ]
       },
       "name": "Voxels #2",
       "opacity": 1,
       "outlines": false,
       "outlines_color": 0,
       "type": "Voxels",
       "visible": true,
       "voxels": {
        "compressed_buffer": {},
        "dtype": "uint8",
        "shape": [
         12,
         1,
         10
        ]
       },
       "wireframe": false
      }
     },
     "21f3589b7a3f4893bd8981c5be7f2769": {
      "buffers": [
       {
        "data": "eNrzU2Jg8ANif2UIDlSB4Ah1CM6zUQbjmCPXwdji4W8wNn36D4zNnkGwxQsI9hs1b9S8UfPoZh4AhVY34A==",
        "encoding": "base64",
        "path": [
         "colors",
         "compressed_buffer"
        ]
       },
       {
        "data": "eNpjYGiwZ8AAxIsBAF7EAv0=",
        "encoding": "base64",
        "path": [
         "model_matrix",
         "compressed_buffer"
        ]
       },
       {
        "data": "eNpN0DFOxDAQheGhS0/jjtTcgILYuQkXgBNQrKgRsjgEJXKPtDvVdkjuKanofAQSy7PzF5FekfGn90QOevf2exTR09Oc9Pz+0/PHo+j983fPN38vp9vXz56PX9fH/Rt5sbz9E+2f7TbZ7fZmsjdFDsksubgCV+AKXIErcAWuwBW4AlfoRrgRboQb4Ua4EW6EG+FGuNFdhatwFa7CVbgKV+EqXIWrcOfk7pzcnZO7c3K358Wyu/022a27c3K35+5eycPF3bO5ezZ3z+aOvFg2d9wmuzV3z+aOPPpm9M3om9E3o29G34y+GX0z+mb0zXAL3AK3wC1wC9wCt8AtcAvcgp0rdq7YuWLnip0rdq7YuWLnip0rdq7o29C3oW9D34a+DX0b+jb0bejb0LfBnVZ3p9XdaXV3Wt3tebHsbr9NduvutLrb83AD3AA3wA1wA9wAN8ANcAPcsP4Df6Y7Fw==",
        "encoding": "base64",
        "path": [
         "origins",
         "compressed_buffer"
        ]
       },
       {
        "data": "eNpN0jtIHGEUBeDRFFEkUdEipFhJhCgIM1uIwZgwVgqxEARRVGKlRRAi7GIhsnGJSSBFUFFQEAtBm8T5Z0HxAe5IFFHEiIVBGy3EB2JhodUKyR7w3Nxi4Bbn3G+4/JbVH1R+P1n5WP3SGbmLBedz+cn62ffO7nBfkJP7Nlm0OOUMtEaD2fOp5Ovwg/Cz5xUBvoafw5hdzumMy0y667Kb3ulyp2X1u7Sse/dvY9Sm+y0yYdON3R7YdFOXtkO3a3DNoYuZLjJ00aWLnXRhKddTrqdcT7lGuUa5RrlGuZ5yPeV61v87G3Vno+5s1J19dWdf3dlXd/bVnY26s1F3NnRX58fExf/T/TD+0Ke7PN0i7tfojbiY6SJDF1262EkXFl13e1/cJ6dZPt3ff96IO/FoXNx3obIEXcx0kaGLLl3spAuLbnt3tk83lREW1y6Mitu6uS5ub2abuJjpIkMXXbrYSRcW3aJUibhHoSZxN0pHxX366VrcusgXcTHTRYYuunSxky4susefa8RdrYqJ21Pri3sVepyg23w6KS5musjQRZcudtKFRXcyr0NcvE+6Lzq3xa27Kxa3s2lBXMx0kaGLLl3spAuLrtmJi7v2akbc/YEzcX8cVoob2doVFzNdZOiiSxc76cKim1swJG751pK4v/asBN2chXpx41UX4mKmiwxddOliJ11Y/wC1uL3v",
        "encoding": "base64",
        "path": [
         "vectors",
         "compressed_buffer"
        ]
       }
      ],
      "model_module": "k3d",
      "model_module_version": "2.7.3",
      "model_name": "ObjectModel",
      "state": {
       "_view_count": null,
       "_view_module": null,
       "_view_module_version": "",
       "_view_name": null,
       "colors": {
        "compressed_buffer": {},
        "dtype": "uint32",
        "shape": [
         120,
         2
        ]
       },
       "compression_level": 0,
       "head_color": 255,
       "head_size": 1,
       "id": 139655144438272,
       "label_size": 1,
       "labels": [],
       "line_width": 0.01,
       "model_matrix": {
        "compressed_buffer": {},
        "dtype": "float32",
        "shape": [
         4,
         4
        ]
       },
       "name": "Vectors #13",
       "origin_color": 255,
       "origins": {
        "compressed_buffer": {},
        "dtype": "float32",
        "shape": [
         120,
         3
        ]
       },
       "type": "Vectors",
       "use_head": true,
       "vectors": {
        "compressed_buffer": {},
        "dtype": "float32",
        "shape": [
         120,
         3
        ]
       },
       "visible": true
      }
     },
     "25ec71b2a2924ae1858ed2984211acec": {
      "buffers": [
       {
        "data": "eNoDAAAAAAE=",
        "encoding": "base64",
        "path": [
         "colors",
         "compressed_buffer"
        ]
       },
       {
        "data": "eNpjYGiwZ8AAxIsBAF7EAv0=",
        "encoding": "base64",
        "path": [
         "model_matrix",
         "compressed_buffer"
        ]
       },
       {
        "data": "eNpN0cuVgzAQBMDxzSHoSCaCTDYkhaIMPCEoFIVg8PKpA0990Cua5hV/+dqfiPxELOT8PDnMlTvkZb3yfppPM/ADP/ADP/ADP/BDv+JX/Ipf8St+xa/49fETP/ETP/ETP/ETP/GX9fGPfPlHDnPlDvnyf6c5z+f2//P9b1Z2XPnmlX4r1u1z7u9q9G/0b/Rv9G/0b/Rv9G/4Hb/jd/yO3/E7fsfv7DPYZ7DPYJ/BPoN9BvsM9hn0n/Sf9J/0n/Sf9J/0n/Sf+O/t8Y98+UcOc+UO+fLf2+P/8mkW/IJf8At+wS/4Bb9sXzprA1g=",
        "encoding": "base64",
        "path": [
         "positions",
         "compressed_buffer"
        ]
       }
      ],
      "model_module": "k3d",
      "model_module_version": "2.7.3",
      "model_name": "ObjectModel",
      "state": {
       "_view_count": null,
       "_view_module": null,
       "_view_module_version": "",
       "_view_name": null,
       "color": 5010096,
       "colors": {
        "compressed_buffer": {},
        "dtype": "uint32",
        "shape": [
         0
        ]
       },
       "compression_level": 0,
       "id": 139655144439136,
       "mesh_detail": 2,
       "model_matrix": {
        "compressed_buffer": {},
        "dtype": "float32",
        "shape": [
         4,
         4
        ]
       },
       "name": "Points #8",
       "opacity": 1,
       "point_size": 0.25,
       "positions": {
        "compressed_buffer": {},
        "dtype": "float32",
        "shape": [
         96,
         3
        ]
       },
       "shader": "3dSpecular",
       "type": "Points",
       "visible": true
      }
     },
     "2652205ff0594c6185cf049662e51ca2": {
      "buffers": [
       {
        "data": "eNrbUOTDAAAEsgFv",
        "encoding": "base64",
        "path": [
         "color_map",
         "compressed_buffer"
        ]
       },
       {
        "data": "eNpjYFBwZMAA2MQa7BkYEhzQxQBDkALh",
        "encoding": "base64",
        "path": [
         "model_matrix",
         "compressed_buffer"
        ]
       },
       {
        "data": "eNpjYGBgBAIGBggNYcNZjEQCbHoZ4CYDABAsAFE=",
        "encoding": "base64",
        "path": [
         "voxels",
         "compressed_buffer"
        ]
       }
      ],
      "model_module": "k3d",
      "model_module_version": "2.7.3",
      "model_name": "ObjectModel",
      "state": {
       "_view_count": null,
       "_view_module": null,
       "_view_module_version": "",
       "_view_name": null,
       "color_map": {
        "compressed_buffer": {},
        "dtype": "uint32",
        "shape": []
       },
       "compression_level": 0,
       "id": 139655185064672,
       "model_matrix": {
        "compressed_buffer": {},
        "dtype": "float32",
        "shape": [
         4,
         4
        ]
       },
       "name": "Voxels #15",
       "opacity": 1,
       "outlines": false,
       "outlines_color": 0,
       "type": "Voxels",
       "visible": true,
       "voxels": {
        "compressed_buffer": {},
        "dtype": "uint8",
        "shape": [
         1,
         10,
         10
        ]
       },
       "wireframe": false
      }
     },
     "27b0f238c92b4e8e81116deb9467d4cb": {
      "buffers": [
       {
        "data": "eNrbUOTDAAAEsgFv",
        "encoding": "base64",
        "path": [
         "color_map",
         "compressed_buffer"
        ]
       },
       {
        "data": "eNpjYFBwZMAA2MQcgGINDqhiDfYAQHoCww==",
        "encoding": "base64",
        "path": [
         "model_matrix",
         "compressed_buffer"
        ]
       },
       {
        "data": "eNpjBAAAAgAC",
        "encoding": "base64",
        "path": [
         "voxels",
         "compressed_buffer"
        ]
       }
      ],
      "model_module": "k3d",
      "model_module_version": "2.7.3",
      "model_name": "ObjectModel",
      "state": {
       "_view_count": null,
       "_view_module": null,
       "_view_module_version": "",
       "_view_name": null,
       "color_map": {
        "compressed_buffer": {},
        "dtype": "uint32",
        "shape": []
       },
       "compression_level": 0,
       "id": 139655184775632,
       "model_matrix": {
        "compressed_buffer": {},
        "dtype": "float32",
        "shape": [
         4,
         4
        ]
       },
       "name": "Voxels #1",
       "opacity": 0.025,
       "outlines": false,
       "outlines_color": 0,
       "type": "Voxels",
       "visible": true,
       "voxels": {
        "compressed_buffer": {},
        "dtype": "uint8",
        "shape": [
         1,
         1,
         1
        ]
       },
       "wireframe": false
      }
     },
     "283aec0a012843809ad3645ebf40a9f6": {
      "buffers": [
       {
        "data": "eNrzU2Jg8APiHD0IznU2BOP81CQwLp80E4yTd58FY89r78DY4sU/MPYb1T+qfwjrBwAWyQRo",
        "encoding": "base64",
        "path": [
         "colors",
         "compressed_buffer"
        ]
       },
       {
        "data": "eNpjYGiwZ8AAxIsBAF7EAv0=",
        "encoding": "base64",
        "path": [
         "model_matrix",
         "compressed_buffer"
        ]
       },
       {
        "data": "eNpN0KFtBDEQheGJdMAk3HB7CF97wdHUEB50nTgNpIAgV5CbAi6Sa1gc4BLu1vLc/MDSA36fnma/nPUtvGYRvf78B328kb8+v6/vp9PIf7fbr4hYXi0//iT7c/Ssu1/O2cz96Qt8gS/wBb7AF/gCX+gn+Al+gp/gJ/gJfoKf3Ff4Cl/hK3yFr/AVvsJfsvtLdn/J7o+8WnZ/dLN13R95+C/y8fSPbP6RzZ95tWz+7Gbrmj/z3F+wv2B/wf6C/QX7C/YX7C/wK/wKv8Kv8Cv8Cr/Cr7hPw30a7tNwn4b7NNyn4T4N92nY37G/Y3/H/o79Hfs79nfs7/DD5n7Y3A+b+yOvlt0f3Wxd90eefoQf4Uf4EX6EH+FH+HG7A960c2A=",
        "encoding": "base64",
        "path": [
         "origins",
         "compressed_buffer"
        ]
       },
       {
        "data": "eNpN0E8og3EcBvD35M/BkgOllFJS0vt7V5pS3ly4zAFL7cJabReXVykHF6LmpPw5aCuiJGRbcZhiMyJlyHJxkHZ2sMNbygF7yvP1O3zrOTzP5/B1nUAumm2y56PT6WS8J1c5O7O/nj4frsqtvk7Yl4Mn6fuCP2sYc/ZyxwNyH3OlY7ODHbeuE7Bpun++8bGTor/lu0nRT06UU/RDTq34yPTRoY8tfZiab2q+qfmm5ivNV5pvar6p+ab7/x+l/Udp/1Haf5T2H6X9R2n/Udp/FP38wZ34setP8e97Gy36M4VOiz4yfXToY0sfJv3WFY9F/9Dpsuifjo6Iv7foiI9MHx362NKHSb/k94m/9j0ufrE7Jv7kZlx8ZPro0MeWPkz62zUh8fsGlsS/7d8Vf+HrTHxk+ujQx5Y+TPoqvCi+t25b/OzQlfiJsTfxkemjQx9b+jDp119siN/+fCr+cbAkfvDF8NJHpo8OfWzpw6RfbjkSvzlRFH8/8iN+pLpBfGT66NDHlj5M+k+zefE94XfxHzMeL/2p7jbxkemjQx9b+jB/AQUVAQk=",
        "encoding": "base64",
        "path": [
         "vectors",
         "compressed_buffer"
        ]
       }
      ],
      "model_module": "k3d",
      "model_module_version": "2.7.3",
      "model_name": "ObjectModel",
      "state": {
       "_view_count": null,
       "_view_module": null,
       "_view_module_version": "",
       "_view_name": null,
       "colors": {
        "compressed_buffer": {},
        "dtype": "uint32",
        "shape": [
         96,
         2
        ]
       },
       "compression_level": 0,
       "head_color": 255,
       "head_size": 1,
       "id": 139655150349856,
       "label_size": 1,
       "labels": [],
       "line_width": 0.01,
       "model_matrix": {
        "compressed_buffer": {},
        "dtype": "float32",
        "shape": [
         4,
         4
        ]
       },
       "name": "Vectors #5",
       "origin_color": 255,
       "origins": {
        "compressed_buffer": {},
        "dtype": "float32",
        "shape": [
         96,
         3
        ]
       },
       "type": "Vectors",
       "use_head": true,
       "vectors": {
        "compressed_buffer": {},
        "dtype": "float32",
        "shape": [
         96,
         3
        ]
       },
       "visible": true
      }
     },
     "29c6547549634b8fa3b72b81caf3776d": {
      "model_module": "@jupyter-widgets/controls",
      "model_module_version": "1.5.0",
      "model_name": "SelectionSliderModel",
      "state": {
       "_options_labels": [
        "-1.5",
        "-0.5",
        "0.5",
        "1.5",
        "2.5",
        "3.5",
        "4.5",
        "5.5",
        "6.5",
        "7.5",
        "8.5",
        "9.5"
       ],
       "description": "z (nm)",
       "index": 2,
       "layout": "IPY_MODEL_e24ee165d6594521a24f4d42cff6650b",
       "style": "IPY_MODEL_82ab8638499240cd8982469d6ee88d16"
      }
     },
     "3302d2e941a44910a6763bc4a1fe16d7": {
      "model_module": "@jupyter-widgets/output",
      "model_module_version": "1.0.0",
      "model_name": "OutputModel",
      "state": {
       "layout": "IPY_MODEL_9109d19309d94815bb266d051dd4e8e1",
       "outputs": [
        {
         "data": {
          "application/vnd.jupyter.widget-view+json": {
           "model_id": "bb0d10159ea4498db639d471690cc377",
           "version_major": 2,
           "version_minor": 0
          },
          "text/plain": "Plot(antialias=3, axes=['x (nm)', 'y (nm)', 'z (nm)'], axes_helper=1.0, background_color=16777215, camera=[2, …"
         },
         "metadata": {},
         "output_type": "display_data"
        }
       ]
      }
     },
     "3489861615a54286877bcd467550ede3": {
      "model_module": "@jupyter-widgets/base",
      "model_module_version": "1.2.0",
      "model_name": "LayoutModel",
      "state": {}
     },
     "3644baf685454aa1a09dc0439b8a6c88": {
      "buffers": [
       {
        "data": "eNrbUOTDAAAEsgFv",
        "encoding": "base64",
        "path": [
         "color_map",
         "compressed_buffer"
        ]
       },
       {
        "data": "eNpjYFBwZMAA2MQa7IHEfnQxAEU/AwA=",
        "encoding": "base64",
        "path": [
         "model_matrix",
         "compressed_buffer"
        ]
       },
       {
        "data": "eNpjYGBgBAIGBggNYcNZjEQCbHoZ4CYDABAsAFE=",
        "encoding": "base64",
        "path": [
         "voxels",
         "compressed_buffer"
        ]
       }
      ],
      "model_module": "k3d",
      "model_module_version": "2.7.3",
      "model_name": "ObjectModel",
      "state": {
       "_view_count": null,
       "_view_module": null,
       "_view_module_version": "",
       "_view_name": null,
       "color_map": {
        "compressed_buffer": {},
        "dtype": "uint32",
        "shape": []
       },
       "compression_level": 0,
       "id": 139655150346976,
       "model_matrix": {
        "compressed_buffer": {},
        "dtype": "float32",
        "shape": [
         4,
         4
        ]
       },
       "name": "Voxels #9",
       "opacity": 1,
       "outlines": false,
       "outlines_color": 0,
       "type": "Voxels",
       "visible": true,
       "voxels": {
        "compressed_buffer": {},
        "dtype": "uint8",
        "shape": [
         1,
         10,
         10
        ]
       },
       "wireframe": false
      }
     },
     "3796bf3737c6460faf827d33b6eaf38b": {
      "buffers": [
       {
        "data": "eNoDAAAAAAE=",
        "encoding": "base64",
        "path": [
         "colors",
         "compressed_buffer"
        ]
       },
       {
        "data": "eNpjYGiwZ8AAxIsBAF7EAv0=",
        "encoding": "base64",
        "path": [
         "model_matrix",
         "compressed_buffer"
        ]
       },
       {
        "data": "eNpN0cuVgzAQBMDxzSHoSCaCTDYkhaIMPCEoFIVg8PKpA0990Cua5hV/+dqfiPxELOT8PDnMlTvkZb3yfppPM/ADP/ADP/ADP/BDv+JX/Ipf8St+xa/49fETP/ETP/ETP/ETP/GX9fGPfPlHDnPlDvnyf6c5z+f2//P9b1Z2XPnmlX4r1u1z7u9q9G/0b/Rv9G/0b/Rv9G/4Hb/jd/yO3/E7fsfv7DPYZ7DPYJ/BPoN9BvsM9hn0n/Sf9J/0n/Sf9J/0n/Sf+O/t8Y98+UcOc+UO+fLf2+P/8mkW/IJf8At+wS/4Bb9sXzprA1g=",
        "encoding": "base64",
        "path": [
         "positions",
         "compressed_buffer"
        ]
       }
      ],
      "model_module": "k3d",
      "model_module_version": "2.7.3",
      "model_name": "ObjectModel",
      "state": {
       "_view_count": null,
       "_view_module": null,
       "_view_module_version": "",
       "_view_name": null,
       "color": 5010096,
       "colors": {
        "compressed_buffer": {},
        "dtype": "uint32",
        "shape": [
         0
        ]
       },
       "compression_level": 0,
       "id": 139655149947392,
       "mesh_detail": 2,
       "model_matrix": {
        "compressed_buffer": {},
        "dtype": "float32",
        "shape": [
         4,
         4
        ]
       },
       "name": "Points #10",
       "opacity": 1,
       "point_size": 0.25,
       "positions": {
        "compressed_buffer": {},
        "dtype": "float32",
        "shape": [
         96,
         3
        ]
       },
       "shader": "3dSpecular",
       "type": "Points",
       "visible": true
      }
     },
     "3866b241a48f4fe98c452bdd1328db2d": {
      "buffers": [
       {
        "data": "eNoDAAAAAAE=",
        "encoding": "base64",
        "path": [
         "colors",
         "compressed_buffer"
        ]
       },
       {
        "data": "eNpjYGiwZ8AAxIsBAF7EAv0=",
        "encoding": "base64",
        "path": [
         "model_matrix",
         "compressed_buffer"
        ]
       },
       {
        "data": "eNpl0MFxwyAUBNCfm0vgqE7AnaQkSqGDUAKlUEIiW5gX+6CZHUbiaTei9oie/56fr/h+5YiD/HiuHObMO+SjcGfZ59V83R+4gRu4gRu4gRu4gRu4oZtxMy59AiMybsbNuBk34+btdtyO+77jv254Pq+dcTtuxz3Kds/vDvJyzxzmD+f6tnBn2efV3Nd/Lff57kF+us8c5o9O17eFO8s+r+a+Nth9K30rfSt9K33r25arb6VvpW/FbbgNt+E23IbbcBtuw224jZ0HOw92Huw82Hmw82Dnwc6DnQc7D/pO+k76TvpO+k76TvpO+k76TvpO3Nt9u7f7ds+83DOHOfMOebmPO8s+r+br/oSbcBNuwk24CTfhJtyEm+6/wps6QA==",
        "encoding": "base64",
        "path": [
         "positions",
         "compressed_buffer"
        ]
       }
      ],
      "model_module": "k3d",
      "model_module_version": "2.7.3",
      "model_name": "ObjectModel",
      "state": {
       "_view_count": null,
       "_view_module": null,
       "_view_module_version": "",
       "_view_name": null,
       "color": 5010096,
       "colors": {
        "compressed_buffer": {},
        "dtype": "uint32",
        "shape": [
         0
        ]
       },
       "compression_level": 0,
       "id": 139655185067744,
       "mesh_detail": 2,
       "model_matrix": {
        "compressed_buffer": {},
        "dtype": "float32",
        "shape": [
         4,
         4
        ]
       },
       "name": "Points #2",
       "opacity": 1,
       "point_size": 0.24999999999999994,
       "positions": {
        "compressed_buffer": {},
        "dtype": "float32",
        "shape": [
         120,
         3
        ]
       },
       "shader": "3dSpecular",
       "type": "Points",
       "visible": true
      }
     },
     "3aeb7bd8a35141928551d93d022a59f1": {
      "model_module": "@jupyter-widgets/controls",
      "model_module_version": "1.5.0",
      "model_name": "VBoxModel",
      "state": {
       "_dom_classes": [
        "widget-interact"
       ],
       "children": [
        "IPY_MODEL_bf0abf4b75fa4719a646a3969ea88fc5",
        "IPY_MODEL_dd888d6515254ffd947cb24e64b53fef",
        "IPY_MODEL_d4f44cd9136c4025a0fa93eaf375c644"
       ],
       "layout": "IPY_MODEL_3489861615a54286877bcd467550ede3"
      }
     },
     "3b046499c09e4e1fad8110eb0b99fd45": {
      "buffers": [
       {
        "data": "eNolw2dslWUYgOHbHyb8MDExxhhjjAqCgIDQQSmlpaUtXXSP073X6fuNs7/D3puy9yqjQNl7j7KLbMqQPQREjTuuqI3PiVdypX4MaZ0howtkfQLZMrcr2LpB/qdQKIu7Q2kPKJcVPaHqM6iRdb3A3huU1PqA8TmYgX3BEdjvNRxBr2MGdcIMfgMz5E35Fmbo25j938Ho/y5G2HsYA97HCP9Afog+8CP0iM6yC/qgruiR3dCjuqNF9UAb3BMtupfsjRbTB21IX9kPLTYIFRcsQ1DxoaihYaiEATIclTgQlRQhB6GSI1EpUXIwalg0KjVGDkGlxaLS41AZ8XIoKjMBlZUok1DZyaicFDkMlZuKykuT6Wi2DLT8TLSCLJmNVpiDVhSYi1ach1ZiQy/JRy8tQC8rRC8vksXoFSUYlYGlGFVlGNXlsgKzphKztgqzrvr/9TU47LWyDkdDPQ5lx6k1SIVTl4aGy9BxmQYuh4nb6ZBO3C4nHrdLuvF4PHi9Xrw+H75Ay8Ln92MNHy5HYI0YiTVylByNNUqOHoM1Zqwch3/sePzjJuAfP1FOwj9hMtbEKViTpsppWJOnY02ZgTV1ppyFNa0Ra/psrBlz5FysmfOwZsnG+fgaF+CbvRDfnEX45i7GN2+JXIp3/jK8C5bjXbhCrsS7aBWexavxLGnCs3SNXIt72Trcy9fjXtEsN+BauRHXqk24VrfgatqMs2kLzjVbca7dhmPddhzrd+Bo3onZvAtzwx6MjXsxNu3DaNmP3nIAffNBtC2H0LYeRtt2BLX9qDxGw47jNOw8gX1XK/bdJ6nfc0qepm7vGer2naV2/zlqD5yn5mAb1YcuyItUHb5E5ZHLVB69QsWxq1Qcv0b5ieuUtd6gtLWd0pM3KTl1i+LTtyk6c4eis3cpPHePgvP3yW97gK3tIbYLj8j74jG5F5+Qc+kp2ZefkXXlOZlXX5Bx7SXp178m7cYrUtu/IaX9W5JvfkfSre9JvP0DCXd+JP7Ln4i7+zOx934h5v6vRD/4jaiHvxP56A8iHv9J+JO/CHv6N6HP/iH4q38Jft5ByIsOQl92EPaqg/8ABrdj6Q==",
        "encoding": "base64",
        "path": [
         "color_map",
         "compressed_buffer"
        ]
       },
       {
        "data": "eNpjYFBwZMAADfYQ+oA9QswBqK7BAV0dAHGHBCA=",
        "encoding": "base64",
        "path": [
         "model_matrix",
         "compressed_buffer"
        ]
       },
       {
        "data": "eNoBeACH/xgVEQoBAQoRFRggHx0bGBgbHR8gJygqLC8vLCooJy8yNj1GRj02Mi83PENPXV1PQzw3P0VPYHR0YE9FP0ZPXHGMjHFcT0ZOWGmCo6OCaVhOVmJ1lLq6lHViVl1sgqXR0aWCbF1ldY626Oi2jnVlbX+bx///x5t/bRmxKwE=",
        "encoding": "base64",
        "path": [
         "voxels",
         "compressed_buffer"
        ]
       }
      ],
      "model_module": "k3d",
      "model_module_version": "2.7.3",
      "model_name": "ObjectModel",
      "state": {
       "_view_count": null,
       "_view_module": null,
       "_view_module_version": "",
       "_view_name": null,
       "color_map": {
        "compressed_buffer": {},
        "dtype": "uint32",
        "shape": [
         256
        ]
       },
       "compression_level": 0,
       "id": 139655184651408,
       "model_matrix": {
        "compressed_buffer": {},
        "dtype": "float32",
        "shape": [
         4,
         4
        ]
       },
       "name": "Voxels #18",
       "opacity": 1,
       "outlines": false,
       "outlines_color": 0,
       "type": "Voxels",
       "visible": true,
       "voxels": {
        "compressed_buffer": {},
        "dtype": "uint8",
        "shape": [
         12,
         1,
         10
        ]
       },
       "wireframe": false
      }
     },
     "3b11f9f670354e4f9f60211786a906c7": {
      "buffers": [
       {
        "data": "eNolw2dslWUYgOHbHyb8MDExxhhjjAqCgIDQQSmlpaUtXXSP073X6fuNs7/D3puy9yqjQNl7j7KLbMqQPQREjTuuqI3PiVdypX4MaZ0howtkfQLZMrcr2LpB/qdQKIu7Q2kPKJcVPaHqM6iRdb3A3huU1PqA8TmYgX3BEdjvNRxBr2MGdcIMfgMz5E35Fmbo25j938Ho/y5G2HsYA97HCP9Afog+8CP0iM6yC/qgruiR3dCjuqNF9UAb3BMtupfsjRbTB21IX9kPLTYIFRcsQ1DxoaihYaiEATIclTgQlRQhB6GSI1EpUXIwalg0KjVGDkGlxaLS41AZ8XIoKjMBlZUok1DZyaicFDkMlZuKykuT6Wi2DLT8TLSCLJmNVpiDVhSYi1ach1ZiQy/JRy8tQC8rRC8vksXoFSUYlYGlGFVlGNXlsgKzphKztgqzrvr/9TU47LWyDkdDPQ5lx6k1SIVTl4aGy9BxmQYuh4nb6ZBO3C4nHrdLuvF4PHi9Xrw+H75Ay8Ln92MNHy5HYI0YiTVylByNNUqOHoM1Zqwch3/sePzjJuAfP1FOwj9hMtbEKViTpsppWJOnY02ZgTV1ppyFNa0Ra/psrBlz5FysmfOwZsnG+fgaF+CbvRDfnEX45i7GN2+JXIp3/jK8C5bjXbhCrsS7aBWexavxLGnCs3SNXIt72Trcy9fjXtEsN+BauRHXqk24VrfgatqMs2kLzjVbca7dhmPddhzrd+Bo3onZvAtzwx6MjXsxNu3DaNmP3nIAffNBtC2H0LYeRtt2BLX9qDxGw47jNOw8gX1XK/bdJ6nfc0qepm7vGer2naV2/zlqD5yn5mAb1YcuyItUHb5E5ZHLVB69QsWxq1Qcv0b5ieuUtd6gtLWd0pM3KTl1i+LTtyk6c4eis3cpPHePgvP3yW97gK3tIbYLj8j74jG5F5+Qc+kp2ZefkXXlOZlXX5Bx7SXp178m7cYrUtu/IaX9W5JvfkfSre9JvP0DCXd+JP7Ln4i7+zOx934h5v6vRD/4jaiHvxP56A8iHv9J+JO/CHv6N6HP/iH4q38Jft5ByIsOQl92EPaqg/8ABrdj6Q==",
        "encoding": "base64",
        "path": [
         "color_map",
         "compressed_buffer"
        ]
       },
       {
        "data": "eNpjYFBwZMAADfYQ+sB+hJgDUF2DA7o6AIIHBKA=",
        "encoding": "base64",
        "path": [
         "model_matrix",
         "compressed_buffer"
        ]
       },
       {
        "data": "eNoBeACH/+jr7/b///bv6+jg4ePl6Ojl4+Hg2djW1NHR1NbY2dHOysO6usPKztHJxL2xo6OxvcTJwbuxoIyMoLG7wbqxpI90dI+ksbqyqJd+XV1+l6iyqp6LbEZGbIueqqOUflsvL1t+lKObi3JKGBhKcoubk4FlOQEBOWWBk0TjTQE=",
        "encoding": "base64",
        "path": [
         "voxels",
         "compressed_buffer"
        ]
       }
      ],
      "model_module": "k3d",
      "model_module_version": "2.7.3",
      "model_name": "ObjectModel",
      "state": {
       "_view_count": null,
       "_view_module": null,
       "_view_module_version": "",
       "_view_name": null,
       "color_map": {
        "compressed_buffer": {},
        "dtype": "uint32",
        "shape": [
         256
        ]
       },
       "compression_level": 0,
       "id": 139655184740608,
       "model_matrix": {
        "compressed_buffer": {},
        "dtype": "float32",
        "shape": [
         4,
         4
        ]
       },
       "name": "Voxels #4",
       "opacity": 1,
       "outlines": false,
       "outlines_color": 0,
       "type": "Voxels",
       "visible": true,
       "voxels": {
        "compressed_buffer": {},
        "dtype": "uint8",
        "shape": [
         12,
         1,
         10
        ]
       },
       "wireframe": false
      }
     },
     "3bc8a84401d44411bc1a2f0f586d6419": {
      "model_module": "k3d",
      "model_module_version": "2.7.3",
      "model_name": "PlotModel",
      "state": {
       "_backend_version": "2.7.3",
       "_dom_classes": [],
       "_view_count": null,
       "antialias": 3,
       "auto_rendering": true,
       "axes": [
        "x (nm)",
        "y (nm)",
        "z (nm)"
       ],
       "axes_helper": 1,
       "background_color": 16777215,
       "camera": [
        18.490256832264116,
        -27.735385248396174,
        5.849025683226408,
        0,
        0,
        4,
        0,
        0,
        1
       ],
       "camera_animation": [],
       "camera_auto_fit": false,
       "camera_fov": 60,
       "camera_no_pan": false,
       "camera_no_rotate": false,
       "camera_no_zoom": false,
       "clipping_planes": [],
       "colorbar_object_id": -1,
       "fps": 25,
       "fps_meter": false,
       "grid": [
        -1,
        -1,
        -1,
        1,
        1,
        1
       ],
       "grid_auto_fit": false,
       "grid_visible": true,
       "height": 512,
       "layout": "IPY_MODEL_449781968ccd4d44881e081758a2d984",
       "lighting": 1.5,
       "menu_visibility": true,
       "mode": "view",
       "name": null,
       "object_ids": [
        139655184775632,
        139655149397808
       ],
       "rendering_steps": 1,
       "screenshot": "",
       "screenshot_scale": 2,
       "snapshot": "",
       "time": 0,
       "voxel_paint_color": 0
      }
     },
     "3d6308b6e5fb48daa63e36aa5858f52b": {
      "buffers": [
       {
        "data": "eNrbUOTDAAAEsgFv",
        "encoding": "base64",
        "path": [
         "color_map",
         "compressed_buffer"
        ]
       },
       {
        "data": "eNpjYFBwZMAA2MQa7BkYDuxHFwMAUr8DwA==",
        "encoding": "base64",
        "path": [
         "model_matrix",
         "compressed_buffer"
        ]
       },
       {
        "data": "eNpjYGBgBAIGBggNYcNZjEQCbHoZ4CYDABAsAFE=",
        "encoding": "base64",
        "path": [
         "voxels",
         "compressed_buffer"
        ]
       }
      ],
      "model_module": "k3d",
      "model_module_version": "2.7.3",
      "model_name": "ObjectModel",
      "state": {
       "_view_count": null,
       "_view_module": null,
       "_view_module_version": "",
       "_view_name": null,
       "color_map": {
        "compressed_buffer": {},
        "dtype": "uint32",
        "shape": []
       },
       "compression_level": 0,
       "id": 139655184789712,
       "model_matrix": {
        "compressed_buffer": {},
        "dtype": "float32",
        "shape": [
         4,
         4
        ]
       },
       "name": "Voxels #8",
       "opacity": 1,
       "outlines": false,
       "outlines_color": 0,
       "type": "Voxels",
       "visible": true,
       "voxels": {
        "compressed_buffer": {},
        "dtype": "uint8",
        "shape": [
         1,
         10,
         10
        ]
       },
       "wireframe": false
      }
     },
     "41b4ff4f77064891bc7360ff0f43d01a": {
      "buffers": [
       {
        "data": "eNrzU2Jg8APiQiNGMM7xtAbjgsw0MC7vmwLGmZsPg3HAxedgbPHiHxj7jeof1T+E9QMAezAFKA==",
        "encoding": "base64",
        "path": [
         "colors",
         "compressed_buffer"
        ]
       },
       {
        "data": "eNpjYGiwZ8AAxIsBAF7EAv0=",
        "encoding": "base64",
        "path": [
         "model_matrix",
         "compressed_buffer"
        ]
       },
       {
        "data": "eNpN0KFtBDEQheE5tiTccMGBVBApZO2NFLBdpIH0EBhoaXsItkLCclOC+bUQ4BJya3lufvbAvE9Ps5833c9bEtHL49ODPn+/9vzx+XX52156/nm//p4kWV4s326i3dy6ybqHZ+Z+9wW+wBf4Al/gC3yBL/Qj/Ag/wo/wI/wIP8KP7it8ha/wFb7CV/gKX+HPyf05uT8n93teLLvfu8m67vfc/ZO83f0jm39k80deLJs/usm65o889mfsz9ifsT9jf8b+jP0Z+zP8Ar/AL/AL/AK/wC/wC/5T8Z+K/1T8p+I/Ff+p+E/Ffyr2N+xv2N+wv2F/w/6G/Q37G/xpdX9a3Z9W93teLLvfu8m67vc8/AA/wA/wA/wAP8AP8MP6Dw28aMg=",
        "encoding": "base64",
        "path": [
         "origins",
         "compressed_buffer"
        ]
       },
       {
        "data": "eNpN0D8ohHEcBvCzuAzKKf8mRXJleH/vFaa7N/8GBumGU/5kYbh0byxsEiIZTukWDiOm9x2UK7qLxECoK8UNogxKSFl0xT3l+fptz/A8n+Gxcy0ZO9dirbStuSe9lZkOO2yVTe25+cOL9I4bs66jGbehuzzt8cxaq/4r5BBzoRNip7C1uIVH0/7zR/tPHfrHn48O/XTrj0N/ZKJEfGT66NDHlj5MzTc039B8Q/OV5ivNNzTf0HzD/v9Haf8o7R+l/aO0f5T2j9L+Udo/in4w9iV+qrXUpH87V2vSn75sMukj00eHPrb0YdJHn350v0v8s74R8XcXJsRHpo8OfWzpw6Tf9zQkfo05I/5gPC7++Na6+Mj00aGPLX2Y9Cvyi+I/RzbED0854s9/H4mPTB8d+tjSh0m/aGlb/GDiQPye4Wvxk5EH8ZHpo0MfW/ow6b/5UuInslnx2zvfxR+48wToI9NHhz629GHSv0/eiP/q+xB/M+EN0B/zlouPTB8d+tjSh0n/vPFF/Dp/cYB+9XKV+JPN9eIj00eHPrb0Yf4CYfrrZA==",
        "encoding": "base64",
        "path": [
         "vectors",
         "compressed_buffer"
        ]
       }
      ],
      "model_module": "k3d",
      "model_module_version": "2.7.3",
      "model_name": "ObjectModel",
      "state": {
       "_view_count": null,
       "_view_module": null,
       "_view_module_version": "",
       "_view_name": null,
       "colors": {
        "compressed_buffer": {},
        "dtype": "uint32",
        "shape": [
         96,
         2
        ]
       },
       "compression_level": 0,
       "head_color": 255,
       "head_size": 1,
       "id": 139655149398816,
       "label_size": 1,
       "labels": [],
       "line_width": 0.01,
       "model_matrix": {
        "compressed_buffer": {},
        "dtype": "float32",
        "shape": [
         4,
         4
        ]
       },
       "name": "Vectors #4",
       "origin_color": 255,
       "origins": {
        "compressed_buffer": {},
        "dtype": "float32",
        "shape": [
         96,
         3
        ]
       },
       "type": "Vectors",
       "use_head": true,
       "vectors": {
        "compressed_buffer": {},
        "dtype": "float32",
        "shape": [
         96,
         3
        ]
       },
       "visible": true
      }
     },
     "422c4dde3a5040f68211bf2ea0654bba": {
      "model_module": "@jupyter-widgets/base",
      "model_module_version": "1.2.0",
      "model_name": "LayoutModel",
      "state": {}
     },
     "425685b79389421c83c5e3326cef6dca": {
      "buffers": [
       {
        "data": "eNoDAAAAAAE=",
        "encoding": "base64",
        "path": [
         "colors",
         "compressed_buffer"
        ]
       },
       {
        "data": "eNpjYGiwZ8AAxIsBAF7EAv0=",
        "encoding": "base64",
        "path": [
         "model_matrix",
         "compressed_buffer"
        ]
       },
       {
        "data": "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",
        "encoding": "base64",
        "path": [
         "positions",
         "compressed_buffer"
        ]
       }
      ],
      "model_module": "k3d",
      "model_module_version": "2.7.3",
      "model_name": "ObjectModel",
      "state": {
       "_view_count": null,
       "_view_module": null,
       "_view_module_version": "",
       "_view_name": null,
       "color": 5010096,
       "colors": {
        "compressed_buffer": {},
        "dtype": "uint32",
        "shape": [
         0
        ]
       },
       "compression_level": 0,
       "id": 139655184768784,
       "mesh_detail": 2,
       "model_matrix": {
        "compressed_buffer": {},
        "dtype": "float32",
        "shape": [
         4,
         4
        ]
       },
       "name": "Points #1",
       "opacity": 1,
       "point_size": 0.25,
       "positions": {
        "compressed_buffer": {},
        "dtype": "float32",
        "shape": [
         960,
         3
        ]
       },
       "shader": "3dSpecular",
       "type": "Points",
       "visible": true
      }
     },
     "4373c494889845ca97cd18a04a48b10d": {
      "buffers": [
       {
        "data": "eNrzU2Jg8APiEFUITtKG4HwLKTDOjQ0H45I5S8E44sRdMHa6/RmMTR7/BWOLF//A2G/UvFHzRs2jm3kASb8/MA==",
        "encoding": "base64",
        "path": [
         "colors",
         "compressed_buffer"
        ]
       },
       {
        "data": "eNpjYGiwZ8AAxIsBAF7EAv0=",
        "encoding": "base64",
        "path": [
         "model_matrix",
         "compressed_buffer"
        ]
       },
       {
        "data": "eNpN0LFNBDEQheFBJBuDhBxuJetxiiiCAkjo4EJCN0BIAokrgCnBdRC5A9i1dm7+4KQnnWc/vSdysa/PzyxiP3d/ar8vHzO/3t/a2+P7zA9P9fjNvL/9Frl43jwf//ub/Vb9dv+m+jf3t+qWXF2BK3AFrsAVuAJX4ApcgSt0M9wMN8PNcDPcDDfDzXAz3ByuwTW4BtfgGlyDa3ANrsE1uKuGu2q4q4a7argzb57Dnbfqt+GuGu7M072R56t7ZHeP7O6R3T3z5tnd81b91t0ju3vms29F34q+FX0r+lb0rehb0beib0XfCrfBbXAb3Aa3wW1wG9wGt8Ft2Llj546dO3bu2Llj546dO3bu2Llj546+A30H+g70Heg70Heg70Dfgb4DfQfcpYS7lHCXEu5Swp158xzuvFW/DXcp4c58uglugpvgJrgJboKb4Ca4CW4q/6d11/A=",
        "encoding": "base64",
        "path": [
         "origins",
         "compressed_buffer"
        ]
       },
       {
        "data": "eNpN0jtIHGEUBeDRQlEQRW0S7Cx8bDH/+gppZiSgldgIq1Zb+NiAhauQKIJkUUF8IKQQnyxiseIKzgraiLpKikAQtdBCRDQhpYVg46twj3iutxi4MOfcb7iMZUWS8XjcCYazEn2Z/Ulv9tSZrPIlBtpDyX9n2W7NYjARO3aSqcdtWp1LpLJ7lhVxp0qPMDuc8Z6ZVNdlN7XT5U5kaVlv7o/aTx7d3Pp2j+5J/rRH99ffQ48uunQx00WGLrp0sZMuLOXayrWVayvXVq5RrlGurVxbubZybev9zkbd2ag7G3Vno+5s1J2NurNRdzbqzkbd2dCN5nWI+2dtStyh5m1xP+ZYfrrfD31+upjpIkMXXbrYSRcW3e6WJXEbd3+L+y2c7qc7UVcpbmwkLC5musjQRZcudtKFRRe3ovs19PrNr27ZVom4z4Od4nZF58XFTBcZuujSxU66sOiu3z+JW35bJO7lQ4O4NReT4g4/7oiLmS4ydNGli510YdEN/S/0073p/yzuT6dX3O6+mLgLgStxMdNFhi66dLGTLiy6+DforqcFxF0+mBB3pWBf3NZzq4IuZrrI0EWXLnbShUV3dPOLuOHxXnGf26LiXnvn4nZk5ouLmS4ydNGli510YdGdWWwVd25sVNxAxoa4HxruxO2pLhYXM11k6KJLFzvpwnoBbIp70Q==",
        "encoding": "base64",
        "path": [
         "vectors",
         "compressed_buffer"
        ]
       }
      ],
      "model_module": "k3d",
      "model_module_version": "2.7.3",
      "model_name": "ObjectModel",
      "state": {
       "_view_count": null,
       "_view_module": null,
       "_view_module_version": "",
       "_view_name": null,
       "colors": {
        "compressed_buffer": {},
        "dtype": "uint32",
        "shape": [
         120,
         2
        ]
       },
       "compression_level": 0,
       "head_color": 255,
       "head_size": 1,
       "id": 139655185064432,
       "label_size": 1,
       "labels": [],
       "line_width": 0.01,
       "model_matrix": {
        "compressed_buffer": {},
        "dtype": "float32",
        "shape": [
         4,
         4
        ]
       },
       "name": "Vectors #2",
       "origin_color": 255,
       "origins": {
        "compressed_buffer": {},
        "dtype": "float32",
        "shape": [
         120,
         3
        ]
       },
       "type": "Vectors",
       "use_head": true,
       "vectors": {
        "compressed_buffer": {},
        "dtype": "float32",
        "shape": [
         120,
         3
        ]
       },
       "visible": true
      }
     },
     "449781968ccd4d44881e081758a2d984": {
      "model_module": "@jupyter-widgets/base",
      "model_module_version": "1.2.0",
      "model_name": "LayoutModel",
      "state": {}
     },
     "44eb5caf2dde4de09669f5f65d77992d": {
      "buffers": [
       {
        "data": "eNrzU2Jg8APiQiNGMM7xtAbjgsw0MC7vmwLGmZsPg3HAxedgbPHiHxj7jeof1T+E9QMAezAFKA==",
        "encoding": "base64",
        "path": [
         "colors",
         "compressed_buffer"
        ]
       },
       {
        "data": "eNpjYGiwZ8AAxIsBAF7EAv0=",
        "encoding": "base64",
        "path": [
         "model_matrix",
         "compressed_buffer"
        ]
       },
       {
        "data": "eNpN0LFtwzAQheFTEUAjsNQA6RwEAQKI1BYp3XmLzMABMgQRJG18A6jgKBzBMsPz/QWBV/B9eLhJkk7HE9Hr2/eT/j6/9/zz8XX9vLz2vO/738vpZHm1fPyJ9ufoJuseXjJzevgCX+ALfIEv8AW+wBf6EX6EH+FH+BF+hB/hR/cVvsJX+Apf4St8ha/wl+T+ktxfkvs9r5bd791kXfd71v93fvj3bP49mz/yatn80U3WNX/ksT9jf8b+jP0Z+zP2Z+zP2J/hF/gFfoFf4Bf4BX6BX3CfivtU3KfiPhX3qbhPxX0q7lOxv2F/w/6G/Q37G/Y37G/Y3+DPm/vz5v68ud/zatn93k3Wdb/n4Qf4AX6AH+AH+AF+gB+2G03GiBg=",
        "encoding": "base64",
        "path": [
         "origins",
         "compressed_buffer"
        ]
       },
       {
        "data": "eNpN0E8og3EcBvD3MElpmRzFgWzawcu4kE0hDtO02EFqZUuiNActhYSTHJSU/LsZN7/3taO8uYhaq92slINyW067kPI+5fn6Hb71HJ7nc/gaxpZjuHcQKJrDy3Gna+LQeQ9XTPPc63jncs7IT013sRC9D4VuneNYA3KY2e1E2HG3EW5dL0LT+POTmTrxK50t4tdc9Zj0WxeHTPrI9NGhjy19mJqvNF9pvtJ8pflK85XmK81Xxv9/lPYfpf3H0v5jaf+xtP9Y2n+U9h/xs4WgRX8hP2rRf5xMip/bzYiPTB8d+tjSh0kfffo36T3x2+Nn4r/OXouPTB8d+tjSh0l/6eJE/OCnJf7H95P4qeyL+Mj00aGPLX2Y9He+7sTPrZXFz11Wxa+Oe2z6yPTRoY8tfZj0TxNv4vu2DZt+3u+z6fcnmsVHpo8OfWzpw6Q/UzZs+rGxJvGP1v3ib6R6xUemjw59bOnDpD9f2yj+fn1A/NXSoPgPmaj4yPTRoY8tfZj0V/raxH8uDYg/3TElvmczLT4yfXToY0sf5i+DP/BQ",
        "encoding": "base64",
        "path": [
         "vectors",
         "compressed_buffer"
        ]
       }
      ],
      "model_module": "k3d",
      "model_module_version": "2.7.3",
      "model_name": "ObjectModel",
      "state": {
       "_view_count": null,
       "_view_module": null,
       "_view_module_version": "",
       "_view_name": null,
       "colors": {
        "compressed_buffer": {},
        "dtype": "uint32",
        "shape": [
         96,
         2
        ]
       },
       "compression_level": 0,
       "head_color": 255,
       "head_size": 1,
       "id": 139655144437120,
       "label_size": 1,
       "labels": [],
       "line_width": 0.01,
       "model_matrix": {
        "compressed_buffer": {},
        "dtype": "float32",
        "shape": [
         4,
         4
        ]
       },
       "name": "Vectors #8",
       "origin_color": 255,
       "origins": {
        "compressed_buffer": {},
        "dtype": "float32",
        "shape": [
         96,
         3
        ]
       },
       "type": "Vectors",
       "use_head": true,
       "vectors": {
        "compressed_buffer": {},
        "dtype": "float32",
        "shape": [
         96,
         3
        ]
       },
       "visible": true
      }
     },
     "4505ec0f43b64eacaf7d9de7ccd1fb2b": {
      "model_module": "@jupyter-widgets/controls",
      "model_module_version": "1.5.0",
      "model_name": "DescriptionStyleModel",
      "state": {
       "description_width": ""
      }
     },
     "45c76abb8345494ba771b50c70031557": {
      "buffers": [
       {
        "data": "eNrzU2Jg8APiEFUITtKG4HwLKTDOjQ0H45I5S8E44sRdMHa6/RmMTR7/BWOLF//A2G/UvFHzRs2jm3kASb8/MA==",
        "encoding": "base64",
        "path": [
         "colors",
         "compressed_buffer"
        ]
       },
       {
        "data": "eNpjYGiwZ8AAxIsBAF7EAv0=",
        "encoding": "base64",
        "path": [
         "model_matrix",
         "compressed_buffer"
        ]
       },
       {
        "data": "eNpN0LFtwzAQheEL0qhOgIClJhFPbZAhMkAab+DSJRdImcZpOEF8I3COVNwgkQid7y8MPMA8fXhP5Gzf1+tNxG5Pf2q/H18jn54f7fL6OfLLWxm/PW9vf0TOnhfP2//Z32y36rfbN9W/ub1Vt+TuClyBK3AFrsAVuAJX4ApcoZvhZrgZboab4Wa4GW6Gm+HmcA2uwTW4BtfgGlyDa3ANrsGdNdxZw5013FnDHXnxHO64Vb8Nd9ZwRx7ug7zf3T27u2d39+zukRfP7h636rfu7tndIx99C/oW9C3oW9C3oG9B34K+BX0L+ha4FW6FW+FWuBVuhVvhVrgVbsXODTs37Nywc8PODTs37Nywc8PODTs39O3o29G3o29H346+HX07+nb07ejb4U5ruNMa7rSGO63hjrx4Dnfcqt+GO63hjny4CW6Cm+AmuAlugpvgJrgJblr/ATVcE/8=",
        "encoding": "base64",
        "path": [
         "origins",
         "compressed_buffer"
        ]
       },
       {
        "data": "eNpN0j1oU3EUBfBXB4NCUaJLxc2h1gwJqCkuiQg6BRchNVMGk0ZwSAxoQkGUthA0IdBBatoQSoeIEfL/P2mXUvMUB0GCOugQRPygY4dCFz869J3gud7hwYV3zv09Ls9xHnidTqeXLhyKlAJlzzz51KudC0VmMjnv5+fDXrSZjrQ/xDw81541Isg6fqd++j3mGGf/fZwZvxtn198Z504/G6fl/HPvX5wM0z1yJROm+zH4OEz3zY9+mC66dDHTRYYuunSxky4s5RrlGuUa5RrlWuVa5RrlGuUa5Rrn/52turNVd7bqzlbd2ao7W3Vnq+5s1Z2turOl2zqaFffd87q4s1Mb4p4YdVy6d/shly5musjQRZcudtKFRTd/fUXcqy/finuncMClW718Vtz2fEFczHSRoYsuXeykC4subkX3Zm74zUN3Yn1c3L170+Leai2Ji5kuMnTRpYuddGHR7f76K+6ZnZPifv2dEDf6pSbu3J9NcTHTRYYuunSxky4surmt4y7d7fIFcRdiRXHzpba4y8lv4mKmiwxddOliJ11YdPFv0O2OJMVdfV0V9+mxV+KmBs4LupjpIkMXXbrYSRcW3craJXELj4ri7t1oifvdDMTNBoLiYqaLDF106WInXVh0F5spcRsPK+ImD7rijiV2xb19/pS4mOkiQxdduthJF9Y+1jHf0Q==",
        "encoding": "base64",
        "path": [
         "vectors",
         "compressed_buffer"
        ]
       }
      ],
      "model_module": "k3d",
      "model_module_version": "2.7.3",
      "model_name": "ObjectModel",
      "state": {
       "_view_count": null,
       "_view_module": null,
       "_view_module_version": "",
       "_view_name": null,
       "colors": {
        "compressed_buffer": {},
        "dtype": "uint32",
        "shape": [
         120,
         2
        ]
       },
       "compression_level": 0,
       "head_color": 255,
       "head_size": 1,
       "id": 139655144438416,
       "label_size": 1,
       "labels": [],
       "line_width": 0.01,
       "model_matrix": {
        "compressed_buffer": {},
        "dtype": "float32",
        "shape": [
         4,
         4
        ]
       },
       "name": "Vectors #7",
       "origin_color": 255,
       "origins": {
        "compressed_buffer": {},
        "dtype": "float32",
        "shape": [
         120,
         3
        ]
       },
       "type": "Vectors",
       "use_head": true,
       "vectors": {
        "compressed_buffer": {},
        "dtype": "float32",
        "shape": [
         120,
         3
        ]
       },
       "visible": true
      }
     },
     "45d9f773e52e495eb077bac3df843bc5": {
      "buffers": [
       {
        "data": "eNoDAAAAAAE=",
        "encoding": "base64",
        "path": [
         "colors",
         "compressed_buffer"
        ]
       },
       {
        "data": "eNpjYGiwZ8AAxIsBAF7EAv0=",
        "encoding": "base64",
        "path": [
         "model_matrix",
         "compressed_buffer"
        ]
       },
       {
        "data": "eNpd0cGtwyAQhOHJLSXskU7AnbySthQ68JZAKZTwZBvMHw6RRoTwaSaSh6QsxfnR35ulhHx9ZhZzxh3kVPBmWefOPN4XXMEVXMEVXMEVXMEVXNHNcDPcrduPh08gv26Gm+Hm5QbcgBtwA25sZiC/O8MNuAE3leVev0vI073fO/dO4w7y/O5+s6xzZ465x3Sfuwn5cccb577fuIP8uOPNss6dOeb2q6+jr6Ovo69v/1sgz76Ovo6+DrfCrXAr3Aq3wq1wK9wKt8Kt2Llh54adG3Zu2Llh54adG3Zu2Llh54a+HX07+nb07ejb0bejb0ffjr4dfTvc77Hc77HcK0/3ymLOuIM83fvNss6debxvcA2uwTW4BtfgGlyDa3Dt+AeTyOAx",
        "encoding": "base64",
        "path": [
         "positions",
         "compressed_buffer"
        ]
       }
      ],
      "model_module": "k3d",
      "model_module_version": "2.7.3",
      "model_name": "ObjectModel",
      "state": {
       "_view_count": null,
       "_view_module": null,
       "_view_module_version": "",
       "_view_name": null,
       "color": 5010096,
       "colors": {
        "compressed_buffer": {},
        "dtype": "uint32",
        "shape": [
         0
        ]
       },
       "compression_level": 0,
       "id": 139655149397712,
       "mesh_detail": 2,
       "model_matrix": {
        "compressed_buffer": {},
        "dtype": "float32",
        "shape": [
         4,
         4
        ]
       },
       "name": "Points #6",
       "opacity": 1,
       "point_size": 0.24999999999999994,
       "positions": {
        "compressed_buffer": {},
        "dtype": "float32",
        "shape": [
         120,
         3
        ]
       },
       "shader": "3dSpecular",
       "type": "Points",
       "visible": true
      }
     },
     "46e6dbfb2ca64e3480679ed50731784d": {
      "buffers": [
       {
        "data": "eNrbUOTDAAAEsgFv",
        "encoding": "base64",
        "path": [
         "color_map",
         "compressed_buffer"
        ]
       },
       {
        "data": "eNpjYFBwZMAA2MQa7BkYEhzQxQBDkALh",
        "encoding": "base64",
        "path": [
         "model_matrix",
         "compressed_buffer"
        ]
       },
       {
        "data": "eNpjYGBgBAIGBggNYcNZjEQCbHoZ4CYDABAsAFE=",
        "encoding": "base64",
        "path": [
         "voxels",
         "compressed_buffer"
        ]
       }
      ],
      "model_module": "k3d",
      "model_module_version": "2.7.3",
      "model_name": "ObjectModel",
      "state": {
       "_view_count": null,
       "_view_module": null,
       "_view_module_version": "",
       "_view_name": null,
       "color_map": {
        "compressed_buffer": {},
        "dtype": "uint32",
        "shape": []
       },
       "compression_level": 0,
       "id": 139655184791584,
       "model_matrix": {
        "compressed_buffer": {},
        "dtype": "float32",
        "shape": [
         4,
         4
        ]
       },
       "name": "Voxels #3",
       "opacity": 1,
       "outlines": false,
       "outlines_color": 0,
       "type": "Voxels",
       "visible": true,
       "voxels": {
        "compressed_buffer": {},
        "dtype": "uint8",
        "shape": [
         1,
         10,
         10
        ]
       },
       "wireframe": false
      }
     },
     "46f67782b4564bc7a34fc5f27a864d25": {
      "model_module": "@jupyter-widgets/output",
      "model_module_version": "1.0.0",
      "model_name": "OutputModel",
      "state": {
       "layout": "IPY_MODEL_75d88c3ae84e4238aff4230f51251a91",
       "outputs": [
        {
         "data": {
          "image/png": "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\n",
          "text/plain": "<Figure size 432x432 with 2 Axes>"
         },
         "metadata": {
          "needs_background": "light"
         },
         "output_type": "display_data"
        }
       ]
      }
     },
     "4994c24e7a4c4ce7891dff6a60192189": {
      "buffers": [
       {
        "data": "eNolw2dslWUYgOHbHyb8MDExxhhjjAqCgIDQQSmlpaUtXXSP073X6fuNs7/D3puy9yqjQNl7j7KLbMqQPQREjTuuqI3PiVdypX4MaZ0howtkfQLZMrcr2LpB/qdQKIu7Q2kPKJcVPaHqM6iRdb3A3huU1PqA8TmYgX3BEdjvNRxBr2MGdcIMfgMz5E35Fmbo25j938Ho/y5G2HsYA97HCP9Afog+8CP0iM6yC/qgruiR3dCjuqNF9UAb3BMtupfsjRbTB21IX9kPLTYIFRcsQ1DxoaihYaiEATIclTgQlRQhB6GSI1EpUXIwalg0KjVGDkGlxaLS41AZ8XIoKjMBlZUok1DZyaicFDkMlZuKykuT6Wi2DLT8TLSCLJmNVpiDVhSYi1ach1ZiQy/JRy8tQC8rRC8vksXoFSUYlYGlGFVlGNXlsgKzphKztgqzrvr/9TU47LWyDkdDPQ5lx6k1SIVTl4aGy9BxmQYuh4nb6ZBO3C4nHrdLuvF4PHi9Xrw+H75Ay8Ln92MNHy5HYI0YiTVylByNNUqOHoM1Zqwch3/sePzjJuAfP1FOwj9hMtbEKViTpsppWJOnY02ZgTV1ppyFNa0Ra/psrBlz5FysmfOwZsnG+fgaF+CbvRDfnEX45i7GN2+JXIp3/jK8C5bjXbhCrsS7aBWexavxLGnCs3SNXIt72Trcy9fjXtEsN+BauRHXqk24VrfgatqMs2kLzjVbca7dhmPddhzrd+Bo3onZvAtzwx6MjXsxNu3DaNmP3nIAffNBtC2H0LYeRtt2BLX9qDxGw47jNOw8gX1XK/bdJ6nfc0qepm7vGer2naV2/zlqD5yn5mAb1YcuyItUHb5E5ZHLVB69QsWxq1Qcv0b5ieuUtd6gtLWd0pM3KTl1i+LTtyk6c4eis3cpPHePgvP3yW97gK3tIbYLj8j74jG5F5+Qc+kp2ZefkXXlOZlXX5Bx7SXp178m7cYrUtu/IaX9W5JvfkfSre9JvP0DCXd+JP7Ln4i7+zOx934h5v6vRD/4jaiHvxP56A8iHv9J+JO/CHv6N6HP/iH4q38Jft5ByIsOQl92EPaqg/8ABrdj6Q==",
        "encoding": "base64",
        "path": [
         "color_map",
         "compressed_buffer"
        ]
       },
       {
        "data": "eNpjYFBwZMAADfYQOuEAQswBqK7BAV0dAHVoBEE=",
        "encoding": "base64",
        "path": [
         "model_matrix",
         "compressed_buffer"
        ]
       },
       {
        "data": "eNoBeACH/wD1+f3///359QAA5ebn6Ojn5uUAANTT0tHR0tPUAADEwLy6urzAxAAAs62no6OnrbMAAKOakYyMkZqjAACSh3x0dHyHkgAAgnRmXV1mdIIAAHFhUUZGUWFxAABhTjwvLzxOYQAAUDsmGBgmO1AAAEAoEQEBEShAAPGBNKk=",
        "encoding": "base64",
        "path": [
         "voxels",
         "compressed_buffer"
        ]
       }
      ],
      "model_module": "k3d",
      "model_module_version": "2.7.3",
      "model_name": "ObjectModel",
      "state": {
       "_view_count": null,
       "_view_module": null,
       "_view_module_version": "",
       "_view_name": null,
       "color_map": {
        "compressed_buffer": {},
        "dtype": "uint32",
        "shape": [
         256
        ]
       },
       "compression_level": 0,
       "id": 139656145568480,
       "model_matrix": {
        "compressed_buffer": {},
        "dtype": "float32",
        "shape": [
         4,
         4
        ]
       },
       "name": "Voxels #8",
       "opacity": 1,
       "outlines": false,
       "outlines_color": 0,
       "type": "Voxels",
       "visible": true,
       "voxels": {
        "compressed_buffer": {},
        "dtype": "uint8",
        "shape": [
         12,
         1,
         10
        ]
       },
       "wireframe": false
      }
     },
     "4a4584277b80451fbef4b3a04173b0c4": {
      "buffers": [
       {
        "data": "eNrbUOTDAAAEsgFv",
        "encoding": "base64",
        "path": [
         "color_map",
         "compressed_buffer"
        ]
       },
       {
        "data": "eNpjYFBwZMAA2MQa7BkYEhzQxQBDkALh",
        "encoding": "base64",
        "path": [
         "model_matrix",
         "compressed_buffer"
        ]
       },
       {
        "data": "eNpjYGBgBAIGBggNYcNZjEQCbHoZ4CYDABAsAFE=",
        "encoding": "base64",
        "path": [
         "voxels",
         "compressed_buffer"
        ]
       }
      ],
      "model_module": "k3d",
      "model_module_version": "2.7.3",
      "model_name": "ObjectModel",
      "state": {
       "_view_count": null,
       "_view_module": null,
       "_view_module_version": "",
       "_view_name": null,
       "color_map": {
        "compressed_buffer": {},
        "dtype": "uint32",
        "shape": []
       },
       "compression_level": 0,
       "id": 139655150349424,
       "model_matrix": {
        "compressed_buffer": {},
        "dtype": "float32",
        "shape": [
         4,
         4
        ]
       },
       "name": "Voxels #11",
       "opacity": 1,
       "outlines": false,
       "outlines_color": 0,
       "type": "Voxels",
       "visible": true,
       "voxels": {
        "compressed_buffer": {},
        "dtype": "uint8",
        "shape": [
         1,
         10,
         10
        ]
       },
       "wireframe": false
      }
     },
     "4b976b938baf4931ac90f7c08b0f97d8": {
      "buffers": [
       {
        "data": "eNrzU2Jg8APiQiNGMM7xtAbjgsw0MC7vmwLGmZsPg3HAxedgbPHiHxj7jeof1T+E9QMAezAFKA==",
        "encoding": "base64",
        "path": [
         "colors",
         "compressed_buffer"
        ]
       },
       {
        "data": "eNpjYGiwZ8AAxIsBAF7EAv0=",
        "encoding": "base64",
        "path": [
         "model_matrix",
         "compressed_buffer"
        ]
       },
       {
        "data": "eNpN0LFtwzAQheFTEUAjsNQA6RwEAQKI1BYp3XmLzMABMgQRJG18A6jgKBzBMsPz/QWBV/B9eLhJkk7HE9Hr2/eT/j6/9/zz8XX9vLz2vO/738vpZHm1fPyJ9ufoJuseXjJzevgCX+ALfIEv8AW+wBf6EX6EH+FH+BF+hB/hR/cVvsJX+Apf4St8ha/wl+T+ktxfkvs9r5bd791kXfd71v93fvj3bP49mz/yatn80U3WNX/ksT9jf8b+jP0Z+zP2Z+zP2J/hF/gFfoFf4Bf4BX6BX3CfivtU3KfiPhX3qbhPxX0q7lOxv2F/w/6G/Q37G/Y37G/Y3+DPm/vz5v68ud/zatn93k3Wdb/n4Qf4AX6AH+AH+AF+gB+2G03GiBg=",
        "encoding": "base64",
        "path": [
         "origins",
         "compressed_buffer"
        ]
       },
       {
        "data": "eNpN0E8og3EcBvD3MElpmRzFgWzawcu4kE0hDtO02EFqZUuiNActhYSTHJSU/LsZN7/3taO8uYhaq92slINyW067kPI+5fn6Hb71HJ7nc/gaxpZjuHcQKJrDy3Gna+LQeQ9XTPPc63jncs7IT013sRC9D4VuneNYA3KY2e1E2HG3EW5dL0LT+POTmTrxK50t4tdc9Zj0WxeHTPrI9NGhjy19mJqvNF9pvtJ8pflK85XmK81Xxv9/lPYfpf3H0v5jaf+xtP9Y2n+U9h/xs4WgRX8hP2rRf5xMip/bzYiPTB8d+tjSh0kfffo36T3x2+Nn4r/OXouPTB8d+tjSh0l/6eJE/OCnJf7H95P4qeyL+Mj00aGPLX2Y9He+7sTPrZXFz11Wxa+Oe2z6yPTRoY8tfZj0TxNv4vu2DZt+3u+z6fcnmsVHpo8OfWzpw6Q/UzZs+rGxJvGP1v3ib6R6xUemjw59bOnDpD9f2yj+fn1A/NXSoPgPmaj4yPTRoY8tfZj0V/raxH8uDYg/3TElvmczLT4yfXToY0sf5i+DP/BQ",
        "encoding": "base64",
        "path": [
         "vectors",
         "compressed_buffer"
        ]
       }
      ],
      "model_module": "k3d",
      "model_module_version": "2.7.3",
      "model_name": "ObjectModel",
      "state": {
       "_view_count": null,
       "_view_module": null,
       "_view_module_version": "",
       "_view_name": null,
       "colors": {
        "compressed_buffer": {},
        "dtype": "uint32",
        "shape": [
         96,
         2
        ]
       },
       "compression_level": 0,
       "head_color": 255,
       "head_size": 1,
       "id": 139655144437792,
       "label_size": 1,
       "labels": [],
       "line_width": 0.01,
       "model_matrix": {
        "compressed_buffer": {},
        "dtype": "float32",
        "shape": [
         4,
         4
        ]
       },
       "name": "Vectors #10",
       "origin_color": 255,
       "origins": {
        "compressed_buffer": {},
        "dtype": "float32",
        "shape": [
         96,
         3
        ]
       },
       "type": "Vectors",
       "use_head": true,
       "vectors": {
        "compressed_buffer": {},
        "dtype": "float32",
        "shape": [
         96,
         3
        ]
       },
       "visible": true
      }
     },
     "4d4aa78871bb4c41994b53107c312c1a": {
      "buffers": [
       {
        "data": "eNrbUOTDAAAEsgFv",
        "encoding": "base64",
        "path": [
         "color_map",
         "compressed_buffer"
        ]
       },
       {
        "data": "eNpjYFBwZMAA2MQa7BkYDtijiwEASj8DQA==",
        "encoding": "base64",
        "path": [
         "model_matrix",
         "compressed_buffer"
        ]
       },
       {
        "data": "eNpjYGBgBAIGBggNYcNZjEQCbHoZ4CYDABAsAFE=",
        "encoding": "base64",
        "path": [
         "voxels",
         "compressed_buffer"
        ]
       }
      ],
      "model_module": "k3d",
      "model_module_version": "2.7.3",
      "model_name": "ObjectModel",
      "state": {
       "_view_count": null,
       "_view_module": null,
       "_view_module_version": "",
       "_view_name": null,
       "color_map": {
        "compressed_buffer": {},
        "dtype": "uint32",
        "shape": []
       },
       "compression_level": 0,
       "id": 139655184776256,
       "model_matrix": {
        "compressed_buffer": {},
        "dtype": "float32",
        "shape": [
         4,
         4
        ]
       },
       "name": "Voxels #5",
       "opacity": 1,
       "outlines": false,
       "outlines_color": 0,
       "type": "Voxels",
       "visible": true,
       "voxels": {
        "compressed_buffer": {},
        "dtype": "uint8",
        "shape": [
         1,
         10,
         10
        ]
       },
       "wireframe": false
      }
     },
     "50ff2044576d470195ee0f4bd89f6e9a": {
      "buffers": [
       {
        "data": "eNolw2dslWUYgOHbHyb8MDExxhhjjAqCgIDQQSmlpaUtXXSP073X6fuNs7/D3puy9yqjQNl7j7KLbMqQPQREjTuuqI3PiVdypX4MaZ0howtkfQLZMrcr2LpB/qdQKIu7Q2kPKJcVPaHqM6iRdb3A3huU1PqA8TmYgX3BEdjvNRxBr2MGdcIMfgMz5E35Fmbo25j938Ho/y5G2HsYA97HCP9Afog+8CP0iM6yC/qgruiR3dCjuqNF9UAb3BMtupfsjRbTB21IX9kPLTYIFRcsQ1DxoaihYaiEATIclTgQlRQhB6GSI1EpUXIwalg0KjVGDkGlxaLS41AZ8XIoKjMBlZUok1DZyaicFDkMlZuKykuT6Wi2DLT8TLSCLJmNVpiDVhSYi1ach1ZiQy/JRy8tQC8rRC8vksXoFSUYlYGlGFVlGNXlsgKzphKztgqzrvr/9TU47LWyDkdDPQ5lx6k1SIVTl4aGy9BxmQYuh4nb6ZBO3C4nHrdLuvF4PHi9Xrw+H75Ay8Ln92MNHy5HYI0YiTVylByNNUqOHoM1Zqwch3/sePzjJuAfP1FOwj9hMtbEKViTpsppWJOnY02ZgTV1ppyFNa0Ra/psrBlz5FysmfOwZsnG+fgaF+CbvRDfnEX45i7GN2+JXIp3/jK8C5bjXbhCrsS7aBWexavxLGnCs3SNXIt72Trcy9fjXtEsN+BauRHXqk24VrfgatqMs2kLzjVbca7dhmPddhzrd+Bo3onZvAtzwx6MjXsxNu3DaNmP3nIAffNBtC2H0LYeRtt2BLX9qDxGw47jNOw8gX1XK/bdJ6nfc0qepm7vGer2naV2/zlqD5yn5mAb1YcuyItUHb5E5ZHLVB69QsWxq1Qcv0b5ieuUtd6gtLWd0pM3KTl1i+LTtyk6c4eis3cpPHePgvP3yW97gK3tIbYLj8j74jG5F5+Qc+kp2ZefkXXlOZlXX5Bx7SXp178m7cYrUtu/IaX9W5JvfkfSre9JvP0DCXd+JP7Ln4i7+zOx934h5v6vRD/4jaiHvxP56A8iHv9J+JO/CHv6N6HP/iH4q38Jft5ByIsOQl92EPaqg/8ABrdj6Q==",
        "encoding": "base64",
        "path": [
         "color_map",
         "compressed_buffer"
        ]
       },
       {
        "data": "eNpjYFBwZMAADfYQesIBhJgDUF2DA7o6AHvIBHE=",
        "encoding": "base64",
        "path": [
         "model_matrix",
         "compressed_buffer"
        ]
       },
       {
        "data": "eNpjYGD4+///XwYweP7ixXMI6yIQQFi7d+3aDWEtXbx4KYTV39PTD2FVlpRUQljJsbHJEJavm5svhGWur28OYSlKSChCWNyMjNxACgC7tRhh",
        "encoding": "base64",
        "path": [
         "voxels",
         "compressed_buffer"
        ]
       }
      ],
      "model_module": "k3d",
      "model_module_version": "2.7.3",
      "model_name": "ObjectModel",
      "state": {
       "_view_count": null,
       "_view_module": null,
       "_view_module_version": "",
       "_view_name": null,
       "color_map": {
        "compressed_buffer": {},
        "dtype": "uint32",
        "shape": [
         256
        ]
       },
       "compression_level": 0,
       "id": 139656145567952,
       "model_matrix": {
        "compressed_buffer": {},
        "dtype": "float32",
        "shape": [
         4,
         4
        ]
       },
       "name": "Voxels #7",
       "opacity": 1,
       "outlines": false,
       "outlines_color": 0,
       "type": "Voxels",
       "visible": true,
       "voxels": {
        "compressed_buffer": {},
        "dtype": "uint8",
        "shape": [
         12,
         1,
         10
        ]
       },
       "wireframe": false
      }
     },
     "5723d941a3cc4befa19939f1956a40a4": {
      "buffers": [
       {
        "data": "eNrzU2Jg8ANif2UIDlSB4Ah1CM6zUQbjmCPXwdji4W8wNn36D4zNnkGwxQsI9hs1b9S8UfPoZh4AhVY34A==",
        "encoding": "base64",
        "path": [
         "colors",
         "compressed_buffer"
        ]
       },
       {
        "data": "eNpjYGiwZ8AAxIsBAF7EAv0=",
        "encoding": "base64",
        "path": [
         "model_matrix",
         "compressed_buffer"
        ]
       },
       {
        "data": "eNpN0DFOxDAQheGhS0/jjtTcgILYvgkXgBNQrKgRsjgEJXKPtDvVdkjuKanofAQSK7PzF5FekfGn90QOevf2u4jo6WlOen7/GfnjUfT++Xvkm7+X0+3r58jHr+vj+lleLK//RPtnvU12u76Z7E2RQzJLLq7AFbgCV+AKXIErcAWuwBW6EW6EG+FGuBFuhBvhRrgRbnRX4SpchatwFa7CVbgKV+Eq3Dm5Oyd35+TunNwdebHs7rhNduvunNwdebhX8nBxt2zuls3dsrl7Xiybu98muzV3y+buee9b0Legb0Hfgr4FfQv6FvQt6FvQt8CtcCvcCrfCrXAr3Aq3wq1wK3Zu2Llh54adG3Zu2Llh54adG3Zu2Lmhb0ffjr4dfTv6dvTt6NvRt6NvR98Od8ruTtndKbs7ZXdHXiy7O26T3bo7ZXdH3t0AN8ANcAPcADfADXAD3AA35H/xv/8I",
        "encoding": "base64",
        "path": [
         "origins",
         "compressed_buffer"
        ]
       },
       {
        "data": "eNpN0k8o3nEcB/AfOyD5s+Ygh0coW61+3+9TIszzc6LmoJSsWXPioNVWz5OD9OwRttpBaIqSg9ou4/k5ENvlJ6RJyIG4cJBZa4cdOD2K513en30Ov/oc3u/P69enr+MkgtrR84b3jTX+55t4cLn0MNK60OvvTwwEuQXPI6Wrc/5wZyxYuJyLPLMPFsvKq4P057XNT2D2OKczHjPprsdueqfHnY6T8Gg59+5teyxJ91N0Jkk3fn2cpJv64/p034xt+HQx00WGLrp0sZMuLOW6ynWV6yrXKNco1yjXKNdVrqtc1/l/Z6PubNSdjbqzVXe26s5W3dmqOxt1Z6PubOiuLU+Ji/+n+3Y6y9L98eWluB9jV+JiposMXXTpYiddWHS9nUNxiy+yLd29owZxZ/KmxX0dehqmi5kuMnTRpYuddGHR7XqXY+mmMqy4blFM3M6fm+L2Z74SFzNdZOiiSxc76cKiW5p6LO5pqEPcrSeT4pYM/RO3JfpBXMx0kaGLLl3spAuL7tlIk7hr9XFx+5oXxf0byg/TfXExKy5musjQRZcudtKFRXe2sFtcvE+6lT074rbcVIjb07EiLma6yNBFly520oVF198dFHej7qu4h8O/xP12UitudHtfXMx0kaGLLl3spAuLbsGjcXGrtr+Lu37ghOnmrrSKO1j/W1zMdJGhiy5d7KQL6w5MEVnv",
        "encoding": "base64",
        "path": [
         "vectors",
         "compressed_buffer"
        ]
       }
      ],
      "model_module": "k3d",
      "model_module_version": "2.7.3",
      "model_name": "ObjectModel",
      "state": {
       "_view_count": null,
       "_view_module": null,
       "_view_module_version": "",
       "_view_name": null,
       "colors": {
        "compressed_buffer": {},
        "dtype": "uint32",
        "shape": [
         120,
         2
        ]
       },
       "compression_level": 0,
       "head_color": 255,
       "head_size": 1,
       "id": 139655184793024,
       "label_size": 1,
       "labels": [],
       "line_width": 0.01,
       "model_matrix": {
        "compressed_buffer": {},
        "dtype": "float32",
        "shape": [
         4,
         4
        ]
       },
       "name": "Vectors #1",
       "origin_color": 255,
       "origins": {
        "compressed_buffer": {},
        "dtype": "float32",
        "shape": [
         120,
         3
        ]
       },
       "type": "Vectors",
       "use_head": true,
       "vectors": {
        "compressed_buffer": {},
        "dtype": "float32",
        "shape": [
         120,
         3
        ]
       },
       "visible": true
      }
     },
     "5ae6dd308bc6401f8c4f5b9b512fdecd": {
      "model_module": "@jupyter-widgets/controls",
      "model_module_version": "1.5.0",
      "model_name": "DescriptionStyleModel",
      "state": {
       "description_width": ""
      }
     },
     "5c488028e1224f898bad1b75008201c3": {
      "buffers": [
       {
        "data": "eNolw2dslWUYgOHbHyb8MDExxhhjjAqCgIDQQSmlpaUtXXSP073X6fuNs7/D3puy9yqjQNl7j7KLbMqQPQREjTuuqI3PiVdypX4MaZ0howtkfQLZMrcr2LpB/qdQKIu7Q2kPKJcVPaHqM6iRdb3A3huU1PqA8TmYgX3BEdjvNRxBr2MGdcIMfgMz5E35Fmbo25j938Ho/y5G2HsYA97HCP9Afog+8CP0iM6yC/qgruiR3dCjuqNF9UAb3BMtupfsjRbTB21IX9kPLTYIFRcsQ1DxoaihYaiEATIclTgQlRQhB6GSI1EpUXIwalg0KjVGDkGlxaLS41AZ8XIoKjMBlZUok1DZyaicFDkMlZuKykuT6Wi2DLT8TLSCLJmNVpiDVhSYi1ach1ZiQy/JRy8tQC8rRC8vksXoFSUYlYGlGFVlGNXlsgKzphKztgqzrvr/9TU47LWyDkdDPQ5lx6k1SIVTl4aGy9BxmQYuh4nb6ZBO3C4nHrdLuvF4PHi9Xrw+H75Ay8Ln92MNHy5HYI0YiTVylByNNUqOHoM1Zqwch3/sePzjJuAfP1FOwj9hMtbEKViTpsppWJOnY02ZgTV1ppyFNa0Ra/psrBlz5FysmfOwZsnG+fgaF+CbvRDfnEX45i7GN2+JXIp3/jK8C5bjXbhCrsS7aBWexavxLGnCs3SNXIt72Trcy9fjXtEsN+BauRHXqk24VrfgatqMs2kLzjVbca7dhmPddhzrd+Bo3onZvAtzwx6MjXsxNu3DaNmP3nIAffNBtC2H0LYeRtt2BLX9qDxGw47jNOw8gX1XK/bdJ6nfc0qepm7vGer2naV2/zlqD5yn5mAb1YcuyItUHb5E5ZHLVB69QsWxq1Qcv0b5ieuUtd6gtLWd0pM3KTl1i+LTtyk6c4eis3cpPHePgvP3yW97gK3tIbYLj8j74jG5F5+Qc+kp2ZefkXXlOZlXX5Bx7SXp178m7cYrUtu/IaX9W5JvfkfSre9JvP0DCXd+JP7Ln4i7+zOx934h5v6vRD/4jaiHvxP56A8iHv9J+JO/CHv6N6HP/iH4q38Jft5ByIsOQl92EPaqg/8ABrdj6Q==",
        "encoding": "base64",
        "path": [
         "color_map",
         "compressed_buffer"
        ]
       },
       {
        "data": "eNpjYFBwZMAADfYQWsEBIeYAVNfggK4OAFxoA4E=",
        "encoding": "base64",
        "path": [
         "model_matrix",
         "compressed_buffer"
        ]
       },
       {
        "data": "eNoFwaEORlAAgNFP+JOgGvMCZlRFEW7TTGNTlVtUu90Em6KajazSvIB5BsVb+M/B0H+a9tMNcGzLNC3bAdfzg8D3XAijWIg4CkEkWZ5niYC0qOq6KlIopeo6JUuQapjnQUlo+nXf176Bdjru+5haGLfrfa9thOV8vu85F/55fCj9",
        "encoding": "base64",
        "path": [
         "voxels",
         "compressed_buffer"
        ]
       }
      ],
      "model_module": "k3d",
      "model_module_version": "2.7.3",
      "model_name": "ObjectModel",
      "state": {
       "_view_count": null,
       "_view_module": null,
       "_view_module_version": "",
       "_view_name": null,
       "color_map": {
        "compressed_buffer": {},
        "dtype": "uint32",
        "shape": [
         256
        ]
       },
       "compression_level": 0,
       "id": 139656145569248,
       "model_matrix": {
        "compressed_buffer": {},
        "dtype": "float32",
        "shape": [
         4,
         4
        ]
       },
       "name": "Voxels #17",
       "opacity": 1,
       "outlines": false,
       "outlines_color": 0,
       "type": "Voxels",
       "visible": true,
       "voxels": {
        "compressed_buffer": {},
        "dtype": "uint8",
        "shape": [
         12,
         1,
         10
        ]
       },
       "wireframe": false
      }
     },
     "5daffab5645e4200a32b4276cb4caee6": {
      "model_module": "@jupyter-widgets/base",
      "model_module_version": "1.2.0",
      "model_name": "LayoutModel",
      "state": {}
     },
     "63af704f30b74802a8981cc4ef10d2f9": {
      "buffers": [
       {
        "data": "eNoDAAAAAAE=",
        "encoding": "base64",
        "path": [
         "colors",
         "compressed_buffer"
        ]
       },
       {
        "data": "eNpjYGiwZ8AAxIsBAF7EAv0=",
        "encoding": "base64",
        "path": [
         "model_matrix",
         "compressed_buffer"
        ]
       },
       {
        "data": "eNpt0Lt1wzAQBMBTphIQupMzO1FJKAUd+EpAKSjB5kfiBA74uOQDR6t9xKsivr4j6ufvTj6erxzm5Ax5v5/5ES/zZQZ+4Ad+4Ad+4Ad+6Cd+4id+4id+4id+3n7hF37hF37hF37hF/5xlTv6n+2nxbef6/aPXLwjn/6Zw5ycyX+8z/OVr86d/p3+nf6d/p3+nf6d3+v4A3/gD/yBP/AH/sAf7DPZZ7LPZJ/JPpN9JvtM9pn0X/Rf9F/0X/Rf9F/0X/Rf+M/t9vf89vcc5uQM+e0/t9s/8mU2/Ibf8Bt+w2/4Db9tv4geuuk=",
        "encoding": "base64",
        "path": [
         "positions",
         "compressed_buffer"
        ]
       }
      ],
      "model_module": "k3d",
      "model_module_version": "2.7.3",
      "model_name": "ObjectModel",
      "state": {
       "_view_count": null,
       "_view_module": null,
       "_view_module_version": "",
       "_view_name": null,
       "color": 5010096,
       "colors": {
        "compressed_buffer": {},
        "dtype": "uint32",
        "shape": [
         0
        ]
       },
       "compression_level": 0,
       "id": 139655184839296,
       "mesh_detail": 2,
       "model_matrix": {
        "compressed_buffer": {},
        "dtype": "float32",
        "shape": [
         4,
         4
        ]
       },
       "name": "Points #5",
       "opacity": 1,
       "point_size": 0.24999999999999994,
       "positions": {
        "compressed_buffer": {},
        "dtype": "float32",
        "shape": [
         96,
         3
        ]
       },
       "shader": "3dSpecular",
       "type": "Points",
       "visible": true
      }
     },
     "64edb141b2f54f2d892d1001e076ffbc": {
      "buffers": [
       {
        "data": "eNolw2dslWUYgOHbHyb8MDExxhhjjAqCgIDQQSmlpaUtXXSP073X6fuNs7/D3puy9yqjQNl7j7KLbMqQPQREjTuuqI3PiVdypX4MaZ0howtkfQLZMrcr2LpB/qdQKIu7Q2kPKJcVPaHqM6iRdb3A3huU1PqA8TmYgX3BEdjvNRxBr2MGdcIMfgMz5E35Fmbo25j938Ho/y5G2HsYA97HCP9Afog+8CP0iM6yC/qgruiR3dCjuqNF9UAb3BMtupfsjRbTB21IX9kPLTYIFRcsQ1DxoaihYaiEATIclTgQlRQhB6GSI1EpUXIwalg0KjVGDkGlxaLS41AZ8XIoKjMBlZUok1DZyaicFDkMlZuKykuT6Wi2DLT8TLSCLJmNVpiDVhSYi1ach1ZiQy/JRy8tQC8rRC8vksXoFSUYlYGlGFVlGNXlsgKzphKztgqzrvr/9TU47LWyDkdDPQ5lx6k1SIVTl4aGy9BxmQYuh4nb6ZBO3C4nHrdLuvF4PHi9Xrw+H75Ay8Ln92MNHy5HYI0YiTVylByNNUqOHoM1Zqwch3/sePzjJuAfP1FOwj9hMtbEKViTpsppWJOnY02ZgTV1ppyFNa0Ra/psrBlz5FysmfOwZsnG+fgaF+CbvRDfnEX45i7GN2+JXIp3/jK8C5bjXbhCrsS7aBWexavxLGnCs3SNXIt72Trcy9fjXtEsN+BauRHXqk24VrfgatqMs2kLzjVbca7dhmPddhzrd+Bo3onZvAtzwx6MjXsxNu3DaNmP3nIAffNBtC2H0LYeRtt2BLX9qDxGw47jNOw8gX1XK/bdJ6nfc0qepm7vGer2naV2/zlqD5yn5mAb1YcuyItUHb5E5ZHLVB69QsWxq1Qcv0b5ieuUtd6gtLWd0pM3KTl1i+LTtyk6c4eis3cpPHePgvP3yW97gK3tIbYLj8j74jG5F5+Qc+kp2ZefkXXlOZlXX5Bx7SXp178m7cYrUtu/IaX9W5JvfkfSre9JvP0DCXd+JP7Ln4i7+zOx934h5v6vRD/4jaiHvxP56A8iHv9J+JO/CHv6N6HP/iH4q38Jft5ByIsOQl92EPaqg/8ABrdj6Q==",
        "encoding": "base64",
        "path": [
         "color_map",
         "compressed_buffer"
        ]
       },
       {
        "data": "eNpjYFBwZMAADfYQWsEBIeYAVNfggK4OAFxoA4E=",
        "encoding": "base64",
        "path": [
         "model_matrix",
         "compressed_buffer"
        ]
       },
       {
        "data": "eNoFwaEORlAAgNFP+JOgGvMCZlRFEW7TTGNTlVtUu90Em6KajazSvIB5BsVb+M/B0H+a9tMNcGzLNC3bAdfzg8D3XAijWIg4CkEkWZ5niYC0qOq6KlIopeo6JUuQapjnQUlo+nXf176Bdjru+5haGLfrfa9thOV8vu85F/55fCj9",
        "encoding": "base64",
        "path": [
         "voxels",
         "compressed_buffer"
        ]
       }
      ],
      "model_module": "k3d",
      "model_module_version": "2.7.3",
      "model_name": "ObjectModel",
      "state": {
       "_view_count": null,
       "_view_module": null,
       "_view_module_version": "",
       "_view_name": null,
       "color_map": {
        "compressed_buffer": {},
        "dtype": "uint32",
        "shape": [
         256
        ]
       },
       "compression_level": 0,
       "id": 139656145609632,
       "model_matrix": {
        "compressed_buffer": {},
        "dtype": "float32",
        "shape": [
         4,
         4
        ]
       },
       "name": "Voxels #13",
       "opacity": 1,
       "outlines": false,
       "outlines_color": 0,
       "type": "Voxels",
       "visible": true,
       "voxels": {
        "compressed_buffer": {},
        "dtype": "uint8",
        "shape": [
         12,
         1,
         10
        ]
       },
       "wireframe": false
      }
     },
     "6756682b765b46958c77b69c0a534cde": {
      "model_module": "@jupyter-widgets/base",
      "model_module_version": "1.2.0",
      "model_name": "LayoutModel",
      "state": {}
     },
     "682b436783e24606817e3ebe46b55416": {
      "model_module": "k3d",
      "model_module_version": "2.7.3",
      "model_name": "PlotModel",
      "state": {
       "_backend_version": "2.7.3",
       "_dom_classes": [],
       "_view_count": null,
       "antialias": 3,
       "auto_rendering": true,
       "axes": [
        "x (nm)",
        "y (nm)",
        "z (nm)"
       ],
       "axes_helper": 1,
       "background_color": 16777215,
       "camera": [
        23.65364207354386,
        -35.480463110315796,
        6.36536420735438,
        0,
        0,
        4,
        0,
        0,
        1
       ],
       "camera_animation": [],
       "camera_auto_fit": false,
       "camera_fov": 60,
       "camera_no_pan": false,
       "camera_no_rotate": false,
       "camera_no_zoom": false,
       "clipping_planes": [],
       "colorbar_object_id": -1,
       "fps": 25,
       "fps_meter": false,
       "grid": [
        -1,
        -1,
        -1,
        1,
        1,
        1
       ],
       "grid_auto_fit": false,
       "grid_visible": true,
       "height": 512,
       "layout": "IPY_MODEL_c800b50ec428411e9f0e5d2b6a304c29",
       "lighting": 1.5,
       "menu_visibility": true,
       "mode": "view",
       "name": null,
       "object_ids": [
        139655184790960,
        139655184791776,
        139655150347984
       ],
       "rendering_steps": 1,
       "screenshot": "",
       "screenshot_scale": 2,
       "snapshot": "",
       "time": 0,
       "voxel_paint_color": 0
      }
     },
     "6b5ceedad1354c5a96f2144e5311ba00": {
      "model_module": "@jupyter-widgets/controls",
      "model_module_version": "1.5.0",
      "model_name": "DropdownModel",
      "state": {
       "_options_labels": [
        "x",
        "y",
        "z"
       ],
       "description": "axis",
       "index": 2,
       "layout": "IPY_MODEL_ad7949e2277e40f0bc080d0049682fee",
       "style": "IPY_MODEL_e36aad4d95c849d0a4de78ca8a579d93"
      }
     },
     "6caf4351073a45b9a435e980c728ab58": {
      "buffers": [
       {
        "data": "eNoDAAAAAAE=",
        "encoding": "base64",
        "path": [
         "colors",
         "compressed_buffer"
        ]
       },
       {
        "data": "eNpjYGiwZ8AAxIsBAF7EAv0=",
        "encoding": "base64",
        "path": [
         "model_matrix",
         "compressed_buffer"
        ]
       },
       {
        "data": "eNpl0sGxwzAIRVGySwks3QlyJ78kSqGDUAKlqIQ/Tixz4yw8fqMhOvNwRDxF5CWSr4f8XVlkQz4ewfvKhhnkbeDO0efOnOuudgXu3ft6DDPIyxW4AlfoGlyDa3DtZhpmkC/X4BpcazfhJtyEm/d+hhnka89wE27C3Ua7x+825PzZ35kNM8hr7n3n6HNnzvUdlvuZ3ZDz51ud2TCD/HHPO0efO3Oub959HX0dff3+HzHMIK++jr6Ovg434AbcgBtwA27ADbgBN+AG9lzYc2HPhT0X9lzYc2HPhT0X9lzYc6HvRN+JvhN9J/pO9J3oO9F3ou9E3wn3ubf73Ns98nKPLMyGGeTlvu8cfe7M5/0KV+EqXIWrcBWuwlW4Clf3fyGvHEA=",
        "encoding": "base64",
        "path": [
         "positions",
         "compressed_buffer"
        ]
       }
      ],
      "model_module": "k3d",
      "model_module_version": "2.7.3",
      "model_name": "ObjectModel",
      "state": {
       "_view_count": null,
       "_view_module": null,
       "_view_module_version": "",
       "_view_name": null,
       "color": 5010096,
       "colors": {
        "compressed_buffer": {},
        "dtype": "uint32",
        "shape": [
         0
        ]
       },
       "compression_level": 0,
       "id": 139655144437168,
       "mesh_detail": 2,
       "model_matrix": {
        "compressed_buffer": {},
        "dtype": "float32",
        "shape": [
         4,
         4
        ]
       },
       "name": "Points #13",
       "opacity": 1,
       "point_size": 0.24999999999999994,
       "positions": {
        "compressed_buffer": {},
        "dtype": "float32",
        "shape": [
         120,
         3
        ]
       },
       "shader": "3dSpecular",
       "type": "Points",
       "visible": true
      }
     },
     "6d23cdc10eee4c9285e1096c57938a38": {
      "model_module": "@jupyter-widgets/controls",
      "model_module_version": "1.5.0",
      "model_name": "DescriptionStyleModel",
      "state": {
       "description_width": ""
      }
     },
     "719d160ee31d4976991abb8013a62f57": {
      "model_module": "@jupyter-widgets/base",
      "model_module_version": "1.2.0",
      "model_name": "LayoutModel",
      "state": {}
     },
     "72238e4f968e400483378d59f13224ff": {
      "buffers": [
       {
        "data": "eNrbUOTDAAAEsgFv",
        "encoding": "base64",
        "path": [
         "color_map",
         "compressed_buffer"
        ]
       },
       {
        "data": "eNpjYFBwZMAA2MQcgGINDqhiDfYAQHoCww==",
        "encoding": "base64",
        "path": [
         "model_matrix",
         "compressed_buffer"
        ]
       },
       {
        "data": "eNpjBAAAAgAC",
        "encoding": "base64",
        "path": [
         "voxels",
         "compressed_buffer"
        ]
       }
      ],
      "model_module": "k3d",
      "model_module_version": "2.7.3",
      "model_name": "ObjectModel",
      "state": {
       "_view_count": null,
       "_view_module": null,
       "_view_module_version": "",
       "_view_name": null,
       "color_map": {
        "compressed_buffer": {},
        "dtype": "uint32",
        "shape": []
       },
       "compression_level": 0,
       "id": 139655184792496,
       "model_matrix": {
        "compressed_buffer": {},
        "dtype": "float32",
        "shape": [
         4,
         4
        ]
       },
       "name": "Voxels #1",
       "opacity": 0.025,
       "outlines": false,
       "outlines_color": 0,
       "type": "Voxels",
       "visible": true,
       "voxels": {
        "compressed_buffer": {},
        "dtype": "uint8",
        "shape": [
         1,
         1,
         1
        ]
       },
       "wireframe": false
      }
     },
     "74abecf2589948be8fb6f583d87c7e1e": {
      "buffers": [
       {
        "data": "eNrzU2Jg8ANif2UIDlSB4Ah1CM6zUQbjmCPXwdji4W8wNn36D4zNnkGwxQsI9hs1b9S8UfPoZh4AhVY34A==",
        "encoding": "base64",
        "path": [
         "colors",
         "compressed_buffer"
        ]
       },
       {
        "data": "eNpjYGiwZ8AAxIsBAF7EAv0=",
        "encoding": "base64",
        "path": [
         "model_matrix",
         "compressed_buffer"
        ]
       },
       {
        "data": "eNpN0DFOxDAQheGhS0/jjtTcgILYvgkXgBNQrKgRsjgEJXKPtDvVdkjuKanofAQSK7PzF5FekfGn90QOevf2u4jo6WlOen7/GfnjUfT++Xvkm7+X0+3r58jHr+vj+lleLK//RPtnvU12u76Z7E2RQzJLLq7AFbgCV+AKXIErcAWuwBW6EW6EG+FGuBFuhBvhRrgRbnRX4SpchatwFa7CVbgKV+Eq3Dm5Oyd35+TunNwdebHs7rhNduvunNwdebhX8nBxt2zuls3dsrl7Xiybu98muzV3y+buee9b0Legb0Hfgr4FfQv6FvQt6FvQt8CtcCvcCrfCrXAr3Aq3wq1wK3Zu2Llh54adG3Zu2Llh54adG3Zu2Lmhb0ffjr4dfTv6dvTt6NvRt6NvR98Od8ruTtndKbs7ZXdHXiy7O26T3bo7ZXdH3t0AN8ANcAPcADfADXAD3AA35H/xv/8I",
        "encoding": "base64",
        "path": [
         "origins",
         "compressed_buffer"
        ]
       },
       {
        "data": "eNpN0k8o3nEcB/AfOyD5s+Ygh0coW61+3+9TIszzc6LmoJSsWXPioNVWz5OD9OwRttpBaIqSg9ou4/k5ENvlJ6RJyIG4cJBZa4cdOD2K513en30Ov/oc3u/P69enr+MkgtrR84b3jTX+55t4cLn0MNK60OvvTwwEuQXPI6Wrc/5wZyxYuJyLPLMPFsvKq4P057XNT2D2OKczHjPprsdueqfHnY6T8Gg59+5teyxJ91N0Jkk3fn2cpJv64/p034xt+HQx00WGLrp0sZMuLOW6ynWV6yrXKNco1yjXKNdVrqtc1/l/Z6PubNSdjbqzVXe26s5W3dmqOxt1Z6PubOiuLU+Ji/+n+3Y6y9L98eWluB9jV+JiposMXXTpYiddWHS9nUNxiy+yLd29owZxZ/KmxX0dehqmi5kuMnTRpYuddGHR7XqXY+mmMqy4blFM3M6fm+L2Z74SFzNdZOiiSxc76cKiW5p6LO5pqEPcrSeT4pYM/RO3JfpBXMx0kaGLLl3spAuL7tlIk7hr9XFx+5oXxf0byg/TfXExKy5musjQRZcudtKFRXe2sFtcvE+6lT074rbcVIjb07EiLma6yNBFly520oVF198dFHej7qu4h8O/xP12UitudHtfXMx0kaGLLl3spAuLbsGjcXGrtr+Lu37ghOnmrrSKO1j/W1zMdJGhiy5d7KQL6w5MEVnv",
        "encoding": "base64",
        "path": [
         "vectors",
         "compressed_buffer"
        ]
       }
      ],
      "model_module": "k3d",
      "model_module_version": "2.7.3",
      "model_name": "ObjectModel",
      "state": {
       "_view_count": null,
       "_view_module": null,
       "_view_module_version": "",
       "_view_name": null,
       "colors": {
        "compressed_buffer": {},
        "dtype": "uint32",
        "shape": [
         120,
         2
        ]
       },
       "compression_level": 0,
       "head_color": 255,
       "head_size": 1,
       "id": 139655149397904,
       "label_size": 1,
       "labels": [],
       "line_width": 0.01,
       "model_matrix": {
        "compressed_buffer": {},
        "dtype": "float32",
        "shape": [
         4,
         4
        ]
       },
       "name": "Vectors #6",
       "origin_color": 255,
       "origins": {
        "compressed_buffer": {},
        "dtype": "float32",
        "shape": [
         120,
         3
        ]
       },
       "type": "Vectors",
       "use_head": true,
       "vectors": {
        "compressed_buffer": {},
        "dtype": "float32",
        "shape": [
         120,
         3
        ]
       },
       "visible": true
      }
     },
     "74e4b057142c477eacb0889d8b968228": {
      "buffers": [
       {
        "data": "eNoDAAAAAAE=",
        "encoding": "base64",
        "path": [
         "colors",
         "compressed_buffer"
        ]
       },
       {
        "data": "eNpjYGiwZ8AAxIsBAF7EAv0=",
        "encoding": "base64",
        "path": [
         "model_matrix",
         "compressed_buffer"
        ]
       },
       {
        "data": "eNpt0cENgzAMRmFz6wg+ZhObTRgpo3gDPEJGyQgViMhPtIeqPxL99ORucuQmh4vkKdKw86wt3IZ3sJuvfX1jP6bAF/gCX+ALfIEv8IW+wTf4Bt/gG3yDb/Ct/ISf8BN+wk/4CT/hJ/zm5Tcvv3n5zctvXv79W1+7/HsnnvP13/y76bvvx319nuaO/o7+jv6O/o7+jv6O/g4/4Af8gB/wA37AD/iB+wzcZ+A+A/cZuM/AfQbuM3Cbgf6J/on+if6J/on+if6J/gn/s5d/7eVfW7gN72Av/7OXf+/HVPgKX+ErfIWv8BW+7l9kF9NJ",
        "encoding": "base64",
        "path": [
         "positions",
         "compressed_buffer"
        ]
       }
      ],
      "model_module": "k3d",
      "model_module_version": "2.7.3",
      "model_name": "ObjectModel",
      "state": {
       "_view_count": null,
       "_view_module": null,
       "_view_module_version": "",
       "_view_name": null,
       "color": 5010096,
       "colors": {
        "compressed_buffer": {},
        "dtype": "uint32",
        "shape": [
         0
        ]
       },
       "compression_level": 0,
       "id": 139655184766960,
       "mesh_detail": 2,
       "model_matrix": {
        "compressed_buffer": {},
        "dtype": "float32",
        "shape": [
         4,
         4
        ]
       },
       "name": "Points #4",
       "opacity": 1,
       "point_size": 0.25,
       "positions": {
        "compressed_buffer": {},
        "dtype": "float32",
        "shape": [
         96,
         3
        ]
       },
       "shader": "3dSpecular",
       "type": "Points",
       "visible": true
      }
     },
     "75d88c3ae84e4238aff4230f51251a91": {
      "model_module": "@jupyter-widgets/base",
      "model_module_version": "1.2.0",
      "model_name": "LayoutModel",
      "state": {}
     },
     "7640dbe3e0c343a5a44ba764d6d720cf": {
      "buffers": [
       {
        "data": "eNoDAAAAAAE=",
        "encoding": "base64",
        "path": [
         "colors",
         "compressed_buffer"
        ]
       },
       {
        "data": "eNpjYGiwZ8AAxIsBAF7EAv0=",
        "encoding": "base64",
        "path": [
         "model_matrix",
         "compressed_buffer"
        ]
       },
       {
        "data": "eNpd0sFtwzAQRNHNLSXwqE5W7iQlsRR2EJbAUlhCINs0X3QQ8EGt9mNGjKg9ov9ez1f8fDjigH1CTt7Bx8nOc59Xua992xt44+YMOZmBlzfwBt7Qm3gTb/7PF3IyA3+8iTfx5vZ2vB1vv3UZcjIDf3rG2/F2vMe5vdd3R7//qxeHnMzA65vnznOfV7mv/7+8r9mj3+/Fi0NOZuCX973z3OdV7uuu7byVvPV2H0NOZuCVt5K3krfibXgb3oa34W14G96Gt+FteBs9D3oe9DzoedDzoOdBz4OeBz0Peh7kneSd5J3kneSd5J3kneSd5J3knXi/H9v7/djei5f34pCTGXh5nzvPfV7l9/6Ct+AteAvegrfgLXgL3oK3PP4AUIJ2QA==",
        "encoding": "base64",
        "path": [
         "positions",
         "compressed_buffer"
        ]
       }
      ],
      "model_module": "k3d",
      "model_module_version": "2.7.3",
      "model_name": "ObjectModel",
      "state": {
       "_view_count": null,
       "_view_module": null,
       "_view_module_version": "",
       "_view_name": null,
       "color": 5010096,
       "colors": {
        "compressed_buffer": {},
        "dtype": "uint32",
        "shape": [
         0
        ]
       },
       "compression_level": 0,
       "id": 139655144437312,
       "mesh_detail": 2,
       "model_matrix": {
        "compressed_buffer": {},
        "dtype": "float32",
        "shape": [
         4,
         4
        ]
       },
       "name": "Points #12",
       "opacity": 1,
       "point_size": 0.24999999999999994,
       "positions": {
        "compressed_buffer": {},
        "dtype": "float32",
        "shape": [
         120,
         3
        ]
       },
       "shader": "3dSpecular",
       "type": "Points",
       "visible": true
      }
     },
     "7de7cd7640d44f23a9a44726a8ccabd1": {
      "model_module": "@jupyter-widgets/base",
      "model_module_version": "1.2.0",
      "model_name": "LayoutModel",
      "state": {}
     },
     "7e2d175e48a9432096cee4e6f3608dab": {
      "model_module": "k3d",
      "model_module_version": "2.7.3",
      "model_name": "PlotModel",
      "state": {
       "_backend_version": "2.7.3",
       "_dom_classes": [],
       "_view_count": null,
       "antialias": 3,
       "auto_rendering": true,
       "axes": [
        "x (nm)",
        "y (nm)",
        "z (nm)"
       ],
       "axes_helper": 1,
       "background_color": 16777215,
       "camera": [
        18.490256832264116,
        -27.735385248396174,
        5.849025683226428,
        0,
        0,
        4,
        0,
        0,
        1
       ],
       "camera_animation": [],
       "camera_auto_fit": true,
       "camera_fov": 60,
       "camera_no_pan": false,
       "camera_no_rotate": false,
       "camera_no_zoom": false,
       "clipping_planes": [],
       "colorbar_object_id": -1,
       "fps": 25,
       "fps_meter": false,
       "grid": [
        -1,
        -1,
        -1,
        1,
        1,
        1
       ],
       "grid_auto_fit": true,
       "grid_visible": true,
       "height": 512,
       "layout": "IPY_MODEL_0eeed38279fc4ee786bd6f32b0b1bc27",
       "lighting": 1.5,
       "menu_visibility": true,
       "mode": "view",
       "name": null,
       "object_ids": [
        139655253695840,
        139655184719248,
        139655184768784
       ],
       "rendering_steps": 1,
       "screenshot": "",
       "screenshot_scale": 2,
       "snapshot": "",
       "time": 0,
       "voxel_paint_color": 0
      }
     },
     "8005b0743e89432d9649bbb7240286f4": {
      "buffers": [
       {
        "data": "eNolw2dslWUYgOHbHyb8MDExxhhjjAqCgIDQQSmlpaUtXXSP073X6fuNs7/D3puy9yqjQNl7j7KLbMqQPQREjTuuqI3PiVdypX4MaZ0howtkfQLZMrcr2LpB/qdQKIu7Q2kPKJcVPaHqM6iRdb3A3huU1PqA8TmYgX3BEdjvNRxBr2MGdcIMfgMz5E35Fmbo25j938Ho/y5G2HsYA97HCP9Afog+8CP0iM6yC/qgruiR3dCjuqNF9UAb3BMtupfsjRbTB21IX9kPLTYIFRcsQ1DxoaihYaiEATIclTgQlRQhB6GSI1EpUXIwalg0KjVGDkGlxaLS41AZ8XIoKjMBlZUok1DZyaicFDkMlZuKykuT6Wi2DLT8TLSCLJmNVpiDVhSYi1ach1ZiQy/JRy8tQC8rRC8vksXoFSUYlYGlGFVlGNXlsgKzphKztgqzrvr/9TU47LWyDkdDPQ5lx6k1SIVTl4aGy9BxmQYuh4nb6ZBO3C4nHrdLuvF4PHi9Xrw+H75Ay8Ln92MNHy5HYI0YiTVylByNNUqOHoM1Zqwch3/sePzjJuAfP1FOwj9hMtbEKViTpsppWJOnY02ZgTV1ppyFNa0Ra/psrBlz5FysmfOwZsnG+fgaF+CbvRDfnEX45i7GN2+JXIp3/jK8C5bjXbhCrsS7aBWexavxLGnCs3SNXIt72Trcy9fjXtEsN+BauRHXqk24VrfgatqMs2kLzjVbca7dhmPddhzrd+Bo3onZvAtzwx6MjXsxNu3DaNmP3nIAffNBtC2H0LYeRtt2BLX9qDxGw47jNOw8gX1XK/bdJ6nfc0qepm7vGer2naV2/zlqD5yn5mAb1YcuyItUHb5E5ZHLVB69QsWxq1Qcv0b5ieuUtd6gtLWd0pM3KTl1i+LTtyk6c4eis3cpPHePgvP3yW97gK3tIbYLj8j74jG5F5+Qc+kp2ZefkXXlOZlXX5Bx7SXp178m7cYrUtu/IaX9W5JvfkfSre9JvP0DCXd+JP7Ln4i7+zOx934h5v6vRD/4jaiHvxP56A8iHv9J+JO/CHv6N6HP/iH4q38Jft5ByIsOQl92EPaqg/8ABrdj6Q==",
        "encoding": "base64",
        "path": [
         "color_map",
         "compressed_buffer"
        ]
       },
       {
        "data": "eNpjYFBwZMAADfZQhj1CzAGorsEBXR0AWAcDYA==",
        "encoding": "base64",
        "path": [
         "model_matrix",
         "compressed_buffer"
        ]
       },
       {
        "data": "eNqTk5USYWQUkZKVU1JUkJOQkFNQVFJVU9fU19dUV1PV1NY1dnMz1tXW1NU3sY2NtTXR1zUwsfIoKfGwMjEwsXAI6ukJcrAwMbd1j1m8OMbd1tzayTd91650Xydre7eQwosXC0Pc7J28o6pfvKiO8nZyC0ho+/+/LSHADQAa3CK1",
        "encoding": "base64",
        "path": [
         "voxels",
         "compressed_buffer"
        ]
       }
      ],
      "model_module": "k3d",
      "model_module_version": "2.7.3",
      "model_name": "ObjectModel",
      "state": {
       "_view_count": null,
       "_view_module": null,
       "_view_module_version": "",
       "_view_name": null,
       "color_map": {
        "compressed_buffer": {},
        "dtype": "uint32",
        "shape": [
         256
        ]
       },
       "compression_level": 0,
       "id": 139656145608912,
       "model_matrix": {
        "compressed_buffer": {},
        "dtype": "float32",
        "shape": [
         4,
         4
        ]
       },
       "name": "Voxels #2",
       "opacity": 1,
       "outlines": false,
       "outlines_color": 0,
       "type": "Voxels",
       "visible": true,
       "voxels": {
        "compressed_buffer": {},
        "dtype": "uint8",
        "shape": [
         12,
         1,
         10
        ]
       },
       "wireframe": false
      }
     },
     "802087f9813547949363069db70282a3": {
      "model_module": "@jupyter-widgets/base",
      "model_module_version": "1.2.0",
      "model_name": "LayoutModel",
      "state": {}
     },
     "81450dd040a04e299ba6beb9a838c142": {
      "model_module": "@jupyter-widgets/base",
      "model_module_version": "1.2.0",
      "model_name": "LayoutModel",
      "state": {}
     },
     "82656933aa15432ab8b3fd3d15c8a74d": {
      "buffers": [
       {
        "data": "eNolw2dslWUYgOHbHyb8MDExxhhjjAqCgIDQQSmlpaUtXXSP073X6fuNs7/D3puy9yqjQNl7j7KLbMqQPQREjTuuqI3PiVdypX4MaZ0howtkfQLZMrcr2LpB/qdQKIu7Q2kPKJcVPaHqM6iRdb3A3huU1PqA8TmYgX3BEdjvNRxBr2MGdcIMfgMz5E35Fmbo25j938Ho/y5G2HsYA97HCP9Afog+8CP0iM6yC/qgruiR3dCjuqNF9UAb3BMtupfsjRbTB21IX9kPLTYIFRcsQ1DxoaihYaiEATIclTgQlRQhB6GSI1EpUXIwalg0KjVGDkGlxaLS41AZ8XIoKjMBlZUok1DZyaicFDkMlZuKykuT6Wi2DLT8TLSCLJmNVpiDVhSYi1ach1ZiQy/JRy8tQC8rRC8vksXoFSUYlYGlGFVlGNXlsgKzphKztgqzrvr/9TU47LWyDkdDPQ5lx6k1SIVTl4aGy9BxmQYuh4nb6ZBO3C4nHrdLuvF4PHi9Xrw+H75Ay8Ln92MNHy5HYI0YiTVylByNNUqOHoM1Zqwch3/sePzjJuAfP1FOwj9hMtbEKViTpsppWJOnY02ZgTV1ppyFNa0Ra/psrBlz5FysmfOwZsnG+fgaF+CbvRDfnEX45i7GN2+JXIp3/jK8C5bjXbhCrsS7aBWexavxLGnCs3SNXIt72Trcy9fjXtEsN+BauRHXqk24VrfgatqMs2kLzjVbca7dhmPddhzrd+Bo3onZvAtzwx6MjXsxNu3DaNmP3nIAffNBtC2H0LYeRtt2BLX9qDxGw47jNOw8gX1XK/bdJ6nfc0qepm7vGer2naV2/zlqD5yn5mAb1YcuyItUHb5E5ZHLVB69QsWxq1Qcv0b5ieuUtd6gtLWd0pM3KTl1i+LTtyk6c4eis3cpPHePgvP3yW97gK3tIbYLj8j74jG5F5+Qc+kp2ZefkXXlOZlXX5Bx7SXp178m7cYrUtu/IaX9W5JvfkfSre9JvP0DCXd+JP7Ln4i7+zOx934h5v6vRD/4jaiHvxP56A8iHv9J+JO/CHv6N6HP/iH4q38Jft5ByIsOQl92EPaqg/8ABrdj6Q==",
        "encoding": "base64",
        "path": [
         "color_map",
         "compressed_buffer"
        ]
       },
       {
        "data": "eNpjYFBwZMAADfZQxn6EmANQXYMDujoAaIcD4A==",
        "encoding": "base64",
        "path": [
         "model_matrix",
         "compressed_buffer"
        ]
       },
       {
        "data": "eNoBeACH/+Lj5uz//+zm4+Le3+Di6Oji4N/e29rZ19HR19na29fV0826us3T1dfT0czDo6PDzNHT0MzGuIyMuMbM0MzIwK50dK7AyMzJw7mkXV2kucPJxb6zmUZGmbO+xcG6rI8vL4+susG+taaFGBiFprW+urCgegEBeqCwukO4VU0=",
        "encoding": "base64",
        "path": [
         "voxels",
         "compressed_buffer"
        ]
       }
      ],
      "model_module": "k3d",
      "model_module_version": "2.7.3",
      "model_name": "ObjectModel",
      "state": {
       "_view_count": null,
       "_view_module": null,
       "_view_module_version": "",
       "_view_name": null,
       "color_map": {
        "compressed_buffer": {},
        "dtype": "uint32",
        "shape": [
         256
        ]
       },
       "compression_level": 0,
       "id": 139656145611120,
       "model_matrix": {
        "compressed_buffer": {},
        "dtype": "float32",
        "shape": [
         4,
         4
        ]
       },
       "name": "Voxels #19",
       "opacity": 1,
       "outlines": false,
       "outlines_color": 0,
       "type": "Voxels",
       "visible": true,
       "voxels": {
        "compressed_buffer": {},
        "dtype": "uint8",
        "shape": [
         12,
         1,
         10
        ]
       },
       "wireframe": false
      }
     },
     "82ab8638499240cd8982469d6ee88d16": {
      "model_module": "@jupyter-widgets/controls",
      "model_module_version": "1.5.0",
      "model_name": "DescriptionStyleModel",
      "state": {
       "description_width": ""
      }
     },
     "86498eb72581471fa6d13663fa289336": {
      "model_module": "@jupyter-widgets/controls",
      "model_module_version": "1.5.0",
      "model_name": "DescriptionStyleModel",
      "state": {
       "description_width": ""
      }
     },
     "8ac9757cc966469db3aadf04a61c5959": {
      "buffers": [
       {
        "data": "eNolw2dslWUYgOHbHyb8MDExxhhjjAqCgIDQQSmlpaUtXXSP073X6fuNs7/D3puy9yqjQNl7j7KLbMqQPQREjTuuqI3PiVdypX4MaZ0howtkfQLZMrcr2LpB/qdQKIu7Q2kPKJcVPaHqM6iRdb3A3huU1PqA8TmYgX3BEdjvNRxBr2MGdcIMfgMz5E35Fmbo25j938Ho/y5G2HsYA97HCP9Afog+8CP0iM6yC/qgruiR3dCjuqNF9UAb3BMtupfsjRbTB21IX9kPLTYIFRcsQ1DxoaihYaiEATIclTgQlRQhB6GSI1EpUXIwalg0KjVGDkGlxaLS41AZ8XIoKjMBlZUok1DZyaicFDkMlZuKykuT6Wi2DLT8TLSCLJmNVpiDVhSYi1ach1ZiQy/JRy8tQC8rRC8vksXoFSUYlYGlGFVlGNXlsgKzphKztgqzrvr/9TU47LWyDkdDPQ5lx6k1SIVTl4aGy9BxmQYuh4nb6ZBO3C4nHrdLuvF4PHi9Xrw+H75Ay8Ln92MNHy5HYI0YiTVylByNNUqOHoM1Zqwch3/sePzjJuAfP1FOwj9hMtbEKViTpsppWJOnY02ZgTV1ppyFNa0Ra/psrBlz5FysmfOwZsnG+fgaF+CbvRDfnEX45i7GN2+JXIp3/jK8C5bjXbhCrsS7aBWexavxLGnCs3SNXIt72Trcy9fjXtEsN+BauRHXqk24VrfgatqMs2kLzjVbca7dhmPddhzrd+Bo3onZvAtzwx6MjXsxNu3DaNmP3nIAffNBtC2H0LYeRtt2BLX9qDxGw47jNOw8gX1XK/bdJ6nfc0qepm7vGer2naV2/zlqD5yn5mAb1YcuyItUHb5E5ZHLVB69QsWxq1Qcv0b5ieuUtd6gtLWd0pM3KTl1i+LTtyk6c4eis3cpPHePgvP3yW97gK3tIbYLj8j74jG5F5+Qc+kp2ZefkXXlOZlXX5Bx7SXp178m7cYrUtu/IaX9W5JvfkfSre9JvP0DCXd+JP7Ln4i7+zOx934h5v6vRD/4jaiHvxP56A8iHv9J+JO/CHv6N6HP/iH4q38Jft5ByIsOQl92EPaqg/8ABrdj6Q==",
        "encoding": "base64",
        "path": [
         "color_map",
         "compressed_buffer"
        ]
       },
       {
        "data": "eNpjYFBwZMAADfYQWuEAQswBqK7BAV0dAGzoBAE=",
        "encoding": "base64",
        "path": [
         "model_matrix",
         "compressed_buffer"
        ]
       },
       {
        "data": "eNoFwaEORlAAgNHPW/zFM5gX0Kgym6mKTTD9TlVuUW0007QbFEVl5gWMqYIk+M/hft7ve58b9uO8rvPYYVuXeV7WDaZxUGoYJ1B92zRtr6Cry6Io6w4qKdJUyAqkiIMgFhLyxHMcL8khC23DsMMMItf8/Uw3At/SNU23fP44vjcF",
        "encoding": "base64",
        "path": [
         "voxels",
         "compressed_buffer"
        ]
       }
      ],
      "model_module": "k3d",
      "model_module_version": "2.7.3",
      "model_name": "ObjectModel",
      "state": {
       "_view_count": null,
       "_view_module": null,
       "_view_module_version": "",
       "_view_name": null,
       "color_map": {
        "compressed_buffer": {},
        "dtype": "uint32",
        "shape": [
         256
        ]
       },
       "compression_level": 0,
       "id": 139656145569392,
       "model_matrix": {
        "compressed_buffer": {},
        "dtype": "float32",
        "shape": [
         4,
         4
        ]
       },
       "name": "Voxels #9",
       "opacity": 1,
       "outlines": false,
       "outlines_color": 0,
       "type": "Voxels",
       "visible": true,
       "voxels": {
        "compressed_buffer": {},
        "dtype": "uint8",
        "shape": [
         12,
         1,
         10
        ]
       },
       "wireframe": false
      }
     },
     "8b3535919eed4fe0842bd5f599552e7c": {
      "buffers": [
       {
        "data": "eNolw2dslWUYgOHbHyb8MDExxhhjjAqCgIDQQSmlpaUtXXSP073X6fuNs7/D3puy9yqjQNl7j7KLbMqQPQREjTuuqI3PiVdypX4MaZ0howtkfQLZMrcr2LpB/qdQKIu7Q2kPKJcVPaHqM6iRdb3A3huU1PqA8TmYgX3BEdjvNRxBr2MGdcIMfgMz5E35Fmbo25j938Ho/y5G2HsYA97HCP9Afog+8CP0iM6yC/qgruiR3dCjuqNF9UAb3BMtupfsjRbTB21IX9kPLTYIFRcsQ1DxoaihYaiEATIclTgQlRQhB6GSI1EpUXIwalg0KjVGDkGlxaLS41AZ8XIoKjMBlZUok1DZyaicFDkMlZuKykuT6Wi2DLT8TLSCLJmNVpiDVhSYi1ach1ZiQy/JRy8tQC8rRC8vksXoFSUYlYGlGFVlGNXlsgKzphKztgqzrvr/9TU47LWyDkdDPQ5lx6k1SIVTl4aGy9BxmQYuh4nb6ZBO3C4nHrdLuvF4PHi9Xrw+H75Ay8Ln92MNHy5HYI0YiTVylByNNUqOHoM1Zqwch3/sePzjJuAfP1FOwj9hMtbEKViTpsppWJOnY02ZgTV1ppyFNa0Ra/psrBlz5FysmfOwZsnG+fgaF+CbvRDfnEX45i7GN2+JXIp3/jK8C5bjXbhCrsS7aBWexavxLGnCs3SNXIt72Trcy9fjXtEsN+BauRHXqk24VrfgatqMs2kLzjVbca7dhmPddhzrd+Bo3onZvAtzwx6MjXsxNu3DaNmP3nIAffNBtC2H0LYeRtt2BLX9qDxGw47jNOw8gX1XK/bdJ6nfc0qepm7vGer2naV2/zlqD5yn5mAb1YcuyItUHb5E5ZHLVB69QsWxq1Qcv0b5ieuUtd6gtLWd0pM3KTl1i+LTtyk6c4eis3cpPHePgvP3yW97gK3tIbYLj8j74jG5F5+Qc+kp2ZefkXXlOZlXX5Bx7SXp178m7cYrUtu/IaX9W5JvfkfSre9JvP0DCXd+JP7Ln4i7+zOx934h5v6vRD/4jaiHvxP56A8iHv9J+JO/CHv6N6HP/iH4q38Jft5ByIsOQl92EPaqg/8ABrdj6Q==",
        "encoding": "base64",
        "path": [
         "color_map",
         "compressed_buffer"
        ]
       },
       {
        "data": "eNpjYFBwZMAADfYQOsEBIeYAVNfggK4OAGToA8E=",
        "encoding": "base64",
        "path": [
         "model_matrix",
         "compressed_buffer"
        ]
       },
       {
        "data": "eNoBeACH/wALBwMBAQMHCwAAGxoZGBgZGhsAACwtLi8vLi0sAAA8QERGRkRAPAAATVNZXV1ZU00AAF1mb3R0b2ZdAABueYSMjIR5bgAAfoyao6OajH4AAI+fr7q6r5+PAACfssTR0cSynwAAsMXa6OjaxbAAAMDY7///79jAAMCqK1k=",
        "encoding": "base64",
        "path": [
         "voxels",
         "compressed_buffer"
        ]
       }
      ],
      "model_module": "k3d",
      "model_module_version": "2.7.3",
      "model_name": "ObjectModel",
      "state": {
       "_view_count": null,
       "_view_module": null,
       "_view_module_version": "",
       "_view_name": null,
       "color_map": {
        "compressed_buffer": {},
        "dtype": "uint32",
        "shape": [
         256
        ]
       },
       "compression_level": 0,
       "id": 139655184960528,
       "model_matrix": {
        "compressed_buffer": {},
        "dtype": "float32",
        "shape": [
         4,
         4
        ]
       },
       "name": "Voxels #16",
       "opacity": 1,
       "outlines": false,
       "outlines_color": 0,
       "type": "Voxels",
       "visible": true,
       "voxels": {
        "compressed_buffer": {},
        "dtype": "uint8",
        "shape": [
         12,
         1,
         10
        ]
       },
       "wireframe": false
      }
     },
     "8be7a35b1ae1474e864ea09049757575": {
      "model_module": "@jupyter-widgets/base",
      "model_module_version": "1.2.0",
      "model_name": "LayoutModel",
      "state": {}
     },
     "9109d19309d94815bb266d051dd4e8e1": {
      "model_module": "@jupyter-widgets/base",
      "model_module_version": "1.2.0",
      "model_name": "LayoutModel",
      "state": {}
     },
     "95a7ffed36dd466e9d779f1d1a5a5f67": {
      "model_module": "@jupyter-widgets/controls",
      "model_module_version": "1.5.0",
      "model_name": "SelectionSliderModel",
      "state": {
       "_options_labels": [
        "-4.5",
        "-3.5",
        "-2.5",
        "-1.5",
        "-0.5",
        "0.5",
        "1.5",
        "2.5",
        "3.5",
        "4.5"
       ],
       "description": "y (nm)",
       "index": 7,
       "layout": "IPY_MODEL_0379944c68424d8ba21822330a1f47a4",
       "style": "IPY_MODEL_4505ec0f43b64eacaf7d9de7ccd1fb2b"
      }
     },
     "9701ef72fb994e338359b014c66027a8": {
      "buffers": [
       {
        "data": "eNrbUOTDAAAEsgFv",
        "encoding": "base64",
        "path": [
         "color_map",
         "compressed_buffer"
        ]
       },
       {
        "data": "eNpjYFBwZMAA2MQa7IGEPboYADy/AoA=",
        "encoding": "base64",
        "path": [
         "model_matrix",
         "compressed_buffer"
        ]
       },
       {
        "data": "eNpjYGBgBAIGBggNYcNZjEQCbHoZ4CYDABAsAFE=",
        "encoding": "base64",
        "path": [
         "voxels",
         "compressed_buffer"
        ]
       }
      ],
      "model_module": "k3d",
      "model_module_version": "2.7.3",
      "model_name": "ObjectModel",
      "state": {
       "_view_count": null,
       "_view_module": null,
       "_view_module_version": "",
       "_view_name": null,
       "color_map": {
        "compressed_buffer": {},
        "dtype": "uint32",
        "shape": []
       },
       "compression_level": 0,
       "id": 139655184791968,
       "model_matrix": {
        "compressed_buffer": {},
        "dtype": "float32",
        "shape": [
         4,
         4
        ]
       },
       "name": "Voxels #6",
       "opacity": 1,
       "outlines": false,
       "outlines_color": 0,
       "type": "Voxels",
       "visible": true,
       "voxels": {
        "compressed_buffer": {},
        "dtype": "uint8",
        "shape": [
         1,
         10,
         10
        ]
       },
       "wireframe": false
      }
     },
     "9d6c6a71b42044bcb2881b4cbeed6bb1": {
      "buffers": [
       {
        "data": "eNolw2dslWUYgOHbHyb8MDExxhhjjAqCgIDQQSmlpaUtXXSP073X6fuNs7/D3puy9yqjQNl7j7KLbMqQPQREjTuuqI3PiVdypX4MaZ0howtkfQLZMrcr2LpB/qdQKIu7Q2kPKJcVPaHqM6iRdb3A3huU1PqA8TmYgX3BEdjvNRxBr2MGdcIMfgMz5E35Fmbo25j938Ho/y5G2HsYA97HCP9Afog+8CP0iM6yC/qgruiR3dCjuqNF9UAb3BMtupfsjRbTB21IX9kPLTYIFRcsQ1DxoaihYaiEATIclTgQlRQhB6GSI1EpUXIwalg0KjVGDkGlxaLS41AZ8XIoKjMBlZUok1DZyaicFDkMlZuKykuT6Wi2DLT8TLSCLJmNVpiDVhSYi1ach1ZiQy/JRy8tQC8rRC8vksXoFSUYlYGlGFVlGNXlsgKzphKztgqzrvr/9TU47LWyDkdDPQ5lx6k1SIVTl4aGy9BxmQYuh4nb6ZBO3C4nHrdLuvF4PHi9Xrw+H75Ay8Ln92MNHy5HYI0YiTVylByNNUqOHoM1Zqwch3/sePzjJuAfP1FOwj9hMtbEKViTpsppWJOnY02ZgTV1ppyFNa0Ra/psrBlz5FysmfOwZsnG+fgaF+CbvRDfnEX45i7GN2+JXIp3/jK8C5bjXbhCrsS7aBWexavxLGnCs3SNXIt72Trcy9fjXtEsN+BauRHXqk24VrfgatqMs2kLzjVbca7dhmPddhzrd+Bo3onZvAtzwx6MjXsxNu3DaNmP3nIAffNBtC2H0LYeRtt2BLX9qDxGw47jNOw8gX1XK/bdJ6nfc0qepm7vGer2naV2/zlqD5yn5mAb1YcuyItUHb5E5ZHLVB69QsWxq1Qcv0b5ieuUtd6gtLWd0pM3KTl1i+LTtyk6c4eis3cpPHePgvP3yW97gK3tIbYLj8j74jG5F5+Qc+kp2ZefkXXlOZlXX5Bx7SXp178m7cYrUtu/IaX9W5JvfkfSre9JvP0DCXd+JP7Ln4i7+zOx934h5v6vRD/4jaiHvxP56A8iHv9J+JO/CHv6N6HP/iH4q38Jft5ByIsOQl92EPaqg/8ABrdj6Q==",
        "encoding": "base64",
        "path": [
         "color_map",
         "compressed_buffer"
        ]
       },
       {
        "data": "eNpjYFBwZMAADfYQeoIDQswBqK7BAV0dAGtIA/E=",
        "encoding": "base64",
        "path": [
         "model_matrix",
         "compressed_buffer"
        ]
       },
       {
        "data": "eNpjYGBgZmRkZgADSQkJSQhLHwggLFc3N1cIKzo2NhrCKiwpKYSw2nt62iGsuYsXz4WwNu/atRnCOnnx4kkI6/6LF/chrK///38FUgCd0Reh",
        "encoding": "base64",
        "path": [
         "voxels",
         "compressed_buffer"
        ]
       }
      ],
      "model_module": "k3d",
      "model_module_version": "2.7.3",
      "model_name": "ObjectModel",
      "state": {
       "_view_count": null,
       "_view_module": null,
       "_view_module_version": "",
       "_view_name": null,
       "color_map": {
        "compressed_buffer": {},
        "dtype": "uint32",
        "shape": [
         256
        ]
       },
       "compression_level": 0,
       "id": 139656145609248,
       "model_matrix": {
        "compressed_buffer": {},
        "dtype": "float32",
        "shape": [
         4,
         4
        ]
       },
       "name": "Voxels #15",
       "opacity": 1,
       "outlines": false,
       "outlines_color": 0,
       "type": "Voxels",
       "visible": true,
       "voxels": {
        "compressed_buffer": {},
        "dtype": "uint8",
        "shape": [
         12,
         1,
         10
        ]
       },
       "wireframe": false
      }
     },
     "a43dce7a15f14b20ae97a4a19594a9c1": {
      "buffers": [
       {
        "data": "eNolw2dslWUYgOHbHyb8MDExxhhjjAqCgIDQQSmlpaUtXXSP073X6fuNs7/D3puy9yqjQNl7j7KLbMqQPQREjTuuqI3PiVdypX4MaZ0howtkfQLZMrcr2LpB/qdQKIu7Q2kPKJcVPaHqM6iRdb3A3huU1PqA8TmYgX3BEdjvNRxBr2MGdcIMfgMz5E35Fmbo25j938Ho/y5G2HsYA97HCP9Afog+8CP0iM6yC/qgruiR3dCjuqNF9UAb3BMtupfsjRbTB21IX9kPLTYIFRcsQ1DxoaihYaiEATIclTgQlRQhB6GSI1EpUXIwalg0KjVGDkGlxaLS41AZ8XIoKjMBlZUok1DZyaicFDkMlZuKykuT6Wi2DLT8TLSCLJmNVpiDVhSYi1ach1ZiQy/JRy8tQC8rRC8vksXoFSUYlYGlGFVlGNXlsgKzphKztgqzrvr/9TU47LWyDkdDPQ5lx6k1SIVTl4aGy9BxmQYuh4nb6ZBO3C4nHrdLuvF4PHi9Xrw+H75Ay8Ln92MNHy5HYI0YiTVylByNNUqOHoM1Zqwch3/sePzjJuAfP1FOwj9hMtbEKViTpsppWJOnY02ZgTV1ppyFNa0Ra/psrBlz5FysmfOwZsnG+fgaF+CbvRDfnEX45i7GN2+JXIp3/jK8C5bjXbhCrsS7aBWexavxLGnCs3SNXIt72Trcy9fjXtEsN+BauRHXqk24VrfgatqMs2kLzjVbca7dhmPddhzrd+Bo3onZvAtzwx6MjXsxNu3DaNmP3nIAffNBtC2H0LYeRtt2BLX9qDxGw47jNOw8gX1XK/bdJ6nfc0qepm7vGer2naV2/zlqD5yn5mAb1YcuyItUHb5E5ZHLVB69QsWxq1Qcv0b5ieuUtd6gtLWd0pM3KTl1i+LTtyk6c4eis3cpPHePgvP3yW97gK3tIbYLj8j74jG5F5+Qc+kp2ZefkXXlOZlXX5Bx7SXp178m7cYrUtu/IaX9W5JvfkfSre9JvP0DCXd+JP7Ln4i7+zOx934h5v6vRD/4jaiHvxP56A8iHv9J+JO/CHv6N6HP/iH4q38Jft5ByIsOQl92EPaqg/8ABrdj6Q==",
        "encoding": "base64",
        "path": [
         "color_map",
         "compressed_buffer"
        ]
       },
       {
        "data": "eNpjYFBwZMAADfZQxn6EmANQXYMDujoAaIcD4A==",
        "encoding": "base64",
        "path": [
         "model_matrix",
         "compressed_buffer"
        ]
       },
       {
        "data": "eNoBeACH/+Lj5uz//+zm4+Le3+Di6Oji4N/e29rZ19HR19na29fV0826us3T1dfT0czDo6PDzNHT0MzGuIyMuMbM0MzIwK50dK7AyMzJw7mkXV2kucPJxb6zmUZGmbO+xcG6rI8vL4+susG+taaFGBiFprW+urCgegEBeqCwukO4VU0=",
        "encoding": "base64",
        "path": [
         "voxels",
         "compressed_buffer"
        ]
       }
      ],
      "model_module": "k3d",
      "model_module_version": "2.7.3",
      "model_name": "ObjectModel",
      "state": {
       "_view_count": null,
       "_view_module": null,
       "_view_module_version": "",
       "_view_name": null,
       "color_map": {
        "compressed_buffer": {},
        "dtype": "uint32",
        "shape": [
         256
        ]
       },
       "compression_level": 0,
       "id": 139655184742384,
       "model_matrix": {
        "compressed_buffer": {},
        "dtype": "float32",
        "shape": [
         4,
         4
        ]
       },
       "name": "Voxels #3",
       "opacity": 1,
       "outlines": false,
       "outlines_color": 0,
       "type": "Voxels",
       "visible": true,
       "voxels": {
        "compressed_buffer": {},
        "dtype": "uint8",
        "shape": [
         12,
         1,
         10
        ]
       },
       "wireframe": false
      }
     },
     "a6044f197c344887b542d9c86084d24e": {
      "buffers": [
       {
        "data": "eNrbUOTDAAAEsgFv",
        "encoding": "base64",
        "path": [
         "color_map",
         "compressed_buffer"
        ]
       },
       {
        "data": "eNpjYFBwZMAA2MQa7BkYJjigiwEARvADEQ==",
        "encoding": "base64",
        "path": [
         "model_matrix",
         "compressed_buffer"
        ]
       },
       {
        "data": "eNpjYGBgBAIGBggNYcNZjEQCbHoZ4CYDABAsAFE=",
        "encoding": "base64",
        "path": [
         "voxels",
         "compressed_buffer"
        ]
       }
      ],
      "model_module": "k3d",
      "model_module_version": "2.7.3",
      "model_name": "ObjectModel",
      "state": {
       "_view_count": null,
       "_view_module": null,
       "_view_module_version": "",
       "_view_name": null,
       "color_map": {
        "compressed_buffer": {},
        "dtype": "uint32",
        "shape": []
       },
       "compression_level": 0,
       "id": 139655150697872,
       "model_matrix": {
        "compressed_buffer": {},
        "dtype": "float32",
        "shape": [
         4,
         4
        ]
       },
       "name": "Voxels #2",
       "opacity": 1,
       "outlines": false,
       "outlines_color": 0,
       "type": "Voxels",
       "visible": true,
       "voxels": {
        "compressed_buffer": {},
        "dtype": "uint8",
        "shape": [
         1,
         10,
         10
        ]
       },
       "wireframe": false
      }
     },
     "aae3556822484ddb80f917944c2d7fc6": {
      "buffers": [
       {
        "data": "eNolw2dslWUYgOHbHyb8MDExxhhjjAqCgIDQQSmlpaUtXXSP073X6fuNs7/D3puy9yqjQNl7j7KLbMqQPQREjTuuqI3PiVdypX4MaZ0howtkfQLZMrcr2LpB/qdQKIu7Q2kPKJcVPaHqM6iRdb3A3huU1PqA8TmYgX3BEdjvNRxBr2MGdcIMfgMz5E35Fmbo25j938Ho/y5G2HsYA97HCP9Afog+8CP0iM6yC/qgruiR3dCjuqNF9UAb3BMtupfsjRbTB21IX9kPLTYIFRcsQ1DxoaihYaiEATIclTgQlRQhB6GSI1EpUXIwalg0KjVGDkGlxaLS41AZ8XIoKjMBlZUok1DZyaicFDkMlZuKykuT6Wi2DLT8TLSCLJmNVpiDVhSYi1ach1ZiQy/JRy8tQC8rRC8vksXoFSUYlYGlGFVlGNXlsgKzphKztgqzrvr/9TU47LWyDkdDPQ5lx6k1SIVTl4aGy9BxmQYuh4nb6ZBO3C4nHrdLuvF4PHi9Xrw+H75Ay8Ln92MNHy5HYI0YiTVylByNNUqOHoM1Zqwch3/sePzjJuAfP1FOwj9hMtbEKViTpsppWJOnY02ZgTV1ppyFNa0Ra/psrBlz5FysmfOwZsnG+fgaF+CbvRDfnEX45i7GN2+JXIp3/jK8C5bjXbhCrsS7aBWexavxLGnCs3SNXIt72Trcy9fjXtEsN+BauRHXqk24VrfgatqMs2kLzjVbca7dhmPddhzrd+Bo3onZvAtzwx6MjXsxNu3DaNmP3nIAffNBtC2H0LYeRtt2BLX9qDxGw47jNOw8gX1XK/bdJ6nfc0qepm7vGer2naV2/zlqD5yn5mAb1YcuyItUHb5E5ZHLVB69QsWxq1Qcv0b5ieuUtd6gtLWd0pM3KTl1i+LTtyk6c4eis3cpPHePgvP3yW97gK3tIbYLj8j74jG5F5+Qc+kp2ZefkXXlOZlXX5Bx7SXp178m7cYrUtu/IaX9W5JvfkfSre9JvP0DCXd+JP7Ln4i7+zOx934h5v6vRD/4jaiHvxP56A8iHv9J+JO/CHv6N6HP/iH4q38Jft5ByIsOQl92EPaqg/8ABrdj6Q==",
        "encoding": "base64",
        "path": [
         "color_map",
         "compressed_buffer"
        ]
       },
       {
        "data": "eNpjYFBwZMAADfYQOuEAQswBqK7BAV0dAHVoBEE=",
        "encoding": "base64",
        "path": [
         "model_matrix",
         "compressed_buffer"
        ]
       },
       {
        "data": "eNoBeACH/wD1+f3///359QAA5ebn6Ojn5uUAANTT0tHR0tPUAADEwLy6urzAxAAAs62no6OnrbMAAKOakYyMkZqjAACSh3x0dHyHkgAAgnRmXV1mdIIAAHFhUUZGUWFxAABhTjwvLzxOYQAAUDsmGBgmO1AAAEAoEQEBEShAAPGBNKk=",
        "encoding": "base64",
        "path": [
         "voxels",
         "compressed_buffer"
        ]
       }
      ],
      "model_module": "k3d",
      "model_module_version": "2.7.3",
      "model_name": "ObjectModel",
      "state": {
       "_view_count": null,
       "_view_module": null,
       "_view_module_version": "",
       "_view_name": null,
       "color_map": {
        "compressed_buffer": {},
        "dtype": "uint32",
        "shape": [
         256
        ]
       },
       "compression_level": 0,
       "id": 139655184742240,
       "model_matrix": {
        "compressed_buffer": {},
        "dtype": "float32",
        "shape": [
         4,
         4
        ]
       },
       "name": "Voxels #6",
       "opacity": 1,
       "outlines": false,
       "outlines_color": 0,
       "type": "Voxels",
       "visible": true,
       "voxels": {
        "compressed_buffer": {},
        "dtype": "uint8",
        "shape": [
         12,
         1,
         10
        ]
       },
       "wireframe": false
      }
     },
     "ad7949e2277e40f0bc080d0049682fee": {
      "model_module": "@jupyter-widgets/base",
      "model_module_version": "1.2.0",
      "model_name": "LayoutModel",
      "state": {}
     },
     "ae1ca71c3c244249bcabf72c4b646d2d": {
      "model_module": "k3d",
      "model_module_version": "2.7.3",
      "model_name": "PlotModel",
      "state": {
       "_backend_version": "2.7.3",
       "_dom_classes": [],
       "_view_count": null,
       "antialias": 3,
       "auto_rendering": true,
       "axes": [
        "x (nm)",
        "y (nm)",
        "z (nm)"
       ],
       "axes_helper": 1,
       "background_color": 16777215,
       "camera": [
        18.490256832264116,
        -27.735385248396174,
        5.849025683226428,
        0,
        0,
        4,
        0,
        0,
        1
       ],
       "camera_animation": [],
       "camera_auto_fit": true,
       "camera_fov": 60,
       "camera_no_pan": false,
       "camera_no_rotate": false,
       "camera_no_zoom": false,
       "clipping_planes": [],
       "colorbar_object_id": -1,
       "fps": 25,
       "fps_meter": false,
       "grid": [
        -1,
        -1,
        -1,
        1,
        1,
        1
       ],
       "grid_auto_fit": true,
       "grid_visible": true,
       "height": 512,
       "layout": "IPY_MODEL_cbff609183474d8a8139672c53081548",
       "lighting": 1.5,
       "menu_visibility": true,
       "mode": "view",
       "name": null,
       "object_ids": [
        139655184792496,
        139655184791680
       ],
       "rendering_steps": 1,
       "screenshot": "",
       "screenshot_scale": 2,
       "snapshot": "",
       "time": 0,
       "voxel_paint_color": 0
      }
     },
     "ae57d5eafbc94b7dab1d011b3336c92f": {
      "model_module": "@jupyter-widgets/output",
      "model_module_version": "1.0.0",
      "model_name": "OutputModel",
      "state": {
       "layout": "IPY_MODEL_c1ddec1b046043b18d925610de582d89",
       "outputs": [
        {
         "data": {
          "application/vnd.jupyter.widget-view+json": {
           "model_id": "ae1ca71c3c244249bcabf72c4b646d2d",
           "version_major": 2,
           "version_minor": 0
          },
          "text/plain": "Plot(antialias=3, axes=['x', 'y', 'z'], axes_helper=1.0, background_color=16777215, camera=[2, -3, 0.2, 0.0, 0…"
         },
         "metadata": {},
         "output_type": "display_data"
        }
       ]
      }
     },
     "af56ea25590c418ba2f84e9f9ac9e358": {
      "model_module": "@jupyter-widgets/controls",
      "model_module_version": "1.5.0",
      "model_name": "VBoxModel",
      "state": {
       "_dom_classes": [
        "widget-interact"
       ],
       "children": [
        "IPY_MODEL_088dff4a574e4be2bc490255ecfc24a1",
        "IPY_MODEL_c479799ea712440a9c0e548d1061a4ce",
        "IPY_MODEL_46f67782b4564bc7a34fc5f27a864d25"
       ],
       "layout": "IPY_MODEL_edfd498a8c5b4e3b96e51eba2fa45d20"
      }
     },
     "b1da8eaa30354c8981614ad791c08278": {
      "buffers": [
       {
        "data": "eNrbUOTDAAAEsgFv",
        "encoding": "base64",
        "path": [
         "color_map",
         "compressed_buffer"
        ]
       },
       {
        "data": "eNpjYFBwZMAA2MQa7BkYLjigiwEAS3ADUQ==",
        "encoding": "base64",
        "path": [
         "model_matrix",
         "compressed_buffer"
        ]
       },
       {
        "data": "eNpjYGBgBAIGBggNYcNZjEQCbHoZ4CYDABAsAFE=",
        "encoding": "base64",
        "path": [
         "voxels",
         "compressed_buffer"
        ]
       }
      ],
      "model_module": "k3d",
      "model_module_version": "2.7.3",
      "model_name": "ObjectModel",
      "state": {
       "_view_count": null,
       "_view_module": null,
       "_view_module_version": "",
       "_view_name": null,
       "color_map": {
        "compressed_buffer": {},
        "dtype": "uint32",
        "shape": []
       },
       "compression_level": 0,
       "id": 139655150348896,
       "model_matrix": {
        "compressed_buffer": {},
        "dtype": "float32",
        "shape": [
         4,
         4
        ]
       },
       "name": "Voxels #12",
       "opacity": 1,
       "outlines": false,
       "outlines_color": 0,
       "type": "Voxels",
       "visible": true,
       "voxels": {
        "compressed_buffer": {},
        "dtype": "uint8",
        "shape": [
         1,
         10,
         10
        ]
       },
       "wireframe": false
      }
     },
     "b635dd473e43492786170ffefeec0f33": {
      "model_module": "@jupyter-widgets/controls",
      "model_module_version": "1.5.0",
      "model_name": "VBoxModel",
      "state": {
       "_dom_classes": [
        "widget-interact"
       ],
       "children": [
        "IPY_MODEL_29c6547549634b8fa3b72b81caf3776d",
        "IPY_MODEL_f3d765efaceb4beabc1b069bcf3189fb",
        "IPY_MODEL_c8a45bca8f78466d8ec0a9de8a7cb22e"
       ],
       "layout": "IPY_MODEL_6756682b765b46958c77b69c0a534cde"
      }
     },
     "b7e656b5a0694612b9b6c622ba9f7d70": {
      "buffers": [
       {
        "data": "eNrzU2Jg8APiEFUITtKG4HwLKTDOjQ0H45I5S8E44sRdMHa6/RmMTR7/BWOLF//A2G/UvFHzRs2jm3kASb8/MA==",
        "encoding": "base64",
        "path": [
         "colors",
         "compressed_buffer"
        ]
       },
       {
        "data": "eNpjYGiwZ8AAxIsBAF7EAv0=",
        "encoding": "base64",
        "path": [
         "model_matrix",
         "compressed_buffer"
        ]
       },
       {
        "data": "eNpN0LFtwzAQheEL0qhOgIClJhFPbZAhMkAab+DSJRdImcZpOEF8I3COVNwgkQid7y8MPMA8fXhP5Gzf1+tNxG5Pf2q/H18jn54f7fL6OfLLWxm/PW9vf0TOnhfP2//Z32y36rfbN9W/ub1Vt+TuClyBK3AFrsAVuAJX4ApcoZvhZrgZboab4Wa4GW6Gm+HmcA2uwTW4BtfgGlyDa3ANrsGdNdxZw5013FnDHXnxHO64Vb8Nd9ZwRx7ug7zf3T27u2d39+zukRfP7h636rfu7tndIx99C/oW9C3oW9C3oG9B34K+BX0L+ha4FW6FW+FWuBVuhVvhVrgVbsXODTs37Nywc8PODTs37Nywc8PODTs39O3o29G3o29H346+HX07+nb07ejb4U5ruNMa7rSGO63hjrx4Dnfcqt+GO63hjny4CW6Cm+AmuAlugpvgJrgJblr/ATVcE/8=",
        "encoding": "base64",
        "path": [
         "origins",
         "compressed_buffer"
        ]
       },
       {
        "data": "eNpN0j1oU3EUBfBXB4NCUaJLxc2h1gwJqCkuiQg6BRchNVMGk0ZwSAxoQkGUthA0IdBBatoQSoeIEfL/P2mXUvMUB0GCOugQRPygY4dCFz869J3gud7hwYV3zv09Ls9xHnidTqeXLhyKlAJlzzz51KudC0VmMjnv5+fDXrSZjrQ/xDw81541Isg6fqd++j3mGGf/fZwZvxtn198Z504/G6fl/HPvX5wM0z1yJROm+zH4OEz3zY9+mC66dDHTRYYuunSxky4s5RrlGuUa5RrlWuVa5RrlGuUa5Rrn/52turNVd7bqzlbd2ao7W3Vnq+5s1Z2turOl2zqaFffd87q4s1Mb4p4YdVy6d/shly5musjQRZcudtKFRTd/fUXcqy/finuncMClW718Vtz2fEFczHSRoYsuXeykC4subkX3Zm74zUN3Yn1c3L170+Leai2Ji5kuMnTRpYuddGHR7f76K+6ZnZPifv2dEDf6pSbu3J9NcTHTRYYuunSxky4surmt4y7d7fIFcRdiRXHzpba4y8lv4mKmiwxddOliJ11YdPFv0O2OJMVdfV0V9+mxV+KmBs4LupjpIkMXXbrYSRcW3craJXELj4ri7t1oifvdDMTNBoLiYqaLDF106WInXVh0F5spcRsPK+ImD7rijiV2xb19/pS4mOkiQxdduthJF9Y+1jHf0Q==",
        "encoding": "base64",
        "path": [
         "vectors",
         "compressed_buffer"
        ]
       }
      ],
      "model_module": "k3d",
      "model_module_version": "2.7.3",
      "model_name": "ObjectModel",
      "state": {
       "_view_count": null,
       "_view_module": null,
       "_view_module_version": "",
       "_view_name": null,
       "colors": {
        "compressed_buffer": {},
        "dtype": "uint32",
        "shape": [
         120,
         2
        ]
       },
       "compression_level": 0,
       "head_color": 255,
       "head_size": 1,
       "id": 139655144437840,
       "label_size": 1,
       "labels": [],
       "line_width": 0.01,
       "model_matrix": {
        "compressed_buffer": {},
        "dtype": "float32",
        "shape": [
         4,
         4
        ]
       },
       "name": "Vectors #12",
       "origin_color": 255,
       "origins": {
        "compressed_buffer": {},
        "dtype": "float32",
        "shape": [
         120,
         3
        ]
       },
       "type": "Vectors",
       "use_head": true,
       "vectors": {
        "compressed_buffer": {},
        "dtype": "float32",
        "shape": [
         120,
         3
        ]
       },
       "visible": true
      }
     },
     "bb0d10159ea4498db639d471690cc377": {
      "model_module": "k3d",
      "model_module_version": "2.7.3",
      "model_name": "PlotModel",
      "state": {
       "_backend_version": "2.7.3",
       "_dom_classes": [],
       "_view_count": null,
       "antialias": 3,
       "auto_rendering": true,
       "axes": [
        "x (nm)",
        "y (nm)",
        "z (nm)"
       ],
       "axes_helper": 1,
       "background_color": 16777215,
       "camera": [
        19.337528745669843,
        -29.006293118504765,
        1.9337528745669808,
        0,
        0,
        0,
        0,
        0,
        1
       ],
       "camera_animation": [],
       "camera_auto_fit": false,
       "camera_fov": 60,
       "camera_no_pan": false,
       "camera_no_rotate": false,
       "camera_no_zoom": false,
       "clipping_planes": [],
       "colorbar_object_id": -1,
       "fps": 25,
       "fps_meter": false,
       "grid": [
        -1,
        -1,
        -1,
        1,
        1,
        1
       ],
       "grid_auto_fit": false,
       "grid_visible": true,
       "height": 512,
       "layout": "IPY_MODEL_7de7cd7640d44f23a9a44726a8ccabd1",
       "lighting": 1.5,
       "menu_visibility": true,
       "mode": "view",
       "name": null,
       "object_ids": [
        139656145609728,
        139655184790288
       ],
       "rendering_steps": 1,
       "screenshot": "",
       "screenshot_scale": 2,
       "snapshot": "",
       "time": 0,
       "voxel_paint_color": 0
      }
     },
     "bf0abf4b75fa4719a646a3969ea88fc5": {
      "model_module": "@jupyter-widgets/controls",
      "model_module_version": "1.5.0",
      "model_name": "SelectionSliderModel",
      "state": {
       "_options_labels": [
        "-4.5",
        "-3.5",
        "-2.5",
        "-1.5",
        "-0.5",
        "0.5",
        "1.5",
        "2.5",
        "3.5",
        "4.5"
       ],
       "description": "y (nm)",
       "index": 5,
       "layout": "IPY_MODEL_ce913e5d26624d2a8345569512ec0b03",
       "style": "IPY_MODEL_86498eb72581471fa6d13663fa289336"
      }
     },
     "bf6131624cb74915981eb98c5dd6cc89": {
      "buffers": [
       {
        "data": "eNrbUOTDAAAEsgFv",
        "encoding": "base64",
        "path": [
         "color_map",
         "compressed_buffer"
        ]
       },
       {
        "data": "eNpjYFBwZMAA2MQcgGINDqhiDfYAQHoCww==",
        "encoding": "base64",
        "path": [
         "model_matrix",
         "compressed_buffer"
        ]
       },
       {
        "data": "eNpjBAAAAgAC",
        "encoding": "base64",
        "path": [
         "voxels",
         "compressed_buffer"
        ]
       }
      ],
      "model_module": "k3d",
      "model_module_version": "2.7.3",
      "model_name": "ObjectModel",
      "state": {
       "_view_count": null,
       "_view_module": null,
       "_view_module_version": "",
       "_view_name": null,
       "color_map": {
        "compressed_buffer": {},
        "dtype": "uint32",
        "shape": []
       },
       "compression_level": 0,
       "id": 139655253695840,
       "model_matrix": {
        "compressed_buffer": {},
        "dtype": "float32",
        "shape": [
         4,
         4
        ]
       },
       "name": "Voxels #1",
       "opacity": 0.025,
       "outlines": false,
       "outlines_color": 0,
       "type": "Voxels",
       "visible": true,
       "voxels": {
        "compressed_buffer": {},
        "dtype": "uint8",
        "shape": [
         1,
         1,
         1
        ]
       },
       "wireframe": false
      }
     },
     "c05482b09bd14c4db57897ea372cba97": {
      "buffers": [
       {
        "data": "eNolw2dslWUYgOHbHyb8MDExxhhjjAqCgIDQQSmlpaUtXXSP073X6fuNs7/D3puy9yqjQNl7j7KLbMqQPQREjTuuqI3PiVdypX4MaZ0howtkfQLZMrcr2LpB/qdQKIu7Q2kPKJcVPaHqM6iRdb3A3huU1PqA8TmYgX3BEdjvNRxBr2MGdcIMfgMz5E35Fmbo25j938Ho/y5G2HsYA97HCP9Afog+8CP0iM6yC/qgruiR3dCjuqNF9UAb3BMtupfsjRbTB21IX9kPLTYIFRcsQ1DxoaihYaiEATIclTgQlRQhB6GSI1EpUXIwalg0KjVGDkGlxaLS41AZ8XIoKjMBlZUok1DZyaicFDkMlZuKykuT6Wi2DLT8TLSCLJmNVpiDVhSYi1ach1ZiQy/JRy8tQC8rRC8vksXoFSUYlYGlGFVlGNXlsgKzphKztgqzrvr/9TU47LWyDkdDPQ5lx6k1SIVTl4aGy9BxmQYuh4nb6ZBO3C4nHrdLuvF4PHi9Xrw+H75Ay8Ln92MNHy5HYI0YiTVylByNNUqOHoM1Zqwch3/sePzjJuAfP1FOwj9hMtbEKViTpsppWJOnY02ZgTV1ppyFNa0Ra/psrBlz5FysmfOwZsnG+fgaF+CbvRDfnEX45i7GN2+JXIp3/jK8C5bjXbhCrsS7aBWexavxLGnCs3SNXIt72Trcy9fjXtEsN+BauRHXqk24VrfgatqMs2kLzjVbca7dhmPddhzrd+Bo3onZvAtzwx6MjXsxNu3DaNmP3nIAffNBtC2H0LYeRtt2BLX9qDxGw47jNOw8gX1XK/bdJ6nfc0qepm7vGer2naV2/zlqD5yn5mAb1YcuyItUHb5E5ZHLVB69QsWxq1Qcv0b5ieuUtd6gtLWd0pM3KTl1i+LTtyk6c4eis3cpPHePgvP3yW97gK3tIbYLj8j74jG5F5+Qc+kp2ZefkXXlOZlXX5Bx7SXp178m7cYrUtu/IaX9W5JvfkfSre9JvP0DCXd+JP7Ln4i7+zOx934h5v6vRD/4jaiHvxP56A8iHv9J+JO/CHv6N6HP/iH4q38Jft5ByIsOQl92EPaqg/8ABrdj6Q==",
        "encoding": "base64",
        "path": [
         "color_map",
         "compressed_buffer"
        ]
       },
       {
        "data": "eNpjYFBwZMAADfYQ+oA9QswBqK7BAV0dAHGHBCA=",
        "encoding": "base64",
        "path": [
         "model_matrix",
         "compressed_buffer"
        ]
       },
       {
        "data": "eNoBeACH/xgVEQoBAQoRFRggHx0bGBgbHR8gJygqLC8vLCooJy8yNj1GRj02Mi83PENPXV1PQzw3P0VPYHR0YE9FP0ZPXHGMjHFcT0ZOWGmCo6OCaVhOVmJ1lLq6lHViVl1sgqXR0aWCbF1ldY626Oi2jnVlbX+bx///x5t/bRmxKwE=",
        "encoding": "base64",
        "path": [
         "voxels",
         "compressed_buffer"
        ]
       }
      ],
      "model_module": "k3d",
      "model_module_version": "2.7.3",
      "model_name": "ObjectModel",
      "state": {
       "_view_count": null,
       "_view_module": null,
       "_view_module_version": "",
       "_view_name": null,
       "color_map": {
        "compressed_buffer": {},
        "dtype": "uint32",
        "shape": [
         256
        ]
       },
       "compression_level": 0,
       "id": 139656145468480,
       "model_matrix": {
        "compressed_buffer": {},
        "dtype": "float32",
        "shape": [
         4,
         4
        ]
       },
       "name": "Voxels #12",
       "opacity": 1,
       "outlines": false,
       "outlines_color": 0,
       "type": "Voxels",
       "visible": true,
       "voxels": {
        "compressed_buffer": {},
        "dtype": "uint8",
        "shape": [
         12,
         1,
         10
        ]
       },
       "wireframe": false
      }
     },
     "c1570803042b45f7a96ee7451c0b5b81": {
      "buffers": [
       {
        "data": "eNolw2dslWUYgOHbHyb8MDExxhhjjAqCgIDQQSmlpaUtXXSP073X6fuNs7/D3puy9yqjQNl7j7KLbMqQPQREjTuuqI3PiVdypX4MaZ0howtkfQLZMrcr2LpB/qdQKIu7Q2kPKJcVPaHqM6iRdb3A3huU1PqA8TmYgX3BEdjvNRxBr2MGdcIMfgMz5E35Fmbo25j938Ho/y5G2HsYA97HCP9Afog+8CP0iM6yC/qgruiR3dCjuqNF9UAb3BMtupfsjRbTB21IX9kPLTYIFRcsQ1DxoaihYaiEATIclTgQlRQhB6GSI1EpUXIwalg0KjVGDkGlxaLS41AZ8XIoKjMBlZUok1DZyaicFDkMlZuKykuT6Wi2DLT8TLSCLJmNVpiDVhSYi1ach1ZiQy/JRy8tQC8rRC8vksXoFSUYlYGlGFVlGNXlsgKzphKztgqzrvr/9TU47LWyDkdDPQ5lx6k1SIVTl4aGy9BxmQYuh4nb6ZBO3C4nHrdLuvF4PHi9Xrw+H75Ay8Ln92MNHy5HYI0YiTVylByNNUqOHoM1Zqwch3/sePzjJuAfP1FOwj9hMtbEKViTpsppWJOnY02ZgTV1ppyFNa0Ra/psrBlz5FysmfOwZsnG+fgaF+CbvRDfnEX45i7GN2+JXIp3/jK8C5bjXbhCrsS7aBWexavxLGnCs3SNXIt72Trcy9fjXtEsN+BauRHXqk24VrfgatqMs2kLzjVbca7dhmPddhzrd+Bo3onZvAtzwx6MjXsxNu3DaNmP3nIAffNBtC2H0LYeRtt2BLX9qDxGw47jNOw8gX1XK/bdJ6nfc0qepm7vGer2naV2/zlqD5yn5mAb1YcuyItUHb5E5ZHLVB69QsWxq1Qcv0b5ieuUtd6gtLWd0pM3KTl1i+LTtyk6c4eis3cpPHePgvP3yW97gK3tIbYLj8j74jG5F5+Qc+kp2ZefkXXlOZlXX5Bx7SXp178m7cYrUtu/IaX9W5JvfkfSre9JvP0DCXd+JP7Ln4i7+zOx934h5v6vRD/4jaiHvxP56A8iHv9J+JO/CHv6N6HP/iH4q38Jft5ByIsOQl92EPaqg/8ABrdj6Q==",
        "encoding": "base64",
        "path": [
         "color_map",
         "compressed_buffer"
        ]
       },
       {
        "data": "eNpjYFBwZMAADfYQ+sB+hJgDUF2DA7o6AIIHBKA=",
        "encoding": "base64",
        "path": [
         "model_matrix",
         "compressed_buffer"
        ]
       },
       {
        "data": "eNoBeACH/+jr7/b///bv6+jg4ePl6Ojl4+Hg2djW1NHR1NbY2dHOysO6usPKztHJxL2xo6OxvcTJwbuxoIyMoLG7wbqxpI90dI+ksbqyqJd+XV1+l6iyqp6LbEZGbIueqqOUflsvL1t+lKObi3JKGBhKcoubk4FlOQEBOWWBk0TjTQE=",
        "encoding": "base64",
        "path": [
         "voxels",
         "compressed_buffer"
        ]
       }
      ],
      "model_module": "k3d",
      "model_module_version": "2.7.3",
      "model_name": "ObjectModel",
      "state": {
       "_view_count": null,
       "_view_module": null,
       "_view_module_version": "",
       "_view_name": null,
       "color_map": {
        "compressed_buffer": {},
        "dtype": "uint32",
        "shape": [
         256
        ]
       },
       "compression_level": 0,
       "id": 139655184660944,
       "model_matrix": {
        "compressed_buffer": {},
        "dtype": "float32",
        "shape": [
         4,
         4
        ]
       },
       "name": "Voxels #20",
       "opacity": 1,
       "outlines": false,
       "outlines_color": 0,
       "type": "Voxels",
       "visible": true,
       "voxels": {
        "compressed_buffer": {},
        "dtype": "uint8",
        "shape": [
         12,
         1,
         10
        ]
       },
       "wireframe": false
      }
     },
     "c1ddec1b046043b18d925610de582d89": {
      "model_module": "@jupyter-widgets/base",
      "model_module_version": "1.2.0",
      "model_name": "LayoutModel",
      "state": {}
     },
     "c479799ea712440a9c0e548d1061a4ce": {
      "model_module": "@jupyter-widgets/controls",
      "model_module_version": "1.5.0",
      "model_name": "RadioButtonsModel",
      "state": {
       "_options_labels": [
        "x",
        "y",
        "z"
       ],
       "description": "something",
       "index": 2,
       "layout": "IPY_MODEL_802087f9813547949363069db70282a3",
       "style": "IPY_MODEL_6d23cdc10eee4c9285e1096c57938a38"
      }
     },
     "c494d0eb355a4ee1b140d6645bc1657b": {
      "buffers": [
       {
        "data": "eNolw2dslWUYgOHbHyb8MDExxhhjjAqCgIDQQSmlpaUtXXSP073X6fuNs7/D3puy9yqjQNl7j7KLbMqQPQREjTuuqI3PiVdypX4MaZ0howtkfQLZMrcr2LpB/qdQKIu7Q2kPKJcVPaHqM6iRdb3A3huU1PqA8TmYgX3BEdjvNRxBr2MGdcIMfgMz5E35Fmbo25j938Ho/y5G2HsYA97HCP9Afog+8CP0iM6yC/qgruiR3dCjuqNF9UAb3BMtupfsjRbTB21IX9kPLTYIFRcsQ1DxoaihYaiEATIclTgQlRQhB6GSI1EpUXIwalg0KjVGDkGlxaLS41AZ8XIoKjMBlZUok1DZyaicFDkMlZuKykuT6Wi2DLT8TLSCLJmNVpiDVhSYi1ach1ZiQy/JRy8tQC8rRC8vksXoFSUYlYGlGFVlGNXlsgKzphKztgqzrvr/9TU47LWyDkdDPQ5lx6k1SIVTl4aGy9BxmQYuh4nb6ZBO3C4nHrdLuvF4PHi9Xrw+H75Ay8Ln92MNHy5HYI0YiTVylByNNUqOHoM1Zqwch3/sePzjJuAfP1FOwj9hMtbEKViTpsppWJOnY02ZgTV1ppyFNa0Ra/psrBlz5FysmfOwZsnG+fgaF+CbvRDfnEX45i7GN2+JXIp3/jK8C5bjXbhCrsS7aBWexavxLGnCs3SNXIt72Trcy9fjXtEsN+BauRHXqk24VrfgatqMs2kLzjVbca7dhmPddhzrd+Bo3onZvAtzwx6MjXsxNu3DaNmP3nIAffNBtC2H0LYeRtt2BLX9qDxGw47jNOw8gX1XK/bdJ6nfc0qepm7vGer2naV2/zlqD5yn5mAb1YcuyItUHb5E5ZHLVB69QsWxq1Qcv0b5ieuUtd6gtLWd0pM3KTl1i+LTtyk6c4eis3cpPHePgvP3yW97gK3tIbYLj8j74jG5F5+Qc+kp2ZefkXXlOZlXX5Bx7SXp178m7cYrUtu/IaX9W5JvfkfSre9JvP0DCXd+JP7Ln4i7+zOx934h5v6vRD/4jaiHvxP56A8iHv9J+JO/CHv6N6HP/iH4q38Jft5ByIsOQl92EPaqg/8ABrdj6Q==",
        "encoding": "base64",
        "path": [
         "color_map",
         "compressed_buffer"
        ]
       },
       {
        "data": "eNpjYFBwZMAADfZQxn6EmANQXYMDujoAaIcD4A==",
        "encoding": "base64",
        "path": [
         "model_matrix",
         "compressed_buffer"
        ]
       },
       {
        "data": "eNoBeACH/+Lj5uz//+zm4+Le3+Di6Oji4N/e29rZ19HR19na29fV0826us3T1dfT0czDo6PDzNHT0MzGuIyMuMbM0MzIwK50dK7AyMzJw7mkXV2kucPJxb6zmUZGmbO+xcG6rI8vL4+susG+taaFGBiFprW+urCgegEBeqCwukO4VU0=",
        "encoding": "base64",
        "path": [
         "voxels",
         "compressed_buffer"
        ]
       }
      ],
      "model_module": "k3d",
      "model_module_version": "2.7.3",
      "model_name": "ObjectModel",
      "state": {
       "_view_count": null,
       "_view_module": null,
       "_view_module_version": "",
       "_view_name": null,
       "color_map": {
        "compressed_buffer": {},
        "dtype": "uint32",
        "shape": [
         256
        ]
       },
       "compression_level": 0,
       "id": 139655184768016,
       "model_matrix": {
        "compressed_buffer": {},
        "dtype": "float32",
        "shape": [
         4,
         4
        ]
       },
       "name": "Voxels #21",
       "opacity": 1,
       "outlines": false,
       "outlines_color": 0,
       "type": "Voxels",
       "visible": true,
       "voxels": {
        "compressed_buffer": {},
        "dtype": "uint8",
        "shape": [
         12,
         1,
         10
        ]
       },
       "wireframe": false
      }
     },
     "c6c2f02f65e54afc8fe43047ad113493": {
      "model_module": "@jupyter-widgets/base",
      "model_module_version": "1.2.0",
      "model_name": "LayoutModel",
      "state": {}
     },
     "c720e259db4e4cabb04ce19f6d1fb0ca": {
      "buffers": [
       {
        "data": "eNrbUOTDAAAEsgFv",
        "encoding": "base64",
        "path": [
         "color_map",
         "compressed_buffer"
        ]
       },
       {
        "data": "eNpjYFBwZMAA2MQa7IHEfnQxAEU/AwA=",
        "encoding": "base64",
        "path": [
         "model_matrix",
         "compressed_buffer"
        ]
       },
       {
        "data": "eNpjYGBgBAIGBggNYcNZjEQCbHoZ4CYDABAsAFE=",
        "encoding": "base64",
        "path": [
         "voxels",
         "compressed_buffer"
        ]
       }
      ],
      "model_module": "k3d",
      "model_module_version": "2.7.3",
      "model_name": "ObjectModel",
      "state": {
       "_view_count": null,
       "_view_module": null,
       "_view_module_version": "",
       "_view_name": null,
       "color_map": {
        "compressed_buffer": {},
        "dtype": "uint32",
        "shape": []
       },
       "compression_level": 0,
       "id": 139655149213392,
       "model_matrix": {
        "compressed_buffer": {},
        "dtype": "float32",
        "shape": [
         4,
         4
        ]
       },
       "name": "Voxels #7",
       "opacity": 1,
       "outlines": false,
       "outlines_color": 0,
       "type": "Voxels",
       "visible": true,
       "voxels": {
        "compressed_buffer": {},
        "dtype": "uint8",
        "shape": [
         1,
         10,
         10
        ]
       },
       "wireframe": false
      }
     },
     "c800b50ec428411e9f0e5d2b6a304c29": {
      "model_module": "@jupyter-widgets/base",
      "model_module_version": "1.2.0",
      "model_name": "LayoutModel",
      "state": {}
     },
     "c8a45bca8f78466d8ec0a9de8a7cb22e": {
      "model_module": "@jupyter-widgets/output",
      "model_module_version": "1.0.0",
      "model_name": "OutputModel",
      "state": {
       "layout": "IPY_MODEL_161fd097553545bc84d0817b16c869c1",
       "outputs": [
        {
         "data": {
          "application/vnd.jupyter.widget-view+json": {
           "model_id": "cd807e736b5a495f95e3ea213add35ad",
           "version_major": 2,
           "version_minor": 0
          },
          "text/plain": "Output()"
         },
         "metadata": {},
         "output_type": "display_data"
        }
       ]
      }
     },
     "cbff609183474d8a8139672c53081548": {
      "model_module": "@jupyter-widgets/base",
      "model_module_version": "1.2.0",
      "model_name": "LayoutModel",
      "state": {}
     },
     "cd64adf276434dc2a7251ea242312617": {
      "buffers": [
       {
        "data": "eNrzU2Jg8APiHD0IznU2BOP81CQwLp80E4yTd58FY89r78DY4sU/MPYb1T+qfwjrBwAWyQRo",
        "encoding": "base64",
        "path": [
         "colors",
         "compressed_buffer"
        ]
       },
       {
        "data": "eNpjYGiwZ8AAxIsBAF7EAv0=",
        "encoding": "base64",
        "path": [
         "model_matrix",
         "compressed_buffer"
        ]
       },
       {
        "data": "eNpN0LFNBDEQheFZiWDpwOEGNEADa28BSJRABdRBhCySa+AKcAXsiApcAhUg6wIiAs7Wzs0fWHqB36enmSTpx8O9iuj++nin/fX8+3baf97/9p6fn74+z98Xy6vl659of669ZN1JUjJzuvkCX+ALfIEv8AW+wBf6EX6EH+FH+BF+hB/hR/cVvsJX+Apf4St8ha/wl+T+ktxfkvsjr5bdH91kXfdHHv4kLze/Z/N7Nv/Iq2Xzj26yrvlHPvZn7M/Yn7E/Y3/G/oz9Gfsz/AK/wC/wC/wCv8Av8AvuU3GfivtU3KfiPhX3qbhPxX0q9jfsb9jfsL9hf8P+hv0N+xv8eXN/3tyfN/dHXi27P7rJuu6PfPgBfoAf4Af4AX6AH+CH7R/LMMBY",
        "encoding": "base64",
        "path": [
         "origins",
         "compressed_buffer"
        ]
       },
       {
        "data": "eNpN0E8og3EcBvB3qUlaoXaQg8RSlt5dcNqWWmoHaS6SPxfnuVic1E6j5jC5SRQODvT+NhemvLXUYgrLZVnJnJA5qR2m7CnP1+/wrefwPJ/D1zDi9uLTsJ0c3fKlYvM2rtVz6hso99i9lYR9Eij5cjfLl+eBbfshWkMOMDc6QXYauyC3hhEP0jT+/IWpK5O+q1w16cce28Tf2PWIj0wfHfrY0oep+ZbmW5qvNF9pvtJ8pfmW5lvG/3+U9h+l/Udp/1Haf5T2H6X9R2n/UfT90W/x18PuNP3NlqE0fdM5kaaPTB8d+tjSh0l/5dabpp80IuIXllbFz76nxEemjw59bOnDpB+pzIqfn0mI3/S1L/7cZFZ8ZPro0MeWPkz67npC/PDIofjdfXnxHdlX8ZHpo0MfW/ow6TvW9sQvdOTE909/iF9MOTP0kemjQx9b+jDpf7afiT9efRZ/MN+coX8Q6hIfmT469LGlD5N+aede/LvrH/EvXjrFj9VM8ZHpo0MfW/ow6ef738Q/Kroy9MN1r/hjxyHxkemjQx9b+jB/Ab0ISdE=",
        "encoding": "base64",
        "path": [
         "vectors",
         "compressed_buffer"
        ]
       }
      ],
      "model_module": "k3d",
      "model_module_version": "2.7.3",
      "model_name": "ObjectModel",
      "state": {
       "_view_count": null,
       "_view_module": null,
       "_view_module_version": "",
       "_view_name": null,
       "colors": {
        "compressed_buffer": {},
        "dtype": "uint32",
        "shape": [
         96,
         2
        ]
       },
       "compression_level": 0,
       "head_color": 255,
       "head_size": 1,
       "id": 139655144437600,
       "label_size": 1,
       "labels": [],
       "line_width": 0.01,
       "model_matrix": {
        "compressed_buffer": {},
        "dtype": "float32",
        "shape": [
         4,
         4
        ]
       },
       "name": "Vectors #11",
       "origin_color": 255,
       "origins": {
        "compressed_buffer": {},
        "dtype": "float32",
        "shape": [
         96,
         3
        ]
       },
       "type": "Vectors",
       "use_head": true,
       "vectors": {
        "compressed_buffer": {},
        "dtype": "float32",
        "shape": [
         96,
         3
        ]
       },
       "visible": true
      }
     },
     "cd807e736b5a495f95e3ea213add35ad": {
      "model_module": "@jupyter-widgets/output",
      "model_module_version": "1.0.0",
      "model_name": "OutputModel",
      "state": {
       "layout": "IPY_MODEL_81450dd040a04e299ba6beb9a838c142",
       "outputs": [
        {
         "data": {
          "application/vnd.jupyter.widget-view+json": {
           "model_id": "3bc8a84401d44411bc1a2f0f586d6419",
           "version_major": 2,
           "version_minor": 0
          },
          "text/plain": "Plot(antialias=3, axes=['x (nm)', 'y (nm)', 'z (nm)'], axes_helper=1.0, background_color=16777215, camera=[2, …"
         },
         "metadata": {},
         "output_type": "display_data"
        }
       ]
      }
     },
     "ce913e5d26624d2a8345569512ec0b03": {
      "model_module": "@jupyter-widgets/base",
      "model_module_version": "1.2.0",
      "model_name": "LayoutModel",
      "state": {}
     },
     "cea9f4ea9dbd4ba2b5f1dfc7350d99a0": {
      "model_module": "@jupyter-widgets/controls",
      "model_module_version": "1.5.0",
      "model_name": "DescriptionStyleModel",
      "state": {
       "description_width": ""
      }
     },
     "cf65c9a90a3d4a02b61a2c8e14c1b66e": {
      "model_module": "@jupyter-widgets/controls",
      "model_module_version": "1.5.0",
      "model_name": "VBoxModel",
      "state": {
       "_dom_classes": [
        "widget-interact"
       ],
       "children": [
        "IPY_MODEL_95a7ffed36dd466e9d779f1d1a5a5f67",
        "IPY_MODEL_6b5ceedad1354c5a96f2144e5311ba00",
        "IPY_MODEL_16a203d1bbaa486bbbbeb259a2572463"
       ],
       "layout": "IPY_MODEL_d95eb7b925304dabadfad56b586a6d1c"
      }
     },
     "d1b6b194598b4eab9afa03740d743fb4": {
      "buffers": [
       {
        "data": "eNolw2dslWUYgOHbHyb8MDExxhhjjAqCgIDQQSmlpaUtXXSP073X6fuNs7/D3puy9yqjQNl7j7KLbMqQPQREjTuuqI3PiVdypX4MaZ0howtkfQLZMrcr2LpB/qdQKIu7Q2kPKJcVPaHqM6iRdb3A3huU1PqA8TmYgX3BEdjvNRxBr2MGdcIMfgMz5E35Fmbo25j938Ho/y5G2HsYA97HCP9Afog+8CP0iM6yC/qgruiR3dCjuqNF9UAb3BMtupfsjRbTB21IX9kPLTYIFRcsQ1DxoaihYaiEATIclTgQlRQhB6GSI1EpUXIwalg0KjVGDkGlxaLS41AZ8XIoKjMBlZUok1DZyaicFDkMlZuKykuT6Wi2DLT8TLSCLJmNVpiDVhSYi1ach1ZiQy/JRy8tQC8rRC8vksXoFSUYlYGlGFVlGNXlsgKzphKztgqzrvr/9TU47LWyDkdDPQ5lx6k1SIVTl4aGy9BxmQYuh4nb6ZBO3C4nHrdLuvF4PHi9Xrw+H75Ay8Ln92MNHy5HYI0YiTVylByNNUqOHoM1Zqwch3/sePzjJuAfP1FOwj9hMtbEKViTpsppWJOnY02ZgTV1ppyFNa0Ra/psrBlz5FysmfOwZsnG+fgaF+CbvRDfnEX45i7GN2+JXIp3/jK8C5bjXbhCrsS7aBWexavxLGnCs3SNXIt72Trcy9fjXtEsN+BauRHXqk24VrfgatqMs2kLzjVbca7dhmPddhzrd+Bo3onZvAtzwx6MjXsxNu3DaNmP3nIAffNBtC2H0LYeRtt2BLX9qDxGw47jNOw8gX1XK/bdJ6nfc0qepm7vGer2naV2/zlqD5yn5mAb1YcuyItUHb5E5ZHLVB69QsWxq1Qcv0b5ieuUtd6gtLWd0pM3KTl1i+LTtyk6c4eis3cpPHePgvP3yW97gK3tIbYLj8j74jG5F5+Qc+kp2ZefkXXlOZlXX5Bx7SXp178m7cYrUtu/IaX9W5JvfkfSre9JvP0DCXd+JP7Ln4i7+zOx934h5v6vRD/4jaiHvxP56A8iHv9J+JO/CHv6N6HP/iH4q38Jft5ByIsOQl92EPaqg/8ABrdj6Q==",
        "encoding": "base64",
        "path": [
         "color_map",
         "compressed_buffer"
        ]
       },
       {
        "data": "eNpjYFBwZMAADfYQWuEAQswBqK7BAV0dAGzoBAE=",
        "encoding": "base64",
        "path": [
         "model_matrix",
         "compressed_buffer"
        ]
       },
       {
        "data": "eNoFwaEORlAAgNHPW/zFM5gX0Kgym6mKTTD9TlVuUW0007QbFEVl5gWMqYIk+M/hft7ve58b9uO8rvPYYVuXeV7WDaZxUGoYJ1B92zRtr6Cry6Io6w4qKdJUyAqkiIMgFhLyxHMcL8khC23DsMMMItf8/Uw3At/SNU23fP44vjcF",
        "encoding": "base64",
        "path": [
         "voxels",
         "compressed_buffer"
        ]
       }
      ],
      "model_module": "k3d",
      "model_module_version": "2.7.3",
      "model_name": "ObjectModel",
      "state": {
       "_view_count": null,
       "_view_module": null,
       "_view_module_version": "",
       "_view_name": null,
       "color_map": {
        "compressed_buffer": {},
        "dtype": "uint32",
        "shape": [
         256
        ]
       },
       "compression_level": 0,
       "id": 139655184767728,
       "model_matrix": {
        "compressed_buffer": {},
        "dtype": "float32",
        "shape": [
         4,
         4
        ]
       },
       "name": "Voxels #5",
       "opacity": 1,
       "outlines": false,
       "outlines_color": 0,
       "type": "Voxels",
       "visible": true,
       "voxels": {
        "compressed_buffer": {},
        "dtype": "uint8",
        "shape": [
         12,
         1,
         10
        ]
       },
       "wireframe": false
      }
     },
     "d267902f1e0045f2927795521d65236c": {
      "buffers": [
       {
        "data": "eNoDAAAAAAE=",
        "encoding": "base64",
        "path": [
         "colors",
         "compressed_buffer"
        ]
       },
       {
        "data": "eNpjYGiwZ8AAxIsBAF7EAv0=",
        "encoding": "base64",
        "path": [
         "model_matrix",
         "compressed_buffer"
        ]
       },
       {
        "data": "eNpd0cGtwyAQhOHJLSXskU7AnbySthQ68JZAKZTwZBvMHw6RRoTwaSaSh6QsxfnR35ulhHx9ZhZzxh3kVPBmWefOPN4XXMEVXMEVXMEVXMEVXNHNcDPcrduPh08gv26Gm+Hm5QbcgBtwA25sZiC/O8MNuAE3leVev0vI073fO/dO4w7y/O5+s6xzZ465x3Sfuwn5cccb577fuIP8uOPNss6dOeb2q6+jr6Ovo69v/1sgz76Ovo6+DrfCrXAr3Aq3wq1wK9wKt8Kt2Llh54adG3Zu2Llh54adG3Zu2Llh54a+HX07+nb07ejb0bejb0ffjr4dfTvc77Hc77HcK0/3ymLOuIM83fvNss6debxvcA2uwTW4BtfgGlyDa3Dt+AeTyOAx",
        "encoding": "base64",
        "path": [
         "positions",
         "compressed_buffer"
        ]
       }
      ],
      "model_module": "k3d",
      "model_module_version": "2.7.3",
      "model_name": "ObjectModel",
      "state": {
       "_view_count": null,
       "_view_module": null,
       "_view_module_version": "",
       "_view_name": null,
       "color": 5010096,
       "colors": {
        "compressed_buffer": {},
        "dtype": "uint32",
        "shape": [
         0
        ]
       },
       "compression_level": 0,
       "id": 139655150347984,
       "mesh_detail": 2,
       "model_matrix": {
        "compressed_buffer": {},
        "dtype": "float32",
        "shape": [
         4,
         4
        ]
       },
       "name": "Points #14",
       "opacity": 1,
       "point_size": 0.24999999999999994,
       "positions": {
        "compressed_buffer": {},
        "dtype": "float32",
        "shape": [
         120,
         3
        ]
       },
       "shader": "3dSpecular",
       "type": "Points",
       "visible": true
      }
     },
     "d267d54f319645dfbd954dd5dec5487d": {
      "buffers": [
       {
        "data": "eNrbUOTDAAAEsgFv",
        "encoding": "base64",
        "path": [
         "color_map",
         "compressed_buffer"
        ]
       },
       {
        "data": "eNpjYFBwZMAA2MQa7IGEPboYADy/AoA=",
        "encoding": "base64",
        "path": [
         "model_matrix",
         "compressed_buffer"
        ]
       },
       {
        "data": "eNpjYGBgBAIGBggNYcNZjEQCbHoZ4CYDABAsAFE=",
        "encoding": "base64",
        "path": [
         "voxels",
         "compressed_buffer"
        ]
       }
      ],
      "model_module": "k3d",
      "model_module_version": "2.7.3",
      "model_name": "ObjectModel",
      "state": {
       "_view_count": null,
       "_view_module": null,
       "_view_module_version": "",
       "_view_name": null,
       "color_map": {
        "compressed_buffer": {},
        "dtype": "uint32",
        "shape": []
       },
       "compression_level": 0,
       "id": 139655149188144,
       "model_matrix": {
        "compressed_buffer": {},
        "dtype": "float32",
        "shape": [
         4,
         4
        ]
       },
       "name": "Voxels #10",
       "opacity": 1,
       "outlines": false,
       "outlines_color": 0,
       "type": "Voxels",
       "visible": true,
       "voxels": {
        "compressed_buffer": {},
        "dtype": "uint8",
        "shape": [
         1,
         10,
         10
        ]
       },
       "wireframe": false
      }
     },
     "d4f44cd9136c4025a0fa93eaf375c644": {
      "model_module": "@jupyter-widgets/output",
      "model_module_version": "1.0.0",
      "model_name": "OutputModel",
      "state": {
       "layout": "IPY_MODEL_5daffab5645e4200a32b4276cb4caee6",
       "outputs": [
        {
         "data": {
          "application/vnd.jupyter.widget-view+json": {
           "model_id": "070c465afde24b39a5974e6e1bedd0aa",
           "version_major": 2,
           "version_minor": 0
          },
          "text/plain": "Output()"
         },
         "metadata": {},
         "output_type": "display_data"
        }
       ]
      }
     },
     "d9096d1913974f04a391dedc24cbfb3e": {
      "buffers": [
       {
        "data": "eNrt0r8LAWEcx/HzrzilDAZFNyg2KXEmlNhIrieOcn+BYrjJZGSWzWiS3cJkMPgxGS1K9Hk8VsPd+Ble4/d7z/PcW9QqmvjodTvgDMfQn85BJHWwMoZUMsEWFjgjF+zZApqrLVQ3B+jGAvDbk0tDp9WAgTuB9nINas7cXaEc1qAekayopPaJ7/nVedV8dn+H1PEBxukJ+aAGBV0qhiT1HbVX7VFz8fMLEhfJuEl+7/P7vl7f3+v/F//6Yn/sj/2xP/bH/tgf+2N/7I/9sT/2x/7YH/tjf+yP/bE/9sf+2B/7Y3/sj/351t8bYWE3Fw==",
        "encoding": "base64",
        "path": [
         "colors",
         "compressed_buffer"
        ]
       },
       {
        "data": "eNpjYGiwZ8AAxIsBAF7EAv0=",
        "encoding": "base64",
        "path": [
         "model_matrix",
         "compressed_buffer"
        ]
       },
       {
        "data": "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",
        "encoding": "base64",
        "path": [
         "origins",
         "compressed_buffer"
        ]
       },
       {
        "data": "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",
        "encoding": "base64",
        "path": [
         "vectors",
         "compressed_buffer"
        ]
       }
      ],
      "model_module": "k3d",
      "model_module_version": "2.7.3",
      "model_name": "ObjectModel",
      "state": {
       "_view_count": null,
       "_view_module": null,
       "_view_module_version": "",
       "_view_name": null,
       "colors": {
        "compressed_buffer": {},
        "dtype": "uint32",
        "shape": [
         960,
         2
        ]
       },
       "compression_level": 0,
       "head_color": 255,
       "head_size": 1,
       "id": 139655184719248,
       "label_size": 1,
       "labels": [],
       "line_width": 0.01,
       "model_matrix": {
        "compressed_buffer": {},
        "dtype": "float32",
        "shape": [
         4,
         4
        ]
       },
       "name": "Vectors #1",
       "origin_color": 255,
       "origins": {
        "compressed_buffer": {},
        "dtype": "float32",
        "shape": [
         960,
         3
        ]
       },
       "type": "Vectors",
       "use_head": true,
       "vectors": {
        "compressed_buffer": {},
        "dtype": "float32",
        "shape": [
         960,
         3
        ]
       },
       "visible": true
      }
     },
     "d95eb7b925304dabadfad56b586a6d1c": {
      "model_module": "@jupyter-widgets/base",
      "model_module_version": "1.2.0",
      "model_name": "LayoutModel",
      "state": {}
     },
     "da4be57058ff41cf855fc96b264163f3": {
      "buffers": [
       {
        "data": "eNolw2dslWUYgOHbHyb8MDExxhhjjAqCgIDQQSmlpaUtXXSP073X6fuNs7/D3puy9yqjQNl7j7KLbMqQPQREjTuuqI3PiVdypX4MaZ0howtkfQLZMrcr2LpB/qdQKIu7Q2kPKJcVPaHqM6iRdb3A3huU1PqA8TmYgX3BEdjvNRxBr2MGdcIMfgMz5E35Fmbo25j938Ho/y5G2HsYA97HCP9Afog+8CP0iM6yC/qgruiR3dCjuqNF9UAb3BMtupfsjRbTB21IX9kPLTYIFRcsQ1DxoaihYaiEATIclTgQlRQhB6GSI1EpUXIwalg0KjVGDkGlxaLS41AZ8XIoKjMBlZUok1DZyaicFDkMlZuKykuT6Wi2DLT8TLSCLJmNVpiDVhSYi1ach1ZiQy/JRy8tQC8rRC8vksXoFSUYlYGlGFVlGNXlsgKzphKztgqzrvr/9TU47LWyDkdDPQ5lx6k1SIVTl4aGy9BxmQYuh4nb6ZBO3C4nHrdLuvF4PHi9Xrw+H75Ay8Ln92MNHy5HYI0YiTVylByNNUqOHoM1Zqwch3/sePzjJuAfP1FOwj9hMtbEKViTpsppWJOnY02ZgTV1ppyFNa0Ra/psrBlz5FysmfOwZsnG+fgaF+CbvRDfnEX45i7GN2+JXIp3/jK8C5bjXbhCrsS7aBWexavxLGnCs3SNXIt72Trcy9fjXtEsN+BauRHXqk24VrfgatqMs2kLzjVbca7dhmPddhzrd+Bo3onZvAtzwx6MjXsxNu3DaNmP3nIAffNBtC2H0LYeRtt2BLX9qDxGw47jNOw8gX1XK/bdJ6nfc0qepm7vGer2naV2/zlqD5yn5mAb1YcuyItUHb5E5ZHLVB69QsWxq1Qcv0b5ieuUtd6gtLWd0pM3KTl1i+LTtyk6c4eis3cpPHePgvP3yW97gK3tIbYLj8j74jG5F5+Qc+kp2ZefkXXlOZlXX5Bx7SXp178m7cYrUtu/IaX9W5JvfkfSre9JvP0DCXd+JP7Ln4i7+zOx934h5v6vRD/4jaiHvxP56A8iHv9J+JO/CHv6N6HP/iH4q38Jft5ByIsOQl92EPaqg/8ABrdj6Q==",
        "encoding": "base64",
        "path": [
         "color_map",
         "compressed_buffer"
        ]
       },
       {
        "data": "eNpjYFBwZMAADfZQhj1CzAGorsEBXR0AWAcDYA==",
        "encoding": "base64",
        "path": [
         "model_matrix",
         "compressed_buffer"
        ]
       },
       {
        "data": "eNqTk5USYWQUkZKVU1JUkJOQkFNQVFJVU9fU19dUV1PV1NY1dnMz1tXW1NU3sY2NtTXR1zUwsfIoKfGwMjEwsXAI6ukJcrAwMbd1j1m8OMbd1tzayTd91650Xydre7eQwosXC0Pc7J28o6pfvKiO8nZyC0ho+/+/LSHADQAa3CK1",
        "encoding": "base64",
        "path": [
         "voxels",
         "compressed_buffer"
        ]
       }
      ],
      "model_module": "k3d",
      "model_module_version": "2.7.3",
      "model_name": "ObjectModel",
      "state": {
       "_view_count": null,
       "_view_module": null,
       "_view_module_version": "",
       "_view_name": null,
       "color_map": {
        "compressed_buffer": {},
        "dtype": "uint32",
        "shape": [
         256
        ]
       },
       "compression_level": 0,
       "id": 139656145610880,
       "model_matrix": {
        "compressed_buffer": {},
        "dtype": "float32",
        "shape": [
         4,
         4
        ]
       },
       "name": "Voxels #11",
       "opacity": 1,
       "outlines": false,
       "outlines_color": 0,
       "type": "Voxels",
       "visible": true,
       "voxels": {
        "compressed_buffer": {},
        "dtype": "uint8",
        "shape": [
         12,
         1,
         10
        ]
       },
       "wireframe": false
      }
     },
     "db55abee8dec4e678d3fc886985df8f5": {
      "model_module": "@jupyter-widgets/controls",
      "model_module_version": "1.5.0",
      "model_name": "DescriptionStyleModel",
      "state": {
       "description_width": ""
      }
     },
     "dd888d6515254ffd947cb24e64b53fef": {
      "model_module": "@jupyter-widgets/controls",
      "model_module_version": "1.5.0",
      "model_name": "DropdownModel",
      "state": {
       "_options_labels": [
        "x",
        "y",
        "z"
       ],
       "description": "axis",
       "index": 2,
       "layout": "IPY_MODEL_c6c2f02f65e54afc8fe43047ad113493",
       "style": "IPY_MODEL_5ae6dd308bc6401f8c4f5b9b512fdecd"
      }
     },
     "e032fa76292042188b1fe14545b5e213": {
      "model_module": "@jupyter-widgets/base",
      "model_module_version": "1.2.0",
      "model_name": "LayoutModel",
      "state": {}
     },
     "e24ee165d6594521a24f4d42cff6650b": {
      "model_module": "@jupyter-widgets/base",
      "model_module_version": "1.2.0",
      "model_name": "LayoutModel",
      "state": {}
     },
     "e24fb320fc324f4381ef83d15d62479c": {
      "buffers": [
       {
        "data": "eNrzU2Jg8APi3JhQMC6euxyMLV78A2O/UXmaygMAU1mBSQ==",
        "encoding": "base64",
        "path": [
         "colors",
         "compressed_buffer"
        ]
       },
       {
        "data": "eNpjYGiwZ8AAxIsBAF7EAv0=",
        "encoding": "base64",
        "path": [
         "model_matrix",
         "compressed_buffer"
        ]
       },
       {
        "data": "eNpNzjENwzAURdGXrWs3j+VRyU6YlEA5BILXEuhsBM2H4Ck4DKGS5R/f7Q5HT0/aD2k1yY7z8/3d30/v6C3tyY0uL3jBC170CT7BJ/g0vcEbvMEb/GOdvnf0nr5394telx8dvd2PHvsZ+xn7GfsZvsAX+AJf8KfiT8Wfij8V+w37DfsN+w3+tk3fO3pP33v4AB/gA3zY/pFwtYk=",
        "encoding": "base64",
        "path": [
         "origins",
         "compressed_buffer"
        ]
       },
       {
        "data": "eNpNzj0LQXEYhvFnUvIFZDEpmSijt0nZlcwGgyxGL3WyM5kM6iyMzjlG5WWVxCQpgzKamDDoLvfjv13Db7hErKVIblUbDRPFrbe4RAqr0sdGZ9giVpZGfr4f3cXpw+9jnB5ND2N4x/CO4R3DO/L/cY0f1/hxjR+XvnwSj/7x8Xn0aHoY+k4lqX7+TqlH08PQ2/eq+u6roR5ND0N/nffUj9sD9Wh6GPqnNVHvb0/Vo+lh6H35tfp6a6MeTQ9DHwyc1R+aN/Voehj62P6pPpSWGT2aHuYL7a0E9A==",
        "encoding": "base64",
        "path": [
         "vectors",
         "compressed_buffer"
        ]
       }
      ],
      "model_module": "k3d",
      "model_module_version": "2.7.3",
      "model_name": "ObjectModel",
      "state": {
       "_view_count": null,
       "_view_module": null,
       "_view_module_version": "",
       "_view_name": null,
       "colors": {
        "compressed_buffer": {},
        "dtype": "uint32",
        "shape": [
         48,
         2
        ]
       },
       "compression_level": 0,
       "head_color": 255,
       "head_size": 1,
       "id": 139655149215024,
       "label_size": 1,
       "labels": [],
       "line_width": 0.01,
       "model_matrix": {
        "compressed_buffer": {},
        "dtype": "float32",
        "shape": [
         4,
         4
        ]
       },
       "name": "Vectors #9",
       "origin_color": 255,
       "origins": {
        "compressed_buffer": {},
        "dtype": "float32",
        "shape": [
         48,
         3
        ]
       },
       "type": "Vectors",
       "use_head": true,
       "vectors": {
        "compressed_buffer": {},
        "dtype": "float32",
        "shape": [
         48,
         3
        ]
       },
       "visible": true
      }
     },
     "e36aad4d95c849d0a4de78ca8a579d93": {
      "model_module": "@jupyter-widgets/controls",
      "model_module_version": "1.5.0",
      "model_name": "DescriptionStyleModel",
      "state": {
       "description_width": ""
      }
     },
     "e5b0004f7f2e40bf9ebae112708a50a9": {
      "buffers": [
       {
        "data": "eNolw2dslWUYgOHbHyb8MDExxhhjjAqCgIDQQSmlpaUtXXSP073X6fuNs7/D3puy9yqjQNl7j7KLbMqQPQREjTuuqI3PiVdypX4MaZ0howtkfQLZMrcr2LpB/qdQKIu7Q2kPKJcVPaHqM6iRdb3A3huU1PqA8TmYgX3BEdjvNRxBr2MGdcIMfgMz5E35Fmbo25j938Ho/y5G2HsYA97HCP9Afog+8CP0iM6yC/qgruiR3dCjuqNF9UAb3BMtupfsjRbTB21IX9kPLTYIFRcsQ1DxoaihYaiEATIclTgQlRQhB6GSI1EpUXIwalg0KjVGDkGlxaLS41AZ8XIoKjMBlZUok1DZyaicFDkMlZuKykuT6Wi2DLT8TLSCLJmNVpiDVhSYi1ach1ZiQy/JRy8tQC8rRC8vksXoFSUYlYGlGFVlGNXlsgKzphKztgqzrvr/9TU47LWyDkdDPQ5lx6k1SIVTl4aGy9BxmQYuh4nb6ZBO3C4nHrdLuvF4PHi9Xrw+H75Ay8Ln92MNHy5HYI0YiTVylByNNUqOHoM1Zqwch3/sePzjJuAfP1FOwj9hMtbEKViTpsppWJOnY02ZgTV1ppyFNa0Ra/psrBlz5FysmfOwZsnG+fgaF+CbvRDfnEX45i7GN2+JXIp3/jK8C5bjXbhCrsS7aBWexavxLGnCs3SNXIt72Trcy9fjXtEsN+BauRHXqk24VrfgatqMs2kLzjVbca7dhmPddhzrd+Bo3onZvAtzwx6MjXsxNu3DaNmP3nIAffNBtC2H0LYeRtt2BLX9qDxGw47jNOw8gX1XK/bdJ6nfc0qepm7vGer2naV2/zlqD5yn5mAb1YcuyItUHb5E5ZHLVB69QsWxq1Qcv0b5ieuUtd6gtLWd0pM3KTl1i+LTtyk6c4eis3cpPHePgvP3yW97gK3tIbYLj8j74jG5F5+Qc+kp2ZefkXXlOZlXX5Bx7SXp178m7cYrUtu/IaX9W5JvfkfSre9JvP0DCXd+JP7Ln4i7+zOx934h5v6vRD/4jaiHvxP56A8iHv9J+JO/CHv6N6HP/iH4q38Jft5ByIsOQl92EPaqg/8ABrdj6Q==",
        "encoding": "base64",
        "path": [
         "color_map",
         "compressed_buffer"
        ]
       },
       {
        "data": "eNpjYFBwZMAADfYQWsEBIeYAVNfggK4OAFxoA4E=",
        "encoding": "base64",
        "path": [
         "model_matrix",
         "compressed_buffer"
        ]
       },
       {
        "data": "eNoFwaEORlAAgNFP+JOgGvMCZlRFEW7TTGNTlVtUu90Em6KajazSvIB5BsVb+M/B0H+a9tMNcGzLNC3bAdfzg8D3XAijWIg4CkEkWZ5niYC0qOq6KlIopeo6JUuQapjnQUlo+nXf176Bdjru+5haGLfrfa9thOV8vu85F/55fCj9",
        "encoding": "base64",
        "path": [
         "voxels",
         "compressed_buffer"
        ]
       }
      ],
      "model_module": "k3d",
      "model_module_version": "2.7.3",
      "model_name": "ObjectModel",
      "state": {
       "_view_count": null,
       "_view_module": null,
       "_view_module_version": "",
       "_view_name": null,
       "color_map": {
        "compressed_buffer": {},
        "dtype": "uint32",
        "shape": [
         256
        ]
       },
       "compression_level": 0,
       "id": 139655184790288,
       "model_matrix": {
        "compressed_buffer": {},
        "dtype": "float32",
        "shape": [
         4,
         4
        ]
       },
       "name": "Voxels #23",
       "opacity": 1,
       "outlines": false,
       "outlines_color": 0,
       "type": "Voxels",
       "visible": true,
       "voxels": {
        "compressed_buffer": {},
        "dtype": "uint8",
        "shape": [
         12,
         1,
         10
        ]
       },
       "wireframe": false
      }
     },
     "e74892220ed948b08ef6f06c7d13ad29": {
      "buffers": [
       {
        "data": "eNoDAAAAAAE=",
        "encoding": "base64",
        "path": [
         "colors",
         "compressed_buffer"
        ]
       },
       {
        "data": "eNpjYGiwZ8AAxIsBAF7EAv0=",
        "encoding": "base64",
        "path": [
         "model_matrix",
         "compressed_buffer"
        ]
       },
       {
        "data": "eNpd0sFtwzAQRNHNLSXwqE5W7iQlsRR2EJbAUlhCINs0X3QQ8EGt9mNGjKg9ov9ez1f8fDjigH1CTt7Bx8nOc59Xua992xt44+YMOZmBlzfwBt7Qm3gTb/7PF3IyA3+8iTfx5vZ2vB1vv3UZcjIDf3rG2/F2vMe5vdd3R7//qxeHnMzA65vnznOfV7mv/7+8r9mj3+/Fi0NOZuCX973z3OdV7uuu7byVvPV2H0NOZuCVt5K3krfibXgb3oa34W14G96Gt+FteBs9D3oe9DzoedDzoOdBz4OeBz0Peh7kneSd5J3kneSd5J3kneSd5J3knXi/H9v7/djei5f34pCTGXh5nzvPfV7l9/6Ct+AteAvegrfgLXgL3oK3PP4AUIJ2QA==",
        "encoding": "base64",
        "path": [
         "positions",
         "compressed_buffer"
        ]
       }
      ],
      "model_module": "k3d",
      "model_module_version": "2.7.3",
      "model_name": "ObjectModel",
      "state": {
       "_view_count": null,
       "_view_module": null,
       "_view_module_version": "",
       "_view_name": null,
       "color": 5010096,
       "colors": {
        "compressed_buffer": {},
        "dtype": "uint32",
        "shape": [
         0
        ]
       },
       "compression_level": 0,
       "id": 139655144437888,
       "mesh_detail": 2,
       "model_matrix": {
        "compressed_buffer": {},
        "dtype": "float32",
        "shape": [
         4,
         4
        ]
       },
       "name": "Points #7",
       "opacity": 1,
       "point_size": 0.24999999999999994,
       "positions": {
        "compressed_buffer": {},
        "dtype": "float32",
        "shape": [
         120,
         3
        ]
       },
       "shader": "3dSpecular",
       "type": "Points",
       "visible": true
      }
     },
     "e7ae92aded73436cbd7b804bb37e6984": {
      "model_module": "@jupyter-widgets/base",
      "model_module_version": "1.2.0",
      "model_name": "LayoutModel",
      "state": {}
     },
     "edfd498a8c5b4e3b96e51eba2fa45d20": {
      "model_module": "@jupyter-widgets/base",
      "model_module_version": "1.2.0",
      "model_name": "LayoutModel",
      "state": {}
     },
     "f2835dba76af4ca191eea3c2910849d6": {
      "buffers": [
       {
        "data": "eNoDAAAAAAE=",
        "encoding": "base64",
        "path": [
         "colors",
         "compressed_buffer"
        ]
       },
       {
        "data": "eNpjYGiwZ8AAxIsBAF7EAv0=",
        "encoding": "base64",
        "path": [
         "model_matrix",
         "compressed_buffer"
        ]
       },
       {
        "data": "eNpt0Lt1wzAQBMBTphIQupMzO1FJKAUd+EpAKSjB5kfiBA74uOQDR6t9xKsivr4j6ufvTj6erxzm5Ax5v5/5ES/zZQZ+4Ad+4Ad+4Ad+6Cd+4id+4id+4id+3n7hF37hF37hF37hF/5xlTv6n+2nxbef6/aPXLwjn/6Zw5ycyX+8z/OVr86d/p3+nf6d/p3+nf6d3+v4A3/gD/yBP/AH/sAf7DPZZ7LPZJ/JPpN9JvtM9pn0X/Rf9F/0X/Rf9F/0X/Rf+M/t9vf89vcc5uQM+e0/t9s/8mU2/Ibf8Bt+w2/4Db9tv4geuuk=",
        "encoding": "base64",
        "path": [
         "positions",
         "compressed_buffer"
        ]
       }
      ],
      "model_module": "k3d",
      "model_module_version": "2.7.3",
      "model_name": "ObjectModel",
      "state": {
       "_view_count": null,
       "_view_module": null,
       "_view_module_version": "",
       "_view_name": null,
       "color": 5010096,
       "colors": {
        "compressed_buffer": {},
        "dtype": "uint32",
        "shape": [
         0
        ]
       },
       "compression_level": 0,
       "id": 139655149398960,
       "mesh_detail": 2,
       "model_matrix": {
        "compressed_buffer": {},
        "dtype": "float32",
        "shape": [
         4,
         4
        ]
       },
       "name": "Points #3",
       "opacity": 1,
       "point_size": 0.24999999999999994,
       "positions": {
        "compressed_buffer": {},
        "dtype": "float32",
        "shape": [
         96,
         3
        ]
       },
       "shader": "3dSpecular",
       "type": "Points",
       "visible": true
      }
     },
     "f39e80f629c84667ba45dca14b8e133b": {
      "buffers": [
       {
        "data": "eNolw2dslWUYgOHbHyb8MDExxhhjjAqCgIDQQSmlpaUtXXSP073X6fuNs7/D3puy9yqjQNl7j7KLbMqQPQREjTuuqI3PiVdypX4MaZ0howtkfQLZMrcr2LpB/qdQKIu7Q2kPKJcVPaHqM6iRdb3A3huU1PqA8TmYgX3BEdjvNRxBr2MGdcIMfgMz5E35Fmbo25j938Ho/y5G2HsYA97HCP9Afog+8CP0iM6yC/qgruiR3dCjuqNF9UAb3BMtupfsjRbTB21IX9kPLTYIFRcsQ1DxoaihYaiEATIclTgQlRQhB6GSI1EpUXIwalg0KjVGDkGlxaLS41AZ8XIoKjMBlZUok1DZyaicFDkMlZuKykuT6Wi2DLT8TLSCLJmNVpiDVhSYi1ach1ZiQy/JRy8tQC8rRC8vksXoFSUYlYGlGFVlGNXlsgKzphKztgqzrvr/9TU47LWyDkdDPQ5lx6k1SIVTl4aGy9BxmQYuh4nb6ZBO3C4nHrdLuvF4PHi9Xrw+H75Ay8Ln92MNHy5HYI0YiTVylByNNUqOHoM1Zqwch3/sePzjJuAfP1FOwj9hMtbEKViTpsppWJOnY02ZgTV1ppyFNa0Ra/psrBlz5FysmfOwZsnG+fgaF+CbvRDfnEX45i7GN2+JXIp3/jK8C5bjXbhCrsS7aBWexavxLGnCs3SNXIt72Trcy9fjXtEsN+BauRHXqk24VrfgatqMs2kLzjVbca7dhmPddhzrd+Bo3onZvAtzwx6MjXsxNu3DaNmP3nIAffNBtC2H0LYeRtt2BLX9qDxGw47jNOw8gX1XK/bdJ6nfc0qepm7vGer2naV2/zlqD5yn5mAb1YcuyItUHb5E5ZHLVB69QsWxq1Qcv0b5ieuUtd6gtLWd0pM3KTl1i+LTtyk6c4eis3cpPHePgvP3yW97gK3tIbYLj8j74jG5F5+Qc+kp2ZefkXXlOZlXX5Bx7SXp178m7cYrUtu/IaX9W5JvfkfSre9JvP0DCXd+JP7Ln4i7+zOx934h5v6vRD/4jaiHvxP56A8iHv9J+JO/CHv6N6HP/iH4q38Jft5ByIsOQl92EPaqg/8ABrdj6Q==",
        "encoding": "base64",
        "path": [
         "color_map",
         "compressed_buffer"
        ]
       },
       {
        "data": "eNpjYFBwZMAADfYQ+oA9QswBqK7BAV0dAHGHBCA=",
        "encoding": "base64",
        "path": [
         "model_matrix",
         "compressed_buffer"
        ]
       },
       {
        "data": "eNoBeACH/xgVEQoBAQoRFRggHx0bGBgbHR8gJygqLC8vLCooJy8yNj1GRj02Mi83PENPXV1PQzw3P0VPYHR0YE9FP0ZPXHGMjHFcT0ZOWGmCo6OCaVhOVmJ1lLq6lHViVl1sgqXR0aWCbF1ldY626Oi2jnVlbX+bx///x5t/bRmxKwE=",
        "encoding": "base64",
        "path": [
         "voxels",
         "compressed_buffer"
        ]
       }
      ],
      "model_module": "k3d",
      "model_module_version": "2.7.3",
      "model_name": "ObjectModel",
      "state": {
       "_view_count": null,
       "_view_module": null,
       "_view_module_version": "",
       "_view_name": null,
       "color_map": {
        "compressed_buffer": {},
        "dtype": "uint32",
        "shape": [
         256
        ]
       },
       "compression_level": 0,
       "id": 139656145609920,
       "model_matrix": {
        "compressed_buffer": {},
        "dtype": "float32",
        "shape": [
         4,
         4
        ]
       },
       "name": "Voxels #22",
       "opacity": 1,
       "outlines": false,
       "outlines_color": 0,
       "type": "Voxels",
       "visible": true,
       "voxels": {
        "compressed_buffer": {},
        "dtype": "uint8",
        "shape": [
         12,
         1,
         10
        ]
       },
       "wireframe": false
      }
     },
     "f3d765efaceb4beabc1b069bcf3189fb": {
      "model_module": "@jupyter-widgets/controls",
      "model_module_version": "1.5.0",
      "model_name": "DropdownModel",
      "state": {
       "_options_labels": [
        "x",
        "y",
        "z"
       ],
       "description": "axis",
       "index": 2,
       "layout": "IPY_MODEL_e032fa76292042188b1fe14545b5e213",
       "style": "IPY_MODEL_cea9f4ea9dbd4ba2b5f1dfc7350d99a0"
      }
     },
     "f7d2e452679e4cbbb37e4b80cb4c16b6": {
      "buffers": [
       {
        "data": "eNrbUOTDAAAEsgFv",
        "encoding": "base64",
        "path": [
         "color_map",
         "compressed_buffer"
        ]
       },
       {
        "data": "eNpjYFBwZMAA2MQa7BkYLjigiwEAS3ADUQ==",
        "encoding": "base64",
        "path": [
         "model_matrix",
         "compressed_buffer"
        ]
       },
       {
        "data": "eNpjYGBgBAIGBggNYcNZjEQCbHoZ4CYDABAsAFE=",
        "encoding": "base64",
        "path": [
         "voxels",
         "compressed_buffer"
        ]
       }
      ],
      "model_module": "k3d",
      "model_module_version": "2.7.3",
      "model_name": "ObjectModel",
      "state": {
       "_view_count": null,
       "_view_module": null,
       "_view_module_version": "",
       "_view_name": null,
       "color_map": {
        "compressed_buffer": {},
        "dtype": "uint32",
        "shape": []
       },
       "compression_level": 0,
       "id": 139655149214784,
       "model_matrix": {
        "compressed_buffer": {},
        "dtype": "float32",
        "shape": [
         4,
         4
        ]
       },
       "name": "Voxels #14",
       "opacity": 1,
       "outlines": false,
       "outlines_color": 0,
       "type": "Voxels",
       "visible": true,
       "voxels": {
        "compressed_buffer": {},
        "dtype": "uint8",
        "shape": [
         1,
         10,
         10
        ]
       },
       "wireframe": false
      }
     },
     "fa8b65323b74420e8716265d95b052ae": {
      "buffers": [
       {
        "data": "eNrbUOTDAAAEsgFv",
        "encoding": "base64",
        "path": [
         "color_map",
         "compressed_buffer"
        ]
       },
       {
        "data": "eNpjYFBwZMAA2MQa7IGEPboYADy/AoA=",
        "encoding": "base64",
        "path": [
         "model_matrix",
         "compressed_buffer"
        ]
       },
       {
        "data": "eNpjYGBgBAIGBggNYcNZjEQCbHoZ4CYDABAsAFE=",
        "encoding": "base64",
        "path": [
         "voxels",
         "compressed_buffer"
        ]
       }
      ],
      "model_module": "k3d",
      "model_module_version": "2.7.3",
      "model_name": "ObjectModel",
      "state": {
       "_view_count": null,
       "_view_module": null,
       "_view_module_version": "",
       "_view_name": null,
       "color_map": {
        "compressed_buffer": {},
        "dtype": "uint32",
        "shape": []
       },
       "compression_level": 0,
       "id": 139655149397808,
       "model_matrix": {
        "compressed_buffer": {},
        "dtype": "float32",
        "shape": [
         4,
         4
        ]
       },
       "name": "Voxels #16",
       "opacity": 1,
       "outlines": false,
       "outlines_color": 0,
       "type": "Voxels",
       "visible": true,
       "voxels": {
        "compressed_buffer": {},
        "dtype": "uint8",
        "shape": [
         1,
         10,
         10
        ]
       },
       "wireframe": false
      }
     }
    },
    "version_major": 2,
    "version_minor": 0
   }
  }
 },
 "nbformat": 4,
 "nbformat_minor": 4
}
