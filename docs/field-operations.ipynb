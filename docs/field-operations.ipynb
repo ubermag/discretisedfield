{
 "cells": [
  {
   "cell_type": "markdown",
   "metadata": {},
   "source": [
    "# Field operations\n",
    "\n",
    "There are several convenience methods that can be used to analyse the field. Let us first define a mesh with three spatial dimensions (`ndim=3`) which we can work with."
   ]
  },
  {
   "cell_type": "code",
   "execution_count": 1,
   "metadata": {},
   "outputs": [],
   "source": [
    "import numpy as np\n",
    "\n",
    "import discretisedfield as df\n",
    "\n",
    "p1 = (-50, -50, -50)\n",
    "p2 = (50, 50, 50)\n",
    "n = (4, 2, 2)\n",
    "mesh = df.Mesh(p1=p1, p2=p2, n=n)"
   ]
  },
  {
   "cell_type": "markdown",
   "metadata": {},
   "source": [
    "We are going to initialise a three dimensional vector field (`nvdim=3`), with\n",
    "\n",
    "$$\\mathbf{f}(x, y, z) = (xy, 2xy, xyz)$$\n",
    "\n",
    "For that, we are going to use the following Python function."
   ]
  },
  {
   "cell_type": "code",
   "execution_count": 2,
   "metadata": {},
   "outputs": [],
   "source": [
    "def value_function(pos):\n",
    "    x, y, z = pos\n",
    "    return x * y, 2 * x * y, x * y * z"
   ]
  },
  {
   "cell_type": "markdown",
   "metadata": {},
   "source": [
    "Finally, our field is"
   ]
  },
  {
   "cell_type": "code",
   "execution_count": 3,
   "metadata": {},
   "outputs": [],
   "source": [
    "field = df.Field(mesh, nvdim=3, value=value_function)"
   ]
  },
  {
   "cell_type": "markdown",
   "metadata": {},
   "source": [
    "## Sampling the field\n",
    "\n",
    "As we have shown previously, a field can be sampled by calling it. The argument must be a iterable with the same length as `mesh.ndim` which in our case is three - as we are working in three spatial dimensions. The coordinates of the point must also be contained inside the region."
   ]
  },
  {
   "cell_type": "code",
   "execution_count": 4,
   "metadata": {},
   "outputs": [
    {
     "data": {
      "text/plain": [
       "array([ 312.5,  625. , 7812.5])"
      ]
     },
     "execution_count": 4,
     "metadata": {},
     "output_type": "execute_result"
    }
   ],
   "source": [
    "point = (0, 0, 0)\n",
    "field(point)"
   ]
  },
  {
   "cell_type": "markdown",
   "metadata": {},
   "source": [
    "However, if the point is outside the mesh, an exception is raised."
   ]
  },
  {
   "cell_type": "code",
   "execution_count": 5,
   "metadata": {},
   "outputs": [
    {
     "name": "stdout",
     "output_type": "stream",
     "text": [
      "Exception raised.\n"
     ]
    }
   ],
   "source": [
    "point = (100, 100, 100)\n",
    "try:\n",
    "    field(point)\n",
    "except ValueError:\n",
    "    print(\"Exception raised.\")"
   ]
  },
  {
   "cell_type": "markdown",
   "metadata": {},
   "source": [
    "## Extracting the component of a vector field\n",
    "\n",
    "A three-dimensional vector field can be understood as three separate scalar fields, where each scalar field is a component of a vector field value. A scalar field of a component can be extracted by accessing the associated `vdims` attribute of the field. In our case this is `x`, `y`, or `z`."
   ]
  },
  {
   "cell_type": "code",
   "execution_count": 6,
   "metadata": {},
   "outputs": [
    {
     "data": {
      "text/plain": [
       "array([312.5])"
      ]
     },
     "execution_count": 6,
     "metadata": {},
     "output_type": "execute_result"
    }
   ],
   "source": [
    "x_component = field.x\n",
    "x_component((0, 0, 0))"
   ]
  },
  {
   "cell_type": "code",
   "execution_count": 7,
   "metadata": {},
   "outputs": [
    {
     "data": {
      "text/html": [
       "<strong>Field</strong>\n",
       "<ul>\n",
       "  \n",
       "  <li><strong>Mesh</strong>\n",
       "<ul>\n",
       "  <li><strong>Region</strong>\n",
       "<ul>\n",
       "  <li>pmin = [-50, -50, -50]</li>\n",
       "  <li>pmax = [50, 50, 50]</li>\n",
       "  <li>dims = ['x', 'y', 'z']</li>\n",
       "  <li>units = ['m', 'm', 'm']</li>\n",
       "</ul></li>\n",
       "  <li>n = [4, 2, 2]</li>\n",
       "  </ul></li>\n",
       "  <li>nvdim = 1</li>\n",
       "  </ul>"
      ],
      "text/plain": [
       "Field(Mesh(Region(pmin=[-50, -50, -50], pmax=[50, 50, 50], dims=['x', 'y', 'z'], units=['m', 'm', 'm']), n=[4, 2, 2]), nvdim=1)"
      ]
     },
     "execution_count": 7,
     "metadata": {},
     "output_type": "execute_result"
    }
   ],
   "source": [
    "field.y"
   ]
  },
  {
   "cell_type": "markdown",
   "metadata": {},
   "source": [
    "Default names `x`, `y`, and `z` are only available for fields with dimensionality (`nvdim`) 2 or 3."
   ]
  },
  {
   "cell_type": "code",
   "execution_count": 8,
   "metadata": {},
   "outputs": [
    {
     "data": {
      "text/plain": [
       "['x', 'y', 'z']"
      ]
     },
     "execution_count": 8,
     "metadata": {},
     "output_type": "execute_result"
    }
   ],
   "source": [
    "field.vdims"
   ]
  },
  {
   "cell_type": "markdown",
   "metadata": {},
   "source": [
    "It is possible to change the component names:"
   ]
  },
  {
   "cell_type": "code",
   "execution_count": 9,
   "metadata": {},
   "outputs": [
    {
     "data": {
      "text/plain": [
       "array([312.5])"
      ]
     },
     "execution_count": 9,
     "metadata": {},
     "output_type": "execute_result"
    }
   ],
   "source": [
    "field.vdims = [\"mx\", \"my\", \"mz\"]\n",
    "field.mx((0, 0, 0))"
   ]
  },
  {
   "cell_type": "markdown",
   "metadata": {},
   "source": [
    "This overrides the component labels and the old `x`, `y` and `z` cannot be used anymore:"
   ]
  },
  {
   "cell_type": "code",
   "execution_count": 10,
   "metadata": {},
   "outputs": [
    {
     "name": "stdout",
     "output_type": "stream",
     "text": [
      "Object has no attribute x.\n"
     ]
    }
   ],
   "source": [
    "try:\n",
    "    field.x\n",
    "except AttributeError as e:\n",
    "    print(e)"
   ]
  },
  {
   "cell_type": "markdown",
   "metadata": {},
   "source": [
    "We change the component labels back to `x`, `y`, and `z` for the rest of this notebook."
   ]
  },
  {
   "cell_type": "code",
   "execution_count": 11,
   "metadata": {},
   "outputs": [],
   "source": [
    "field.vdims = [\"x\", \"y\", \"z\"]"
   ]
  },
  {
   "cell_type": "markdown",
   "metadata": {},
   "source": [
    "Custom component names can optionally also be specified during field creation. If not specified, the default values are used for fields with dimensions 2 or 3. Higher-dimensional fields have no defaults `v0`, `v1`, `v2`, `v3`, etc.:"
   ]
  },
  {
   "cell_type": "code",
   "execution_count": 12,
   "metadata": {},
   "outputs": [
    {
     "data": {
      "text/html": [
       "<strong>Field</strong>\n",
       "<ul>\n",
       "  \n",
       "  <li><strong>Mesh</strong>\n",
       "<ul>\n",
       "  <li><strong>Region</strong>\n",
       "<ul>\n",
       "  <li>pmin = [-50, -50, -50]</li>\n",
       "  <li>pmax = [50, 50, 50]</li>\n",
       "  <li>dims = ['x', 'y', 'z']</li>\n",
       "  <li>units = ['m', 'm', 'm']</li>\n",
       "</ul></li>\n",
       "  <li>n = [4, 2, 2]</li>\n",
       "  </ul></li>\n",
       "  <li>nvdim = 4</li>\n",
       "  <li>vdims:\n",
       "      <ul><li>v0</li>\n",
       "        <li>v1</li>\n",
       "        <li>v2</li>\n",
       "        <li>v3</li>\n",
       "        </ul>\n",
       "    </li>\n",
       "  </ul>"
      ],
      "text/plain": [
       "Field(Mesh(Region(pmin=[-50, -50, -50], pmax=[50, 50, 50], dims=['x', 'y', 'z'], units=['m', 'm', 'm']), n=[4, 2, 2]), nvdim=4, vdims: (v0, v1, v2, v3))"
      ]
     },
     "execution_count": 12,
     "metadata": {},
     "output_type": "execute_result"
    }
   ],
   "source": [
    "field_4d = df.Field(mesh, nvdim=4, value=[1, 1, 1, 1])\n",
    "field_4d"
   ]
  },
  {
   "cell_type": "code",
   "execution_count": 13,
   "metadata": {},
   "outputs": [
    {
     "data": {
      "text/plain": [
       "array([1.])"
      ]
     },
     "execution_count": 13,
     "metadata": {},
     "output_type": "execute_result"
    }
   ],
   "source": [
    "field_4d.v1((0, 0, 0))"
   ]
  },
  {
   "cell_type": "markdown",
   "metadata": {},
   "source": [
    "## Extracting smaller region\n",
    "\n",
    "Let us say we are not interested in the entire field but only in its smaller portion - only some discretisation cells. In that case, we have two options. Before we discuss them, let us first define what we mean by \"aligned\" meshes:\n",
    "\n",
    "- Mesh A is aligned to mesh B if and only if all cell coordinates of mesh A are also the coordinates of (some) cells in mesh B.\n",
    "\n",
    "There is `is_aligned` method which checks that. Let us have a look at a few meshes:"
   ]
  },
  {
   "cell_type": "code",
   "execution_count": 14,
   "metadata": {},
   "outputs": [],
   "source": [
    "mesh1 = df.Mesh(region=df.Region(p1=(0, 0, 0), p2=(10, 10, 10)), cell=(1, 1, 1))\n",
    "mesh2 = df.Mesh(region=df.Region(p1=(3, 3, 3), p2=(6, 6, 6)), cell=(1, 1, 1))\n",
    "mesh3 = df.Mesh(region=df.Region(p1=(0, 0, 0), p2=(10, 10, 10)), cell=(2, 2, 2))\n",
    "mesh4 = df.Mesh(\n",
    "    region=df.Region(p1=(3.5, 3.5, 3.5), p2=(6.5, 6.5, 6.5)), cell=(1, 1, 1)\n",
    ")"
   ]
  },
  {
   "cell_type": "markdown",
   "metadata": {},
   "source": [
    "Let us now have a look if those meshes are aligned:"
   ]
  },
  {
   "cell_type": "code",
   "execution_count": 15,
   "metadata": {},
   "outputs": [
    {
     "data": {
      "text/plain": [
       "True"
      ]
     },
     "execution_count": 15,
     "metadata": {},
     "output_type": "execute_result"
    }
   ],
   "source": [
    "mesh1.is_aligned(mesh2)"
   ]
  },
  {
   "cell_type": "code",
   "execution_count": 16,
   "metadata": {},
   "outputs": [
    {
     "data": {
      "text/plain": [
       "False"
      ]
     },
     "execution_count": 16,
     "metadata": {},
     "output_type": "execute_result"
    }
   ],
   "source": [
    "mesh1.is_aligned(mesh3)  # discretisation cell is different"
   ]
  },
  {
   "cell_type": "code",
   "execution_count": 17,
   "metadata": {},
   "outputs": [
    {
     "data": {
      "text/plain": [
       "False"
      ]
     },
     "execution_count": 17,
     "metadata": {},
     "output_type": "execute_result"
    }
   ],
   "source": [
    "mesh1.is_aligned(\n",
    "    mesh4\n",
    ")  # although discretisation cell is the same, mesh4 is shifted in space by 0.5"
   ]
  },
  {
   "cell_type": "markdown",
   "metadata": {},
   "source": [
    "### Extracting subfield on aligned mesh\n",
    "\n",
    "If we want to get a subfield whose mesh is aligned to the field we want to take part of, we use `[]` operator. The resulting field is going to have a minimum-sized mesh which contains the region we pass as an argument."
   ]
  },
  {
   "cell_type": "code",
   "execution_count": 18,
   "metadata": {},
   "outputs": [
    {
     "data": {
      "text/html": [
       "<strong>Field</strong>\n",
       "<ul>\n",
       "  \n",
       "  <li><strong>Mesh</strong>\n",
       "<ul>\n",
       "  <li><strong>Region</strong>\n",
       "<ul>\n",
       "  <li>pmin = [0.0, 0.0, 0.0]</li>\n",
       "  <li>pmax = [25.0, 50.0, 50.0]</li>\n",
       "  <li>dims = ['x', 'y', 'z']</li>\n",
       "  <li>units = ['m', 'm', 'm']</li>\n",
       "</ul></li>\n",
       "  <li>n = [1, 1, 1]</li>\n",
       "  </ul></li>\n",
       "  <li>nvdim = 3</li>\n",
       "  <li>vdims:\n",
       "      <ul><li>x</li>\n",
       "        <li>y</li>\n",
       "        <li>z</li>\n",
       "        </ul>\n",
       "    </li>\n",
       "  </ul>"
      ],
      "text/plain": [
       "Field(Mesh(Region(pmin=[0.0, 0.0, 0.0], pmax=[25.0, 50.0, 50.0], dims=['x', 'y', 'z'], units=['m', 'm', 'm']), n=[1, 1, 1]), nvdim=3, vdims: (x, y, z))"
      ]
     },
     "execution_count": 18,
     "metadata": {},
     "output_type": "execute_result"
    }
   ],
   "source": [
    "subregion = df.Region(p1=(1.5, 2.2, 3.9), p2=(6.1, 5.9, 9.9))\n",
    "field[subregion]"
   ]
  },
  {
   "cell_type": "markdown",
   "metadata": {},
   "source": [
    "We can see that the resulting field's mesh has the minimum dimesions aligned mesh should have in order to contain the `subregion`. The resulting field has the same discretisation cell as the original one.\n",
    "\n",
    "### Extracting field on any mesh\n",
    "\n",
    "If we want to extact part of the field on any mesh which is contained inside the field, we do that by \"resampling\". We create a new field on a submesh and pass the field we want take subfield from as `value`."
   ]
  },
  {
   "cell_type": "code",
   "execution_count": 19,
   "metadata": {},
   "outputs": [
    {
     "data": {
      "text/html": [
       "<strong>Field</strong>\n",
       "<ul>\n",
       "  \n",
       "  <li><strong>Mesh</strong>\n",
       "<ul>\n",
       "  <li><strong>Region</strong>\n",
       "<ul>\n",
       "  <li>pmin = [1.5, 2.5, 3.5]</li>\n",
       "  <li>pmax = [5.5, 5.5, 6.5]</li>\n",
       "  <li>dims = ['x', 'y', 'z']</li>\n",
       "  <li>units = ['m', 'm', 'm']</li>\n",
       "</ul></li>\n",
       "  <li>n = [8, 6, 6]</li>\n",
       "  </ul></li>\n",
       "  <li>nvdim = 3</li>\n",
       "  <li>vdims:\n",
       "      <ul><li>x</li>\n",
       "        <li>y</li>\n",
       "        <li>z</li>\n",
       "        </ul>\n",
       "    </li>\n",
       "  </ul>"
      ],
      "text/plain": [
       "Field(Mesh(Region(pmin=[1.5, 2.5, 3.5], pmax=[5.5, 5.5, 6.5], dims=['x', 'y', 'z'], units=['m', 'm', 'm']), n=[8, 6, 6]), nvdim=3, vdims: (x, y, z))"
      ]
     },
     "execution_count": 19,
     "metadata": {},
     "output_type": "execute_result"
    }
   ],
   "source": [
    "subregion = df.Region(p1=(1.5, 2.5, 3.5), p2=(5.5, 5.5, 6.5))\n",
    "submesh = df.Mesh(region=subregion, cell=(0.5, 0.5, 0.5))\n",
    "df.Field(submesh, nvdim=3, value=field)"
   ]
  },
  {
   "cell_type": "markdown",
   "metadata": {},
   "source": [
    "One could ask why don't we always use resampling because it is a generalised case. The reason is because computing a subfield using `[]` operator is much faster."
   ]
  },
  {
   "cell_type": "markdown",
   "metadata": {},
   "source": [
    "## Computing the mean\n",
    "\n",
    "The mean of the field can be obtained by calling `discretisedfield.Field.mean` function."
   ]
  },
  {
   "cell_type": "code",
   "execution_count": 20,
   "metadata": {},
   "outputs": [
    {
     "data": {
      "text/plain": [
       "array([0., 0., 0.])"
      ]
     },
     "execution_count": 20,
     "metadata": {},
     "output_type": "execute_result"
    }
   ],
   "source": [
    "field.mean()"
   ]
  },
  {
   "cell_type": "markdown",
   "metadata": {},
   "source": [
    "Mean always return a numpy array, independent of the dimension of the field's value."
   ]
  },
  {
   "cell_type": "code",
   "execution_count": 21,
   "metadata": {},
   "outputs": [
    {
     "data": {
      "text/plain": [
       "array([0.])"
      ]
     },
     "execution_count": 21,
     "metadata": {},
     "output_type": "execute_result"
    }
   ],
   "source": [
    "field.x.mean()"
   ]
  },
  {
   "cell_type": "markdown",
   "metadata": {},
   "source": [
    "## Iterating through the field\n",
    "\n",
    "The field object itself is an iterable. That means that it can be iterated through. As a result it returns the values stored in the field."
   ]
  },
  {
   "cell_type": "code",
   "execution_count": 22,
   "metadata": {},
   "outputs": [
    {
     "name": "stdout",
     "output_type": "stream",
     "text": [
      "[   937.5   1875.  -23437.5]\n",
      "[  312.5   625.  -7812.5]\n",
      "[-312.5 -625.  7812.5]\n",
      "[ -937.5 -1875.  23437.5]\n",
      "[ -937.5 -1875.  23437.5]\n",
      "[-312.5 -625.  7812.5]\n",
      "[  312.5   625.  -7812.5]\n",
      "[   937.5   1875.  -23437.5]\n",
      "[  937.5  1875.  23437.5]\n",
      "[ 312.5  625.  7812.5]\n",
      "[ -312.5  -625.  -7812.5]\n",
      "[  -937.5  -1875.  -23437.5]\n",
      "[  -937.5  -1875.  -23437.5]\n",
      "[ -312.5  -625.  -7812.5]\n",
      "[ 312.5  625.  7812.5]\n",
      "[  937.5  1875.  23437.5]\n"
     ]
    }
   ],
   "source": [
    "for val in field:\n",
    "    print(val)"
   ]
  },
  {
   "cell_type": "markdown",
   "metadata": {},
   "source": [
    "## Sampling the field along the line\n",
    "\n",
    "To sample the points of the field which are on a certain line, `discretisedfield.Field.line` method is used. It takes two points `p1` and `p2` that define the line and an integer `n` which defines how many mesh coordinates on that line are required. The default value of `n` is 100."
   ]
  },
  {
   "cell_type": "code",
   "execution_count": 23,
   "metadata": {},
   "outputs": [],
   "source": [
    "line = field.line(p1=(-10, 0, 0), p2=(10, 0, 0), n=5)"
   ]
  },
  {
   "cell_type": "markdown",
   "metadata": {},
   "source": [
    "## Intersecting the field with a plane\n",
    "\n",
    "If we intersect the field with a plane, `discretisedfield.Field.sel` can be used to return a new field object which contains only discretisation cells that belong to a `ndim - 1` plane. The planes allowed are the planes perpendicular to the geometric axes. For instance, for a three-dimensional geometry, a plane parallel to the $yz$-plane (perpendicular to the $x$-axis) which intersects the $x$-axis at 1, can be written as\n",
    "\n",
    "$$x = 1$$"
   ]
  },
  {
   "cell_type": "code",
   "execution_count": 24,
   "metadata": {},
   "outputs": [
    {
     "data": {
      "text/html": [
       "<strong>Field</strong>\n",
       "<ul>\n",
       "  \n",
       "  <li><strong>Mesh</strong>\n",
       "<ul>\n",
       "  <li><strong>Region</strong>\n",
       "<ul>\n",
       "  <li>pmin = [-50, -50]</li>\n",
       "  <li>pmax = [50, 50]</li>\n",
       "  <li>dims = ['y', 'z']</li>\n",
       "  <li>units = ['m', 'm']</li>\n",
       "</ul></li>\n",
       "  <li>n = [2, 2]</li>\n",
       "  </ul></li>\n",
       "  <li>nvdim = 3</li>\n",
       "  <li>vdims:\n",
       "      <ul><li>x</li>\n",
       "        <li>y</li>\n",
       "        <li>z</li>\n",
       "        </ul>\n",
       "    </li>\n",
       "  </ul>"
      ],
      "text/plain": [
       "Field(Mesh(Region(pmin=[-50, -50], pmax=[50, 50], dims=['y', 'z'], units=['m', 'm']), n=[2, 2]), nvdim=3, vdims: (x, y, z))"
      ]
     },
     "execution_count": 24,
     "metadata": {},
     "output_type": "execute_result"
    }
   ],
   "source": [
    "field.sel(x=1)"
   ]
  },
  {
   "cell_type": "markdown",
   "metadata": {},
   "source": [
    "If we want to cut through the middle of the mesh, we do not need to provide a particular value for a coordinate."
   ]
  },
  {
   "cell_type": "code",
   "execution_count": 25,
   "metadata": {},
   "outputs": [
    {
     "data": {
      "text/html": [
       "<strong>Field</strong>\n",
       "<ul>\n",
       "  \n",
       "  <li><strong>Mesh</strong>\n",
       "<ul>\n",
       "  <li><strong>Region</strong>\n",
       "<ul>\n",
       "  <li>pmin = [-50, -50]</li>\n",
       "  <li>pmax = [50, 50]</li>\n",
       "  <li>dims = ['y', 'z']</li>\n",
       "  <li>units = ['m', 'm']</li>\n",
       "</ul></li>\n",
       "  <li>n = [2, 2]</li>\n",
       "  </ul></li>\n",
       "  <li>nvdim = 3</li>\n",
       "  <li>vdims:\n",
       "      <ul><li>x</li>\n",
       "        <li>y</li>\n",
       "        <li>z</li>\n",
       "        </ul>\n",
       "    </li>\n",
       "  </ul>"
      ],
      "text/plain": [
       "Field(Mesh(Region(pmin=[-50, -50], pmax=[50, 50], dims=['y', 'z'], units=['m', 'm']), n=[2, 2]), nvdim=3, vdims: (x, y, z))"
      ]
     },
     "execution_count": 25,
     "metadata": {},
     "output_type": "execute_result"
    }
   ],
   "source": [
    "field.sel(\"x\")"
   ]
  },
  {
   "cell_type": "markdown",
   "metadata": {},
   "source": [
    "## Selecting part of the field\n",
    "\n",
    "We can also select part of the field using, `discretisedfield.Field.sel`. This will can be used to return a new field object which contains only discretisation cells in the specific region. The dimensionality of the field remains the same. The selections hat are allowed are the geometric axes. For instance, for a three-dimensional geometry, we can select the $x$-axis between -10 and 30. This can be written as\n",
    "\n",
    "$$x = (-10, 30)$$\n",
    "\n",
    "This will return three cells in the $x$ direction that between $-25$ and $50$. This is as there are originally four cells which have boundaries:\n",
    "\n",
    "       Cell 0     Cell 1     Cell 2     Cell 3 \n",
    "    |----------|----------|----------|----------|\n",
    "    -50       -25         0         25         50\n",
    "        \n",
    "\n",
    "\n",
    "\n",
    "If we select our lower point at $-10$ then the whole of `Cell 1` will be selected and if we select our upper point at $+10$ then the whole of `Cell 3` will be selected. All the cells between these teo points will also be selected."
   ]
  },
  {
   "cell_type": "code",
   "execution_count": 26,
   "metadata": {},
   "outputs": [
    {
     "data": {
      "text/html": [
       "<strong>Field</strong>\n",
       "<ul>\n",
       "  \n",
       "  <li><strong>Mesh</strong>\n",
       "<ul>\n",
       "  <li><strong>Region</strong>\n",
       "<ul>\n",
       "  <li>pmin = [-25.0, -50.0, -50.0]</li>\n",
       "  <li>pmax = [50.0, 50.0, 50.0]</li>\n",
       "  <li>dims = ['x', 'y', 'z']</li>\n",
       "  <li>units = ['m', 'm', 'm']</li>\n",
       "</ul></li>\n",
       "  <li>n = [3, 2, 2]</li>\n",
       "  </ul></li>\n",
       "  <li>nvdim = 3</li>\n",
       "  <li>vdims:\n",
       "      <ul><li>x</li>\n",
       "        <li>y</li>\n",
       "        <li>z</li>\n",
       "        </ul>\n",
       "    </li>\n",
       "  </ul>"
      ],
      "text/plain": [
       "Field(Mesh(Region(pmin=[-25.0, -50.0, -50.0], pmax=[50.0, 50.0, 50.0], dims=['x', 'y', 'z'], units=['m', 'm', 'm']), n=[3, 2, 2]), nvdim=3, vdims: (x, y, z))"
      ]
     },
     "execution_count": 26,
     "metadata": {},
     "output_type": "execute_result"
    }
   ],
   "source": [
    "field.sel(x=(-10, 30))"
   ]
  },
  {
   "cell_type": "markdown",
   "metadata": {},
   "source": [
    "## Cascading the operations\n",
    "\n",
    "Let us say we want to compute the mean() of an $x$ component of the field on the plane $y=10$. In order to do that, we can cascade several operation in a single line."
   ]
  },
  {
   "cell_type": "code",
   "execution_count": 27,
   "metadata": {},
   "outputs": [
    {
     "data": {
      "text/plain": [
       "array([0.])"
      ]
     },
     "execution_count": 27,
     "metadata": {},
     "output_type": "execute_result"
    }
   ],
   "source": [
    "field.sel(y=10).x.mean()"
   ]
  },
  {
   "cell_type": "markdown",
   "metadata": {},
   "source": [
    "This gives the same result as for instance"
   ]
  },
  {
   "cell_type": "code",
   "execution_count": 28,
   "metadata": {},
   "outputs": [
    {
     "data": {
      "text/plain": [
       "array([0.])"
      ]
     },
     "execution_count": 28,
     "metadata": {},
     "output_type": "execute_result"
    }
   ],
   "source": [
    "field.x.sel(y=10).mean()"
   ]
  },
  {
   "cell_type": "markdown",
   "metadata": {},
   "source": [
    "## Complex fields\n",
    "\n",
    "`discretisedfield` supports complex-valued fields."
   ]
  },
  {
   "cell_type": "code",
   "execution_count": 29,
   "metadata": {},
   "outputs": [],
   "source": [
    "cfield = df.Field(mesh, nvdim=3, value=(1 + 1.5j, 2, 3j))"
   ]
  },
  {
   "cell_type": "markdown",
   "metadata": {},
   "source": [
    "We can extract `real` and `imaginary` part."
   ]
  },
  {
   "cell_type": "code",
   "execution_count": 30,
   "metadata": {},
   "outputs": [
    {
     "data": {
      "text/plain": [
       "array([1., 2., 0.])"
      ]
     },
     "execution_count": 30,
     "metadata": {},
     "output_type": "execute_result"
    }
   ],
   "source": [
    "cfield.real((0, 0, 0))"
   ]
  },
  {
   "cell_type": "code",
   "execution_count": 31,
   "metadata": {},
   "outputs": [
    {
     "data": {
      "text/plain": [
       "array([1.5, 0. , 3. ])"
      ]
     },
     "execution_count": 31,
     "metadata": {},
     "output_type": "execute_result"
    }
   ],
   "source": [
    "cfield.imag((0, 0, 0))"
   ]
  },
  {
   "cell_type": "markdown",
   "metadata": {},
   "source": [
    "Similarly we get `real` and `imaginary` parts of individual components."
   ]
  },
  {
   "cell_type": "code",
   "execution_count": 32,
   "metadata": {},
   "outputs": [
    {
     "data": {
      "text/plain": [
       "array([1.])"
      ]
     },
     "execution_count": 32,
     "metadata": {},
     "output_type": "execute_result"
    }
   ],
   "source": [
    "cfield.x.real((0, 0, 0))"
   ]
  },
  {
   "cell_type": "code",
   "execution_count": 33,
   "metadata": {},
   "outputs": [
    {
     "data": {
      "text/plain": [
       "array([1.5])"
      ]
     },
     "execution_count": 33,
     "metadata": {},
     "output_type": "execute_result"
    }
   ],
   "source": [
    "cfield.x.imag((0, 0, 0))"
   ]
  },
  {
   "cell_type": "markdown",
   "metadata": {},
   "source": [
    "Complex conjugate."
   ]
  },
  {
   "cell_type": "code",
   "execution_count": 34,
   "metadata": {},
   "outputs": [
    {
     "data": {
      "text/plain": [
       "array([1.-1.5j, 2.-0.j , 0.-3.j ])"
      ]
     },
     "execution_count": 34,
     "metadata": {},
     "output_type": "execute_result"
    }
   ],
   "source": [
    "cfield.conjugate((0, 0, 0))"
   ]
  },
  {
   "cell_type": "markdown",
   "metadata": {},
   "source": [
    "Phase in the complex plane."
   ]
  },
  {
   "cell_type": "code",
   "execution_count": 35,
   "metadata": {},
   "outputs": [
    {
     "data": {
      "text/plain": [
       "array([0.98279372, 0.        , 1.57079633])"
      ]
     },
     "execution_count": 35,
     "metadata": {},
     "output_type": "execute_result"
    }
   ],
   "source": [
    "cfield.phase((0, 0, 0))"
   ]
  },
  {
   "cell_type": "markdown",
   "metadata": {
    "jp-MarkdownHeadingCollapsed": true
   },
   "source": [
    "## Algebra operations\n",
    "\n",
    "Let us define two fields:"
   ]
  },
  {
   "cell_type": "code",
   "execution_count": 36,
   "metadata": {},
   "outputs": [],
   "source": [
    "region = df.Region(p1=(0, 0, 0), p2=(10e-9, 10e-9, 10e-9))\n",
    "mesh = df.Mesh(region=region, n=(10, 10, 10))\n",
    "\n",
    "f1 = df.Field(mesh, nvdim=3, value=(1, 1, 1))\n",
    "f2 = df.Field(mesh, nvdim=3, value=(2, 1, 3))"
   ]
  },
  {
   "cell_type": "code",
   "execution_count": 37,
   "metadata": {},
   "outputs": [
    {
     "data": {
      "text/plain": [
       "array([1., 1., 1.])"
      ]
     },
     "execution_count": 37,
     "metadata": {},
     "output_type": "execute_result"
    }
   ],
   "source": [
    "f1.mean()"
   ]
  },
  {
   "cell_type": "code",
   "execution_count": 38,
   "metadata": {},
   "outputs": [
    {
     "data": {
      "text/plain": [
       "array([2., 1., 3.])"
      ]
     },
     "execution_count": 38,
     "metadata": {},
     "output_type": "execute_result"
    }
   ],
   "source": [
    "f2.mean()"
   ]
  },
  {
   "cell_type": "markdown",
   "metadata": {},
   "source": [
    "### `+` operation"
   ]
  },
  {
   "cell_type": "code",
   "execution_count": 39,
   "metadata": {},
   "outputs": [
    {
     "data": {
      "text/html": [
       "<strong>Field</strong>\n",
       "<ul>\n",
       "  \n",
       "  <li><strong>Mesh</strong>\n",
       "<ul>\n",
       "  <li><strong>Region</strong>\n",
       "<ul>\n",
       "  <li>pmin = [0.0, 0.0, 0.0]</li>\n",
       "  <li>pmax = [1e-08, 1e-08, 1e-08]</li>\n",
       "  <li>dims = ['x', 'y', 'z']</li>\n",
       "  <li>units = ['m', 'm', 'm']</li>\n",
       "</ul></li>\n",
       "  <li>n = [10, 10, 10]</li>\n",
       "  </ul></li>\n",
       "  <li>nvdim = 3</li>\n",
       "  <li>vdims:\n",
       "      <ul><li>x</li>\n",
       "        <li>y</li>\n",
       "        <li>z</li>\n",
       "        </ul>\n",
       "    </li>\n",
       "  </ul>"
      ],
      "text/plain": [
       "Field(Mesh(Region(pmin=[0.0, 0.0, 0.0], pmax=[1e-08, 1e-08, 1e-08], dims=['x', 'y', 'z'], units=['m', 'm', 'm']), n=[10, 10, 10]), nvdim=3, vdims: (x, y, z))"
      ]
     },
     "execution_count": 39,
     "metadata": {},
     "output_type": "execute_result"
    }
   ],
   "source": [
    "f1 + f2"
   ]
  },
  {
   "cell_type": "code",
   "execution_count": 40,
   "metadata": {},
   "outputs": [
    {
     "data": {
      "text/plain": [
       "array([3., 2., 4.])"
      ]
     },
     "execution_count": 40,
     "metadata": {},
     "output_type": "execute_result"
    }
   ],
   "source": [
    "(f1 + f2).mean()"
   ]
  },
  {
   "cell_type": "markdown",
   "metadata": {},
   "source": [
    "### `-` operation"
   ]
  },
  {
   "cell_type": "code",
   "execution_count": 41,
   "metadata": {},
   "outputs": [
    {
     "data": {
      "text/html": [
       "<strong>Field</strong>\n",
       "<ul>\n",
       "  \n",
       "  <li><strong>Mesh</strong>\n",
       "<ul>\n",
       "  <li><strong>Region</strong>\n",
       "<ul>\n",
       "  <li>pmin = [0.0, 0.0, 0.0]</li>\n",
       "  <li>pmax = [1e-08, 1e-08, 1e-08]</li>\n",
       "  <li>dims = ['x', 'y', 'z']</li>\n",
       "  <li>units = ['m', 'm', 'm']</li>\n",
       "</ul></li>\n",
       "  <li>n = [10, 10, 10]</li>\n",
       "  </ul></li>\n",
       "  <li>nvdim = 3</li>\n",
       "  <li>vdims:\n",
       "      <ul><li>x</li>\n",
       "        <li>y</li>\n",
       "        <li>z</li>\n",
       "        </ul>\n",
       "    </li>\n",
       "  </ul>"
      ],
      "text/plain": [
       "Field(Mesh(Region(pmin=[0.0, 0.0, 0.0], pmax=[1e-08, 1e-08, 1e-08], dims=['x', 'y', 'z'], units=['m', 'm', 'm']), n=[10, 10, 10]), nvdim=3, vdims: (x, y, z))"
      ]
     },
     "execution_count": 41,
     "metadata": {},
     "output_type": "execute_result"
    }
   ],
   "source": [
    "f1 - f2"
   ]
  },
  {
   "cell_type": "code",
   "execution_count": 42,
   "metadata": {},
   "outputs": [
    {
     "data": {
      "text/plain": [
       "array([-1.,  0., -2.])"
      ]
     },
     "execution_count": 42,
     "metadata": {},
     "output_type": "execute_result"
    }
   ],
   "source": [
    "(f1 - f2).mean()"
   ]
  },
  {
   "cell_type": "markdown",
   "metadata": {},
   "source": [
    "### `*` operation\n",
    "\n",
    "Basic multiplication between vector fields is carried out element wise."
   ]
  },
  {
   "cell_type": "code",
   "execution_count": 43,
   "metadata": {
    "tags": []
   },
   "outputs": [
    {
     "data": {
      "text/html": [
       "<strong>Field</strong>\n",
       "<ul>\n",
       "  \n",
       "  <li><strong>Mesh</strong>\n",
       "<ul>\n",
       "  <li><strong>Region</strong>\n",
       "<ul>\n",
       "  <li>pmin = [0.0, 0.0, 0.0]</li>\n",
       "  <li>pmax = [1e-08, 1e-08, 1e-08]</li>\n",
       "  <li>dims = ['x', 'y', 'z']</li>\n",
       "  <li>units = ['m', 'm', 'm']</li>\n",
       "</ul></li>\n",
       "  <li>n = [10, 10, 10]</li>\n",
       "  </ul></li>\n",
       "  <li>nvdim = 3</li>\n",
       "  <li>vdims:\n",
       "      <ul><li>x</li>\n",
       "        <li>y</li>\n",
       "        <li>z</li>\n",
       "        </ul>\n",
       "    </li>\n",
       "  </ul>"
      ],
      "text/plain": [
       "Field(Mesh(Region(pmin=[0.0, 0.0, 0.0], pmax=[1e-08, 1e-08, 1e-08], dims=['x', 'y', 'z'], units=['m', 'm', 'm']), n=[10, 10, 10]), nvdim=3, vdims: (x, y, z))"
      ]
     },
     "execution_count": 43,
     "metadata": {},
     "output_type": "execute_result"
    }
   ],
   "source": [
    "f1 * f2  # both are vector fields"
   ]
  },
  {
   "cell_type": "markdown",
   "metadata": {},
   "source": [
    "Scalar with vector field:"
   ]
  },
  {
   "cell_type": "code",
   "execution_count": 44,
   "metadata": {},
   "outputs": [
    {
     "data": {
      "text/html": [
       "<strong>Field</strong>\n",
       "<ul>\n",
       "  \n",
       "  <li><strong>Mesh</strong>\n",
       "<ul>\n",
       "  <li><strong>Region</strong>\n",
       "<ul>\n",
       "  <li>pmin = [0.0, 0.0, 0.0]</li>\n",
       "  <li>pmax = [1e-08, 1e-08, 1e-08]</li>\n",
       "  <li>dims = ['x', 'y', 'z']</li>\n",
       "  <li>units = ['m', 'm', 'm']</li>\n",
       "</ul></li>\n",
       "  <li>n = [10, 10, 10]</li>\n",
       "  </ul></li>\n",
       "  <li>nvdim = 3</li>\n",
       "  <li>vdims:\n",
       "      <ul><li>x</li>\n",
       "        <li>y</li>\n",
       "        <li>z</li>\n",
       "        </ul>\n",
       "    </li>\n",
       "  </ul>"
      ],
      "text/plain": [
       "Field(Mesh(Region(pmin=[0.0, 0.0, 0.0], pmax=[1e-08, 1e-08, 1e-08], dims=['x', 'y', 'z'], units=['m', 'm', 'm']), n=[10, 10, 10]), nvdim=3, vdims: (x, y, z))"
      ]
     },
     "execution_count": 44,
     "metadata": {},
     "output_type": "execute_result"
    }
   ],
   "source": [
    "f1.x * f2"
   ]
  },
  {
   "cell_type": "markdown",
   "metadata": {},
   "source": [
    "Scalar with vector field:"
   ]
  },
  {
   "cell_type": "code",
   "execution_count": 45,
   "metadata": {},
   "outputs": [
    {
     "data": {
      "text/html": [
       "<strong>Field</strong>\n",
       "<ul>\n",
       "  \n",
       "  <li><strong>Mesh</strong>\n",
       "<ul>\n",
       "  <li><strong>Region</strong>\n",
       "<ul>\n",
       "  <li>pmin = [0.0, 0.0, 0.0]</li>\n",
       "  <li>pmax = [1e-08, 1e-08, 1e-08]</li>\n",
       "  <li>dims = ['x', 'y', 'z']</li>\n",
       "  <li>units = ['m', 'm', 'm']</li>\n",
       "</ul></li>\n",
       "  <li>n = [10, 10, 10]</li>\n",
       "  </ul></li>\n",
       "  <li>nvdim = 1</li>\n",
       "  </ul>"
      ],
      "text/plain": [
       "Field(Mesh(Region(pmin=[0.0, 0.0, 0.0], pmax=[1e-08, 1e-08, 1e-08], dims=['x', 'y', 'z'], units=['m', 'm', 'm']), n=[10, 10, 10]), nvdim=1)"
      ]
     },
     "execution_count": 45,
     "metadata": {},
     "output_type": "execute_result"
    }
   ],
   "source": [
    "f1.x * f2.y"
   ]
  },
  {
   "cell_type": "markdown",
   "metadata": {},
   "source": [
    "### `/` operation\n",
    "\n",
    "Dividing vector field by a vector field:"
   ]
  },
  {
   "cell_type": "code",
   "execution_count": 46,
   "metadata": {
    "tags": []
   },
   "outputs": [
    {
     "data": {
      "text/html": [
       "<strong>Field</strong>\n",
       "<ul>\n",
       "  \n",
       "  <li><strong>Mesh</strong>\n",
       "<ul>\n",
       "  <li><strong>Region</strong>\n",
       "<ul>\n",
       "  <li>pmin = [0.0, 0.0, 0.0]</li>\n",
       "  <li>pmax = [1e-08, 1e-08, 1e-08]</li>\n",
       "  <li>dims = ['x', 'y', 'z']</li>\n",
       "  <li>units = ['m', 'm', 'm']</li>\n",
       "</ul></li>\n",
       "  <li>n = [10, 10, 10]</li>\n",
       "  </ul></li>\n",
       "  <li>nvdim = 3</li>\n",
       "  <li>vdims:\n",
       "      <ul><li>x</li>\n",
       "        <li>y</li>\n",
       "        <li>z</li>\n",
       "        </ul>\n",
       "    </li>\n",
       "  </ul>"
      ],
      "text/plain": [
       "Field(Mesh(Region(pmin=[0.0, 0.0, 0.0], pmax=[1e-08, 1e-08, 1e-08], dims=['x', 'y', 'z'], units=['m', 'm', 'm']), n=[10, 10, 10]), nvdim=3, vdims: (x, y, z))"
      ]
     },
     "execution_count": 46,
     "metadata": {},
     "output_type": "execute_result"
    }
   ],
   "source": [
    "f1 / f2"
   ]
  },
  {
   "cell_type": "markdown",
   "metadata": {},
   "source": [
    "Dividing vector field by a scalar field:"
   ]
  },
  {
   "cell_type": "code",
   "execution_count": 47,
   "metadata": {},
   "outputs": [
    {
     "data": {
      "text/html": [
       "<strong>Field</strong>\n",
       "<ul>\n",
       "  \n",
       "  <li><strong>Mesh</strong>\n",
       "<ul>\n",
       "  <li><strong>Region</strong>\n",
       "<ul>\n",
       "  <li>pmin = [0.0, 0.0, 0.0]</li>\n",
       "  <li>pmax = [1e-08, 1e-08, 1e-08]</li>\n",
       "  <li>dims = ['x', 'y', 'z']</li>\n",
       "  <li>units = ['m', 'm', 'm']</li>\n",
       "</ul></li>\n",
       "  <li>n = [10, 10, 10]</li>\n",
       "  </ul></li>\n",
       "  <li>nvdim = 3</li>\n",
       "  <li>vdims:\n",
       "      <ul><li>x</li>\n",
       "        <li>y</li>\n",
       "        <li>z</li>\n",
       "        </ul>\n",
       "    </li>\n",
       "  </ul>"
      ],
      "text/plain": [
       "Field(Mesh(Region(pmin=[0.0, 0.0, 0.0], pmax=[1e-08, 1e-08, 1e-08], dims=['x', 'y', 'z'], units=['m', 'm', 'm']), n=[10, 10, 10]), nvdim=3, vdims: (x, y, z))"
      ]
     },
     "execution_count": 47,
     "metadata": {},
     "output_type": "execute_result"
    }
   ],
   "source": [
    "f1 / f2.x"
   ]
  },
  {
   "cell_type": "markdown",
   "metadata": {},
   "source": [
    "We can also divide a scalar field by a vector field:"
   ]
  },
  {
   "cell_type": "code",
   "execution_count": 48,
   "metadata": {
    "tags": []
   },
   "outputs": [
    {
     "data": {
      "text/html": [
       "<strong>Field</strong>\n",
       "<ul>\n",
       "  \n",
       "  <li><strong>Mesh</strong>\n",
       "<ul>\n",
       "  <li><strong>Region</strong>\n",
       "<ul>\n",
       "  <li>pmin = [0.0, 0.0, 0.0]</li>\n",
       "  <li>pmax = [1e-08, 1e-08, 1e-08]</li>\n",
       "  <li>dims = ['x', 'y', 'z']</li>\n",
       "  <li>units = ['m', 'm', 'm']</li>\n",
       "</ul></li>\n",
       "  <li>n = [10, 10, 10]</li>\n",
       "  </ul></li>\n",
       "  <li>nvdim = 3</li>\n",
       "  <li>vdims:\n",
       "      <ul><li>x</li>\n",
       "        <li>y</li>\n",
       "        <li>z</li>\n",
       "        </ul>\n",
       "    </li>\n",
       "  </ul>"
      ],
      "text/plain": [
       "Field(Mesh(Region(pmin=[0.0, 0.0, 0.0], pmax=[1e-08, 1e-08, 1e-08], dims=['x', 'y', 'z'], units=['m', 'm', 'm']), n=[10, 10, 10]), nvdim=3, vdims: (x, y, z))"
      ]
     },
     "execution_count": 48,
     "metadata": {},
     "output_type": "execute_result"
    }
   ],
   "source": [
    "f2.x / f1"
   ]
  },
  {
   "cell_type": "markdown",
   "metadata": {},
   "source": [
    "### `**` operator\n",
    "\n",
    "This operator is applied element wise to all fields"
   ]
  },
  {
   "cell_type": "code",
   "execution_count": 49,
   "metadata": {
    "tags": []
   },
   "outputs": [
    {
     "data": {
      "text/html": [
       "<strong>Field</strong>\n",
       "<ul>\n",
       "  \n",
       "  <li><strong>Mesh</strong>\n",
       "<ul>\n",
       "  <li><strong>Region</strong>\n",
       "<ul>\n",
       "  <li>pmin = [0.0, 0.0, 0.0]</li>\n",
       "  <li>pmax = [1e-08, 1e-08, 1e-08]</li>\n",
       "  <li>dims = ['x', 'y', 'z']</li>\n",
       "  <li>units = ['m', 'm', 'm']</li>\n",
       "</ul></li>\n",
       "  <li>n = [10, 10, 10]</li>\n",
       "  </ul></li>\n",
       "  <li>nvdim = 3</li>\n",
       "  <li>vdims:\n",
       "      <ul><li>x</li>\n",
       "        <li>y</li>\n",
       "        <li>z</li>\n",
       "        </ul>\n",
       "    </li>\n",
       "  </ul>"
      ],
      "text/plain": [
       "Field(Mesh(Region(pmin=[0.0, 0.0, 0.0], pmax=[1e-08, 1e-08, 1e-08], dims=['x', 'y', 'z'], units=['m', 'm', 'm']), n=[10, 10, 10]), nvdim=3, vdims: (x, y, z))"
      ]
     },
     "execution_count": 49,
     "metadata": {},
     "output_type": "execute_result"
    }
   ],
   "source": [
    "f1**2"
   ]
  },
  {
   "cell_type": "code",
   "execution_count": 50,
   "metadata": {},
   "outputs": [
    {
     "data": {
      "text/html": [
       "<strong>Field</strong>\n",
       "<ul>\n",
       "  \n",
       "  <li><strong>Mesh</strong>\n",
       "<ul>\n",
       "  <li><strong>Region</strong>\n",
       "<ul>\n",
       "  <li>pmin = [0.0, 0.0, 0.0]</li>\n",
       "  <li>pmax = [1e-08, 1e-08, 1e-08]</li>\n",
       "  <li>dims = ['x', 'y', 'z']</li>\n",
       "  <li>units = ['m', 'm', 'm']</li>\n",
       "</ul></li>\n",
       "  <li>n = [10, 10, 10]</li>\n",
       "  </ul></li>\n",
       "  <li>nvdim = 1</li>\n",
       "  </ul>"
      ],
      "text/plain": [
       "Field(Mesh(Region(pmin=[0.0, 0.0, 0.0], pmax=[1e-08, 1e-08, 1e-08], dims=['x', 'y', 'z'], units=['m', 'm', 'm']), n=[10, 10, 10]), nvdim=1)"
      ]
     },
     "execution_count": 50,
     "metadata": {},
     "output_type": "execute_result"
    }
   ],
   "source": [
    "f1.x**2"
   ]
  },
  {
   "cell_type": "markdown",
   "metadata": {},
   "source": [
    "### Compund operations"
   ]
  },
  {
   "cell_type": "code",
   "execution_count": 51,
   "metadata": {},
   "outputs": [],
   "source": [
    "f1 += f2"
   ]
  },
  {
   "cell_type": "code",
   "execution_count": 52,
   "metadata": {},
   "outputs": [],
   "source": [
    "f1 -= f2"
   ]
  },
  {
   "cell_type": "code",
   "execution_count": 53,
   "metadata": {},
   "outputs": [],
   "source": [
    "f1 *= f2.x"
   ]
  },
  {
   "cell_type": "code",
   "execution_count": 54,
   "metadata": {},
   "outputs": [],
   "source": [
    "f2 /= f2.y"
   ]
  },
  {
   "cell_type": "markdown",
   "metadata": {
    "jp-MarkdownHeadingCollapsed": true
   },
   "source": [
    "## Vector products\n",
    "\n",
    "As the title says, these products are applied between vector fields only.\n",
    "\n",
    "### Dot product\n",
    "\n",
    "Dot product is implemented through `dot` method:"
   ]
  },
  {
   "cell_type": "code",
   "execution_count": 55,
   "metadata": {},
   "outputs": [
    {
     "data": {
      "text/html": [
       "<strong>Field</strong>\n",
       "<ul>\n",
       "  \n",
       "  <li><strong>Mesh</strong>\n",
       "<ul>\n",
       "  <li><strong>Region</strong>\n",
       "<ul>\n",
       "  <li>pmin = [0.0, 0.0, 0.0]</li>\n",
       "  <li>pmax = [1e-08, 1e-08, 1e-08]</li>\n",
       "  <li>dims = ['x', 'y', 'z']</li>\n",
       "  <li>units = ['m', 'm', 'm']</li>\n",
       "</ul></li>\n",
       "  <li>n = [10, 10, 10]</li>\n",
       "  </ul></li>\n",
       "  <li>nvdim = 1</li>\n",
       "  </ul>"
      ],
      "text/plain": [
       "Field(Mesh(Region(pmin=[0.0, 0.0, 0.0], pmax=[1e-08, 1e-08, 1e-08], dims=['x', 'y', 'z'], units=['m', 'm', 'm']), n=[10, 10, 10]), nvdim=1)"
      ]
     },
     "execution_count": 55,
     "metadata": {},
     "output_type": "execute_result"
    }
   ],
   "source": [
    "f1.dot(f2)"
   ]
  },
  {
   "cell_type": "markdown",
   "metadata": {},
   "source": [
    "### Cross product\n",
    "\n",
    "Cross product between vector fields is performed using `cross` method:"
   ]
  },
  {
   "cell_type": "code",
   "execution_count": 56,
   "metadata": {},
   "outputs": [
    {
     "data": {
      "text/html": [
       "<strong>Field</strong>\n",
       "<ul>\n",
       "  \n",
       "  <li><strong>Mesh</strong>\n",
       "<ul>\n",
       "  <li><strong>Region</strong>\n",
       "<ul>\n",
       "  <li>pmin = [0.0, 0.0, 0.0]</li>\n",
       "  <li>pmax = [1e-08, 1e-08, 1e-08]</li>\n",
       "  <li>dims = ['x', 'y', 'z']</li>\n",
       "  <li>units = ['m', 'm', 'm']</li>\n",
       "</ul></li>\n",
       "  <li>n = [10, 10, 10]</li>\n",
       "  </ul></li>\n",
       "  <li>nvdim = 3</li>\n",
       "  <li>vdims:\n",
       "      <ul><li>x</li>\n",
       "        <li>y</li>\n",
       "        <li>z</li>\n",
       "        </ul>\n",
       "    </li>\n",
       "  </ul>"
      ],
      "text/plain": [
       "Field(Mesh(Region(pmin=[0.0, 0.0, 0.0], pmax=[1e-08, 1e-08, 1e-08], dims=['x', 'y', 'z'], units=['m', 'm', 'm']), n=[10, 10, 10]), nvdim=3, vdims: (x, y, z))"
      ]
     },
     "execution_count": 56,
     "metadata": {},
     "output_type": "execute_result"
    }
   ],
   "source": [
    "f1.cross(f2)"
   ]
  },
  {
   "cell_type": "markdown",
   "metadata": {
    "jp-MarkdownHeadingCollapsed": true
   },
   "source": [
    "## Vector calculus\n",
    "\n",
    "### Directional derivative $\\left(\\frac{\\partial}{\\partial x_{i}}f\\right)$\n",
    "\n",
    "Defined on both scalar and vector fields:"
   ]
  },
  {
   "cell_type": "code",
   "execution_count": 57,
   "metadata": {},
   "outputs": [
    {
     "data": {
      "text/html": [
       "<strong>Field</strong>\n",
       "<ul>\n",
       "  \n",
       "  <li><strong>Mesh</strong>\n",
       "<ul>\n",
       "  <li><strong>Region</strong>\n",
       "<ul>\n",
       "  <li>pmin = [0.0, 0.0, 0.0]</li>\n",
       "  <li>pmax = [1e-08, 1e-08, 1e-08]</li>\n",
       "  <li>dims = ['x', 'y', 'z']</li>\n",
       "  <li>units = ['m', 'm', 'm']</li>\n",
       "</ul></li>\n",
       "  <li>n = [10, 10, 10]</li>\n",
       "  </ul></li>\n",
       "  <li>nvdim = 3</li>\n",
       "  <li>vdims:\n",
       "      <ul><li>x</li>\n",
       "        <li>y</li>\n",
       "        <li>z</li>\n",
       "        </ul>\n",
       "    </li>\n",
       "  </ul>"
      ],
      "text/plain": [
       "Field(Mesh(Region(pmin=[0.0, 0.0, 0.0], pmax=[1e-08, 1e-08, 1e-08], dims=['x', 'y', 'z'], units=['m', 'm', 'm']), n=[10, 10, 10]), nvdim=3, vdims: (x, y, z))"
      ]
     },
     "execution_count": 57,
     "metadata": {},
     "output_type": "execute_result"
    }
   ],
   "source": [
    "f1.diff(\"x\")"
   ]
  },
  {
   "cell_type": "markdown",
   "metadata": {},
   "source": [
    "### Gradient $(\\nabla f)$\n",
    "\n",
    "Defined on scalar fields:"
   ]
  },
  {
   "cell_type": "code",
   "execution_count": 58,
   "metadata": {},
   "outputs": [
    {
     "data": {
      "text/html": [
       "<strong>Field</strong>\n",
       "<ul>\n",
       "  \n",
       "  <li><strong>Mesh</strong>\n",
       "<ul>\n",
       "  <li><strong>Region</strong>\n",
       "<ul>\n",
       "  <li>pmin = [0.0, 0.0, 0.0]</li>\n",
       "  <li>pmax = [1e-08, 1e-08, 1e-08]</li>\n",
       "  <li>dims = ['x', 'y', 'z']</li>\n",
       "  <li>units = ['m', 'm', 'm']</li>\n",
       "</ul></li>\n",
       "  <li>n = [10, 10, 10]</li>\n",
       "  </ul></li>\n",
       "  <li>nvdim = 3</li>\n",
       "  <li>vdims:\n",
       "      <ul><li>x</li>\n",
       "        <li>y</li>\n",
       "        <li>z</li>\n",
       "        </ul>\n",
       "    </li>\n",
       "  </ul>"
      ],
      "text/plain": [
       "Field(Mesh(Region(pmin=[0.0, 0.0, 0.0], pmax=[1e-08, 1e-08, 1e-08], dims=['x', 'y', 'z'], units=['m', 'm', 'm']), n=[10, 10, 10]), nvdim=3, vdims: (x, y, z))"
      ]
     },
     "execution_count": 58,
     "metadata": {},
     "output_type": "execute_result"
    }
   ],
   "source": [
    "f1.x.grad"
   ]
  },
  {
   "cell_type": "markdown",
   "metadata": {},
   "source": [
    "### Divergence $(\\nabla \\cdot f)$\n",
    "\n",
    "Defined on `nvdim=2` or `nvdim=3` vector fields:"
   ]
  },
  {
   "cell_type": "code",
   "execution_count": 59,
   "metadata": {},
   "outputs": [
    {
     "data": {
      "text/html": [
       "<strong>Field</strong>\n",
       "<ul>\n",
       "  \n",
       "  <li><strong>Mesh</strong>\n",
       "<ul>\n",
       "  <li><strong>Region</strong>\n",
       "<ul>\n",
       "  <li>pmin = [0.0, 0.0, 0.0]</li>\n",
       "  <li>pmax = [1e-08, 1e-08, 1e-08]</li>\n",
       "  <li>dims = ['x', 'y', 'z']</li>\n",
       "  <li>units = ['m', 'm', 'm']</li>\n",
       "</ul></li>\n",
       "  <li>n = [10, 10, 10]</li>\n",
       "  </ul></li>\n",
       "  <li>nvdim = 1</li>\n",
       "  </ul>"
      ],
      "text/plain": [
       "Field(Mesh(Region(pmin=[0.0, 0.0, 0.0], pmax=[1e-08, 1e-08, 1e-08], dims=['x', 'y', 'z'], units=['m', 'm', 'm']), n=[10, 10, 10]), nvdim=1)"
      ]
     },
     "execution_count": 59,
     "metadata": {},
     "output_type": "execute_result"
    }
   ],
   "source": [
    "f1.div"
   ]
  },
  {
   "cell_type": "markdown",
   "metadata": {},
   "source": [
    "### Curl  $(\\nabla \\times f)$\n",
    "\n",
    "Defined on `nvdim=3` vector fields:"
   ]
  },
  {
   "cell_type": "code",
   "execution_count": 60,
   "metadata": {},
   "outputs": [
    {
     "data": {
      "text/html": [
       "<strong>Field</strong>\n",
       "<ul>\n",
       "  \n",
       "  <li><strong>Mesh</strong>\n",
       "<ul>\n",
       "  <li><strong>Region</strong>\n",
       "<ul>\n",
       "  <li>pmin = [0.0, 0.0, 0.0]</li>\n",
       "  <li>pmax = [1e-08, 1e-08, 1e-08]</li>\n",
       "  <li>dims = ['x', 'y', 'z']</li>\n",
       "  <li>units = ['m', 'm', 'm']</li>\n",
       "</ul></li>\n",
       "  <li>n = [10, 10, 10]</li>\n",
       "  </ul></li>\n",
       "  <li>nvdim = 3</li>\n",
       "  <li>vdims:\n",
       "      <ul><li>x</li>\n",
       "        <li>y</li>\n",
       "        <li>z</li>\n",
       "        </ul>\n",
       "    </li>\n",
       "  </ul>"
      ],
      "text/plain": [
       "Field(Mesh(Region(pmin=[0.0, 0.0, 0.0], pmax=[1e-08, 1e-08, 1e-08], dims=['x', 'y', 'z'], units=['m', 'm', 'm']), n=[10, 10, 10]), nvdim=3, vdims: (x, y, z))"
      ]
     },
     "execution_count": 60,
     "metadata": {},
     "output_type": "execute_result"
    }
   ],
   "source": [
    "f1.curl"
   ]
  },
  {
   "cell_type": "markdown",
   "metadata": {},
   "source": [
    "### Laplace operator $(\\nabla^{2} f)$\n",
    "\n",
    "Defined on both vector (`nvdim=3`) and scalar (`nvdim=1`) fields:"
   ]
  },
  {
   "cell_type": "code",
   "execution_count": 61,
   "metadata": {},
   "outputs": [
    {
     "data": {
      "text/html": [
       "<strong>Field</strong>\n",
       "<ul>\n",
       "  \n",
       "  <li><strong>Mesh</strong>\n",
       "<ul>\n",
       "  <li><strong>Region</strong>\n",
       "<ul>\n",
       "  <li>pmin = [0.0, 0.0, 0.0]</li>\n",
       "  <li>pmax = [1e-08, 1e-08, 1e-08]</li>\n",
       "  <li>dims = ['x', 'y', 'z']</li>\n",
       "  <li>units = ['m', 'm', 'm']</li>\n",
       "</ul></li>\n",
       "  <li>n = [10, 10, 10]</li>\n",
       "  </ul></li>\n",
       "  <li>nvdim = 3</li>\n",
       "  <li>vdims:\n",
       "      <ul><li>x</li>\n",
       "        <li>y</li>\n",
       "        <li>z</li>\n",
       "        </ul>\n",
       "    </li>\n",
       "  </ul>"
      ],
      "text/plain": [
       "Field(Mesh(Region(pmin=[0.0, 0.0, 0.0], pmax=[1e-08, 1e-08, 1e-08], dims=['x', 'y', 'z'], units=['m', 'm', 'm']), n=[10, 10, 10]), nvdim=3, vdims: (x, y, z))"
      ]
     },
     "execution_count": 61,
     "metadata": {},
     "output_type": "execute_result"
    }
   ],
   "source": [
    "f1.laplace"
   ]
  },
  {
   "cell_type": "code",
   "execution_count": 62,
   "metadata": {},
   "outputs": [
    {
     "data": {
      "text/html": [
       "<strong>Field</strong>\n",
       "<ul>\n",
       "  \n",
       "  <li><strong>Mesh</strong>\n",
       "<ul>\n",
       "  <li><strong>Region</strong>\n",
       "<ul>\n",
       "  <li>pmin = [0.0, 0.0, 0.0]</li>\n",
       "  <li>pmax = [1e-08, 1e-08, 1e-08]</li>\n",
       "  <li>dims = ['x', 'y', 'z']</li>\n",
       "  <li>units = ['m', 'm', 'm']</li>\n",
       "</ul></li>\n",
       "  <li>n = [10, 10, 10]</li>\n",
       "  </ul></li>\n",
       "  <li>nvdim = 1</li>\n",
       "  </ul>"
      ],
      "text/plain": [
       "Field(Mesh(Region(pmin=[0.0, 0.0, 0.0], pmax=[1e-08, 1e-08, 1e-08], dims=['x', 'y', 'z'], units=['m', 'm', 'm']), n=[10, 10, 10]), nvdim=1)"
      ]
     },
     "execution_count": 62,
     "metadata": {},
     "output_type": "execute_result"
    }
   ],
   "source": [
    "f1.x.laplace"
   ]
  },
  {
   "cell_type": "markdown",
   "metadata": {},
   "source": [
    "## Integrals\n",
    "\n",
    "Computing integrals is performed using `integrate` method. We are going to show several examples which will give you an idea how you can compute different integrals.\n",
    "\n",
    "Let us first create a field:"
   ]
  },
  {
   "cell_type": "code",
   "execution_count": 63,
   "metadata": {},
   "outputs": [],
   "source": [
    "import discretisedfield as df\n",
    "\n",
    "p1 = (0, 0, 0)\n",
    "p2 = (100e-9, 100e-9, 100e-9)\n",
    "cell = (2e-9, 2e-9, 2e-9)\n",
    "region = df.Region(p1=p1, p2=p2)\n",
    "mesh = df.Mesh(region=region, cell=cell)\n",
    "f = df.Field(mesh, nvdim=3, value=(-3, 0, 4), norm=1e6)"
   ]
  },
  {
   "cell_type": "markdown",
   "metadata": {},
   "source": [
    "### Volume integral\n",
    "\n",
    "$$\\int_{V}\\mathbf{f}(\\mathbf{r})\\text{d}V$$"
   ]
  },
  {
   "cell_type": "code",
   "execution_count": 64,
   "metadata": {},
   "outputs": [
    {
     "data": {
      "text/plain": [
       "array([-6.e-16,  0.e+00,  8.e-16])"
      ]
     },
     "execution_count": 64,
     "metadata": {},
     "output_type": "execute_result"
    }
   ],
   "source": [
    "f.integrate()"
   ]
  },
  {
   "cell_type": "markdown",
   "metadata": {},
   "source": [
    "### Surface integral\n",
    "\n",
    "There is `disretisedfield.dS` value which is a vector field perpendicular to the surface with magnitude equal to the area of $\\text{d}S$.\n",
    "\n",
    "$$\\int_{S}\\mathbf{f}(\\mathbf{r}) \\cdot \\text{d}\\mathbf{S}$$\n",
    "\n",
    "There are two common ways to do surface integrals."
   ]
  },
  {
   "cell_type": "code",
   "execution_count": 65,
   "metadata": {},
   "outputs": [
    {
     "data": {
      "text/plain": [
       "array([8.e-09])"
      ]
     },
     "execution_count": 65,
     "metadata": {},
     "output_type": "execute_result"
    }
   ],
   "source": [
    "f.sel(\"z\").z.integrate()"
   ]
  },
  {
   "cell_type": "code",
   "execution_count": 66,
   "metadata": {},
   "outputs": [
    {
     "data": {
      "text/plain": [
       "array([8.e-09])"
      ]
     },
     "execution_count": 66,
     "metadata": {},
     "output_type": "execute_result"
    }
   ],
   "source": [
    "f.dot((0, 0, 1)).sel(\"z\").integrate()"
   ]
  },
  {
   "cell_type": "markdown",
   "metadata": {},
   "source": [
    "### Line integrals\n",
    "\n",
    "$$\\int_{0}^{x_\\text{max}}\\mathbf{f}(\\mathbf{r}) \\text{d}x$$"
   ]
  },
  {
   "cell_type": "code",
   "execution_count": 67,
   "metadata": {},
   "outputs": [
    {
     "data": {
      "text/html": [
       "<strong>Field</strong>\n",
       "<ul>\n",
       "  \n",
       "  <li><strong>Mesh</strong>\n",
       "<ul>\n",
       "  <li><strong>Region</strong>\n",
       "<ul>\n",
       "  <li>pmin = [0.0, 0.0]</li>\n",
       "  <li>pmax = [1e-07, 1e-07]</li>\n",
       "  <li>dims = ['y', 'z']</li>\n",
       "  <li>units = ['m', 'm']</li>\n",
       "</ul></li>\n",
       "  <li>n = [50, 50]</li>\n",
       "  </ul></li>\n",
       "  <li>nvdim = 3</li>\n",
       "  <li>vdims:\n",
       "      <ul><li>x</li>\n",
       "        <li>y</li>\n",
       "        <li>z</li>\n",
       "        </ul>\n",
       "    </li>\n",
       "  </ul>"
      ],
      "text/plain": [
       "Field(Mesh(Region(pmin=[0.0, 0.0], pmax=[1e-07, 1e-07], dims=['y', 'z'], units=['m', 'm']), n=[50, 50]), nvdim=3, vdims: (x, y, z))"
      ]
     },
     "execution_count": 67,
     "metadata": {},
     "output_type": "execute_result"
    }
   ],
   "source": [
    "f.integrate(\"x\")"
   ]
  },
  {
   "cell_type": "markdown",
   "metadata": {},
   "source": [
    "$$\\int_{0}^{y_\\text{max}}f_{x}(\\mathbf{r}) \\text{d}y$$"
   ]
  },
  {
   "cell_type": "code",
   "execution_count": 68,
   "metadata": {},
   "outputs": [
    {
     "data": {
      "text/html": [
       "<strong>Field</strong>\n",
       "<ul>\n",
       "  \n",
       "  <li><strong>Mesh</strong>\n",
       "<ul>\n",
       "  <li><strong>Region</strong>\n",
       "<ul>\n",
       "  <li>pmin = [0.0, 0.0]</li>\n",
       "  <li>pmax = [1e-07, 1e-07]</li>\n",
       "  <li>dims = ['x', 'z']</li>\n",
       "  <li>units = ['m', 'm']</li>\n",
       "</ul></li>\n",
       "  <li>n = [50, 50]</li>\n",
       "  </ul></li>\n",
       "  <li>nvdim = 1</li>\n",
       "  </ul>"
      ],
      "text/plain": [
       "Field(Mesh(Region(pmin=[0.0, 0.0], pmax=[1e-07, 1e-07], dims=['x', 'z'], units=['m', 'm']), n=[50, 50]), nvdim=1)"
      ]
     },
     "execution_count": 68,
     "metadata": {},
     "output_type": "execute_result"
    }
   ],
   "source": [
    "f.x.integrate(\"y\")"
   ]
  },
  {
   "cell_type": "markdown",
   "metadata": {},
   "source": [
    "### Example\n",
    "\n",
    "We have showed how to compute an integral when integrand is just a field. It is important to have in mind that this can be any field after some operations have been applied on it. For instance:\n",
    "\n",
    "$$\\int_{V}\\nabla\\cdot\\mathbf{f}(\\mathbf{r})\\text{d}V$$"
   ]
  },
  {
   "cell_type": "code",
   "execution_count": 69,
   "metadata": {},
   "outputs": [
    {
     "data": {
      "text/plain": [
       "array([0.])"
      ]
     },
     "execution_count": 69,
     "metadata": {},
     "output_type": "execute_result"
    }
   ],
   "source": [
    "f.div.integrate()"
   ]
  },
  {
   "cell_type": "markdown",
   "metadata": {},
   "source": [
    "Here we implement skyrmion number calculations using operations on fields:\n",
    "\n",
    "$$S = \\frac{1}{4\\pi} \\int \\mathbf{m} \\cdot \\left(\\frac{\\partial \\mathbf{m}}{\\partial x} \\times \\frac{\\partial \\mathbf{m}}{\\partial y}\\right) dxdy$$"
   ]
  },
  {
   "cell_type": "code",
   "execution_count": 70,
   "metadata": {},
   "outputs": [
    {
     "data": {
      "text/plain": [
       "array([0.])"
      ]
     },
     "execution_count": 70,
     "metadata": {},
     "output_type": "execute_result"
    }
   ],
   "source": [
    "import math\n",
    "\n",
    "m = field.orientation.sel(\"z\")\n",
    "S = m.dot(m.diff(\"x\").cross(m.diff(\"y\"))).integrate() / (4 * math.pi)\n",
    "S"
   ]
  },
  {
   "cell_type": "markdown",
   "metadata": {},
   "source": [
    "Or using Ubermag function:"
   ]
  },
  {
   "cell_type": "code",
   "execution_count": 71,
   "metadata": {},
   "outputs": [
    {
     "data": {
      "text/plain": [
       "0.0"
      ]
     },
     "execution_count": 71,
     "metadata": {},
     "output_type": "execute_result"
    }
   ],
   "source": [
    "import discretisedfield.tools as dft\n",
    "\n",
    "dft.topological_charge(m)"
   ]
  },
  {
   "cell_type": "markdown",
   "metadata": {},
   "source": [
    "Using Berg-Luescher method"
   ]
  },
  {
   "cell_type": "code",
   "execution_count": 72,
   "metadata": {},
   "outputs": [
    {
     "data": {
      "text/plain": [
       "0.0"
      ]
     },
     "execution_count": 72,
     "metadata": {},
     "output_type": "execute_result"
    }
   ],
   "source": [
    "dft.topological_charge(m, method=\"berg-luescher\")"
   ]
  },
  {
   "cell_type": "markdown",
   "metadata": {},
   "source": [
    "# Resampling the field\n",
    "\n",
    "It is possible to resample the field on a new mesh while keeping ``pmin`` and ``pmax`` stay unchanged using the `resample` function with the desired number of new number cells passed as an argument.\n",
    "\n",
    "The values of the new cells are taken from the nearest old cell and no interpolation is performed."
   ]
  },
  {
   "cell_type": "code",
   "execution_count": 73,
   "metadata": {},
   "outputs": [
    {
     "data": {
      "text/html": [
       "<strong>Field</strong>\n",
       "<ul>\n",
       "  \n",
       "  <li><strong>Mesh</strong>\n",
       "<ul>\n",
       "  <li><strong>Region</strong>\n",
       "<ul>\n",
       "  <li>pmin = [0.0, 0.0, 0.0]</li>\n",
       "  <li>pmax = [1e-07, 1e-07, 1e-07]</li>\n",
       "  <li>dims = ['x', 'y', 'z']</li>\n",
       "  <li>units = ['m', 'm', 'm']</li>\n",
       "</ul></li>\n",
       "  <li>n = [10, 9, 5]</li>\n",
       "  </ul></li>\n",
       "  <li>nvdim = 3</li>\n",
       "  <li>vdims:\n",
       "      <ul><li>x</li>\n",
       "        <li>y</li>\n",
       "        <li>z</li>\n",
       "        </ul>\n",
       "    </li>\n",
       "  </ul>"
      ],
      "text/plain": [
       "Field(Mesh(Region(pmin=[0.0, 0.0, 0.0], pmax=[1e-07, 1e-07, 1e-07], dims=['x', 'y', 'z'], units=['m', 'm', 'm']), n=[10, 9, 5]), nvdim=3, vdims: (x, y, z))"
      ]
     },
     "execution_count": 73,
     "metadata": {},
     "output_type": "execute_result"
    }
   ],
   "source": [
    "f.resample((10, 9, 5))"
   ]
  },
  {
   "cell_type": "markdown",
   "metadata": {},
   "source": [
    "## Applying `numpys` universal functions\n",
    "numpy universal functions can be applied to `discretisedfield.Field` objects. Below we show a different examples. For available functions please refer to the `numpy` [documentation](https://numpy.org/doc/stable/reference/ufuncs.html#available-ufuncs)."
   ]
  },
  {
   "cell_type": "code",
   "execution_count": 74,
   "metadata": {},
   "outputs": [],
   "source": [
    "import numpy as np"
   ]
  },
  {
   "cell_type": "code",
   "execution_count": 75,
   "metadata": {},
   "outputs": [],
   "source": [
    "f1 = df.Field(mesh, nvdim=1, value=1)\n",
    "f2 = df.Field(mesh, nvdim=1, value=np.pi)\n",
    "f3 = df.Field(mesh, nvdim=1, value=2)"
   ]
  },
  {
   "cell_type": "code",
   "execution_count": 76,
   "metadata": {},
   "outputs": [
    {
     "data": {
      "text/html": [
       "<strong>Field</strong>\n",
       "<ul>\n",
       "  \n",
       "  <li><strong>Mesh</strong>\n",
       "<ul>\n",
       "  <li><strong>Region</strong>\n",
       "<ul>\n",
       "  <li>pmin = [0.0, 0.0, 0.0]</li>\n",
       "  <li>pmax = [1e-07, 1e-07, 1e-07]</li>\n",
       "  <li>dims = ['x', 'y', 'z']</li>\n",
       "  <li>units = ['m', 'm', 'm']</li>\n",
       "</ul></li>\n",
       "  <li>n = [50, 50, 50]</li>\n",
       "  </ul></li>\n",
       "  <li>nvdim = 1</li>\n",
       "  </ul>"
      ],
      "text/plain": [
       "Field(Mesh(Region(pmin=[0.0, 0.0, 0.0], pmax=[1e-07, 1e-07, 1e-07], dims=['x', 'y', 'z'], units=['m', 'm', 'm']), n=[50, 50, 50]), nvdim=1)"
      ]
     },
     "execution_count": 76,
     "metadata": {},
     "output_type": "execute_result"
    }
   ],
   "source": [
    "np.sin(f1)"
   ]
  },
  {
   "cell_type": "code",
   "execution_count": 77,
   "metadata": {},
   "outputs": [
    {
     "data": {
      "text/plain": [
       "array([1.2246468e-16])"
      ]
     },
     "execution_count": 77,
     "metadata": {},
     "output_type": "execute_result"
    }
   ],
   "source": [
    "np.sin(f2)((0, 0, 0))"
   ]
  },
  {
   "cell_type": "code",
   "execution_count": 78,
   "metadata": {},
   "outputs": [
    {
     "data": {
      "text/plain": [
       "array([6.14159265])"
      ]
     },
     "execution_count": 78,
     "metadata": {},
     "output_type": "execute_result"
    }
   ],
   "source": [
    "np.sum((f1, f2, f3))((0, 0, 0))"
   ]
  },
  {
   "cell_type": "code",
   "execution_count": 79,
   "metadata": {},
   "outputs": [
    {
     "data": {
      "text/plain": [
       "array([2.71828183])"
      ]
     },
     "execution_count": 79,
     "metadata": {},
     "output_type": "execute_result"
    }
   ],
   "source": [
    "np.exp(f1)((0, 0, 0))"
   ]
  },
  {
   "cell_type": "code",
   "execution_count": 80,
   "metadata": {},
   "outputs": [
    {
     "data": {
      "text/plain": [
       "array([4.])"
      ]
     },
     "execution_count": 80,
     "metadata": {},
     "output_type": "execute_result"
    }
   ],
   "source": [
    "np.power(f3, 2)((0, 0, 0))"
   ]
  },
  {
   "cell_type": "markdown",
   "metadata": {},
   "source": [
    "## Other\n",
    "\n",
    "Full description of all existing functionality can be found in the [API Reference](https://ubermag.github.io/api/_autosummary/discretisedfield.Field.html)."
   ]
  }
 ],
 "metadata": {
  "kernelspec": {
   "display_name": "Python 3 (ipykernel)",
   "language": "python",
   "name": "python3"
  },
  "language_info": {
   "codemirror_mode": {
    "name": "ipython",
    "version": 3
   },
   "file_extension": ".py",
   "mimetype": "text/x-python",
   "name": "python",
   "nbconvert_exporter": "python",
   "pygments_lexer": "ipython3",
   "version": "3.8.17"
  },
  "widgets": {
   "application/vnd.jupyter.widget-state+json": {
    "state": {},
    "version_major": 2,
    "version_minor": 0
   }
  }
 },
 "nbformat": 4,
 "nbformat_minor": 4
}
