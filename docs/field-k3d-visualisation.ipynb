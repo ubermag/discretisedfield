{
 "cells": [
  {
   "cell_type": "markdown",
   "metadata": {},
   "source": [
    "# Field visualisation using `k3d`\n",
    "\n",
    "**Note:** If you experience any problems in plotting with `k3d`, please make sure you run the Jupyter notebook in Google Chrome.\n",
    "\n",
    "There are two ways how a field can be visualised, using:\n",
    "- `matplotlib`\n",
    "- `k3d`\n",
    "\n",
    "`k3d` provides three-dimensional interactive plots of fields inside Jupyter notebook.\n",
    "\n",
    "Let us say we have a sample, which is an ellipsoid\n",
    "\n",
    "$$\\frac{x^2}{a^2} + \\frac{y^2}{b^2} + \\frac{z^2}{c^2} <= 1$$\n",
    "\n",
    "with $a=5\\,\\text{nm}$, $b=3\\,\\text{nm}$, and $c=2\\,\\text{nm}$. The space is discretised into cells with dimensions $(0.5\\,\\text{nm}, 0.5\\,\\text{nm}, 0.5\\,\\text{nm})$. The value of the field at $(x, y, z)$ point is $(-cy, cx, cz)$, with $c=10^{9}$. The norm of the field inside the cylinder is $10^{6}$.\n",
    "\n",
    "Let us first build that field."
   ]
  },
  {
   "cell_type": "code",
   "execution_count": 1,
   "metadata": {},
   "outputs": [],
   "source": [
    "import discretisedfield as df\n",
    "\n",
    "a, b, c = 5e-9, 3e-9, 2e-9\n",
    "cell = (0.5e-9, 0.5e-9, 0.5e-9)\n",
    "\n",
    "mesh =  df.Mesh(p1=(-a, -b, -c), p2=(a, b, c), cell=cell)\n",
    "\n",
    "def norm_fun(pos):\n",
    "    x, y, z = pos\n",
    "    if (x/a)**2 + (y/b)**2 + (z/c)**2 <= 1:\n",
    "        return 1e6\n",
    "    else:\n",
    "        return 0\n",
    "    \n",
    "def value_fun(pos):\n",
    "    x, y, z = pos\n",
    "    c = 1e9\n",
    "    return (-c*y, c*x, c*z)\n",
    "\n",
    "field = df.Field(mesh, dim=3, value=value_fun, norm=norm_fun)"
   ]
  },
  {
   "cell_type": "markdown",
   "metadata": {},
   "source": [
    "The most basic plot we can show is the plot of all the cells where the value is non-zero. This can be useful, to inspect the domain created, by plotting the norm."
   ]
  },
  {
   "cell_type": "code",
   "execution_count": 2,
   "metadata": {},
   "outputs": [
    {
     "data": {
      "application/vnd.jupyter.widget-view+json": {
       "model_id": "1810fc401fae42f58dfd54e93e033e80",
       "version_major": 2,
       "version_minor": 0
      },
      "text/plain": [
       "Output()"
      ]
     },
     "metadata": {},
     "output_type": "display_data"
    }
   ],
   "source": [
    "# NBVAL_IGNORE_OUTPUT\n",
    "field.norm.k3d.nonzero()"
   ]
  },
  {
   "cell_type": "markdown",
   "metadata": {},
   "source": [
    "The plot is interactive, so it can be manipulated using a mouse. To change the color of voxels, we can pass the new color via `color` argument."
   ]
  },
  {
   "cell_type": "code",
   "execution_count": 3,
   "metadata": {},
   "outputs": [
    {
     "data": {
      "application/vnd.jupyter.widget-view+json": {
       "model_id": "fa5b255ef4f74cc0a849f2a90fa66f5a",
       "version_major": 2,
       "version_minor": 0
      },
      "text/plain": [
       "Output()"
      ]
     },
     "metadata": {},
     "output_type": "display_data"
    }
   ],
   "source": [
    "# NBVAL_IGNORE_OUTPUT\n",
    "field.norm.k3d.nonzero(color=0x27ae60)"
   ]
  },
  {
   "cell_type": "markdown",
   "metadata": {},
   "source": [
    "Next, we can plot a scalar field. For plotting a scalar field, we are using `discretisedfield.Field.k3d_voxels()` method."
   ]
  },
  {
   "cell_type": "code",
   "execution_count": 4,
   "metadata": {},
   "outputs": [
    {
     "name": "stdout",
     "output_type": "stream",
     "text": [
      "Exception raised.\n"
     ]
    }
   ],
   "source": [
    "# NBVAL_IGNORE_OUTPUT\n",
    "try:\n",
    "    field.k3d.scalar()\n",
    "except ValueError:\n",
    "    print('Exception raised.')"
   ]
  },
  {
   "cell_type": "markdown",
   "metadata": {},
   "source": [
    "An exception was raised because we attempted to plot a vector field using voxels. Therefore, we first need to extract a component of the field. Let us plot the $x$ component."
   ]
  },
  {
   "cell_type": "code",
   "execution_count": 5,
   "metadata": {},
   "outputs": [
    {
     "data": {
      "application/vnd.jupyter.widget-view+json": {
       "model_id": "0f6a2532975b4988b5655c38f48043d8",
       "version_major": 2,
       "version_minor": 0
      },
      "text/plain": [
       "Output()"
      ]
     },
     "metadata": {},
     "output_type": "display_data"
    }
   ],
   "source": [
    "# NBVAL_IGNORE_OUTPUT\n",
    "field.x.k3d.scalar()"
   ]
  },
  {
   "cell_type": "markdown",
   "metadata": {},
   "source": [
    "However, we can see that the points which we consider to be outside the sample are also plotted. This is because, `discretisedfield.Field.k3d_voxels()` method cannot determine the points where norm is zero from the passed scalar field. Therefore, we need to pass the `norm_field.`"
   ]
  },
  {
   "cell_type": "code",
   "execution_count": 6,
   "metadata": {},
   "outputs": [
    {
     "data": {
      "application/vnd.jupyter.widget-view+json": {
       "model_id": "5ee8c70724bf4cba90757093de27ce21",
       "version_major": 2,
       "version_minor": 0
      },
      "text/plain": [
       "Output()"
      ]
     },
     "metadata": {},
     "output_type": "display_data"
    }
   ],
   "source": [
    "# NBVAL_IGNORE_OUTPUT\n",
    "field.x.k3d.scalar(filter_field=field.norm, multiplier=1e-6)"
   ]
  },
  {
   "cell_type": "markdown",
   "metadata": {},
   "source": [
    "By cascading operations, we can similarly plot the slice of the ellipsoid at $z=0$."
   ]
  },
  {
   "cell_type": "code",
   "execution_count": 7,
   "metadata": {},
   "outputs": [
    {
     "data": {
      "text/plain": [
       "(5e-10, 6e-09, 4e-09)"
      ]
     },
     "execution_count": 7,
     "metadata": {},
     "output_type": "execute_result"
    }
   ],
   "source": [
    "field.plane('x').mesh.region.edges"
   ]
  },
  {
   "cell_type": "code",
   "execution_count": 8,
   "metadata": {},
   "outputs": [
    {
     "data": {
      "application/vnd.jupyter.widget-view+json": {
       "model_id": "4fa82825d6684e4ba45941abe283ad81",
       "version_major": 2,
       "version_minor": 0
      },
      "text/plain": [
       "Output()"
      ]
     },
     "metadata": {},
     "output_type": "display_data"
    }
   ],
   "source": [
    "# NBVAL_IGNORE_OUTPUT\n",
    "field.x.plane('z').k3d.scalar(filter_field=field.plane('z').norm)"
   ]
  },
  {
   "cell_type": "markdown",
   "metadata": {},
   "source": [
    "To further modify the plot, keyword arguments for `k3d.voxels()` function are accepted. Plese refer to its [documentation](https://k3d-jupyter.readthedocs.io/en/latest/k3d.html#k3d.k3d.voxels).\n",
    "\n",
    "Next, we can plot the vector field itself."
   ]
  },
  {
   "cell_type": "code",
   "execution_count": 9,
   "metadata": {},
   "outputs": [
    {
     "data": {
      "application/vnd.jupyter.widget-view+json": {
       "model_id": "1c558b240f994a87ad27b24d87f862e8",
       "version_major": 2,
       "version_minor": 0
      },
      "text/plain": [
       "Output()"
      ]
     },
     "metadata": {},
     "output_type": "display_data"
    }
   ],
   "source": [
    "# NBVAL_IGNORE_OUTPUT\n",
    "field.k3d.vector()"
   ]
  },
  {
   "cell_type": "markdown",
   "metadata": {},
   "source": [
    "By default, points at the discretisation cell centres are plotted together with vectors to help understand the structure of the field. However, they can be deactivated by passing `points=False`."
   ]
  },
  {
   "cell_type": "code",
   "execution_count": 10,
   "metadata": {},
   "outputs": [
    {
     "data": {
      "application/vnd.jupyter.widget-view+json": {
       "model_id": "f2ce19f6a78f4671816f0af13a15b046",
       "version_major": 2,
       "version_minor": 0
      },
      "text/plain": [
       "Output()"
      ]
     },
     "metadata": {},
     "output_type": "display_data"
    }
   ],
   "source": [
    "# NBVAL_IGNORE_OUTPUT\n",
    "field.k3d.vector(points=False)"
   ]
  },
  {
   "cell_type": "markdown",
   "metadata": {},
   "source": [
    "It is difficult to understand the vector field from this plot. By cascading, we can plot its slice at $x=0$."
   ]
  },
  {
   "cell_type": "code",
   "execution_count": 11,
   "metadata": {},
   "outputs": [
    {
     "data": {
      "application/vnd.jupyter.widget-view+json": {
       "model_id": "f69f492965b54e07991d0f9fa48da08f",
       "version_major": 2,
       "version_minor": 0
      },
      "text/plain": [
       "Output()"
      ]
     },
     "metadata": {},
     "output_type": "display_data"
    }
   ],
   "source": [
    "# NBVAL_IGNORE_OUTPUT\n",
    "field.plane(x=0).k3d.vector()"
   ]
  },
  {
   "cell_type": "markdown",
   "metadata": {},
   "source": [
    "To improve the understanding of the plot, we can now colour the vectors plotted. For that, we need to pass a scalar field, according to which the vectors will be coloured."
   ]
  },
  {
   "cell_type": "code",
   "execution_count": 12,
   "metadata": {},
   "outputs": [
    {
     "data": {
      "application/vnd.jupyter.widget-view+json": {
       "model_id": "af1d89c21b574093af106404816508fc",
       "version_major": 2,
       "version_minor": 0
      },
      "text/plain": [
       "Output()"
      ]
     },
     "metadata": {},
     "output_type": "display_data"
    }
   ],
   "source": [
    "# NBVAL_IGNORE_OUTPUT\n",
    "field.plane(x=0).k3d.vector(color_field=field.x)"
   ]
  },
  {
   "cell_type": "markdown",
   "metadata": {},
   "source": [
    "To further modify the plot, keyword arguments for `k3d.vectors()` function are accepted. Plese refer to its [documentation](https://k3d-jupyter.readthedocs.io/en/latest/k3d.html#k3d.k3d.vectors).\n",
    "\n",
    "### Multiple visualisation on the same plot\n",
    "\n",
    "Sometimes, it is necessary to show, for example, multiple planes of the sample on the same plot. This can be done by exposing the `k3d.plot` and passing it to different plotting methods. For instance."
   ]
  },
  {
   "cell_type": "code",
   "execution_count": 13,
   "metadata": {},
   "outputs": [
    {
     "data": {
      "application/vnd.jupyter.widget-view+json": {
       "model_id": "329654106c4347d68456391d0895e35a",
       "version_major": 2,
       "version_minor": 0
      },
      "text/plain": [
       "Output()"
      ]
     },
     "metadata": {},
     "output_type": "display_data"
    }
   ],
   "source": [
    "# NBVAL_IGNORE_OUTPUT\n",
    "import k3d\n",
    "plot = k3d.plot()\n",
    "field.plane(x=-3e-9).k3d.vector(plot=plot, color_field=field.z)\n",
    "field.plane(x=0).k3d.vector(plot=plot, color_field=field.z, cmap='hsv')\n",
    "field.plane(x=3e-9).k3d.vector(plot=plot, color_field=field.z)\n",
    "plot.display()"
   ]
  },
  {
   "cell_type": "markdown",
   "metadata": {},
   "source": [
    "### Plotting regions in the mesh\n",
    "\n",
    "Different regions can be defined in the mesh. Sometimes it is necessary to visualise those regions in order to make sure they are defined properly."
   ]
  },
  {
   "cell_type": "code",
   "execution_count": 14,
   "metadata": {},
   "outputs": [
    {
     "data": {
      "application/vnd.jupyter.widget-view+json": {
       "model_id": "20d7929b993e40b5a445db5e01f72e76",
       "version_major": 2,
       "version_minor": 0
      },
      "text/plain": [
       "Output()"
      ]
     },
     "metadata": {},
     "output_type": "display_data"
    }
   ],
   "source": [
    "# NBVAL_IGNORE_OUTPUT\n",
    "p1 = (0, 0, 0)\n",
    "p2 = (50, 50, 10)\n",
    "cell = (5, 5, 5)\n",
    "mesh = df.Mesh(p1=p1, p2=p2, cell=cell)\n",
    "\n",
    "region1 = df.Region(p1=(0, 0, 0), p2=(50, 50, 5))\n",
    "region2 = df.Region(p1=(0, 0, 5), p2=(50, 50, 10))\n",
    "\n",
    "mesh.subregions = {'region_with_interesting_properties': region1, 'region_with_funny_properties': region2}\n",
    "\n",
    "mesh.k3d_subregions()"
   ]
  },
  {
   "cell_type": "markdown",
   "metadata": {},
   "source": [
    "## `k3d` interactive plots"
   ]
  },
  {
   "cell_type": "code",
   "execution_count": 15,
   "metadata": {},
   "outputs": [
    {
     "data": {
      "application/vnd.jupyter.widget-view+json": {
       "model_id": "58810948152348ff97798046fad81113",
       "version_major": 2,
       "version_minor": 0
      },
      "text/plain": [
       "Output()"
      ]
     },
     "metadata": {},
     "output_type": "display_data"
    }
   ],
   "source": [
    "# NBVAL_IGNORE_OUTPUT\n",
    "field.plane(z=0).z.k3d.scalar(filter_field=field.norm)"
   ]
  },
  {
   "cell_type": "code",
   "execution_count": 16,
   "metadata": {},
   "outputs": [
    {
     "data": {
      "application/vnd.jupyter.widget-view+json": {
       "model_id": "f7b03f9364524747841b956ea763950b",
       "version_major": 2,
       "version_minor": 0
      },
      "text/plain": [
       "interactive(children=(SelectionSlider(description='z (nm)', index=4, options=((-1.75, -1.7500000000000002e-09)…"
      ]
     },
     "metadata": {},
     "output_type": "display_data"
    },
    {
     "data": {
      "application/vnd.jupyter.widget-view+json": {
       "model_id": "afc2f4cc005c4e369432cd78b5d2e9a1",
       "version_major": 2,
       "version_minor": 0
      },
      "text/plain": [
       "Output()"
      ]
     },
     "metadata": {},
     "output_type": "display_data"
    }
   ],
   "source": [
    "# NBVAL_IGNORE_OUTPUT\n",
    "import k3d\n",
    "\n",
    "plot1 = k3d.plot()\n",
    "\n",
    "@df.interact(z=field.mesh.slider('z', continuous_update=True))\n",
    "def myplot(z):\n",
    "    field.z.plane(z=z).k3d.scalar(filter_field=field.norm,\n",
    "                                  interactive_field=field,\n",
    "                                  plot=plot1)  \n",
    "    \n",
    "plot1.display()"
   ]
  },
  {
   "cell_type": "code",
   "execution_count": 17,
   "metadata": {},
   "outputs": [
    {
     "data": {
      "application/vnd.jupyter.widget-view+json": {
       "model_id": "4eda810c97744e96a723da365f765c89",
       "version_major": 2,
       "version_minor": 0
      },
      "text/plain": [
       "interactive(children=(SelectionSlider(description='z (nm)', index=4, options=((-1.75, -1.7500000000000002e-09)…"
      ]
     },
     "metadata": {},
     "output_type": "display_data"
    },
    {
     "data": {
      "application/vnd.jupyter.widget-view+json": {
       "model_id": "212919cf08d947bdb4ac573120a045a0",
       "version_major": 2,
       "version_minor": 0
      },
      "text/plain": [
       "Output()"
      ]
     },
     "metadata": {},
     "output_type": "display_data"
    }
   ],
   "source": [
    "# NBVAL_IGNORE_OUTPUT\n",
    "plot = k3d.plot()\n",
    "\n",
    "@df.interact(z=field.mesh.slider('z', continuous_update=True),\n",
    "             axis=field.mesh.axis_selector())\n",
    "def myplot(z, axis):\n",
    "    getattr(field, axis).plane(z=z).k3d.scalar(filter_field=field.norm,\n",
    "                                               interactive_field=field,\n",
    "                                               plot=plot)\n",
    "    \n",
    "plot.display()"
   ]
  },
  {
   "cell_type": "code",
   "execution_count": 18,
   "metadata": {},
   "outputs": [
    {
     "data": {
      "application/vnd.jupyter.widget-view+json": {
       "model_id": "db7292d09e8145aaaa5afa25e1463cdd",
       "version_major": 2,
       "version_minor": 0
      },
      "text/plain": [
       "interactive(children=(SelectionSlider(description='y (nm)', index=6, options=((-2.75, -2.75e-09), (-2.25, -2.2…"
      ]
     },
     "metadata": {},
     "output_type": "display_data"
    },
    {
     "data": {
      "application/vnd.jupyter.widget-view+json": {
       "model_id": "89d718fbd6da4012b799994a22aa2d38",
       "version_major": 2,
       "version_minor": 0
      },
      "text/plain": [
       "Output()"
      ]
     },
     "metadata": {},
     "output_type": "display_data"
    }
   ],
   "source": [
    "# NBVAL_IGNORE_OUTPUT\n",
    "plot = k3d.plot()\n",
    "\n",
    "@df.interact(y=field.mesh.slider('y', continuous_update=True),\n",
    "             axis=field.mesh.axis_selector())\n",
    "def myplot(y, axis):\n",
    "    field.plane(y=y).k3d.vector(color_field=getattr(field, axis),\n",
    "                                interactive_field=field,\n",
    "                                plot=plot)\n",
    "    \n",
    "plot.display()"
   ]
  }
 ],
 "metadata": {
  "kernelspec": {
   "display_name": "Python 3 (ipykernel)",
   "language": "python",
   "name": "python3"
  },
  "language_info": {
   "codemirror_mode": {
    "name": "ipython",
    "version": 3
   },
   "file_extension": ".py",
   "mimetype": "text/x-python",
   "name": "python",
   "nbconvert_exporter": "python",
   "pygments_lexer": "ipython3",
   "version": "3.9.7"
  },
  "widgets": {
   "application/vnd.jupyter.widget-state+json": {
    "state": {
     "02362bfe37b94efeb1d021883e420182": {
      "model_module": "@jupyter-widgets/base",
      "model_module_version": "1.2.0",
      "model_name": "LayoutModel",
      "state": {}
     },
     "03e31f0d824046ba8d5d1a9a16a11fd5": {
      "model_module": "@jupyter-widgets/base",
      "model_module_version": "1.2.0",
      "model_name": "LayoutModel",
      "state": {}
     },
     "049bce30763d44a4b06c1287a9971f87": {
      "buffers": [
       {
        "data": "",
        "encoding": "base64",
        "path": [
         "attribute",
         "data"
        ]
       },
       {
        "data": "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",
        "encoding": "base64",
        "path": [
         "color_map",
         "data"
        ]
       },
       {
        "data": "",
        "encoding": "base64",
        "path": [
         "colors",
         "data"
        ]
       },
       {
        "data": "AACAPwAAAAAAAAAAAAAAAAAAAAAAAIA/AAAAAAAAAAAAAAAAAAAAAAAAgD8AAAAAAAAAAAAAAAAAAAAAAACAPw==",
        "encoding": "base64",
        "path": [
         "model_matrix",
         "data"
        ]
       },
       {
        "data": "",
        "encoding": "base64",
        "path": [
         "opacities",
         "data"
        ]
       },
       {
        "data": "",
        "encoding": "base64",
        "path": [
         "opacity_function",
         "data"
        ]
       },
       {
        "data": "",
        "encoding": "base64",
        "path": [
         "point_sizes",
         "data"
        ]
       },
       {
        "data": "AAAAAAAAoL8AAOC/AAAAAAAAQL8AAOC/AAAAAAAAgL4AAOC/AAAAAAAAgD4AAOC/AAAAAAAAQD8AAOC/AAAAAAAAoD8AAOC/AAAAAAAAEMAAAKC/AAAAAAAA4L8AAKC/AAAAAAAAoL8AAKC/AAAAAAAAQL8AAKC/AAAAAAAAgL4AAKC/AAAAAAAAgD4AAKC/AAAAAAAAQD8AAKC/AAAAAAAAoD8AAKC/AAAAAAAA4D8AAKC/AAAAAAAAEEAAAKC/AAAAAAAAMMAAAEC/AAAAAAAAEMAAAEC/AAAAAAAA4L8AAEC/AAAAAAAAoL8AAEC/AAAAAAAAQL8AAEC/AAAAAAAAgL4AAEC/AAAAAAAAgD4AAEC/AAAAAAAAQD8AAEC/AAAAAAAAoD8AAEC/AAAAAAAA4D8AAEC/AAAAAAAAEEAAAEC/AAAAAAAAMEAAAEC/AAAAAAAAMMAAAIC+AAAAAAAAEMAAAIC+AAAAAAAA4L8AAIC+AAAAAAAAoL8AAIC+AAAAAAAAQL8AAIC+AAAAAAAAgL4AAIC+AAAAAAAAgD4AAIC+AAAAAAAAQD8AAIC+AAAAAAAAoD8AAIC+AAAAAAAA4D8AAIC+AAAAAAAAEEAAAIC+AAAAAAAAMEAAAIC+AAAAAAAAMMAAAIA+AAAAAAAAEMAAAIA+AAAAAAAA4L8AAIA+AAAAAAAAoL8AAIA+AAAAAAAAQL8AAIA+AAAAAAAAgL4AAIA+AAAAAAAAgD4AAIA+AAAAAAAAQD8AAIA+AAAAAAAAoD8AAIA+AAAAAAAA4D8AAIA+AAAAAAAAEEAAAIA+AAAAAAAAMEAAAIA+AAAAAAAAMMAAAEA/AAAAAAAAEMAAAEA/AAAAAAAA4L8AAEA/AAAAAAAAoL8AAEA/AAAAAAAAQL8AAEA/AAAAAAAAgL4AAEA/AAAAAAAAgD4AAEA/AAAAAAAAQD8AAEA/AAAAAAAAoD8AAEA/AAAAAAAA4D8AAEA/AAAAAAAAEEAAAEA/AAAAAAAAMEAAAEA/AAAAAAAAEMAAAKA/AAAAAAAA4L8AAKA/AAAAAAAAoL8AAKA/AAAAAAAAQL8AAKA/AAAAAAAAgL4AAKA/AAAAAAAAgD4AAKA/AAAAAAAAQD8AAKA/AAAAAAAAoD8AAKA/AAAAAAAA4D8AAKA/AAAAAAAAEEAAAKA/AAAAAAAAoL8AAOA/AAAAAAAAQL8AAOA/AAAAAAAAgL4AAOA/AAAAAAAAgD4AAOA/AAAAAAAAQD8AAOA/AAAAAAAAoD8AAOA/",
        "encoding": "base64",
        "path": [
         "positions",
         "data"
        ]
       }
      ],
      "model_module": "k3d",
      "model_module_version": "2.11.0",
      "model_name": "ObjectModel",
      "state": {
       "_view_count": null,
       "_view_module": null,
       "_view_module_version": "",
       "_view_name": null,
       "attribute": {
        "dtype": "float32",
        "shape": [
         0
        ]
       },
       "color": 5010096,
       "colorLegend": false,
       "color_map": {
        "dtype": "float32",
        "shape": [
         1024
        ]
       },
       "color_range": [],
       "colors": {
        "dtype": "uint32",
        "shape": [
         0
        ]
       },
       "compression_level": 0,
       "id": 139669890828512,
       "mesh_detail": 2,
       "model_matrix": {
        "dtype": "float32",
        "shape": [
         4,
         4
        ]
       },
       "name": "Points #2",
       "opacities": {
        "dtype": "float32",
        "shape": [
         0
        ]
       },
       "opacity": 1,
       "opacity_function": {
        "dtype": "float32",
        "shape": [
         0
        ]
       },
       "point_size": 0.125,
       "point_sizes": {
        "dtype": "float32",
        "shape": [
         0
        ]
       },
       "positions": {
        "dtype": "float32",
        "shape": [
         80,
         3
        ]
       },
       "shader": "3dSpecular",
       "type": "Points",
       "visible": true
      }
     },
     "0905b5a544ff4aab874e7557bd4ca4ad": {
      "buffers": [
       {
        "data": "AIL/AACC/wAANf8AADX/AAAA/wAAAP8AAAD/AAAA/wAANf8AADX/AACC/wAAgv8AAP9+AAD/fgAA/8sAAP/LAADV/wAA1f8AAGr/AABq/wAADP8AAAz/AAAM/wAADP8AAGr/AABq/wAA1f8AANX/AAD/ywAA/8sAAP9+AAD/fgAn/wAAJ/8AAAj/BAAI/wQAAP83AAD/NwAA/5AAAP+QAADg/wAA4P8AADv/AAA7/wAAO/8AADv/AADg/wAA4P8AAP+QAAD/kAAA/zcAAP83AAj/BAAI/wQAJ/8AACf/AACv/wAAr/8AAJ3/AACd/wAAhv8AAIb/AABc/wAAXP8AAAz/AgAM/wIAAP/LAAD/ywAA/8sAAP/LAAz/AgAM/wIAXP8AAFz/AACG/wAAhv8AAJ3/AACd/wAAr/8AAK//AAD/xwAA/8cAAP+1AAD/tQAA/54AAP+eAAD/dAAA/3QAAP8iAAD/IgAA/wCzAP8AswD/ALMA/wCzAP8iAAD/IgAA/3QAAP90AAD/ngAA/54AAP+1AAD/tQAA/8cAAP/HAAD/PwAA/z8AAP8cAAD/HAAA/wAfAP8AHwD/AHgA/wB4APUA/AD1APwAUwD/AFMA/wBTAP8AUwD/APUA/AD1APwA/wB4AP8AeAD/AB8A/wAfAP8cAAD/HAAA/z8AAP8/AAD/AGYA/wBmAP8AswD/ALMA7QD/AO0A/wCCAP8AggD/ACQA/wAkAP8AJAD/ACQA/wCCAP8AggD/AO0A/wDtAP8A/wCzAP8AswD/AGYA/wBmAJoA/wCaAP8ATQD/AE0A/wAYAP8AGAD/ABgA/wAYAP8ATQD/AE0A/wCaAP8AmgD/AA==",
        "encoding": "base64",
        "path": [
         "colors",
         "data"
        ]
       },
       {
        "data": "AACAPwAAAAAAAAAAAAAAAAAAAAAAAIA/AAAAAAAAAAAAAAAAAAAAAAAAgD8AAAAAAAAAAAAAAAAAAAAAAACAPw==",
        "encoding": "base64",
        "path": [
         "model_matrix",
         "data"
        ]
       },
       {
        "data": "pgQVvre5o7/868W/tZ3JvZJmSL8AmcK/oJEQvTQSkr4lYMC/oJEQPZjbWz4lYMC/tZ3JPW6ZNz8AmcK/pgQVPklGnD/868W/wJFgvjyPEcCoZ5C/HKBQvre5479rX42/CbY0vo2EpL8/aYm/WOICvjLoSr+Du4S/3rBGvRzWmL5d9IC/3rBGPchTTj5d9IC/WOICPs4XNT+Du4S/CbY0PnN7mz8/aYm/HKBQPklG3D9rX42/wJFgPsRwDkCoZ5C/YQ94vtFoMcA5Fi+/QoNzvumwEcAQtSu//jdrvkkz5L9JzCa/6CNavhl0pb9qRx+/NqQxvq/NTr/ylhO/96SbvT7ppr4jogW/96SbPYQtMj4jogW/NqQxPlEyMT/ylhO/6CNaPueLmj9qRx+//jdrPrfM2z9JzCa/QoNzPhdPDkAQtSu/YQ94Pi+XLkA5Fi+/AACAvl10McAuumi+dfp+vkvFEcBIq2O+2f58vo2E5L+Y21u+FV14voc1pr/IU06+c3dpvp90U7+ELTK+pgQVvlOCyr609tW9pgQVPrT21T209tW9c3dpPmGLLD+ELTK+FV14PnnKmT/IU06+2f58PnN72z+Y21u+dfp+PrU6DkBIq2O+AACAPqOLLkAuumi+AACAvl10McAuumg+dfp+vkvFEcBIq2M+2f58vo2E5L+Y21s+FV14voc1pr/IU04+c3dpvp90U7+ELTI+pgQVvlOCyr609tU9pgQVPrT21T209tU9c3dpPmGLLD+ELTI+FV14PnnKmT/IU04+2f58PnN72z+Y21s+dfp+PrU6DkBIq2M+AACAPqOLLkAuumg+YQ94vtFoMcA5Fi8/QoNzvumwEcAQtSs//jdrvkkz5L9JzCY/6CNavhl0pb9qRx8/NqQxvq/NTr/ylhM/96SbvT7ppr4jogU/96SbPYQtMj4jogU/NqQxPlEyMT/ylhM/6CNaPueLmj9qRx8//jdrPrfM2z9JzCY/QoNzPhdPDkAQtSs/YQ94Pi+XLkA5Fi8/wJFgvjyPEcCoZ5A/HKBQvre5479rX40/CbY0vo2EpL8/aYk/WOICvjLoSr+Du4Q/3rBGvRzWmL5d9IA/3rBGPchTTj5d9IA/WOICPs4XNT+Du4Q/CbY0PnN7mz8/aYk/HKBQPklG3D9rX40/wJFgPsRwDkCoZ5A/pgQVvre5o7/868U/tZ3JvZJmSL8AmcI/oJEQvTQSkr4lYMA/oJEQPZjbWz4lYMA/tZ3JPW6ZNz8AmcI/pgQVPklGnD/868U/",
        "encoding": "base64",
        "path": [
         "origins",
         "data"
        ]
       },
       {
        "data": "pgSVPtdtbj0coNC+tZ1JPiNphj3+N+u+oJGQPaCRkD3Z/vy+oJGQvaCRkD3Z/vy+tZ1JviNphj3+N+u+pgSVvtdtbj0coNC+wJHgPgCeRz2AhXm+HKDQPtdtbj2mBJW+Cba0PqCRkD0JtrS+WOKCPiCDrj3oI9q+3rDGPd6wxj0VXfi+3rDGvd6wxj0VXfi+WOKCviCDrj3oI9q+Cba0vqCRkD0JtrS+HKDQvtdtbj2mBJW+wJHgvgCeRz2AhXm+YQ/4PkdoND01Tge+QoPzPqx0WD2BVyK+/jfrPiNphj21nUm+6CPaPiCDrj1Y4oK+NqSxPvLa7D02pLG+96QbPvekGz5zd+m+96QbvvekGz5zd+m+NqSxvvLa7D02pLG+6CPaviCDrj1Y4oK+/jfrviNphj21nUm+QoPzvqx0WD2BVyK+YQ/4vkdoND01Tge+AAAAP4wuOj2MLjq9dfr+Pr2lYj29pWK92f78PqCRkD2gkZC9FV34Pt6wxj3esMa9c3fpPvekGz73pBu+pgSVPqYElT6mBJW+pgSVvqYElT6mBJW+c3fpvvekGz73pBu+FV34vt6wxj3esMa92f78vqCRkD2gkZC9dfr+vr2lYj29pWK9AAAAv4wuOj2MLjq9AAAAP4wuOj2MLjo9dfr+Pr2lYj29pWI92f78PqCRkD2gkZA9FV34Pt6wxj3esMY9c3fpPvekGz73pBs+pgSVPqYElT6mBJU+pgSVvqYElT6mBJU+c3fpvvekGz73pBs+FV34vt6wxj3esMY92f78vqCRkD2gkZA9dfr+vr2lYj29pWI9AAAAv4wuOj2MLjo9YQ/4PkdoND01Tgc+QoPzPqx0WD2BVyI+/jfrPiNphj21nUk+6CPaPiCDrj1Y4oI+NqSxPvLa7D02pLE+96QbPvekGz5zd+k+96QbvvekGz5zd+k+NqSxvvLa7D02pLE+6CPaviCDrj1Y4oI+/jfrviNphj21nUk+QoPzvqx0WD2BVyI+YQ/4vkdoND01Tgc+wJHgPgCeRz2AhXk+HKDQPtdtbj2mBJU+Cba0PqCRkD0JtrQ+WOKCPiCDrj3oI9o+3rDGPd6wxj0VXfg+3rDGvd6wxj0VXfg+WOKCviCDrj3oI9o+Cba0vqCRkD0JtrQ+HKDQvtdtbj2mBJU+wJHgvgCeRz2AhXk+pgSVPtdtbj0coNA+tZ1JPiNphj3+N+s+oJGQPaCRkD3Z/vw+oJGQvaCRkD3Z/vw+tZ1JviNphj3+N+s+pgSVvtdtbj0coNA+",
        "encoding": "base64",
        "path": [
         "vectors",
         "data"
        ]
       }
      ],
      "model_module": "k3d",
      "model_module_version": "2.11.0",
      "model_name": "ObjectModel",
      "state": {
       "_view_count": null,
       "_view_module": null,
       "_view_module_version": "",
       "_view_name": null,
       "colorLegend": false,
       "colors": {
        "dtype": "uint32",
        "shape": [
         80,
         2
        ]
       },
       "compression_level": 0,
       "head_color": 255,
       "head_size": 1,
       "id": 139669890828416,
       "label_size": 1,
       "labels": [],
       "line_width": 0.01,
       "model_matrix": {
        "dtype": "float32",
        "shape": [
         4,
         4
        ]
       },
       "name": "Vectors #2",
       "origin_color": 255,
       "origins": {
        "dtype": "float32",
        "shape": [
         80,
         3
        ]
       },
       "type": "Vectors",
       "use_head": true,
       "vectors": {
        "dtype": "float32",
        "shape": [
         80,
         3
        ]
       },
       "visible": true
      }
     },
     "094ab5753ed840488231dc24a3a7a6fb": {
      "model_module": "@jupyter-widgets/base",
      "model_module_version": "1.2.0",
      "model_name": "LayoutModel",
      "state": {}
     },
     "0a838497069349289fe1e991c1f2bf2a": {
      "model_module": "@jupyter-widgets/base",
      "model_module_version": "1.2.0",
      "model_name": "LayoutModel",
      "state": {}
     },
     "0aff8ac124854a649b41452da34a7611": {
      "buffers": [
       {
        "data": "UoTdAFKE3QBShN0AUoTdAFKE3QBShN0AUoTdAFKE3QBShN0AUoTdAFKE3QBShN0AUoTdAFKE3QBShN0AUoTdAFKE3QBShN0AUoTdAFKE3QBShN0AUoTdAFKE3QBShN0AUoTdAFKE3QBShN0AUoTdAFKE3QBShN0AUoTdAFKE3QBShN0AUoTdAFKE3QBShN0AUoTdAFKE3QBShN0AUoTdAFKE3QBShN0AUoTdAFKE3QBShN0AUoTdAFKE3QBShN0AUoTdAFKE3QBShN0AUoTdAFKE3QBShN0AUoTdAFKE3QBShN0AUoTdAFKE3QBShN0AUoTdAFKE3QBShN0AUoTdAFKE3QBShN0AUoTdAFKE3QBShN0AUoTdAFKE3QBShN0AUoTdAFKE3QBShN0AUoTdAFKE3QBShN0AUoTdAFKE3QBShN0AUoTdAFKE3QBShN0AUoTdAFKE3QBShN0AUoTdAFKE3QBShN0AUoTdAFKE3QBShN0AUoTdAFKE3QBShN0AUoTdAFKE3QBShN0AUoTdAFKE3QBShN0AUoTdAFKE3QBShN0AUoTdAFKE3QBShN0AUoTdAFKE3QBShN0AUoTdAFKE3QBShN0AUoTdAFKE3QBShN0AUoTdAFKE3QBShN0AUoTdAFKE3QBShN0AUoTdAFKE3QBShN0AUoTdAFKE3QBShN0AUoTdAFKE3QBShN0AUoTdAFKE3QBShN0AUoTdAFKE3QBShN0AUoTdAFKE3QBShN0AUoTdAFKE3QBShN0AUoTdAFKE3QBShN0AUoTdAFKE3QBShN0AUoTdAFKE3QBShN0AUoTdAFKE3QBShN0AUoTdAFKE3QBShN0AUoTdAFKE3QBShN0AUoTdAFKE3QBShN0AUoTdAFKE3QBShN0AUoTdAFKE3QBShN0AUoTdAFKE3QBShN0AUoTdAFKE3QBShN0AUoTdAFKE3QBShN0AUoTdAFKE3QBShN0AUoTdAFKE3QBShN0AUoTdAFKE3QBShN0AUoTdAFKE3QBShN0AUoTdAFKE3QBShN0AUoTdAFKE3QBShN0AUoTdAFKE3QBShN0AUoTdAFKE3QBShN0AUoTdAFKE3QBShN0AUoTdAFKE3QBShN0AUoTdAFKE3QBShN0AUoTdAFKE3QBShN0AUoTdAFKE3QBShN0AUoTdAFKE3QBShN0AUoTdAFKE3QBShN0AUoTdAFKE3QBShN0AUoTdAFKE3QBShN0AUoTdAFKE3QBShN0AUoTdAFKE3QBShN0AUoTdAFKE3QBShN0AUoTdAFKE3QBShN0AUoTdAFKE3QBShN0AUoTdAFKE3QBShN0AUoTdAFKE3QBShN0AUoTdAFKE3QBShN0AUoTdAFKE3QBShN0AUoTdAFKE3QBShN0AUoTdAFKE3QBShN0AUoTdAFKE3QBShN0AUoTdAFKE3QBShN0AUoTdAFKE3QBShN0AUoTdAFKE3QBShN0AUoTdAFKE3QBShN0AUoTdAFKE3QBShN0AUoTdAFKE3QBShN0AUoTdAFKE3QBShN0AUoTdAFKE3QBShN0AUoTdAFKE3QBShN0AUoTdAFKE3QBShN0AUoTdAFKE3QBShN0AUoTdAFKE3QBShN0AUoTdAFKE3QBShN0AUoTdAFKE3QBShN0AUoTdAFKE3QBShN0AUoTdAFKE3QBShN0AUoTdAFKE3QBShN0AUoTdAFKE3QBShN0AUoTdAFKE3QBShN0AUoTdAFKE3QBShN0AUoTdAFKE3QBShN0AUoTdAFKE3QBShN0AUoTdAFKE3QBShN0AUoTdAFKE3QBShN0AUoTdAFKE3QBShN0AUoTdAFKE3QBShN0AUoTdAFKE3QBShN0AUoTdAFKE3QBShN0AUoTdAFKE3QBShN0AUoTdAFKE3QBShN0AUoTdAFKE3QBShN0AUoTdAFKE3QBShN0AUoTdAFKE3QBShN0AUoTdAFKE3QBShN0AUoTdAFKE3QBShN0AUoTdAFKE3QBShN0AUoTdAFKE3QBShN0AUoTdAFKE3QBShN0AUoTdAFKE3QBShN0AUoTdAFKE3QBShN0AUoTdAFKE3QBShN0AUoTdAFKE3QBShN0AUoTdAFKE3QBShN0AUoTdAFKE3QBShN0AUoTdAFKE3QBShN0AUoTdAFKE3QBShN0AUoTdAFKE3QBShN0AUoTdAFKE3QBShN0AUoTdAFKE3QBShN0AUoTdAFKE3QBShN0AUoTdAFKE3QBShN0AUoTdAFKE3QBShN0AUoTdAFKE3QBShN0AUoTdAFKE3QBShN0AUoTdAFKE3QBShN0AUoTdAFKE3QBShN0AUoTdAFKE3QBShN0AUoTdAFKE3QBShN0AUoTdAFKE3QBShN0AUoTdAFKE3QBShN0AUoTdAFKE3QBShN0AUoTdAFKE3QBShN0AUoTdAFKE3QBShN0AUoTdAFKE3QBShN0AUoTdAFKE3QBShN0AUoTdAFKE3QBShN0AUoTdAFKE3QBShN0AUoTdAFKE3QBShN0AUoTdAFKE3QBShN0AUoTdAFKE3QBShN0AUoTdAFKE3QBShN0AUoTdAFKE3QBShN0AUoTdAFKE3QBShN0AUoTdAFKE3QBShN0AUoTdAFKE3QBShN0AUoTdAFKE3QBShN0AUoTdAFKE3QBShN0AUoTdAFKE3QBShN0AUoTdAFKE3QBShN0AUoTdAFKE3QBShN0AUoTdAFKE3QBShN0AUoTdAFKE3QBShN0AUoTdAFKE3QBShN0AUoTdAFKE3QBShN0AUoTdAFKE3QBShN0AUoTdAFKE3QBShN0AUoTdAFKE3QBShN0AUoTdAFKE3QBShN0AUoTdAFKE3QBShN0AUoTdAFKE3QBShN0AUoTdAFKE3QBShN0AUoTdAFKE3QBShN0AUoTdAFKE3QBShN0AUoTdAFKE3QBShN0AUoTdAFKE3QBShN0AUoTdAFKE3QBShN0AUoTdAFKE3QBShN0AUoTdAFKE3QBShN0AUoTdAFKE3QBShN0AUoTdAFKE3QBShN0AUoTdAFKE3QBShN0AUoTdAFKE3QBShN0AUoTdAFKE3QBShN0AUoTdAFKE3QBShN0AUoTdAFKE3QBShN0AUoTdAFKE3QBShN0AUoTdAFKE3QBShN0AUoTdAFKE3QBShN0AUoTdAFKE3QBShN0AUoTdAFKE3QBShN0AUoTdAFKE3QBShN0AUoTdAFKE3QBShN0AUoTdAFKE3QBShN0AUoTdAFKE3QBShN0AUoTdAFKE3QBShN0AUoTdAFKE3QBShN0AUoTdAFKE3QBShN0AUoTdAFKE3QBShN0AUoTdAFKE3QBShN0AUoTdAFKE3QBShN0AUoTdAFKE3QBShN0AUoTdAFKE3QBShN0AUoTdAFKE3QBShN0AUoTdAFKE3QBShN0AUoTdAFKE3QBShN0AUoTdAFKE3QBShN0AUoTdAFKE3QBShN0AUoTdAFKE3QBShN0AUoTdAFKE3QBShN0AUoTdAFKE3QBShN0AUoTdAFKE3QBShN0AUoTdAFKE3QBShN0AUoTdAFKE3QBShN0AUoTdAFKE3QBShN0AUoTdAFKE3QBShN0AUoTdAFKE3QBShN0AUoTdAFKE3QBShN0AUoTdAFKE3QBShN0AUoTdAFKE3QBShN0AUoTdAFKE3QBShN0AUoTdAFKE3QBShN0AUoTdAFKE3QBShN0AUoTdAFKE3QBShN0AUoTdAFKE3QBShN0AUoTdAFKE3QBShN0AUoTdAFKE3QBShN0AUoTdAFKE3QBShN0AUoTdAFKE3QBShN0AUoTdAFKE3QBShN0AUoTdAFKE3QBShN0AUoTdAFKE3QBShN0AUoTdAFKE3QBShN0AUoTdAFKE3QBShN0AUoTdAFKE3QBShN0AUoTdAFKE3QBShN0AUoTdAFKE3QBShN0AUoTdAFKE3QBShN0AUoTdAFKE3QBShN0AUoTdAFKE3QBShN0AUoTdAFKE3QBShN0AUoTdAFKE3QBShN0AUoTdAFKE3QBShN0AUoTdAFKE3QBShN0AUoTdAFKE3QBShN0AUoTdAFKE3QBShN0AUoTdAFKE3QBShN0AUoTdAFKE3QBShN0AUoTdAFKE3QBShN0AUoTdAFKE3QBShN0AUoTdAFKE3QBShN0AUoTdAFKE3QBShN0AUoTdAFKE3QBShN0AUoTdAFKE3QBShN0AUoTdAFKE3QBShN0AUoTdAFKE3QBShN0AUoTdAFKE3QBShN0AUoTdAFKE3QBShN0AUoTdAFKE3QBShN0AUoTdAFKE3QBShN0AUoTdAFKE3QBShN0AUoTdAFKE3QBShN0AUoTdAFKE3QBShN0AUoTdAFKE3QBShN0AUoTdAFKE3QBShN0AUoTdAFKE3QBShN0AUoTdAFKE3QBShN0AUoTdAFKE3QBShN0AUoTdAFKE3QBShN0AUoTdAFKE3QBShN0AUoTdAFKE3QBShN0AUoTdAFKE3QBShN0AUoTdAFKE3QBShN0AUoTdAFKE3QBShN0AUoTdAFKE3QBShN0AUoTdAFKE3QBShN0AUoTdAFKE3QBShN0AUoTdAFKE3QBShN0AUoTdAFKE3QBShN0AUoTdAFKE3QBShN0AUoTdAFKE3QBShN0AUoTdAFKE3QBShN0AUoTdAFKE3QBShN0AUoTdAFKE3QBShN0AUoTdAFKE3QBShN0AUoTdAFKE3QBShN0AUoTdAFKE3QBShN0AUoTdAFKE3QBShN0AUoTdAFKE3QBShN0AUoTdAFKE3QBShN0AUoTdAFKE3QBShN0AUoTdAFKE3QBShN0AUoTdAFKE3QBShN0AUoTdAFKE3QBShN0AUoTdAFKE3QBShN0AUoTdAFKE3QBShN0AUoTdAFKE3QBShN0AUoTdAFKE3QBShN0AUoTdAFKE3QBShN0AUoTdAFKE3QBShN0AUoTdAFKE3QBShN0AUoTdAFKE3QBShN0AUoTdAFKE3QBShN0AUoTdAFKE3QBShN0AUoTdAFKE3QBShN0AUoTdAFKE3QBShN0AUoTdAFKE3QBShN0AUoTdAFKE3QBShN0AUoTdAFKE3QBShN0AUoTdAFKE3QBShN0AUoTdAFKE3QBShN0AUoTdAFKE3QBShN0AUoTdAFKE3QBShN0AUoTdAFKE3QBShN0AUoTdAFKE3QBShN0AUoTdAFKE3QBShN0AUoTdAFKE3QBShN0AUoTdAFKE3QBShN0AUoTdAFKE3QBShN0AUoTdAFKE3QBShN0AUoTdAFKE3QBShN0AUoTdAFKE3QBShN0AUoTdAFKE3QBShN0AUoTdAFKE3QBShN0AUoTdAFKE3QBShN0AUoTdAFKE3QBShN0AUoTdAFKE3QBShN0AUoTdAFKE3QBShN0AUoTdAFKE3QBShN0AUoTdAFKE3QBShN0AUoTdAFKE3QBShN0AUoTdAFKE3QBShN0AUoTdAFKE3QBShN0AUoTdAFKE3QBShN0AUoTdAFKE3QBShN0AUoTdAFKE3QBShN0AUoTdAFKE3QBShN0AUoTdAFKE3QBShN0AUoTdAFKE3QBShN0AUoTdAFKE3QBShN0AUoTdAFKE3QBShN0AUoTdAFKE3QBShN0AUoTdAFKE3QBShN0AUoTdAFKE3QBShN0AUoTdAFKE3QBShN0AUoTdAFKE3QBShN0AUoTdAFKE3QBShN0AUoTdAFKE3QBShN0AUoTdAFKE3QBShN0AUoTdAFKE3QBShN0AUoTdAFKE3QBShN0AUoTdAFKE3QBShN0AUoTdAFKE3QBShN0AUoTdAFKE3QBShN0AUoTdAFKE3QBShN0AUoTdAFKE3QBShN0AUoTdAFKE3QBShN0AUoTdAFKE3QBShN0AUoTdAFKE3QBShN0AUoTdAFKE3QBShN0AUoTdAFKE3QBShN0AUoTdAFKE3QBShN0AUoTdAFKE3QBShN0AUoTdAFKE3QBShN0AUoTdAFKE3QBShN0AUoTdAFKE3QBShN0AUoTdAFKE3QBShN0AUoTdAFKE3QBShN0AUoTdAFKE3QBShN0AUoTdAFKE3QBShN0AUoTdAFKE3QBShN0AUoTdAFKE3QBShN0AUoTdAFKE3QBShN0AUoTdAFKE3QBShN0AUoTdAFKE3QBShN0AUoTdAFKE3QBShN0AUoTdAFKE3QBShN0AUoTdAFKE3QBShN0AUoTdAFKE3QBShN0AUoTdAFKE3QBShN0AUoTdAFKE3QBShN0AUoTdAFKE3QBShN0AUoTdAFKE3QBShN0AUoTdAFKE3QBShN0AUoTdAFKE3QBShN0AUoTdAFKE3QBShN0AUoTdAFKE3QBShN0AUoTdAFKE3QBShN0AUoTdAFKE3QBShN0AUoTdAFKE3QBShN0AUoTdAFKE3QBShN0AUoTdAFKE3QBShN0AUoTdAFKE3QBShN0AUoTdAFKE3QBShN0AUoTdAFKE3QBShN0AUoTdAFKE3QBShN0AUoTdAFKE3QBShN0AUoTdAFKE3QBShN0AUoTdAFKE3QBShN0AUoTdAFKE3QBShN0AUoTdAFKE3QBShN0AUoTdAFKE3QBShN0AUoTdAFKE3QBShN0AUoTdAFKE3QBShN0AUoTdAFKE3QBShN0AUoTdAFKE3QBShN0AUoTdAFKE3QBShN0AUoTdAFKE3QBShN0AUoTdAFKE3QBShN0AUoTdAFKE3QBShN0AUoTdAFKE3QBShN0AUoTdAFKE3QBShN0AUoTdAFKE3QBShN0AUoTdAFKE3QBShN0AUoTdAFKE3QBShN0AUoTdAFKE3QBShN0AUoTdAFKE3QBShN0AUoTdAFKE3QBShN0AUoTdAFKE3QBShN0AUoTdAFKE3QBShN0AUoTdAFKE3QBShN0AUoTdAFKE3QBShN0AUoTdAFKE3QBShN0AUoTdAFKE3QBShN0AUoTdAFKE3QBShN0AUoTdAFKE3QBShN0AUoTdAFKE3QBShN0AUoTdAFKE3QBShN0AUoTdAFKE3QBShN0AUoTdAFKE3QBShN0AUoTdAFKE3QBShN0AUoTdAFKE3QBShN0AUoTdAFKE3QBShN0AUoTdAFKE3QBShN0AUoTdAFKE3QBShN0AUoTdAFKE3QBShN0AUoTdAFKE3QBShN0AUoTdAFKE3QBShN0AUoTdAFKE3QBShN0AUoTdAFKE3QBShN0AUoTdAFKE3QBShN0AUoTdAFKE3QBShN0AUoTdAFKE3QBShN0AUoTdAFKE3QBShN0AUoTdAFKE3QBShN0AUoTdAFKE3QBShN0AUoTdAFKE3QBShN0AUoTdAFKE3QBShN0AUoTdAFKE3QBShN0AUoTdAFKE3QBShN0AUoTdAFKE3QBShN0AUoTdAFKE3QBShN0AUoTdAFKE3QBShN0AUoTdAFKE3QBShN0AUoTdAFKE3QBShN0AUoTdAFKE3QBShN0AUoTdAFKE3QBShN0AUoTdAFKE3QBShN0AUoTdAFKE3QBShN0AUoTdAFKE3QBShN0AUoTdAFKE3QBShN0AUoTdAFKE3QBShN0AUoTdAFKE3QBShN0AUoTdAFKE3QBShN0AUoTdAFKE3QBShN0AUoTdAFKE3QBShN0AUoTdAFKE3QBShN0AUoTdAFKE3QBShN0AUoTdAFKE3QBShN0AUoTdAFKE3QBShN0AUoTdAFKE3QBShN0AUoTdAFKE3QBShN0AUoTdAFKE3QBShN0AUoTdAFKE3QBShN0AUoTdAFKE3QBShN0AUoTdAFKE3QBShN0AUoTdAFKE3QBShN0AUoTdAFKE3QBShN0AUoTdAFKE3QBShN0AUoTdAFKE3QBShN0AUoTdAFKE3QBShN0AUoTdAFKE3QBShN0AUoTdAFKE3QBShN0AUoTdAFKE3QBShN0AUoTdAFKE3QBShN0AUoTdAFKE3QBShN0AUoTdAFKE3QBShN0AUoTdAFKE3QBShN0AUoTdAFKE3QBShN0AUoTdAFKE3QBShN0AUoTdAFKE3QBShN0AUoTdAFKE3QBShN0AUoTdAFKE3QBShN0AUoTdAFKE3QBShN0AUoTdAFKE3QBShN0AUoTdAFKE3QBShN0AUoTdAFKE3QBShN0AUoTdAFKE3QBShN0AUoTdAFKE3QBShN0AUoTdAFKE3QBShN0AUoTdAFKE3QBShN0AUoTdAFKE3QBShN0AUoTdAFKE3QBShN0AUoTdAFKE3QBShN0AUoTdAFKE3QBShN0AUoTdAFKE3QBShN0AUoTdAFKE3QBShN0AUoTdAFKE3QBShN0AUoTdAFKE3QBShN0AUoTdAFKE3QBShN0AUoTdAFKE3QBShN0AUoTdAFKE3QBShN0AUoTdAFKE3QBShN0AUoTdAFKE3QBShN0AUoTdAFKE3QBShN0AUoTdAFKE3QBShN0AUoTdAFKE3QBShN0AUoTdAFKE3QBShN0AUoTdAFKE3QBShN0AUoTdAFKE3QBShN0AUoTdAFKE3QBShN0AUoTdAFKE3QBShN0AUoTdAFKE3QBShN0AUoTdAFKE3QBShN0AUoTdAFKE3QBShN0AUoTdAFKE3QBShN0AUoTdAFKE3QBShN0AUoTdAFKE3QBShN0AUoTdAFKE3QBShN0AUoTdAFKE3QBShN0AUoTdAFKE3QBShN0AUoTdAFKE3QBShN0AUoTdAFKE3QBShN0AUoTdAFKE3QBShN0AUoTdAFKE3QBShN0AUoTdAFKE3QBShN0AUoTdAFKE3QBShN0AUoTdAFKE3QBShN0AUoTdAFKE3QBShN0AUoTdAFKE3QBShN0AUoTdAFKE3QBShN0AUoTdAFKE3QBShN0AUoTdAFKE3QBShN0AUoTdAFKE3QBShN0AUoTdAFKE3QBShN0AUoTdAFKE3QBShN0AUoTdAFKE3QBShN0AUoTdAFKE3QBShN0AUoTdAFKE3QBShN0AUoTdAFKE3QBShN0AUoTdAFKE3QBShN0AUoTdAFKE3QBShN0AUoTdAFKE3QBShN0AUoTdAFKE3QBShN0AUoTdAFKE3QBShN0AUoTdAFKE3QBShN0AUoTdAFKE3QBShN0AUoTdAFKE3QBShN0AUoTdAFKE3QBShN0AUoTdAFKE3QBShN0AUoTdAFKE3QBShN0AUoTdAFKE3QBShN0AUoTdAFKE3QBShN0AUoTdAFKE3QBShN0AUoTdAFKE3QBShN0AUoTdAFKE3QBShN0AUoTdAFKE3QBShN0AUoTdAFKE3QBShN0AUoTdAFKE3QBShN0AUoTdAFKE3QBShN0AUoTdAFKE3QBShN0AUoTdAFKE3QBShN0AUoTdAFKE3QBShN0AUoTdAFKE3QBShN0AUoTdAFKE3QBShN0AUoTdAFKE3QBShN0AUoTdAFKE3QBShN0AUoTdAFKE3QBShN0AUoTdAFKE3QBShN0AUoTdAFKE3QBShN0AUoTdAFKE3QBShN0AUoTdAFKE3QBShN0AUoTdAFKE3QBShN0AUoTdAFKE3QBShN0AUoTdAFKE3QBShN0AUoTdAFKE3QBShN0AUoTdAFKE3QBShN0AUoTdAFKE3QBShN0AUoTdAFKE3QBShN0AUoTdAFKE3QBShN0AUoTdAFKE3QBShN0AUoTdAFKE3QBShN0AUoTdAFKE3QBShN0AUoTdAFKE3QBShN0AUoTdAFKE3QBShN0AUoTdAFKE3QBShN0AUoTdAFKE3QBShN0AUoTdAFKE3QBShN0AUoTdAFKE3QBShN0AUoTdAFKE3QBShN0AUoTdAFKE3QBShN0AUoTdAFKE3QBShN0AUoTdAFKE3QBShN0AUoTdAFKE3QBShN0AUoTdAFKE3QBShN0AUoTdAFKE3QBShN0AUoTdAFKE3QBShN0AUoTdAFKE3QBShN0AUoTdAFKE3QBShN0AUoTdAFKE3QBShN0AUoTdAFKE3QBShN0AUoTdAFKE3QBShN0AUoTdAFKE3QBShN0AUoTdAFKE3QBShN0AUoTdAFKE3QBShN0AUoTdAFKE3QBShN0AUoTdAFKE3QBShN0AUoTdAFKE3QBShN0AUoTdAFKE3QBShN0AUoTdAFKE3QBShN0AUoTdAFKE3QBShN0AUoTdAFKE3QBShN0AUoTdAFKE3QBShN0AUoTdAFKE3QBShN0AUoTdAFKE3QBShN0AUoTdAFKE3QBShN0AUoTdAFKE3QBShN0AUoTdAFKE3QBShN0AUoTdAFKE3QBShN0AUoTdAFKE3QBShN0AUoTdAFKE3QBShN0AUoTdAFKE3QBShN0AUoTdAFKE3QBShN0AUoTdAFKE3QBShN0AUoTdAFKE3QBShN0AUoTdAFKE3QBShN0AUoTdAFKE3QBShN0AUoTdAFKE3QBShN0AUoTdAFKE3QBShN0AUoTdAFKE3QBShN0AUoTdAFKE3QBShN0AUoTdAFKE3QBShN0AUoTdAFKE3QBShN0AUoTdAFKE3QBShN0AUoTdAFKE3QBShN0AUoTdAFKE3QBShN0AUoTdAFKE3QBShN0AUoTdAFKE3QBShN0AUoTdAFKE3QBShN0AUoTdAFKE3QBShN0AUoTdAFKE3QBShN0AUoTdAFKE3QBShN0AUoTdAFKE3QBShN0AUoTdAFKE3QBShN0AUoTdAFKE3QBShN0AUoTdAFKE3QBShN0AUoTdAFKE3QBShN0AUoTdAFKE3QBShN0AUoTdAFKE3QBShN0AUoTdAFKE3QBShN0AUoTdAFKE3QBShN0AUoTdAFKE3QBShN0AUoTdAFKE3QBShN0AUoTdAFKE3QBShN0A",
        "encoding": "base64",
        "path": [
         "colors",
         "data"
        ]
       },
       {
        "data": "AACAPwAAAAAAAAAAAAAAAAAAAAAAAIA/AAAAAAAAAAAAAAAAAAAAAAAAgD8AAAAAAAAAAAAAAAAAAAAAAACAPw==",
        "encoding": "base64",
        "path": [
         "model_matrix",
         "data"
        ]
       },
       {
        "data": "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",
        "encoding": "base64",
        "path": [
         "origins",
         "data"
        ]
       },
       {
        "data": "DOOMPnUQKb7ePcW+5TWUPggjbb2nfs++5TWUPggjbT2nfs++DOOMPnUQKT7ePcW+yOYUPum3rb7pt62+dRApPgzjjL7ePcW+3is8Pt4rPL6DiNu++YVIPqauhb2j8em++YVIPqauhT2j8em+3is8Pt4rPD6DiNu+dRApPgzjjD7ePcW+yOYUPum3rT7pt62++G0zPbfbyb45AJ2+sGZOPdqZtL7ambS+CCNtPeU1lL6nfs++pq6FPfmFSL6j8em+C8mPPQvJj73Un/u+C8mPPQvJjz3Un/u+pq6FPfmFSD6j8em+CCNtPeU1lD6nfs++sGZOPdqZtD7ambS++G0zPbfbyT45AJ2++G0zvbfbyb45AJ2+sGZOvdqZtL7ambS+CCNtveU1lL6nfs++pq6FvfmFSL6j8em+C8mPvQvJj73Un/u+C8mPvQvJjz3Un/u+pq6FvfmFSD6j8em+CCNtveU1lD6nfs++sGZOvdqZtD7ambS++G0zvbfbyT45AJ2+yOYUvum3rb7pt62+dRApvgzjjL7ePcW+3is8vt4rPL6DiNu++YVIvqauhb2j8em++YVIvqauhT2j8em+3is8vt4rPD6DiNu+dRApvgzjjD7ePcW+yOYUvum3rT7pt62+DOOMvnUQKb7ePcW+5TWUvggjbb2nfs++5TWUvggjbT2nfs++DOOMvnUQKT7ePcW+hXHXPgOhD76wYW++LFrfPguJRr1NK3i+LFrfPguJRj1NK3i+hXHXPgOhDz6wYW++x1WQPtuSub5mMU6+swaiPrMGor5Jd2e+2pm0Pi4Agb4uAIG+3j3FPnUQKb4M44y+p37PPggjbb3lNZS+p37PPggjbT3lNZS+3j3FPnUQKT4M44y+2pm0Pi4AgT4uAIG+swaiPrMGoj5Jd2e+x1WQPtuSuT5mMU6+oXctPuuB4b6hdy2+RE9EPsvw175ET0S+dklgPrfbyb52SWC+LgCBPtqZtL4uAIG+5TWUPuU1lL7lNZS+UBqnPvmFSL5QGqe+TruzPgvJj71Ou7O+TruzPgvJjz1Ou7O+UBqnPvmFSD5QGqe+5TWUPuU1lD7lNZS+LgCBPtqZtD4uAIG+dklgPrfbyT52SWC+RE9EPsvw1z5ET0S+oXctPuuB4T6hdy2+ZTXYPdg56r5/LDS+em73PfDP4r5mMU6+A6EPPoVx176wYW++dRApPt49xb4M44y++YVIPlAap75QGqe+wuJqPsLiar73vMO+wCyCPv+Qrb0/9di+wCyCPv+QrT0/9di+wuJqPsLiaj73vMO++YVIPlAapz5QGqe+dRApPt49xT4M44y+A6EPPoVx1z6wYW++em73PfDP4j5mMU6+ZTXYPdg56j5/LDS+T6ABPZQM875jCCK+5xATPXj77r4h1Te+KmIpPfrm6L61ulO+C4lGPSxa375NK3i+CCNtPad+z77lNZS+C8mPPU67s75Ou7O+/5CtPcAsgr4/9di+MZ3FPTGdxb1+BPe+MZ3FPTGdxT1+BPe+/5CtPcAsgj4/9di+C8mPPU67sz5Ou7O+CCNtPad+zz7lNZS+C4lGPSxa3z5NK3i+KmIpPfrm6D61ulO+5xATPXj77j4h1Te+T6ABPZQM8z5jCCK+T6ABvZQM875jCCK+5xATvXj77r4h1Te+KmIpvfrm6L61ulO+C4lGvSxa375NK3i+CCNtvad+z77lNZS+C8mPvU67s75Ou7O+/5CtvcAsgr4/9di+MZ3FvTGdxb1+BPe+MZ3FvTGdxT1+BPe+/5CtvcAsgj4/9di+C8mPvU67sz5Ou7O+CCNtvad+zz7lNZS+C4lGvSxa3z5NK3i+KmIpvfrm6D61ulO+5xATvXj77j4h1Te+T6ABvZQM8z5jCCK+ZTXYvdg56r5/LDS+em73vfDP4r5mMU6+A6EPvoVx176wYW++dRApvt49xb4M44y++YVIvlAap75QGqe+wuJqvsLiar73vMO+wCyCvv+Qrb0/9di+wCyCvv+QrT0/9di+wuJqvsLiaj73vMO++YVIvlAapz5QGqe+dRApvt49xT4M44y+A6EPvoVx1z6wYW++em73vfDP4j5mMU6+ZTXYvdg56j5/LDS+oXctvuuB4b6hdy2+RE9Evsvw175ET0S+dklgvrfbyb52SWC+LgCBvtqZtL4uAIG+5TWUvuU1lL7lNZS+UBqnvvmFSL5QGqe+TruzvgvJj71Ou7O+TruzvgvJjz1Ou7O+UBqnvvmFSD5QGqe+5TWUvuU1lD7lNZS+LgCBvtqZtD4uAIG+dklgvrfbyT52SWC+RE9Evsvw1z5ET0S+oXctvuuB4T6hdy2+x1WQvtuSub5mMU6+swaivrMGor5Jd2e+2pm0vi4Agb4uAIG+3j3FvnUQKb4M44y+p37Pvggjbb3lNZS+p37PvggjbT3lNZS+3j3FvnUQKT4M44y+2pm0vi4AgT4uAIG+swaivrMGoj5Jd2e+x1WQvtuSuT5mMU6+hXHXvgOhD76wYW++LFrfvguJRr1NK3i+LFrfvguJRj1NK3i+hXHXvgOhDz6wYW++Nbf2PvhtM716kga+Nbf2PvhtMz16kga+vq2wPr6tsL5Skuu9nPbDPnlqmL5opAK+hXHXPrBhb74DoQ++hjPoPgTNGr4EzRq+ZTHyPlpIV71DdiG+ZTHyPlpIVz1DdiG+hjPoPgTNGj4EzRq+hXHXPrBhbz4DoQ++nPbDPnlqmD5opAK+vq2wPr6tsD5Skuu9VoluPod/3b63dcy9lk+GPlkP075KP+a9eWqYPpz2w75opAK+6betPum3rb7I5hS+3j3FPgzjjL51ECm+g4jbPt4rPL7eKzy+o/HpPqauhb35hUi+o/HpPqauhT35hUi+g4jbPt4rPD7eKzy+3j3FPgzjjD51ECm+6betPum3rT7I5hS+eWqYPpz2wz5opAK+lk+GPlkP0z5KP+a9VoluPod/3T63dcy9vYIfPhtE776vab+9fyw0Ptg56r5lNdi9ZjFOPvDP4r56bve9sGFvPoVx174DoQ++DOOMPt49xb51ECm+UBqnPlAap775hUi+97zDPsLiar7C4mq+P/XYPv+Qrb3ALIK+P/XYPv+QrT3ALIK+97zDPsLiaj7C4mq+UBqnPlAapz75hUi+DOOMPt49xT51ECm+sGFvPoVx1z4DoQ++ZjFOPvDP4j56bve9fyw0Ptg56j5lNdi9vYIfPhtE7z6vab+9NdCvPaAR+b410K+9MZ3FPX4E974xncW9sUThPWoK9L6xROG9aKQCPr+C775opAK+BM0aPoYz6L4EzRq+3is8PoOI277eKzy+wuJqPve8w77C4mq+5TWUPuU1lL7lNZS+vq2wPlKS672+rbC+vq2wPlKS6z2+rbC+5TWUPuU1lD7lNZS+wuJqPve8wz7C4mq+3is8PoOI2z7eKzy+BM0aPoYz6D4EzRq+aKQCPr+C7z5opAK+sUThPWoK9D6xROG9MZ3FPX4E9z4xncW9NdCvPaAR+T410K+9d4jtPP5g/L5ZJrK9Y/cFPdkv+74U88i9h38ZPTtv+b5KP+a9+G0zPTW39r56kga+WkhXPWUx8r5DdiG+pq6FPaPx6b75hUi+/5CtPT/12L7ALIK+UpLrPb6tsL6+rbC+BM0aPgTNGr6GM+i+BM0aPgTNGj6GM+i+UpLrPb6tsD6+rbC+/5CtPT/12D7ALIK+pq6FPaPx6T75hUi+WkhXPWUx8j5DdiG++G0zPTW39j56kga+h38ZPTtv+T5KP+a9Y/cFPdkv+z4U88i9d4jtPP5g/D5ZJrK9d4jtvP5g/L5ZJrK9Y/cFvdkv+74U88i9h38ZvTtv+b5KP+a9+G0zvTW39r56kga+WkhXvWUx8r5DdiG+pq6FvaPx6b75hUi+/5CtvT/12L7ALIK+UpLrvb6tsL6+rbC+BM0avgTNGr6GM+i+BM0avgTNGj6GM+i+UpLrvb6tsD6+rbC+/5CtvT/12D7ALIK+pq6FvaPx6T75hUi+WkhXvWUx8j5DdiG++G0zvTW39j56kga+h38ZvTtv+T5KP+a9Y/cFvdkv+z4U88i9d4jtvP5g/D5ZJrK9NdCvvaAR+b410K+9MZ3FvX4E974xncW9sUThvWoK9L6xROG9aKQCvr+C775opAK+BM0avoYz6L4EzRq+3is8voOI277eKzy+wuJqvve8w77C4mq+5TWUvuU1lL7lNZS+vq2wvlKS672+rbC+vq2wvlKS6z2+rbC+5TWUvuU1lD7lNZS+wuJqvve8wz7C4mq+3is8voOI2z7eKzy+BM0avoYz6D4EzRq+aKQCvr+C7z5opAK+sUThvWoK9D6xROG9MZ3FvX4E9z4xncW9NdCvvaAR+T410K+9vYIfvhtE776vab+9fyw0vtg56r5lNdi9ZjFOvvDP4r56bve9sGFvvoVx174DoQ++DOOMvt49xb51ECm+UBqnvlAap775hUi+97zDvsLiar7C4mq+P/XYvv+Qrb3ALIK+P/XYvv+QrT3ALIK+97zDvsLiaj7C4mq+UBqnvlAapz75hUi+DOOMvt49xT51ECm+sGFvvoVx1z4DoQ++ZjFOvvDP4j56bve9fyw0vtg56j5lNdi9vYIfvhtE7z6vab+9Voluvod/3b63dcy9lk+GvlkP075KP+a9eWqYvpz2w75opAK+6betvum3rb7I5hS+3j3FvgzjjL51ECm+g4jbvt4rPL7eKzy+o/Hpvqauhb35hUi+o/HpvqauhT35hUi+g4jbvt4rPD7eKzy+3j3FvgzjjD51ECm+6betvum3rT7I5hS+eWqYvpz2wz5opAK+lk+GvlkP0z5KP+a9Voluvod/3T63dcy9vq2wvr6tsL5Skuu9nPbDvnlqmL5opAK+hXHXvrBhb74DoQ++hjPovgTNGr4EzRq+ZTHyvlpIV71DdiG+ZTHyvlpIVz1DdiG+hjPovgTNGj4EzRq+hXHXvrBhbz4DoQ++nPbDvnlqmD5opAK+vq2wvr6tsD5Skuu9Nbf2vvhtM716kga+Nbf2vvhtMz16kga+y/DXPrBqib43DB29+uboPrW6U74qYim9Nbf2PnqSBr74bTO90Jz+PjosOb06LDm90Jz+PjosOT06LDm9Nbf2PnqSBj74bTO9+uboPrW6Uz4qYim9y/DXPrBqiT43DB29DCiiPvIwxr6ZIxC9Yfa0PmH2tL4B2yC9t9vJPjkAnb74bTO9LFrfPk0reL4LiUa9ZTHyPkN2Ib5aSFe9sJj9PkdrYb1Ha2G9sJj9PkdrYT1Ha2G9ZTHyPkN2IT5aSFe9LFrfPk0reD4LiUa9t9vJPjkAnT74bTO9Yfa0PmH2tD4B2yC9DCiiPvIwxj6ZIxC9oLhYPoYz6L5trve8rtpyPuuB4b4axgq9sGqJPsvw1743DB29OQCdPrfbyb74bTO92pm0PtqZtL6wZk69p37PPuU1lL4II229o/HpPvmFSL6mroW91J/7PgvJj70LyY+91J/7PgvJjz0LyY+9o/HpPvmFSD6mroW9p37PPuU1lD4II2292pm0PtqZtD6wZk69OQCdPrfbyT74bTO9sGqJPsvw1z43DB29rtpyPuuB4T4axgq9oLhYPoYz6D5trve8f6MQPr/i9b7/a+e8YwgiPpQM875PoAG9IdU3Pnj77r7nEBO9tbpTPvrm6L4qYim9TSt4Pixa374LiUa95TWUPqd+z74II229TruzPk67s74LyY+9P/XYPsAsgr7/kK29fgT3PjGdxb0xncW9fgT3PjGdxT0xncW9P/XYPsAsgj7/kK29TruzPk67sz4LyY+95TWUPqd+zz4II229TSt4Pixa3z4LiUa9tbpTPvrm6D4qYim9IdU3Pnj77j7nEBO9YwgiPpQM8z5PoAG9f6MQPr/i9T7/a+e8du6fPZA5/b7yPdW8WSayPf5g/L53iO28FPPIPdkv+75j9wW9Sj/mPTtv+b6Hfxm9epIGPjW39r74bTO9Q3YhPmUx8r5aSFe9+YVIPqPx6b6mroW9wCyCPj/12L7/kK29vq2wPr6tsL5Skuu9hjPoPgTNGr4EzRq+hjPoPgTNGj4EzRq+vq2wPr6tsD5Skuu9wCyCPj/12D7/kK29+YVIPqPx6T6mroW9Q3YhPmUx8j5aSFe9epIGPjW39j74bTO9Sj/mPTtv+T6Hfxm9FPPIPdkv+z5j9wW9WSayPf5g/D53iO28du6fPZA5/T7yPdW8NpTXPAAAAL82lNe8p8bwPBHT/76nxvC8ek4IPSWT/756Tgi9NwwdPdkz/743DB29Oiw5PdCc/r46LDm9R2thPbCY/b5Ha2G9C8mPPdSf+74LyY+9MZ3FPX4E974xncW9BM0aPoYz6L4EzRq+5TWUPuU1lL7lNZS+5TWUPuU1lD7lNZS+BM0aPoYz6D4EzRq+MZ3FPX4E9z4xncW9C8mPPdSf+z4LyY+9R2thPbCY/T5Ha2G9Oiw5PdCc/j46LDm9NwwdPdkz/z43DB29ek4IPSWT/z56Tgi9p8bwPBHT/z6nxvC8NpTXPAAAAD82lNe8NpTXvAAAAL82lNe8p8bwvBHT/76nxvC8ek4IvSWT/756Tgi9Nwwdvdkz/743DB29Oiw5vdCc/r46LDm9R2thvbCY/b5Ha2G9C8mPvdSf+74LyY+9MZ3FvX4E974xncW9BM0avoYz6L4EzRq+5TWUvuU1lL7lNZS+5TWUvuU1lD7lNZS+BM0avoYz6D4EzRq+MZ3FvX4E9z4xncW9C8mPvdSf+z4LyY+9R2thvbCY/T5Ha2G9Oiw5vdCc/j46LDm9Nwwdvdkz/z43DB29ek4IvSWT/z56Tgi9p8bwvBHT/z6nxvC8NpTXvAAAAD82lNe8du6fvZA5/b7yPdW8WSayvf5g/L53iO28FPPIvdkv+75j9wW9Sj/mvTtv+b6Hfxm9epIGvjW39r74bTO9Q3YhvmUx8r5aSFe9+YVIvqPx6b6mroW9wCyCvj/12L7/kK29vq2wvr6tsL5Skuu9hjPovgTNGr4EzRq+hjPovgTNGj4EzRq+vq2wvr6tsD5Skuu9wCyCvj/12D7/kK29+YVIvqPx6T6mroW9Q3YhvmUx8j5aSFe9epIGvjW39j74bTO9Sj/mvTtv+T6Hfxm9FPPIvdkv+z5j9wW9WSayvf5g/D53iO28du6fvZA5/T7yPdW8f6MQvr/i9b7/a+e8YwgivpQM875PoAG9IdU3vnj77r7nEBO9tbpTvvrm6L4qYim9TSt4vixa374LiUa95TWUvqd+z74II229Truzvk67s74LyY+9P/XYvsAsgr7/kK29fgT3vjGdxb0xncW9fgT3vjGdxT0xncW9P/XYvsAsgj7/kK29Truzvk67sz4LyY+95TWUvqd+zz4II229TSt4vixa3z4LiUa9tbpTvvrm6D4qYim9IdU3vnj77j7nEBO9YwgivpQM8z5PoAG9f6MQvr/i9T7/a+e8oLhYvoYz6L5trve8rtpyvuuB4b4axgq9sGqJvsvw1743DB29OQCdvrfbyb74bTO92pm0vtqZtL6wZk69p37PvuU1lL4II229o/HpvvmFSL6mroW91J/7vgvJj70LyY+91J/7vgvJjz0LyY+9o/HpvvmFSD6mroW9p37PvuU1lD4II2292pm0vtqZtD6wZk69OQCdvrfbyT74bTO9sGqJvsvw1z43DB29rtpyvuuB4T4axgq9oLhYvoYz6D5trve8DCiivvIwxr6ZIxC9Yfa0vmH2tL4B2yC9t9vJvjkAnb74bTO9LFrfvk0reL4LiUa9ZTHyvkN2Ib5aSFe9sJj9vkdrYb1Ha2G9sJj9vkdrYT1Ha2G9ZTHyvkN2IT5aSFe9LFrfvk0reD4LiUa9t9vJvjkAnT74bTO9Yfa0vmH2tD4B2yC9DCiivvIwxj6ZIxC9y/DXvrBqib43DB29+ubovrW6U74qYim9Nbf2vnqSBr74bTO90Jz+vjosOb06LDm90Jz+vjosOT06LDm9Nbf2vnqSBj74bTO9+ubovrW6Uz4qYim9y/DXvrBqiT43DB29y/DXPrBqib43DB09+uboPrW6U74qYik9Nbf2PnqSBr74bTM90Jz+PjosOb06LDk90Jz+PjosOT06LDk9Nbf2PnqSBj74bTM9+uboPrW6Uz4qYik9y/DXPrBqiT43DB09DCiiPvIwxr6ZIxA9Yfa0PmH2tL4B2yA9t9vJPjkAnb74bTM9LFrfPk0reL4LiUY9ZTHyPkN2Ib5aSFc9sJj9PkdrYb1Ha2E9sJj9PkdrYT1Ha2E9ZTHyPkN2IT5aSFc9LFrfPk0reD4LiUY9t9vJPjkAnT74bTM9Yfa0PmH2tD4B2yA9DCiiPvIwxj6ZIxA9oLhYPoYz6L5trvc8rtpyPuuB4b4axgo9sGqJPsvw1743DB09OQCdPrfbyb74bTM92pm0PtqZtL6wZk49p37PPuU1lL4II209o/HpPvmFSL6mroU91J/7PgvJj70LyY891J/7PgvJjz0LyY89o/HpPvmFSD6mroU9p37PPuU1lD4II2092pm0PtqZtD6wZk49OQCdPrfbyT74bTM9sGqJPsvw1z43DB09rtpyPuuB4T4axgo9oLhYPoYz6D5trvc8f6MQPr/i9b7/a+c8YwgiPpQM875PoAE9IdU3Pnj77r7nEBM9tbpTPvrm6L4qYik9TSt4Pixa374LiUY95TWUPqd+z74II209TruzPk67s74LyY89P/XYPsAsgr7/kK09fgT3PjGdxb0xncU9fgT3PjGdxT0xncU9P/XYPsAsgj7/kK09TruzPk67sz4LyY895TWUPqd+zz4II209TSt4Pixa3z4LiUY9tbpTPvrm6D4qYik9IdU3Pnj77j7nEBM9YwgiPpQM8z5PoAE9f6MQPr/i9T7/a+c8du6fPZA5/b7yPdU8WSayPf5g/L53iO08FPPIPdkv+75j9wU9Sj/mPTtv+b6Hfxk9epIGPjW39r74bTM9Q3YhPmUx8r5aSFc9+YVIPqPx6b6mroU9wCyCPj/12L7/kK09vq2wPr6tsL5Skus9hjPoPgTNGr4EzRo+hjPoPgTNGj4EzRo+vq2wPr6tsD5Skus9wCyCPj/12D7/kK09+YVIPqPx6T6mroU9Q3YhPmUx8j5aSFc9epIGPjW39j74bTM9Sj/mPTtv+T6Hfxk9FPPIPdkv+z5j9wU9WSayPf5g/D53iO08du6fPZA5/T7yPdU8NpTXPAAAAL82lNc8p8bwPBHT/76nxvA8ek4IPSWT/756Tgg9NwwdPdkz/743DB09Oiw5PdCc/r46LDk9R2thPbCY/b5Ha2E9C8mPPdSf+74LyY89MZ3FPX4E974xncU9BM0aPoYz6L4EzRo+5TWUPuU1lL7lNZQ+5TWUPuU1lD7lNZQ+BM0aPoYz6D4EzRo+MZ3FPX4E9z4xncU9C8mPPdSf+z4LyY89R2thPbCY/T5Ha2E9Oiw5PdCc/j46LDk9NwwdPdkz/z43DB09ek4IPSWT/z56Tgg9p8bwPBHT/z6nxvA8NpTXPAAAAD82lNc8NpTXvAAAAL82lNc8p8bwvBHT/76nxvA8ek4IvSWT/756Tgg9Nwwdvdkz/743DB09Oiw5vdCc/r46LDk9R2thvbCY/b5Ha2E9C8mPvdSf+74LyY89MZ3FvX4E974xncU9BM0avoYz6L4EzRo+5TWUvuU1lL7lNZQ+5TWUvuU1lD7lNZQ+BM0avoYz6D4EzRo+MZ3FvX4E9z4xncU9C8mPvdSf+z4LyY89R2thvbCY/T5Ha2E9Oiw5vdCc/j46LDk9Nwwdvdkz/z43DB09ek4IvSWT/z56Tgg9p8bwvBHT/z6nxvA8NpTXvAAAAD82lNc8du6fvZA5/b7yPdU8WSayvf5g/L53iO08FPPIvdkv+75j9wU9Sj/mvTtv+b6Hfxk9epIGvjW39r74bTM9Q3YhvmUx8r5aSFc9+YVIvqPx6b6mroU9wCyCvj/12L7/kK09vq2wvr6tsL5Skus9hjPovgTNGr4EzRo+hjPovgTNGj4EzRo+vq2wvr6tsD5Skus9wCyCvj/12D7/kK09+YVIvqPx6T6mroU9Q3YhvmUx8j5aSFc9epIGvjW39j74bTM9Sj/mvTtv+T6Hfxk9FPPIvdkv+z5j9wU9WSayvf5g/D53iO08du6fvZA5/T7yPdU8f6MQvr/i9b7/a+c8YwgivpQM875PoAE9IdU3vnj77r7nEBM9tbpTvvrm6L4qYik9TSt4vixa374LiUY95TWUvqd+z74II209Truzvk67s74LyY89P/XYvsAsgr7/kK09fgT3vjGdxb0xncU9fgT3vjGdxT0xncU9P/XYvsAsgj7/kK09Truzvk67sz4LyY895TWUvqd+zz4II209TSt4vixa3z4LiUY9tbpTvvrm6D4qYik9IdU3vnj77j7nEBM9YwgivpQM8z5PoAE9f6MQvr/i9T7/a+c8oLhYvoYz6L5trvc8rtpyvuuB4b4axgo9sGqJvsvw1743DB09OQCdvrfbyb74bTM92pm0vtqZtL6wZk49p37PvuU1lL4II209o/HpvvmFSL6mroU91J/7vgvJj70LyY891J/7vgvJjz0LyY89o/HpvvmFSD6mroU9p37PvuU1lD4II2092pm0vtqZtD6wZk49OQCdvrfbyT74bTM9sGqJvsvw1z43DB09rtpyvuuB4T4axgo9oLhYvoYz6D5trvc8DCiivvIwxr6ZIxA9Yfa0vmH2tL4B2yA9t9vJvjkAnb74bTM9LFrfvk0reL4LiUY9ZTHyvkN2Ib5aSFc9sJj9vkdrYb1Ha2E9sJj9vkdrYT1Ha2E9ZTHyvkN2IT5aSFc9LFrfvk0reD4LiUY9t9vJvjkAnT74bTM9Yfa0vmH2tD4B2yA9DCiivvIwxj6ZIxA9y/DXvrBqib43DB09+ubovrW6U74qYik9Nbf2vnqSBr74bTM90Jz+vjosOb06LDk90Jz+vjosOT06LDk9Nbf2vnqSBj74bTM9+ubovrW6Uz4qYik9y/DXvrBqiT43DB09Nbf2PvhtM716kgY+Nbf2PvhtMz16kgY+vq2wPr6tsL5Skus9nPbDPnlqmL5opAI+hXHXPrBhb74DoQ8+hjPoPgTNGr4EzRo+ZTHyPlpIV71DdiE+ZTHyPlpIVz1DdiE+hjPoPgTNGj4EzRo+hXHXPrBhbz4DoQ8+nPbDPnlqmD5opAI+vq2wPr6tsD5Skus9VoluPod/3b63dcw9lk+GPlkP075KP+Y9eWqYPpz2w75opAI+6betPum3rb7I5hQ+3j3FPgzjjL51ECk+g4jbPt4rPL7eKzw+o/HpPqauhb35hUg+o/HpPqauhT35hUg+g4jbPt4rPD7eKzw+3j3FPgzjjD51ECk+6betPum3rT7I5hQ+eWqYPpz2wz5opAI+lk+GPlkP0z5KP+Y9VoluPod/3T63dcw9vYIfPhtE776vab89fyw0Ptg56r5lNdg9ZjFOPvDP4r56bvc9sGFvPoVx174DoQ8+DOOMPt49xb51ECk+UBqnPlAap775hUg+97zDPsLiar7C4mo+P/XYPv+Qrb3ALII+P/XYPv+QrT3ALII+97zDPsLiaj7C4mo+UBqnPlAapz75hUg+DOOMPt49xT51ECk+sGFvPoVx1z4DoQ8+ZjFOPvDP4j56bvc9fyw0Ptg56j5lNdg9vYIfPhtE7z6vab89NdCvPaAR+b410K89MZ3FPX4E974xncU9sUThPWoK9L6xROE9aKQCPr+C775opAI+BM0aPoYz6L4EzRo+3is8PoOI277eKzw+wuJqPve8w77C4mo+5TWUPuU1lL7lNZQ+vq2wPlKS672+rbA+vq2wPlKS6z2+rbA+5TWUPuU1lD7lNZQ+wuJqPve8wz7C4mo+3is8PoOI2z7eKzw+BM0aPoYz6D4EzRo+aKQCPr+C7z5opAI+sUThPWoK9D6xROE9MZ3FPX4E9z4xncU9NdCvPaAR+T410K89d4jtPP5g/L5ZJrI9Y/cFPdkv+74U88g9h38ZPTtv+b5KP+Y9+G0zPTW39r56kgY+WkhXPWUx8r5DdiE+pq6FPaPx6b75hUg+/5CtPT/12L7ALII+UpLrPb6tsL6+rbA+BM0aPgTNGr6GM+g+BM0aPgTNGj6GM+g+UpLrPb6tsD6+rbA+/5CtPT/12D7ALII+pq6FPaPx6T75hUg+WkhXPWUx8j5DdiE++G0zPTW39j56kgY+h38ZPTtv+T5KP+Y9Y/cFPdkv+z4U88g9d4jtPP5g/D5ZJrI9d4jtvP5g/L5ZJrI9Y/cFvdkv+74U88g9h38ZvTtv+b5KP+Y9+G0zvTW39r56kgY+WkhXvWUx8r5DdiE+pq6FvaPx6b75hUg+/5CtvT/12L7ALII+UpLrvb6tsL6+rbA+BM0avgTNGr6GM+g+BM0avgTNGj6GM+g+UpLrvb6tsD6+rbA+/5CtvT/12D7ALII+pq6FvaPx6T75hUg+WkhXvWUx8j5DdiE++G0zvTW39j56kgY+h38ZvTtv+T5KP+Y9Y/cFvdkv+z4U88g9d4jtvP5g/D5ZJrI9NdCvvaAR+b410K89MZ3FvX4E974xncU9sUThvWoK9L6xROE9aKQCvr+C775opAI+BM0avoYz6L4EzRo+3is8voOI277eKzw+wuJqvve8w77C4mo+5TWUvuU1lL7lNZQ+vq2wvlKS672+rbA+vq2wvlKS6z2+rbA+5TWUvuU1lD7lNZQ+wuJqvve8wz7C4mo+3is8voOI2z7eKzw+BM0avoYz6D4EzRo+aKQCvr+C7z5opAI+sUThvWoK9D6xROE9MZ3FvX4E9z4xncU9NdCvvaAR+T410K89vYIfvhtE776vab89fyw0vtg56r5lNdg9ZjFOvvDP4r56bvc9sGFvvoVx174DoQ8+DOOMvt49xb51ECk+UBqnvlAap775hUg+97zDvsLiar7C4mo+P/XYvv+Qrb3ALII+P/XYvv+QrT3ALII+97zDvsLiaj7C4mo+UBqnvlAapz75hUg+DOOMvt49xT51ECk+sGFvvoVx1z4DoQ8+ZjFOvvDP4j56bvc9fyw0vtg56j5lNdg9vYIfvhtE7z6vab89Voluvod/3b63dcw9lk+GvlkP075KP+Y9eWqYvpz2w75opAI+6betvum3rb7I5hQ+3j3FvgzjjL51ECk+g4jbvt4rPL7eKzw+o/Hpvqauhb35hUg+o/HpvqauhT35hUg+g4jbvt4rPD7eKzw+3j3FvgzjjD51ECk+6betvum3rT7I5hQ+eWqYvpz2wz5opAI+lk+GvlkP0z5KP+Y9Voluvod/3T63dcw9vq2wvr6tsL5Skus9nPbDvnlqmL5opAI+hXHXvrBhb74DoQ8+hjPovgTNGr4EzRo+ZTHyvlpIV71DdiE+ZTHyvlpIVz1DdiE+hjPovgTNGj4EzRo+hXHXvrBhbz4DoQ8+nPbDvnlqmD5opAI+vq2wvr6tsD5Skus9Nbf2vvhtM716kgY+Nbf2vvhtMz16kgY+hXHXPgOhD76wYW8+LFrfPguJRr1NK3g+LFrfPguJRj1NK3g+hXHXPgOhDz6wYW8+x1WQPtuSub5mMU4+swaiPrMGor5Jd2c+2pm0Pi4Agb4uAIE+3j3FPnUQKb4M44w+p37PPggjbb3lNZQ+p37PPggjbT3lNZQ+3j3FPnUQKT4M44w+2pm0Pi4AgT4uAIE+swaiPrMGoj5Jd2c+x1WQPtuSuT5mMU4+oXctPuuB4b6hdy0+RE9EPsvw175ET0Q+dklgPrfbyb52SWA+LgCBPtqZtL4uAIE+5TWUPuU1lL7lNZQ+UBqnPvmFSL5QGqc+TruzPgvJj71Ou7M+TruzPgvJjz1Ou7M+UBqnPvmFSD5QGqc+5TWUPuU1lD7lNZQ+LgCBPtqZtD4uAIE+dklgPrfbyT52SWA+RE9EPsvw1z5ET0Q+oXctPuuB4T6hdy0+ZTXYPdg56r5/LDQ+em73PfDP4r5mMU4+A6EPPoVx176wYW8+dRApPt49xb4M44w++YVIPlAap75QGqc+wuJqPsLiar73vMM+wCyCPv+Qrb0/9dg+wCyCPv+QrT0/9dg+wuJqPsLiaj73vMM++YVIPlAapz5QGqc+dRApPt49xT4M44w+A6EPPoVx1z6wYW8+em73PfDP4j5mMU4+ZTXYPdg56j5/LDQ+T6ABPZQM875jCCI+5xATPXj77r4h1Tc+KmIpPfrm6L61ulM+C4lGPSxa375NK3g+CCNtPad+z77lNZQ+C8mPPU67s75Ou7M+/5CtPcAsgr4/9dg+MZ3FPTGdxb1+BPc+MZ3FPTGdxT1+BPc+/5CtPcAsgj4/9dg+C8mPPU67sz5Ou7M+CCNtPad+zz7lNZQ+C4lGPSxa3z5NK3g+KmIpPfrm6D61ulM+5xATPXj77j4h1Tc+T6ABPZQM8z5jCCI+T6ABvZQM875jCCI+5xATvXj77r4h1Tc+KmIpvfrm6L61ulM+C4lGvSxa375NK3g+CCNtvad+z77lNZQ+C8mPvU67s75Ou7M+/5CtvcAsgr4/9dg+MZ3FvTGdxb1+BPc+MZ3FvTGdxT1+BPc+/5CtvcAsgj4/9dg+C8mPvU67sz5Ou7M+CCNtvad+zz7lNZQ+C4lGvSxa3z5NK3g+KmIpvfrm6D61ulM+5xATvXj77j4h1Tc+T6ABvZQM8z5jCCI+ZTXYvdg56r5/LDQ+em73vfDP4r5mMU4+A6EPvoVx176wYW8+dRApvt49xb4M44w++YVIvlAap75QGqc+wuJqvsLiar73vMM+wCyCvv+Qrb0/9dg+wCyCvv+QrT0/9dg+wuJqvsLiaj73vMM++YVIvlAapz5QGqc+dRApvt49xT4M44w+A6EPvoVx1z6wYW8+em73vfDP4j5mMU4+ZTXYvdg56j5/LDQ+oXctvuuB4b6hdy0+RE9Evsvw175ET0Q+dklgvrfbyb52SWA+LgCBvtqZtL4uAIE+5TWUvuU1lL7lNZQ+UBqnvvmFSL5QGqc+TruzvgvJj71Ou7M+TruzvgvJjz1Ou7M+UBqnvvmFSD5QGqc+5TWUvuU1lD7lNZQ+LgCBvtqZtD4uAIE+dklgvrfbyT52SWA+RE9Evsvw1z5ET0Q+oXctvuuB4T6hdy0+x1WQvtuSub5mMU4+swaivrMGor5Jd2c+2pm0vi4Agb4uAIE+3j3FvnUQKb4M44w+p37Pvggjbb3lNZQ+p37PvggjbT3lNZQ+3j3FvnUQKT4M44w+2pm0vi4AgT4uAIE+swaivrMGoj5Jd2c+x1WQvtuSuT5mMU4+hXHXvgOhD76wYW8+LFrfvguJRr1NK3g+LFrfvguJRj1NK3g+hXHXvgOhDz6wYW8+DOOMPnUQKb7ePcU+5TWUPggjbb2nfs8+5TWUPggjbT2nfs8+DOOMPnUQKT7ePcU+yOYUPum3rb7pt60+dRApPgzjjL7ePcU+3is8Pt4rPL6DiNs++YVIPqauhb2j8ek++YVIPqauhT2j8ek+3is8Pt4rPD6DiNs+dRApPgzjjD7ePcU+yOYUPum3rT7pt60++G0zPbfbyb45AJ0+sGZOPdqZtL7ambQ+CCNtPeU1lL6nfs8+pq6FPfmFSL6j8ek+C8mPPQvJj73Un/s+C8mPPQvJjz3Un/s+pq6FPfmFSD6j8ek+CCNtPeU1lD6nfs8+sGZOPdqZtD7ambQ++G0zPbfbyT45AJ0++G0zvbfbyb45AJ0+sGZOvdqZtL7ambQ+CCNtveU1lL6nfs8+pq6FvfmFSL6j8ek+C8mPvQvJj73Un/s+C8mPvQvJjz3Un/s+pq6FvfmFSD6j8ek+CCNtveU1lD6nfs8+sGZOvdqZtD7ambQ++G0zvbfbyT45AJ0+yOYUvum3rb7pt60+dRApvgzjjL7ePcU+3is8vt4rPL6DiNs++YVIvqauhb2j8ek++YVIvqauhT2j8ek+3is8vt4rPD6DiNs+dRApvgzjjD7ePcU+yOYUvum3rT7pt60+DOOMvnUQKb7ePcU+5TWUvggjbb2nfs8+5TWUvggjbT2nfs8+DOOMvnUQKT7ePcU+",
        "encoding": "base64",
        "path": [
         "vectors",
         "data"
        ]
       }
      ],
      "model_module": "k3d",
      "model_module_version": "2.11.0",
      "model_name": "ObjectModel",
      "state": {
       "_view_count": null,
       "_view_module": null,
       "_view_module_version": "",
       "_view_name": null,
       "colorLegend": false,
       "colors": {
        "dtype": "uint32",
        "shape": [
         1008,
         2
        ]
       },
       "compression_level": 0,
       "head_color": 255,
       "head_size": 1,
       "id": 139670025893824,
       "label_size": 1,
       "labels": [],
       "line_width": 0.01,
       "model_matrix": {
        "dtype": "float32",
        "shape": [
         4,
         4
        ]
       },
       "name": "Vectors #1",
       "origin_color": 255,
       "origins": {
        "dtype": "float32",
        "shape": [
         1008,
         3
        ]
       },
       "type": "Vectors",
       "use_head": true,
       "vectors": {
        "dtype": "float32",
        "shape": [
         1008,
         3
        ]
       },
       "visible": true
      }
     },
     "0dbc31e96d934e1ea99c35b3d99669ab": {
      "model_module": "@jupyter-widgets/base",
      "model_module_version": "1.2.0",
      "model_name": "LayoutModel",
      "state": {}
     },
     "0e19f6ef4dd2402db871664e72a02bbe": {
      "model_module": "@jupyter-widgets/base",
      "model_module_version": "1.2.0",
      "model_name": "LayoutModel",
      "state": {}
     },
     "0f6a2532975b4988b5655c38f48043d8": {
      "model_module": "@jupyter-widgets/output",
      "model_module_version": "1.0.0",
      "model_name": "OutputModel",
      "state": {
       "layout": "IPY_MODEL_0a838497069349289fe1e991c1f2bf2a",
       "outputs": [
        {
         "data": {
          "application/vnd.jupyter.widget-view+json": {
           "model_id": "31a6842c09f04189bda94a1337742ebc",
           "version_major": 2,
           "version_minor": 0
          },
          "text/plain": "Plot(antialias=3, axes=['x', 'y', 'z'], axes_helper=1.0, background_color=16777215, camera_animation=[], camer…"
         },
         "metadata": {},
         "output_type": "display_data"
        }
       ]
      }
     },
     "16e9c6c4c47e4bd3bbdd565d7e4d2446": {
      "model_module": "@jupyter-widgets/controls",
      "model_module_version": "1.5.0",
      "model_name": "DropdownModel",
      "state": {
       "_options_labels": [
        "x",
        "y",
        "z"
       ],
       "description": "axis",
       "index": 2,
       "layout": "IPY_MODEL_d276140b3b1d4dd2b6bfdfb5a091645b",
       "style": "IPY_MODEL_b5d826a9b8364eb2ac167d9b4ebd6ed1"
      }
     },
     "1810fc401fae42f58dfd54e93e033e80": {
      "model_module": "@jupyter-widgets/output",
      "model_module_version": "1.0.0",
      "model_name": "OutputModel",
      "state": {
       "layout": "IPY_MODEL_60318ba24e6543b7811d23bd53ecf9c7",
       "outputs": [
        {
         "data": {
          "application/vnd.jupyter.widget-view+json": {
           "model_id": "d3b2a07971d94756bb166eadd2d386a6",
           "version_major": 2,
           "version_minor": 0
          },
          "text/plain": "Plot(antialias=3, axes=['x', 'y', 'z'], axes_helper=1.0, background_color=16777215, camera_animation=[], camer…"
         },
         "metadata": {},
         "output_type": "display_data"
        }
       ]
      }
     },
     "1c558b240f994a87ad27b24d87f862e8": {
      "model_module": "@jupyter-widgets/output",
      "model_module_version": "1.0.0",
      "model_name": "OutputModel",
      "state": {
       "layout": "IPY_MODEL_02362bfe37b94efeb1d021883e420182",
       "outputs": [
        {
         "data": {
          "application/vnd.jupyter.widget-view+json": {
           "model_id": "7cdaf36672ef4cb7a4be78cb638d582a",
           "version_major": 2,
           "version_minor": 0
          },
          "text/plain": "Plot(antialias=3, axes=['x', 'y', 'z'], axes_helper=1.0, background_color=16777215, camera_animation=[], camer…"
         },
         "metadata": {},
         "output_type": "display_data"
        }
       ]
      }
     },
     "1d378596b9a247b8befd6486952746cb": {
      "model_module": "k3d",
      "model_module_version": "2.11.0",
      "model_name": "PlotModel",
      "state": {
       "_backend_version": "2.11.0",
       "_dom_classes": [],
       "_view_count": null,
       "antialias": 3,
       "auto_rendering": true,
       "axes": [
        "x\\,\\text{ (nm)}",
        "y\\,\\text{ (nm)}",
        "z\\,\\text{ (nm)}"
       ],
       "axes_helper": 1,
       "background_color": 16777215,
       "camera": [],
       "camera_animation": [],
       "camera_auto_fit": true,
       "camera_damping_factor": 0,
       "camera_fov": 60,
       "camera_mode": "trackball",
       "camera_no_pan": false,
       "camera_no_rotate": false,
       "camera_no_zoom": false,
       "camera_pan_speed": 0.3,
       "camera_rotate_speed": 1,
       "camera_zoom_speed": 1.2,
       "clipping_planes": [],
       "colorbar_object_id": -1,
       "colorbar_scientific": false,
       "fps": 25,
       "fps_meter": false,
       "grid": [
        -1,
        -1,
        -1,
        1,
        1,
        1
       ],
       "grid_auto_fit": true,
       "grid_color": 15132390,
       "grid_visible": true,
       "height": 512,
       "label_color": 4473924,
       "layout": "IPY_MODEL_ecfee2dfed9543f1aa55fe9b7ae4fc5b",
       "lighting": 1.5,
       "manipulate_mode": "translate",
       "menu_visibility": true,
       "mode": "view",
       "name": null,
       "object_ids": [
        139670026012560
       ],
       "rendering_steps": 1,
       "screenshot": "",
       "screenshot_scale": 2,
       "snapshot": "",
       "snapshot_type": "full",
       "time": 0,
       "voxel_paint_color": 0
      }
     },
     "1e7cf00788944007a685fb12436a483c": {
      "model_module": "k3d",
      "model_module_version": "2.11.0",
      "model_name": "PlotModel",
      "state": {
       "_backend_version": "2.11.0",
       "_dom_classes": [],
       "_view_count": null,
       "antialias": 3,
       "auto_rendering": true,
       "axes": [
        "x\\,\\text{ (nm)}",
        "y\\,\\text{ (nm)}",
        "z\\,\\text{ (nm)}"
       ],
       "axes_helper": 1,
       "background_color": 16777215,
       "camera": [],
       "camera_animation": [],
       "camera_auto_fit": false,
       "camera_damping_factor": 0,
       "camera_fov": 60,
       "camera_mode": "trackball",
       "camera_no_pan": false,
       "camera_no_rotate": false,
       "camera_no_zoom": false,
       "camera_pan_speed": 0.3,
       "camera_rotate_speed": 1,
       "camera_zoom_speed": 1.2,
       "clipping_planes": [],
       "colorbar_object_id": -1,
       "colorbar_scientific": false,
       "fps": 25,
       "fps_meter": false,
       "grid": [
        -1,
        -1,
        -1,
        1,
        1,
        1
       ],
       "grid_auto_fit": true,
       "grid_color": 15132390,
       "grid_visible": true,
       "height": 512,
       "label_color": 4473924,
       "layout": "IPY_MODEL_9a8b64c0b77a4cff95ec1af8995c8dbe",
       "lighting": 1.5,
       "manipulate_mode": "translate",
       "menu_visibility": true,
       "mode": "view",
       "name": null,
       "object_ids": [
        139669890803696,
        139669890804704
       ],
       "rendering_steps": 1,
       "screenshot": "",
       "screenshot_scale": 2,
       "snapshot": "",
       "snapshot_type": "full",
       "time": 0,
       "voxel_paint_color": 0
      }
     },
     "1ff7b1f24b8d4704aa0ce6e6ae5c40a6": {
      "model_module": "@jupyter-widgets/base",
      "model_module_version": "1.2.0",
      "model_name": "LayoutModel",
      "state": {}
     },
     "20d7929b993e40b5a445db5e01f72e76": {
      "model_module": "@jupyter-widgets/output",
      "model_module_version": "1.0.0",
      "model_name": "OutputModel",
      "state": {
       "layout": "IPY_MODEL_a49ce079cefe4339991253404a5bdf97",
       "outputs": [
        {
         "data": {
          "application/vnd.jupyter.widget-view+json": {
           "model_id": "b78c9286de7e4832a106ee2b1747ec8c",
           "version_major": 2,
           "version_minor": 0
          },
          "text/plain": "Plot(antialias=3, axes=['x', 'y', 'z'], axes_helper=1.0, background_color=16777215, camera_animation=[], camer…"
         },
         "metadata": {},
         "output_type": "display_data"
        }
       ]
      }
     },
     "212919cf08d947bdb4ac573120a045a0": {
      "model_module": "@jupyter-widgets/output",
      "model_module_version": "1.0.0",
      "model_name": "OutputModel",
      "state": {
       "layout": "IPY_MODEL_b31441613db24b6988b61e41c3e4b316",
       "outputs": [
        {
         "data": {
          "application/vnd.jupyter.widget-view+json": {
           "model_id": "1e7cf00788944007a685fb12436a483c",
           "version_major": 2,
           "version_minor": 0
          },
          "text/plain": "Plot(antialias=3, axes=['x\\\\,\\\\text{ (nm)}', 'y\\\\,\\\\text{ (nm)}', 'z\\\\,\\\\text{ (nm)}'], axes_helper=1.0, backg…"
         },
         "metadata": {},
         "output_type": "display_data"
        }
       ]
      }
     },
     "2260e299e1c541eeb7ad125057e591a8": {
      "model_module": "k3d",
      "model_module_version": "2.11.0",
      "model_name": "PlotModel",
      "state": {
       "_backend_version": "2.11.0",
       "_dom_classes": [],
       "_view_count": null,
       "antialias": 3,
       "auto_rendering": true,
       "axes": [
        "x\\,\\text{ (nm)}",
        "y\\,\\text{ (nm)}",
        "z\\,\\text{ (nm)}"
       ],
       "axes_helper": 1,
       "background_color": 16777215,
       "camera": [
        5.7463874005806295,
        -8.619581100870944,
        0.5746387400580748,
        0,
        0,
        0,
        0,
        0,
        1
       ],
       "camera_animation": [],
       "camera_auto_fit": true,
       "camera_damping_factor": 0,
       "camera_fov": 60,
       "camera_mode": "trackball",
       "camera_no_pan": false,
       "camera_no_rotate": false,
       "camera_no_zoom": false,
       "camera_pan_speed": 0.3,
       "camera_rotate_speed": 1,
       "camera_zoom_speed": 1.2,
       "clipping_planes": [],
       "colorbar_object_id": -1,
       "colorbar_scientific": false,
       "fps": 25,
       "fps_meter": false,
       "grid": [
        -1,
        -1,
        -1,
        1,
        1,
        1
       ],
       "grid_auto_fit": true,
       "grid_color": 15132390,
       "grid_visible": true,
       "height": 512,
       "label_color": 4473924,
       "layout": "IPY_MODEL_841f1a64e03147cb92170b909230d877",
       "lighting": 1.5,
       "manipulate_mode": "translate",
       "menu_visibility": true,
       "mode": "view",
       "name": null,
       "object_ids": [
        139669891284368,
        139669891284848
       ],
       "rendering_steps": 1,
       "screenshot": "",
       "screenshot_scale": 2,
       "snapshot": "",
       "snapshot_type": "full",
       "time": 0,
       "voxel_paint_color": 0
      }
     },
     "23490d1382cf44ecb4f77a89f4afccc1": {
      "model_module": "@jupyter-widgets/base",
      "model_module_version": "1.2.0",
      "model_name": "LayoutModel",
      "state": {}
     },
     "2533b3e767194949b22ace315e8754ee": {
      "buffers": [
       {
        "data": "WSgAAFkoAABTJQAAUyUAAE4iAABOIgAATiIAAE4iAABTJQAAUyUAAFkoAABZKAAAbEo8AGxKPABsRzgAbEc4AG1EMwBtRDMAbUMyAG1DMgBtQzIAbUMyAG1EMwBtRDMAbEc4AGxHOABsSjwAbEo8AHFqZwBxamcAcGlmAHBpZgBwaGUAcGhlAHBoZQBwaGUAcGhlAHBoZQBwaGUAcGhlAHBpZgBwaWYAcWpnAHFqZwB4jpMAeI6TAHeOlAB3jpQAd4+VAHePlQB3kJYAd5CWAHeQlgB3kJYAd4+VAHePlQB3jpQAd46UAHiOkwB4jpMAabPCAGmzwgBntsYAZ7bGAGW5ywBlucsAZLrMAGS6zABkuswAZLrMAGW5ywBlucsAZ7bGAGe2xgBps8IAabPCADrg+QA64PkANOT+ADTk/gA46P4AOOj+ADjo/gA46P4ANOT+ADTk/gA64PkAOuD5AA==",
        "encoding": "base64",
        "path": [
         "colors",
         "data"
        ]
       },
       {
        "data": "AACAPwAAAAAAAAAAAAAAAAAAAAAAAIA/AAAAAAAAAAAAAAAAAAAAAAAAgD8AAAAAAAAAAAAAAAAAAAAAAACAPw==",
        "encoding": "base64",
        "path": [
         "model_matrix",
         "data"
        ]
       },
       {
        "data": "7Y86QMpGvL/aH5W/d5w8QE69er82tJS/89g+QFLd9759eZS/DSdBQNgqgjx9eZS/iWNDQLJCBT82tJS/E3BFQDa5gz/aH5W/v4U4QBfG+79sLjO/G1o6QKdevb/acTK/HHg8QGkzfb9y4DG/C8w+QGIb/b6IkDG/9TNBQGAnuTuIkDG/5IdDQJfMAj9y4DG/5aVFQFmhgj/acTK/QXpHQOk5xD9sLjO/GGM4QMpG/L9cmW6+vjw6QFX3vb8uj22+ImQ8QLGNfr+2wGy+7MQ+QAAAAL/FTmy+FDtBQAAAAADFTmy+3ptDQE9yAT+2wGy+QsNFQKsIgj8uj22+6JxHQDa5wz9cmW6+GGM4QMpG/L9cmW4+vjw6QFX3vb8uj20+ImQ8QLGNfr+2wGw+7MQ+QAAAAL/FTmw+FDtBQAAAAADFTmw+3ptDQE9yAT+2wGw+QsNFQKsIgj8uj20+6JxHQDa5wz9cmW4+v4U4QBfG+79sLjM/G1o6QKdevb/acTI/HHg8QGkzfb9y4DE/C8w+QGIb/b6IkDE/9TNBQGAnuTuIkDE/5IdDQJfMAj9y4DE/5aVFQFmhgj/acTI/QXpHQOk5xD9sLjM/7Y86QMpGvL/aH5U/d5w8QE69er82tJQ/89g+QFLd9759eZQ/DSdBQNgqgjx9eZQ/iWNDQLJCBT82tJQ/E3BFQDa5gz/aH5U/",
        "encoding": "base64",
        "path": [
         "origins",
         "data"
        ]
       },
       {
        "data": "ZQIuPlE24j5lAi6+WuLYPTf16j6hvDS+jYYTPaW67z4waDi+jYYTvaW67z4waDi+WuLYvTf16j6hvDS+ZQIuvlE24j5lAi6+KEhvPrcw3j5HGc29obw0Pjf16j5a4ti95fjhPaPN9D7l+OG9UvoZPcU2+j579+a9UvoZvcU2+j579+a95fjhvaPN9D7l+OG9obw0vjf16j5a4ti9KEhvvrcw3j5HGc299JxzPlE24j4eNQu9MGg4PqW67z6NhhO9e/fmPcU2+j5S+hm92YkdPQAAAD/ZiR292YkdvQAAAD/ZiR29e/fmvcU2+j5S+hm9MGg4vqW67z6NhhO99JxzvlE24j4eNQu99JxzPlE24j4eNQs9MGg4PqW67z6NhhM9e/fmPcU2+j5S+hk92YkdPQAAAD/ZiR092YkdvQAAAD/ZiR09e/fmvcU2+j5S+hk9MGg4vqW67z6NhhM99JxzvlE24j4eNQs9KEhvPrcw3j5HGc09obw0Pjf16j5a4tg95fjhPaPN9D7l+OE9UvoZPcU2+j579+Y9UvoZvcU2+j579+Y95fjhvaPN9D7l+OE9obw0vjf16j5a4tg9KEhvvrcw3j5HGc09ZQIuPlE24j5lAi4+WuLYPTf16j6hvDQ+jYYTPaW67z4waDg+jYYTvaW67z4waDg+WuLYvTf16j6hvDQ+ZQIuvlE24j5lAi4+",
        "encoding": "base64",
        "path": [
         "vectors",
         "data"
        ]
       }
      ],
      "model_module": "k3d",
      "model_module_version": "2.11.0",
      "model_name": "ObjectModel",
      "state": {
       "_view_count": null,
       "_view_module": null,
       "_view_module_version": "",
       "_view_name": null,
       "colorLegend": false,
       "colors": {
        "dtype": "uint32",
        "shape": [
         44,
         2
        ]
       },
       "compression_level": 0,
       "head_color": 255,
       "head_size": 1,
       "id": 139669891280960,
       "label_size": 1,
       "labels": [],
       "line_width": 0.01,
       "model_matrix": {
        "dtype": "float32",
        "shape": [
         4,
         4
        ]
       },
       "name": "Vectors #3",
       "origin_color": 255,
       "origins": {
        "dtype": "float32",
        "shape": [
         44,
         3
        ]
       },
       "type": "Vectors",
       "use_head": true,
       "vectors": {
        "dtype": "float32",
        "shape": [
         44,
         3
        ]
       },
       "visible": true
      }
     },
     "2c4621b00feb4006b4810a5c604a52ef": {
      "model_module": "@jupyter-widgets/base",
      "model_module_version": "1.2.0",
      "model_name": "LayoutModel",
      "state": {}
     },
     "31a6842c09f04189bda94a1337742ebc": {
      "model_module": "k3d",
      "model_module_version": "2.11.0",
      "model_name": "PlotModel",
      "state": {
       "_backend_version": "2.11.0",
       "_dom_classes": [],
       "_view_count": null,
       "antialias": 3,
       "auto_rendering": true,
       "axes": [
        "x\\,\\text{ (nm)}",
        "y\\,\\text{ (nm)}",
        "z\\,\\text{ (nm)}"
       ],
       "axes_helper": 1,
       "background_color": 16777215,
       "camera": [
        10.284874878314442,
        -15.489812314444864,
        1.0059874815822867,
        -0.02499999711290002,
        -0.025000001303851604,
        -0.025000005960464478,
        0,
        0,
        1
       ],
       "camera_animation": [],
       "camera_auto_fit": true,
       "camera_damping_factor": 0,
       "camera_fov": 60,
       "camera_mode": "trackball",
       "camera_no_pan": false,
       "camera_no_rotate": false,
       "camera_no_zoom": false,
       "camera_pan_speed": 0.3,
       "camera_rotate_speed": 1,
       "camera_zoom_speed": 1.2,
       "clipping_planes": [],
       "colorbar_object_id": -1,
       "colorbar_scientific": false,
       "fps": 25,
       "fps_meter": false,
       "grid": [
        -1,
        -1,
        -1,
        1,
        1,
        1
       ],
       "grid_auto_fit": true,
       "grid_color": 15132390,
       "grid_visible": true,
       "height": 512,
       "label_color": 4473924,
       "layout": "IPY_MODEL_3cc5f72280504e1e97533299f62a08ec",
       "lighting": 1.5,
       "manipulate_mode": "translate",
       "menu_visibility": true,
       "mode": "view",
       "name": null,
       "object_ids": [
        139670025895264
       ],
       "rendering_steps": 1,
       "screenshot": "",
       "screenshot_scale": 2,
       "snapshot": "",
       "snapshot_type": "full",
       "time": 0,
       "voxel_paint_color": 0
      }
     },
     "323d6e947038445da32b7908e9f657b9": {
      "buffers": [
       {
        "data": "sHJMAA==",
        "encoding": "base64",
        "path": [
         "color_map",
         "data"
        ]
       },
       {
        "data": "AAAgQQAAAAAAAAAAAAAAAAAAAAAAAMBAAAAAAAAAAAAAAAAAAAAAAAAAgEAAAAAAAAAAAAAAAAAAAAAAAACAPw==",
        "encoding": "base64",
        "path": [
         "model_matrix",
         "data"
        ]
       },
       {
        "data": "AQ==",
        "encoding": "base64",
        "path": [
         "voxels",
         "data"
        ]
       }
      ],
      "model_module": "k3d",
      "model_module_version": "2.11.0",
      "model_name": "ObjectModel",
      "state": {
       "_view_count": null,
       "_view_module": null,
       "_view_module_version": "",
       "_view_name": null,
       "colorLegend": false,
       "color_map": {
        "dtype": "uint32",
        "shape": []
       },
       "compression_level": 0,
       "id": 139669890396464,
       "model_matrix": {
        "dtype": "float32",
        "shape": [
         4,
         4
        ]
       },
       "name": "total_region",
       "opacity": 0.025,
       "outlines": false,
       "outlines_color": 0,
       "type": "Voxels",
       "visible": true,
       "voxels": {
        "dtype": "uint8",
        "shape": [
         1,
         1,
         1
        ]
       },
       "wireframe": false
      }
     },
     "329654106c4347d68456391d0895e35a": {
      "model_module": "@jupyter-widgets/output",
      "model_module_version": "1.0.0",
      "model_name": "OutputModel",
      "state": {
       "layout": "IPY_MODEL_03e31f0d824046ba8d5d1a9a16a11fd5",
       "outputs": [
        {
         "data": {
          "application/vnd.jupyter.widget-view+json": {
           "model_id": "aeeaaac6f5df44308380678a4ab81594",
           "version_major": 2,
           "version_minor": 0
          },
          "text/plain": "Plot(antialias=3, axes=['x\\\\,\\\\text{ (nm)}', 'y\\\\,\\\\text{ (nm)}', 'z\\\\,\\\\text{ (nm)}'], axes_helper=1.0, backg…"
         },
         "metadata": {},
         "output_type": "display_data"
        }
       ]
      }
     },
     "381820a8c3964502812d540c51188b52": {
      "model_module": "@jupyter-widgets/base",
      "model_module_version": "1.2.0",
      "model_name": "LayoutModel",
      "state": {}
     },
     "385a2f94aa6e4e44bc49947d88888dc0": {
      "model_module": "@jupyter-widgets/base",
      "model_module_version": "1.2.0",
      "model_name": "LayoutModel",
      "state": {}
     },
     "39c2e7d547214c6fb2d2b9b0045214eb": {
      "model_module": "@jupyter-widgets/base",
      "model_module_version": "1.2.0",
      "model_name": "LayoutModel",
      "state": {}
     },
     "3b916adc8119433f81014dcb572fb21a": {
      "buffers": [
       {
        "data": "sHJMAA==",
        "encoding": "base64",
        "path": [
         "color_map",
         "data"
        ]
       },
       {
        "data": "AAAgQQAAAAAAAAAAAAAAAAAAAAAAAMBAAAAAAAAAAAAAAAAAAAAAAAAAgEAAAAAAAAAAAAAAAAAAAAAAAACAPw==",
        "encoding": "base64",
        "path": [
         "model_matrix",
         "data"
        ]
       },
       {
        "data": "AQ==",
        "encoding": "base64",
        "path": [
         "voxels",
         "data"
        ]
       }
      ],
      "model_module": "k3d",
      "model_module_version": "2.11.0",
      "model_name": "ObjectModel",
      "state": {
       "_view_count": null,
       "_view_module": null,
       "_view_module_version": "",
       "_view_name": null,
       "colorLegend": false,
       "color_map": {
        "dtype": "uint32",
        "shape": []
       },
       "compression_level": 0,
       "id": 139669890803696,
       "model_matrix": {
        "dtype": "float32",
        "shape": [
         4,
         4
        ]
       },
       "name": "total_region",
       "opacity": 0.025,
       "outlines": false,
       "outlines_color": 0,
       "type": "Voxels",
       "visible": true,
       "voxels": {
        "dtype": "uint8",
        "shape": [
         1,
         1,
         1
        ]
       },
       "wireframe": false
      }
     },
     "3c12427facae4df095c7e0c1d4a86b8f": {
      "model_module": "k3d",
      "model_module_version": "2.11.0",
      "model_name": "PlotModel",
      "state": {
       "_backend_version": "2.11.0",
       "_dom_classes": [],
       "_view_count": null,
       "antialias": 3,
       "auto_rendering": true,
       "axes": [
        "x\\,\\text{ (nm)}",
        "y\\,\\text{ (nm)}",
        "z\\,\\text{ (nm)}"
       ],
       "axes_helper": 1,
       "background_color": 16777215,
       "camera": [],
       "camera_animation": [],
       "camera_auto_fit": true,
       "camera_damping_factor": 0,
       "camera_fov": 60,
       "camera_mode": "trackball",
       "camera_no_pan": false,
       "camera_no_rotate": false,
       "camera_no_zoom": false,
       "camera_pan_speed": 0.3,
       "camera_rotate_speed": 1,
       "camera_zoom_speed": 1.2,
       "clipping_planes": [],
       "colorbar_object_id": -1,
       "colorbar_scientific": false,
       "fps": 25,
       "fps_meter": false,
       "grid": [
        -1,
        -1,
        -1,
        1,
        1,
        1
       ],
       "grid_auto_fit": true,
       "grid_color": 15132390,
       "grid_visible": true,
       "height": 512,
       "label_color": 4473924,
       "layout": "IPY_MODEL_f6896e77f0554b6386c569ab93a6db40",
       "lighting": 1.5,
       "manipulate_mode": "translate",
       "menu_visibility": true,
       "mode": "view",
       "name": null,
       "object_ids": [
        139671939943632
       ],
       "rendering_steps": 1,
       "screenshot": "",
       "screenshot_scale": 2,
       "snapshot": "",
       "snapshot_type": "full",
       "time": 0,
       "voxel_paint_color": 0
      }
     },
     "3cc5f72280504e1e97533299f62a08ec": {
      "model_module": "@jupyter-widgets/base",
      "model_module_version": "1.2.0",
      "model_name": "LayoutModel",
      "state": {}
     },
     "41065f9ae312416d81643b6c24297e77": {
      "model_module": "@jupyter-widgets/base",
      "model_module_version": "1.2.0",
      "model_name": "LayoutModel",
      "state": {}
     },
     "44cfdf2b9d484613af52fe7a3e1ceaee": {
      "model_module": "@jupyter-widgets/controls",
      "model_module_version": "1.5.0",
      "model_name": "DropdownModel",
      "state": {
       "_options_labels": [
        "x",
        "y",
        "z"
       ],
       "description": "axis",
       "index": 2,
       "layout": "IPY_MODEL_0e19f6ef4dd2402db871664e72a02bbe",
       "style": "IPY_MODEL_ace3b67fbea4458fb133bdac2c011d18"
      }
     },
     "4884e72c1eb242e1a73f1fffbb4c736a": {
      "model_module": "k3d",
      "model_module_version": "2.11.0",
      "model_name": "PlotModel",
      "state": {
       "_backend_version": "2.11.0",
       "_dom_classes": [],
       "_view_count": null,
       "antialias": 3,
       "auto_rendering": true,
       "axes": [
        "x\\,\\text{ (nm)}",
        "y\\,\\text{ (nm)}",
        "z\\,\\text{ (nm)}"
       ],
       "axes_helper": 1,
       "background_color": 16777215,
       "camera": [],
       "camera_animation": [],
       "camera_auto_fit": false,
       "camera_damping_factor": 0,
       "camera_fov": 60,
       "camera_mode": "trackball",
       "camera_no_pan": false,
       "camera_no_rotate": false,
       "camera_no_zoom": false,
       "camera_pan_speed": 0.3,
       "camera_rotate_speed": 1,
       "camera_zoom_speed": 1.2,
       "clipping_planes": [],
       "colorbar_object_id": -1,
       "colorbar_scientific": false,
       "fps": 25,
       "fps_meter": false,
       "grid": [
        -1,
        -1,
        -1,
        1,
        1,
        1
       ],
       "grid_auto_fit": true,
       "grid_color": 15132390,
       "grid_visible": true,
       "height": 512,
       "label_color": 4473924,
       "layout": "IPY_MODEL_0dbc31e96d934e1ea99c35b3d99669ab",
       "lighting": 1.5,
       "manipulate_mode": "translate",
       "menu_visibility": true,
       "mode": "view",
       "name": null,
       "object_ids": [
        139669890396464,
        139669890396896,
        139669890400064
       ],
       "rendering_steps": 1,
       "screenshot": "",
       "screenshot_scale": 2,
       "snapshot": "",
       "snapshot_type": "full",
       "time": 0,
       "voxel_paint_color": 0
      }
     },
     "4eda810c97744e96a723da365f765c89": {
      "model_module": "@jupyter-widgets/controls",
      "model_module_version": "1.5.0",
      "model_name": "VBoxModel",
      "state": {
       "_dom_classes": [
        "widget-interact"
       ],
       "children": [
        "IPY_MODEL_6487a6ba4b0f4bb7b0ff851883e1bc50",
        "IPY_MODEL_44cfdf2b9d484613af52fe7a3e1ceaee",
        "IPY_MODEL_f3944a11d7b0454ab351ab85d8980a67"
       ],
       "layout": "IPY_MODEL_9d2197cd505148fdbfcbb41f27b9e032"
      }
     },
     "4fa82825d6684e4ba45941abe283ad81": {
      "model_module": "@jupyter-widgets/output",
      "model_module_version": "1.0.0",
      "model_name": "OutputModel",
      "state": {
       "layout": "IPY_MODEL_a5dda612770843c0894f7c97e302e41a",
       "outputs": [
        {
         "data": {
          "application/vnd.jupyter.widget-view+json": {
           "model_id": "3c12427facae4df095c7e0c1d4a86b8f",
           "version_major": 2,
           "version_minor": 0
          },
          "text/plain": "Plot(antialias=3, axes=['x', 'y', 'z'], axes_helper=1.0, background_color=16777215, camera_animation=[], camer…"
         },
         "metadata": {},
         "output_type": "display_data"
        }
       ]
      }
     },
     "563d9557473541f19755ae6db6c77009": {
      "buffers": [
       {
        "data": "UoTdAFKE3QBShN0AUoTdAFKE3QBShN0AUoTdAFKE3QBShN0AUoTdAFKE3QBShN0AUoTdAFKE3QBShN0AUoTdAFKE3QBShN0AUoTdAFKE3QBShN0AUoTdAFKE3QBShN0AUoTdAFKE3QBShN0AUoTdAFKE3QBShN0AUoTdAFKE3QBShN0AUoTdAFKE3QBShN0AUoTdAFKE3QBShN0AUoTdAFKE3QBShN0AUoTdAFKE3QBShN0AUoTdAFKE3QBShN0AUoTdAFKE3QBShN0AUoTdAFKE3QBShN0AUoTdAFKE3QBShN0AUoTdAFKE3QBShN0AUoTdAFKE3QBShN0AUoTdAFKE3QBShN0AUoTdAFKE3QBShN0AUoTdAFKE3QBShN0AUoTdAFKE3QBShN0AUoTdAFKE3QBShN0AUoTdAFKE3QBShN0AUoTdAFKE3QBShN0AUoTdAFKE3QBShN0AUoTdAFKE3QBShN0AUoTdAFKE3QBShN0AUoTdAFKE3QBShN0AUoTdAFKE3QBShN0AUoTdAFKE3QBShN0AUoTdAFKE3QBShN0AUoTdAFKE3QBShN0AUoTdAFKE3QBShN0AUoTdAFKE3QBShN0AUoTdAFKE3QBShN0AUoTdAFKE3QBShN0AUoTdAFKE3QBShN0AUoTdAFKE3QBShN0AUoTdAFKE3QBShN0AUoTdAFKE3QBShN0AUoTdAFKE3QBShN0AUoTdAFKE3QBShN0AUoTdAFKE3QBShN0AUoTdAFKE3QBShN0AUoTdAFKE3QBShN0AUoTdAFKE3QBShN0AUoTdAFKE3QBShN0AUoTdAFKE3QBShN0AUoTdAFKE3QBShN0AUoTdAFKE3QBShN0AUoTdAFKE3QBShN0AUoTdAFKE3QBShN0AUoTdAFKE3QBShN0AUoTdAFKE3QBShN0AUoTdAFKE3QBShN0AUoTdAFKE3QBShN0AUoTdAFKE3QBShN0AUoTdAFKE3QBShN0AUoTdAFKE3QBShN0AUoTdAFKE3QBShN0AUoTdAFKE3QBShN0AUoTdAFKE3QBShN0AUoTdAFKE3QBShN0AUoTdAFKE3QBShN0AUoTdAFKE3QBShN0AUoTdAFKE3QBShN0AUoTdAFKE3QBShN0AUoTdAFKE3QBShN0AUoTdAFKE3QBShN0AUoTdAFKE3QBShN0AUoTdAFKE3QBShN0AUoTdAFKE3QBShN0AUoTdAFKE3QBShN0AUoTdAFKE3QBShN0AUoTdAFKE3QBShN0AUoTdAFKE3QBShN0AUoTdAFKE3QBShN0AUoTdAFKE3QBShN0AUoTdAFKE3QBShN0AUoTdAFKE3QBShN0AUoTdAFKE3QBShN0AUoTdAFKE3QBShN0AUoTdAFKE3QBShN0AUoTdAFKE3QBShN0AUoTdAFKE3QBShN0AUoTdAFKE3QBShN0AUoTdAFKE3QBShN0AUoTdAFKE3QBShN0AUoTdAFKE3QBShN0AUoTdAFKE3QBShN0AUoTdAFKE3QBShN0AUoTdAFKE3QBShN0AUoTdAFKE3QBShN0AUoTdAFKE3QBShN0AUoTdAFKE3QBShN0AUoTdAFKE3QBShN0AUoTdAFKE3QBShN0AUoTdAFKE3QBShN0AUoTdAFKE3QBShN0AUoTdAFKE3QBShN0AUoTdAFKE3QBShN0AUoTdAFKE3QBShN0AUoTdAFKE3QBShN0AUoTdAFKE3QBShN0AUoTdAFKE3QBShN0AUoTdAFKE3QBShN0AUoTdAFKE3QBShN0AUoTdAFKE3QBShN0AUoTdAFKE3QBShN0AUoTdAFKE3QBShN0AUoTdAFKE3QBShN0AUoTdAFKE3QBShN0AUoTdAFKE3QBShN0AUoTdAFKE3QBShN0AUoTdAFKE3QBShN0AUoTdAFKE3QBShN0AUoTdAFKE3QBShN0AUoTdAFKE3QBShN0AUoTdAFKE3QBShN0AUoTdAFKE3QBShN0AUoTdAFKE3QBShN0AUoTdAFKE3QBShN0AUoTdAFKE3QBShN0AUoTdAFKE3QBShN0AUoTdAFKE3QBShN0AUoTdAFKE3QBShN0AUoTdAFKE3QBShN0AUoTdAFKE3QBShN0AUoTdAFKE3QBShN0AUoTdAFKE3QBShN0AUoTdAFKE3QBShN0AUoTdAFKE3QBShN0AUoTdAFKE3QBShN0AUoTdAFKE3QBShN0AUoTdAFKE3QBShN0AUoTdAFKE3QBShN0AUoTdAFKE3QBShN0AUoTdAFKE3QBShN0AUoTdAFKE3QBShN0AUoTdAFKE3QBShN0AUoTdAFKE3QBShN0AUoTdAFKE3QBShN0AUoTdAFKE3QBShN0AUoTdAFKE3QBShN0AUoTdAFKE3QBShN0AUoTdAFKE3QBShN0AUoTdAFKE3QBShN0AUoTdAFKE3QBShN0AUoTdAFKE3QBShN0AUoTdAFKE3QBShN0AUoTdAFKE3QBShN0AUoTdAFKE3QBShN0AUoTdAFKE3QBShN0AUoTdAFKE3QBShN0AUoTdAFKE3QBShN0AUoTdAFKE3QBShN0AUoTdAFKE3QBShN0AUoTdAFKE3QBShN0AUoTdAFKE3QBShN0AUoTdAFKE3QBShN0AUoTdAFKE3QBShN0AUoTdAFKE3QBShN0AUoTdAFKE3QBShN0AUoTdAFKE3QBShN0AUoTdAFKE3QBShN0AUoTdAFKE3QBShN0AUoTdAFKE3QBShN0AUoTdAFKE3QBShN0AUoTdAFKE3QBShN0AUoTdAFKE3QBShN0AUoTdAFKE3QBShN0AUoTdAFKE3QBShN0AUoTdAFKE3QBShN0AUoTdAFKE3QBShN0AUoTdAFKE3QBShN0AUoTdAFKE3QBShN0AUoTdAFKE3QBShN0AUoTdAFKE3QBShN0AUoTdAFKE3QBShN0AUoTdAFKE3QBShN0AUoTdAFKE3QBShN0AUoTdAFKE3QBShN0AUoTdAFKE3QBShN0AUoTdAFKE3QBShN0AUoTdAFKE3QBShN0AUoTdAFKE3QBShN0AUoTdAFKE3QBShN0AUoTdAFKE3QBShN0AUoTdAFKE3QBShN0AUoTdAFKE3QBShN0AUoTdAFKE3QBShN0AUoTdAFKE3QBShN0AUoTdAFKE3QBShN0AUoTdAFKE3QBShN0AUoTdAFKE3QBShN0AUoTdAFKE3QBShN0AUoTdAFKE3QBShN0AUoTdAFKE3QBShN0AUoTdAFKE3QBShN0AUoTdAFKE3QBShN0AUoTdAFKE3QBShN0AUoTdAFKE3QBShN0AUoTdAFKE3QBShN0AUoTdAFKE3QBShN0AUoTdAFKE3QBShN0AUoTdAFKE3QBShN0AUoTdAFKE3QBShN0AUoTdAFKE3QBShN0AUoTdAFKE3QBShN0AUoTdAFKE3QBShN0AUoTdAFKE3QBShN0AUoTdAFKE3QBShN0AUoTdAFKE3QBShN0AUoTdAFKE3QBShN0AUoTdAFKE3QBShN0AUoTdAFKE3QBShN0AUoTdAFKE3QBShN0AUoTdAFKE3QBShN0AUoTdAFKE3QBShN0AUoTdAFKE3QBShN0AUoTdAFKE3QBShN0AUoTdAFKE3QBShN0AUoTdAFKE3QBShN0AUoTdAFKE3QBShN0AUoTdAFKE3QBShN0AUoTdAFKE3QBShN0AUoTdAFKE3QBShN0AUoTdAFKE3QBShN0AUoTdAFKE3QBShN0AUoTdAFKE3QBShN0AUoTdAFKE3QBShN0AUoTdAFKE3QBShN0AUoTdAFKE3QBShN0AUoTdAFKE3QBShN0AUoTdAFKE3QBShN0AUoTdAFKE3QBShN0AUoTdAFKE3QBShN0AUoTdAFKE3QBShN0AUoTdAFKE3QBShN0AUoTdAFKE3QBShN0AUoTdAFKE3QBShN0AUoTdAFKE3QBShN0AUoTdAFKE3QBShN0AUoTdAFKE3QBShN0AUoTdAFKE3QBShN0AUoTdAFKE3QBShN0AUoTdAFKE3QBShN0AUoTdAFKE3QBShN0AUoTdAFKE3QBShN0AUoTdAFKE3QBShN0AUoTdAFKE3QBShN0AUoTdAFKE3QBShN0AUoTdAFKE3QBShN0AUoTdAFKE3QBShN0AUoTdAFKE3QBShN0AUoTdAFKE3QBShN0AUoTdAFKE3QBShN0AUoTdAFKE3QBShN0AUoTdAFKE3QBShN0AUoTdAFKE3QBShN0AUoTdAFKE3QBShN0AUoTdAFKE3QBShN0AUoTdAFKE3QBShN0AUoTdAFKE3QBShN0AUoTdAFKE3QBShN0AUoTdAFKE3QBShN0AUoTdAFKE3QBShN0AUoTdAFKE3QBShN0AUoTdAFKE3QBShN0AUoTdAFKE3QBShN0AUoTdAFKE3QBShN0AUoTdAFKE3QBShN0AUoTdAFKE3QBShN0AUoTdAFKE3QBShN0AUoTdAFKE3QBShN0AUoTdAFKE3QBShN0AUoTdAFKE3QBShN0AUoTdAFKE3QBShN0AUoTdAFKE3QBShN0AUoTdAFKE3QBShN0AUoTdAFKE3QBShN0AUoTdAFKE3QBShN0AUoTdAFKE3QBShN0AUoTdAFKE3QBShN0AUoTdAFKE3QBShN0AUoTdAFKE3QBShN0AUoTdAFKE3QBShN0AUoTdAFKE3QBShN0AUoTdAFKE3QBShN0AUoTdAFKE3QBShN0AUoTdAFKE3QBShN0AUoTdAFKE3QBShN0AUoTdAFKE3QBShN0AUoTdAFKE3QBShN0AUoTdAFKE3QBShN0AUoTdAFKE3QBShN0AUoTdAFKE3QBShN0AUoTdAFKE3QBShN0AUoTdAFKE3QBShN0AUoTdAFKE3QBShN0AUoTdAFKE3QBShN0AUoTdAFKE3QBShN0AUoTdAFKE3QBShN0AUoTdAFKE3QBShN0AUoTdAFKE3QBShN0AUoTdAFKE3QBShN0AUoTdAFKE3QBShN0AUoTdAFKE3QBShN0AUoTdAFKE3QBShN0AUoTdAFKE3QBShN0AUoTdAFKE3QBShN0AUoTdAFKE3QBShN0AUoTdAFKE3QBShN0AUoTdAFKE3QBShN0AUoTdAFKE3QBShN0AUoTdAFKE3QBShN0AUoTdAFKE3QBShN0AUoTdAFKE3QBShN0AUoTdAFKE3QBShN0AUoTdAFKE3QBShN0AUoTdAFKE3QBShN0AUoTdAFKE3QBShN0AUoTdAFKE3QBShN0AUoTdAFKE3QBShN0AUoTdAFKE3QBShN0AUoTdAFKE3QBShN0AUoTdAFKE3QBShN0AUoTdAFKE3QBShN0AUoTdAFKE3QBShN0AUoTdAFKE3QBShN0AUoTdAFKE3QBShN0AUoTdAFKE3QBShN0AUoTdAFKE3QBShN0AUoTdAFKE3QBShN0AUoTdAFKE3QBShN0AUoTdAFKE3QBShN0AUoTdAFKE3QBShN0AUoTdAFKE3QBShN0AUoTdAFKE3QBShN0AUoTdAFKE3QBShN0AUoTdAFKE3QBShN0AUoTdAFKE3QBShN0AUoTdAFKE3QBShN0AUoTdAFKE3QBShN0AUoTdAFKE3QBShN0AUoTdAFKE3QBShN0AUoTdAFKE3QBShN0AUoTdAFKE3QBShN0AUoTdAFKE3QBShN0AUoTdAFKE3QBShN0AUoTdAFKE3QBShN0AUoTdAFKE3QBShN0AUoTdAFKE3QBShN0AUoTdAFKE3QBShN0AUoTdAFKE3QBShN0AUoTdAFKE3QBShN0AUoTdAFKE3QBShN0AUoTdAFKE3QBShN0AUoTdAFKE3QBShN0AUoTdAFKE3QBShN0AUoTdAFKE3QBShN0AUoTdAFKE3QBShN0AUoTdAFKE3QBShN0AUoTdAFKE3QBShN0AUoTdAFKE3QBShN0AUoTdAFKE3QBShN0AUoTdAFKE3QBShN0AUoTdAFKE3QBShN0AUoTdAFKE3QBShN0AUoTdAFKE3QBShN0AUoTdAFKE3QBShN0AUoTdAFKE3QBShN0AUoTdAFKE3QBShN0AUoTdAFKE3QBShN0AUoTdAFKE3QBShN0AUoTdAFKE3QBShN0AUoTdAFKE3QBShN0AUoTdAFKE3QBShN0AUoTdAFKE3QBShN0AUoTdAFKE3QBShN0AUoTdAFKE3QBShN0AUoTdAFKE3QBShN0AUoTdAFKE3QBShN0AUoTdAFKE3QBShN0AUoTdAFKE3QBShN0AUoTdAFKE3QBShN0AUoTdAFKE3QBShN0AUoTdAFKE3QBShN0AUoTdAFKE3QBShN0AUoTdAFKE3QBShN0AUoTdAFKE3QBShN0AUoTdAFKE3QBShN0AUoTdAFKE3QBShN0AUoTdAFKE3QBShN0AUoTdAFKE3QBShN0AUoTdAFKE3QBShN0AUoTdAFKE3QBShN0AUoTdAFKE3QBShN0AUoTdAFKE3QBShN0AUoTdAFKE3QBShN0AUoTdAFKE3QBShN0AUoTdAFKE3QBShN0AUoTdAFKE3QBShN0AUoTdAFKE3QBShN0AUoTdAFKE3QBShN0AUoTdAFKE3QBShN0AUoTdAFKE3QBShN0AUoTdAFKE3QBShN0AUoTdAFKE3QBShN0AUoTdAFKE3QBShN0AUoTdAFKE3QBShN0AUoTdAFKE3QBShN0AUoTdAFKE3QBShN0AUoTdAFKE3QBShN0AUoTdAFKE3QBShN0AUoTdAFKE3QBShN0AUoTdAFKE3QBShN0AUoTdAFKE3QBShN0AUoTdAFKE3QBShN0AUoTdAFKE3QBShN0AUoTdAFKE3QBShN0AUoTdAFKE3QBShN0AUoTdAFKE3QBShN0AUoTdAFKE3QBShN0AUoTdAFKE3QBShN0AUoTdAFKE3QBShN0AUoTdAFKE3QBShN0AUoTdAFKE3QBShN0AUoTdAFKE3QBShN0AUoTdAFKE3QBShN0AUoTdAFKE3QBShN0AUoTdAFKE3QBShN0AUoTdAFKE3QBShN0AUoTdAFKE3QBShN0AUoTdAFKE3QBShN0AUoTdAFKE3QBShN0AUoTdAFKE3QBShN0AUoTdAFKE3QBShN0AUoTdAFKE3QBShN0AUoTdAFKE3QBShN0AUoTdAFKE3QBShN0AUoTdAFKE3QBShN0AUoTdAFKE3QBShN0AUoTdAFKE3QBShN0AUoTdAFKE3QBShN0AUoTdAFKE3QBShN0AUoTdAFKE3QBShN0AUoTdAFKE3QBShN0AUoTdAFKE3QBShN0AUoTdAFKE3QBShN0AUoTdAFKE3QBShN0AUoTdAFKE3QBShN0AUoTdAFKE3QBShN0AUoTdAFKE3QBShN0AUoTdAFKE3QBShN0AUoTdAFKE3QBShN0AUoTdAFKE3QBShN0AUoTdAFKE3QBShN0AUoTdAFKE3QBShN0AUoTdAFKE3QBShN0AUoTdAFKE3QBShN0AUoTdAFKE3QBShN0AUoTdAFKE3QBShN0AUoTdAFKE3QBShN0AUoTdAFKE3QBShN0AUoTdAFKE3QBShN0AUoTdAFKE3QBShN0AUoTdAFKE3QBShN0AUoTdAFKE3QBShN0AUoTdAFKE3QBShN0AUoTdAFKE3QBShN0AUoTdAFKE3QBShN0AUoTdAFKE3QBShN0AUoTdAFKE3QBShN0AUoTdAFKE3QBShN0AUoTdAFKE3QBShN0AUoTdAFKE3QBShN0AUoTdAFKE3QBShN0AUoTdAFKE3QBShN0AUoTdAFKE3QBShN0AUoTdAFKE3QBShN0AUoTdAFKE3QBShN0AUoTdAFKE3QBShN0AUoTdAFKE3QBShN0AUoTdAFKE3QBShN0AUoTdAFKE3QBShN0AUoTdAFKE3QBShN0AUoTdAFKE3QBShN0AUoTdAFKE3QBShN0AUoTdAFKE3QBShN0AUoTdAFKE3QBShN0AUoTdAFKE3QBShN0AUoTdAFKE3QBShN0AUoTdAFKE3QBShN0AUoTdAFKE3QBShN0AUoTdAFKE3QBShN0AUoTdAFKE3QBShN0AUoTdAFKE3QBShN0AUoTdAFKE3QBShN0AUoTdAFKE3QBShN0AUoTdAFKE3QBShN0AUoTdAFKE3QBShN0AUoTdAFKE3QBShN0AUoTdAFKE3QBShN0AUoTdAFKE3QBShN0AUoTdAFKE3QBShN0AUoTdAFKE3QBShN0AUoTdAFKE3QBShN0AUoTdAFKE3QBShN0AUoTdAFKE3QBShN0AUoTdAFKE3QBShN0AUoTdAFKE3QBShN0AUoTdAFKE3QBShN0AUoTdAFKE3QBShN0AUoTdAFKE3QBShN0AUoTdAFKE3QBShN0AUoTdAFKE3QBShN0AUoTdAFKE3QBShN0AUoTdAFKE3QBShN0AUoTdAFKE3QBShN0AUoTdAFKE3QBShN0AUoTdAFKE3QBShN0AUoTdAFKE3QBShN0AUoTdAFKE3QBShN0AUoTdAFKE3QBShN0AUoTdAFKE3QBShN0AUoTdAFKE3QBShN0AUoTdAFKE3QBShN0AUoTdAFKE3QBShN0AUoTdAFKE3QBShN0AUoTdAFKE3QBShN0AUoTdAFKE3QBShN0AUoTdAFKE3QBShN0AUoTdAFKE3QBShN0AUoTdAFKE3QBShN0AUoTdAFKE3QBShN0AUoTdAFKE3QBShN0AUoTdAFKE3QBShN0AUoTdAFKE3QBShN0AUoTdAFKE3QBShN0AUoTdAFKE3QBShN0AUoTdAFKE3QBShN0AUoTdAFKE3QBShN0AUoTdAFKE3QBShN0AUoTdAFKE3QBShN0AUoTdAFKE3QBShN0AUoTdAFKE3QBShN0AUoTdAFKE3QBShN0AUoTdAFKE3QBShN0AUoTdAFKE3QBShN0AUoTdAFKE3QBShN0AUoTdAFKE3QBShN0AUoTdAFKE3QBShN0AUoTdAFKE3QBShN0AUoTdAFKE3QBShN0AUoTdAFKE3QBShN0AUoTdAFKE3QBShN0AUoTdAFKE3QBShN0AUoTdAFKE3QBShN0AUoTdAFKE3QBShN0AUoTdAFKE3QBShN0AUoTdAFKE3QBShN0AUoTdAFKE3QBShN0AUoTdAFKE3QBShN0AUoTdAFKE3QBShN0AUoTdAFKE3QBShN0AUoTdAFKE3QBShN0AUoTdAFKE3QBShN0AUoTdAFKE3QBShN0AUoTdAFKE3QBShN0AUoTdAFKE3QBShN0AUoTdAFKE3QBShN0AUoTdAFKE3QBShN0AUoTdAFKE3QBShN0AUoTdAFKE3QBShN0AUoTdAFKE3QBShN0AUoTdAFKE3QBShN0AUoTdAFKE3QBShN0AUoTdAFKE3QBShN0AUoTdAFKE3QBShN0AUoTdAFKE3QBShN0AUoTdAFKE3QBShN0AUoTdAFKE3QBShN0AUoTdAFKE3QBShN0AUoTdAFKE3QBShN0AUoTdAFKE3QBShN0AUoTdAFKE3QBShN0AUoTdAFKE3QBShN0AUoTdAFKE3QBShN0AUoTdAFKE3QBShN0AUoTdAFKE3QBShN0AUoTdAFKE3QBShN0AUoTdAFKE3QBShN0AUoTdAFKE3QBShN0AUoTdAFKE3QBShN0AUoTdAFKE3QBShN0AUoTdAFKE3QBShN0AUoTdAFKE3QBShN0AUoTdAFKE3QBShN0AUoTdAFKE3QBShN0AUoTdAFKE3QBShN0AUoTdAFKE3QBShN0AUoTdAFKE3QBShN0AUoTdAFKE3QBShN0AUoTdAFKE3QBShN0AUoTdAFKE3QBShN0AUoTdAFKE3QBShN0AUoTdAFKE3QBShN0AUoTdAFKE3QBShN0AUoTdAFKE3QBShN0AUoTdAFKE3QBShN0AUoTdAFKE3QBShN0AUoTdAFKE3QBShN0AUoTdAFKE3QBShN0AUoTdAFKE3QBShN0AUoTdAFKE3QBShN0AUoTdAFKE3QBShN0AUoTdAFKE3QBShN0AUoTdAFKE3QBShN0AUoTdAFKE3QBShN0AUoTdAFKE3QBShN0AUoTdAFKE3QBShN0AUoTdAFKE3QBShN0AUoTdAFKE3QBShN0AUoTdAFKE3QBShN0AUoTdAFKE3QBShN0AUoTdAFKE3QBShN0AUoTdAFKE3QBShN0AUoTdAFKE3QBShN0AUoTdAFKE3QBShN0AUoTdAFKE3QBShN0AUoTdAFKE3QBShN0AUoTdAFKE3QBShN0AUoTdAFKE3QBShN0AUoTdAFKE3QBShN0AUoTdAFKE3QBShN0AUoTdAFKE3QBShN0AUoTdAFKE3QBShN0AUoTdAFKE3QBShN0AUoTdAFKE3QBShN0AUoTdAFKE3QBShN0AUoTdAFKE3QBShN0AUoTdAFKE3QBShN0AUoTdAFKE3QBShN0AUoTdAFKE3QBShN0AUoTdAFKE3QBShN0AUoTdAFKE3QBShN0AUoTdAFKE3QBShN0AUoTdAFKE3QBShN0AUoTdAFKE3QBShN0AUoTdAFKE3QBShN0AUoTdAFKE3QBShN0AUoTdAFKE3QBShN0AUoTdAFKE3QBShN0AUoTdAFKE3QBShN0AUoTdAFKE3QBShN0AUoTdAFKE3QBShN0AUoTdAFKE3QBShN0AUoTdAFKE3QBShN0AUoTdAFKE3QBShN0AUoTdAFKE3QBShN0AUoTdAFKE3QBShN0AUoTdAFKE3QBShN0AUoTdAFKE3QBShN0AUoTdAFKE3QBShN0AUoTdAFKE3QBShN0AUoTdAFKE3QBShN0AUoTdAFKE3QBShN0A",
        "encoding": "base64",
        "path": [
         "colors",
         "data"
        ]
       },
       {
        "data": "AACAPwAAAAAAAAAAAAAAAAAAAAAAAIA/AAAAAAAAAAAAAAAAAAAAAAAAgD8AAAAAAAAAAAAAAAAAAAAAAACAPw==",
        "encoding": "base64",
        "path": [
         "model_matrix",
         "data"
        ]
       },
       {
        "data": "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",
        "encoding": "base64",
        "path": [
         "origins",
         "data"
        ]
       },
       {
        "data": "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",
        "encoding": "base64",
        "path": [
         "vectors",
         "data"
        ]
       }
      ],
      "model_module": "k3d",
      "model_module_version": "2.11.0",
      "model_name": "ObjectModel",
      "state": {
       "_view_count": null,
       "_view_module": null,
       "_view_module_version": "",
       "_view_name": null,
       "colorLegend": false,
       "colors": {
        "dtype": "uint32",
        "shape": [
         1008,
         2
        ]
       },
       "compression_level": 0,
       "head_color": 255,
       "head_size": 1,
       "id": 139671939851024,
       "label_size": 1,
       "labels": [],
       "line_width": 0.01,
       "model_matrix": {
        "dtype": "float32",
        "shape": [
         4,
         4
        ]
       },
       "name": "Vectors #1",
       "origin_color": 255,
       "origins": {
        "dtype": "float32",
        "shape": [
         1008,
         3
        ]
       },
       "type": "Vectors",
       "use_head": true,
       "vectors": {
        "dtype": "float32",
        "shape": [
         1008,
         3
        ]
       },
       "visible": true
      }
     },
     "577d09c654d348db98e14a71d8d0085f": {
      "model_module": "@jupyter-widgets/output",
      "model_module_version": "1.0.0",
      "model_name": "OutputModel",
      "state": {
       "layout": "IPY_MODEL_7e797fdd5d46498197aa00545680d0ec"
      }
     },
     "58810948152348ff97798046fad81113": {
      "model_module": "@jupyter-widgets/output",
      "model_module_version": "1.0.0",
      "model_name": "OutputModel",
      "state": {
       "layout": "IPY_MODEL_2c4621b00feb4006b4810a5c604a52ef",
       "outputs": [
        {
         "data": {
          "application/vnd.jupyter.widget-view+json": {
           "model_id": "1d378596b9a247b8befd6486952746cb",
           "version_major": 2,
           "version_minor": 0
          },
          "text/plain": "Plot(antialias=3, axes=['x', 'y', 'z'], axes_helper=1.0, background_color=16777215, camera_animation=[], camer…"
         },
         "metadata": {},
         "output_type": "display_data"
        }
       ]
      }
     },
     "5b79c8ea2e554f8b8edde5d5e04207ba": {
      "buffers": [
       {
        "data": "sHJMAFKE3QBoqFUAUk7EALNygQBgeJMAw4vaAIyMjAB0ucwAzbVkAA==",
        "encoding": "base64",
        "path": [
         "color_map",
         "data"
        ]
       },
       {
        "data": "AABIQgAAAAAAAAAAAADIQQAAAAAAAEhCAAAAAAAAyEEAAAAAAAAAAAAAIEEAAKBAAAAAAAAAAAAAAAAAAACAPw==",
        "encoding": "base64",
        "path": [
         "model_matrix",
         "data"
        ]
       },
       {
        "data": "AQEBAQEBAQEBAQEBAQEBAQEBAQEBAQEBAQEBAQEBAQEBAQEBAQEBAQEBAQEBAQEBAQEBAQEBAQEBAQEBAQEBAQEBAQEBAQEBAQEBAQEBAQEBAQEBAQEBAQEBAQEBAQEBAQEBAQICAgICAgICAgICAgICAgICAgICAgICAgICAgICAgICAgICAgICAgICAgICAgICAgICAgICAgICAgICAgICAgICAgICAgICAgICAgICAgICAgICAgICAgICAgICAgICAgICAgI=",
        "encoding": "base64",
        "path": [
         "voxels",
         "data"
        ]
       }
      ],
      "model_module": "k3d",
      "model_module_version": "2.11.0",
      "model_name": "ObjectModel",
      "state": {
       "_view_count": null,
       "_view_module": null,
       "_view_module_version": "",
       "_view_name": null,
       "colorLegend": false,
       "color_map": {
        "dtype": "uint32",
        "shape": [
         10
        ]
       },
       "compression_level": 0,
       "id": 139671939850784,
       "model_matrix": {
        "dtype": "float32",
        "shape": [
         4,
         4
        ]
       },
       "name": "Voxels #1",
       "opacity": 1,
       "outlines": false,
       "outlines_color": 0,
       "type": "Voxels",
       "visible": true,
       "voxels": {
        "dtype": "uint8",
        "shape": [
         2,
         10,
         10
        ]
       },
       "wireframe": false
      }
     },
     "5c449ee837734cea892e1b70ae622013": {
      "model_module": "@jupyter-widgets/base",
      "model_module_version": "1.2.0",
      "model_name": "LayoutModel",
      "state": {}
     },
     "5d62f670f91746a1838759f2018446ad": {
      "model_module": "k3d",
      "model_module_version": "2.11.0",
      "model_name": "PlotModel",
      "state": {
       "_backend_version": "2.11.0",
       "_dom_classes": [],
       "_view_count": null,
       "antialias": 3,
       "auto_rendering": true,
       "axes": [
        "x\\,\\text{ (um)}",
        "y\\,\\text{ (um)}",
        "z\\,\\text{ (um)}"
       ],
       "axes_helper": 1,
       "background_color": 16777215,
       "camera": [
        0.010284874801195238,
        -0.015489812198145176,
        0.0010059874726270504,
        -2.499999655410654e-05,
        -2.5000001521160217e-05,
        -2.5000007147901043e-05,
        0,
        0,
        1
       ],
       "camera_animation": [],
       "camera_auto_fit": true,
       "camera_damping_factor": 0,
       "camera_fov": 60,
       "camera_mode": "trackball",
       "camera_no_pan": false,
       "camera_no_rotate": false,
       "camera_no_zoom": false,
       "camera_pan_speed": 0.3,
       "camera_rotate_speed": 1,
       "camera_zoom_speed": 1.2,
       "clipping_planes": [],
       "colorbar_object_id": -1,
       "colorbar_scientific": false,
       "fps": 25,
       "fps_meter": false,
       "grid": [
        -1,
        -1,
        -1,
        1,
        1,
        1
       ],
       "grid_auto_fit": true,
       "grid_color": 15132390,
       "grid_visible": true,
       "height": 512,
       "label_color": 4473924,
       "layout": "IPY_MODEL_1ff7b1f24b8d4704aa0ce6e6ae5c40a6",
       "lighting": 1.5,
       "manipulate_mode": "translate",
       "menu_visibility": true,
       "mode": "view",
       "name": null,
       "object_ids": [
        139671939941280
       ],
       "rendering_steps": 1,
       "screenshot": "",
       "screenshot_scale": 2,
       "snapshot": "",
       "snapshot_type": "full",
       "time": 0,
       "voxel_paint_color": 0
      }
     },
     "5e34ff9834d449eea14dd5c078fba128": {
      "buffers": [
       {
        "data": "TiIAAE8jAABRJAAAUyUAAFQlAABWJgAAWCcAAFkoAABbKAAAXSkAAF8qAABhKgAAYisAAGQsAABmLAAAaC0AAGouAABsLgAAbS8AAG8wAABwMAAAcDEAAHExAABxMgEAcTMFAHAzCABwNAwAcDUPAHA1EgBwNhQAcDcWAG83GABvOBoAbzkcAG86HgBvOiAAbjshAG48IwBuPCQAbj0mAG4+JwBuPykAbT8qAG1AKwBtQS0AbUEuAG1CLwBtQzEAbUMyAG1EMwBsRTQAbEU1AGxGNgBsRzgAbEg5AGxIOgBsSTsAbEo8AGxKPQBsSz4AbEw/AGxMQABsTUEAbE5CAGxOQwBsT0QAbFBFAGxRRgBsUUcAbFJIAGxTSQBsU0oAbFRLAGxVTABsVU0AbFZOAGxXTwBsV1AAbVhRAG1ZUgBtWlMAbVpUAG1bVQBtXFUAbVxWAG1dVwBtXlgAbl5ZAG5fWgBuYFsAbmFcAG5hXQBuYl4Ab2NeAG9jXwBvZGAAb2VhAG9lYgBwZmMAcGdkAHBoZQBwaGUAcGlmAHFqZwBxamgAcWtpAHFsagBybWsAcm1sAHJubAByb20Ac29uAHNwbwBzcXAAdHJxAHRycgB0c3IAdXRzAHV0dAB1dXUAdnZ2AHZ3dwB3d3cAd3h4AHd5eQB4enoAeHp7AHh7fAB4fH0AeHx+AHh9fgB4fn8AeH+AAHh/gQB5gIIAeYGDAHmChAB5goUAeYOGAHiEhwB4hYgAeIWJAHiGigB4h4sAeIiMAHiIjQB4iY4AeIqPAHiLkAB4i5EAeIySAHiNkgB4jpMAd46UAHePlQB3kJYAd5GXAHeSmAB3kpkAdpOaAHaUmwB2lZwAdpWdAHaWngB1l58AdZigAHWZoQB1maIAdJqjAHSbpAB0nKUAdJymAHOdpwBznqgAc5+pAHOgqgByoKsAcqGsAHKirQBxo64AcaSvAHGlsABwpbEAcKazAG+ntABvqLUAb6m2AG6ptwBuqrgAbau5AG2sugBtrbsAbK68AGyuvQBrr74Aa7C/AGqxwABqssEAabPCAGmzwwBotMQAaLXFAGe2xgBnt8cAZrjIAGW5yQBlucsAZLrMAGO7zQBjvM4AYr3PAGK+0ABhv9EAYMDSAF/A0wBfwdQAXsLVAF3D1gBcxNcAXMXZAFvG2gBax9sAWcjcAFjI3QBYyd4AV8rfAFbL4ABVzOEAVM3iAFPO5ABSz+UAUdDmAFDR5wBP0ugATtPpAEzT6gBL1OsAStXtAEnW7gBI1+8ARtjwAEXZ8QBE2vIAQtvzAEHc9QA/3fYAPt73ADzf+AA64PkAOOH7ADbi/AA04/0ANOT+ADXl/gA25v4AOOj+AA==",
        "encoding": "base64",
        "path": [
         "color_map",
         "data"
        ]
       },
       {
        "data": "AAAgQQAAAAAAAAAAAAAAAAAAAAAAAMBAAAAAAAAAAAAAAAAAAAAAAAAAAD8AAIA+AAAAAAAAAAAAAAAAAACAPw==",
        "encoding": "base64",
        "path": [
         "model_matrix",
         "data"
        ]
       },
       {
        "data": "AAAAAAAAIyUnKSknJSMAAAAAAAAAAAAAICMnLC8xMS8sJyMgAAAAAAAAHB8jJy00Oj8/OjQtJyMfHAAAABodISUsND9LVlZLPzQsJSEdGgAYGh4iJy86S2aGhmZLOi8nIh4aGBgbHiMpMT9Whv//hlY/MSkjHhsYGBseIykxP1aG//+GVj8xKSMeGxgYGh4iJy86S2aGhmZLOi8nIh4aGAAaHSElLDQ/S1ZWSz80LCUhHRoAAAAcHyMnLTQ6Pz86NC0nIx8cAAAAAAAAICMnLC8xMS8sJyMgAAAAAAAAAAAAACMlJykpJyUjAAAAAAAA",
        "encoding": "base64",
        "path": [
         "voxels",
         "data"
        ]
       }
      ],
      "model_module": "k3d",
      "model_module_version": "2.11.0",
      "model_name": "ObjectModel",
      "state": {
       "_view_count": null,
       "_view_module": null,
       "_view_module_version": "",
       "_view_name": null,
       "colorLegend": false,
       "color_map": {
        "dtype": "uint32",
        "shape": [
         256
        ]
       },
       "compression_level": 0,
       "id": 139669891023392,
       "model_matrix": {
        "dtype": "float32",
        "shape": [
         4,
         4
        ]
       },
       "name": "Voxels #2",
       "opacity": 1,
       "outlines": false,
       "outlines_color": 0,
       "type": "Voxels",
       "visible": true,
       "voxels": {
        "dtype": "uint8",
        "shape": [
         1,
         12,
         20
        ]
       },
       "wireframe": false
      }
     },
     "5ee8c70724bf4cba90757093de27ce21": {
      "model_module": "@jupyter-widgets/output",
      "model_module_version": "1.0.0",
      "model_name": "OutputModel",
      "state": {
       "layout": "IPY_MODEL_73235dd8e2864a0ca56d8bc805db882f",
       "outputs": [
        {
         "data": {
          "application/vnd.jupyter.widget-view+json": {
           "model_id": "5d62f670f91746a1838759f2018446ad",
           "version_major": 2,
           "version_minor": 0
          },
          "text/plain": "Plot(antialias=3, axes=['x', 'y', 'z'], axes_helper=1.0, background_color=16777215, camera_animation=[], camer…"
         },
         "metadata": {},
         "output_type": "display_data"
        }
       ]
      }
     },
     "60318ba24e6543b7811d23bd53ecf9c7": {
      "model_module": "@jupyter-widgets/base",
      "model_module_version": "1.2.0",
      "model_name": "LayoutModel",
      "state": {}
     },
     "6487a6ba4b0f4bb7b0ff851883e1bc50": {
      "model_module": "@jupyter-widgets/controls",
      "model_module_version": "1.5.0",
      "model_name": "SelectionSliderModel",
      "state": {
       "_options_labels": [
        "-1.75",
        "-1.25",
        "-0.75",
        "-0.25",
        "0.25",
        "0.75",
        "1.25",
        "1.75"
       ],
       "description": "z (nm)",
       "index": 4,
       "layout": "IPY_MODEL_cbd7aa7bfaab457da074360761d589ed",
       "style": "IPY_MODEL_fb96bbc9a70e461d96976cc6fdf38d0f"
      }
     },
     "6d702d720247494cbbae3c466d0999fa": {
      "model_module": "@jupyter-widgets/base",
      "model_module_version": "1.2.0",
      "model_name": "LayoutModel",
      "state": {}
     },
     "73235dd8e2864a0ca56d8bc805db882f": {
      "model_module": "@jupyter-widgets/base",
      "model_module_version": "1.2.0",
      "model_name": "LayoutModel",
      "state": {}
     },
     "755c497a1ec645e2a79dd9c5c90208d8": {
      "model_module": "@jupyter-widgets/base",
      "model_module_version": "1.2.0",
      "model_name": "LayoutModel",
      "state": {}
     },
     "7b13bb7c94314983987b00308690240a": {
      "model_module": "@jupyter-widgets/base",
      "model_module_version": "1.2.0",
      "model_name": "LayoutModel",
      "state": {}
     },
     "7cdaf36672ef4cb7a4be78cb638d582a": {
      "model_module": "k3d",
      "model_module_version": "2.11.0",
      "model_name": "PlotModel",
      "state": {
       "_backend_version": "2.11.0",
       "_dom_classes": [],
       "_view_count": null,
       "antialias": 3,
       "auto_rendering": true,
       "axes": [
        "x\\,\\text{ (nm)}",
        "y\\,\\text{ (nm)}",
        "z\\,\\text{ (nm)}"
       ],
       "axes_helper": 1,
       "background_color": 16777215,
       "camera": [
        9.862991706364406,
        -14.794487559546608,
        0.9862991706364569,
        0,
        0,
        0,
        0,
        0,
        1
       ],
       "camera_animation": [],
       "camera_auto_fit": true,
       "camera_damping_factor": 0,
       "camera_fov": 60,
       "camera_mode": "trackball",
       "camera_no_pan": false,
       "camera_no_rotate": false,
       "camera_no_zoom": false,
       "camera_pan_speed": 0.3,
       "camera_rotate_speed": 1,
       "camera_zoom_speed": 1.2,
       "clipping_planes": [],
       "colorbar_object_id": -1,
       "colorbar_scientific": false,
       "fps": 25,
       "fps_meter": false,
       "grid": [
        -1,
        -1,
        -1,
        1,
        1,
        1
       ],
       "grid_auto_fit": true,
       "grid_color": 15132390,
       "grid_visible": true,
       "height": 512,
       "label_color": 4473924,
       "layout": "IPY_MODEL_39c2e7d547214c6fb2d2b9b0045214eb",
       "lighting": 1.5,
       "manipulate_mode": "translate",
       "menu_visibility": true,
       "mode": "view",
       "name": null,
       "object_ids": [
        139671939851024,
        139671939853328
       ],
       "rendering_steps": 1,
       "screenshot": "",
       "screenshot_scale": 2,
       "snapshot": "",
       "snapshot_type": "full",
       "time": 0,
       "voxel_paint_color": 0
      }
     },
     "7d78e6ab871a421ea01a88a474ad4a6c": {
      "model_module": "@jupyter-widgets/base",
      "model_module_version": "1.2.0",
      "model_name": "LayoutModel",
      "state": {}
     },
     "7e797fdd5d46498197aa00545680d0ec": {
      "model_module": "@jupyter-widgets/base",
      "model_module_version": "1.2.0",
      "model_name": "LayoutModel",
      "state": {}
     },
     "83e64ec61c554b4aa5ce94f045adc6b6": {
      "buffers": [
       {
        "data": "bUMyAG1DMgBuOyEAbjshAHExAABxMQAAXSkAAF0pAABOIgAATiIAAE4iAABOIgAAXSkAAF0pAABxMQAAcTEAAG47IQBuOyEAbUMyAG1DMgBtXlgAbV5YAG1aVABtWlQAbFVNAGxVTQBsT0QAbE9EAGxGNgBsRjYAbjshAG47IQBtLwAAbS8AAFEkAABRJAAAUSQAAFEkAABtLwAAbS8AAG47IQBuOyEAbEY2AGxGNgBsT0QAbE9EAGxVTQBsVU0AbVpUAG1aVABtXlgAbV5YAHFraQBxa2kAcGlmAHBpZgBwZmMAcGZjAG9jXgBvY14Abl5ZAG5eWQBsV1AAbFdQAGxNQQBsTUEAbjwkAG48JABfKgAAXyoAAF8qAABfKgAAbjwkAG48JABsTUEAbE1BAGxXUABsV1AAbl5ZAG5eWQBvY14Ab2NeAHBmYwBwZmMAcGlmAHBpZgBxa2kAcWtpAHZ3dwB2d3cAdnZ2AHZ2dgB1dXUAdXV1AHV0dAB1dHQAdHNyAHRzcgBzcXAAc3FwAHJubABybmwAcGlmAHBpZgBuX1oAbl9aAGxGNgBsRjYAbEY2AGxGNgBuX1oAbl9aAHBpZgBwaWYAcm5sAHJubABzcXAAc3FwAHRzcgB0c3IAdXR0AHV0dAB1dXUAdXV1AHZ2dgB2dnYAdnd3AHZ3dwB5gIIAeYCCAHmBgwB5gYMAeYKEAHmChAB5goUAeYKFAHiEhwB4hIcAeIaKAHiGigB4iY4AeImOAHeOlAB3jpQAdZmiAHWZogBnt8cAZ7fHAGe3xwBnt8cAdZmiAHWZogB3jpQAd46UAHiJjgB4iY4AeIaKAHiGigB4hIcAeISHAHmChQB5goUAeYKEAHmChAB5gYMAeYGDAHmAggB5gIIAeIySAHiMkgB3jpQAd46UAHeSmAB3kpgAdpWdAHaVnQB0mqMAdJqjAHKirQByoq0AbK69AGyuvQBdw9YAXcPWAD/d9gA/3fYAP932AD/d9gBdw9YAXcPWAGyuvQBsrr0AcqKtAHKirQB0mqMAdJqjAHaVnQB2lZ0Ad5KYAHeSmAB3jpQAd46UAHiMkgB4jJIAdJukAHSbpABzn6kAc5+pAHGlsABxpbAAbay6AG2sugBnt8cAZ7fHAFzF2QBcxdkAStXtAErV7QA15f4ANeX+ADXl/gA15f4AStXtAErV7QBcxdkAXMXZAGe3xwBnt8cAbay6AG2sugBxpbAAcaWwAHOfqQBzn6kAdJukAHSbpABkuswAZLrMAFzF2QBcxdkAT9LoAE/S6AA+3vcAPt73ADjo/gA46P4AOOj+ADjo/gA+3vcAPt73AE/S6ABP0ugAXMXZAFzF2QBkuswAZLrMAA==",
        "encoding": "base64",
        "path": [
         "colors",
         "data"
        ]
       },
       {
        "data": "AACAPwAAAAAAAAAAAAAAAAAAAAAAAIA/AAAAAAAAAAAAAAAAAAAAAAAAgD8AAAAAAAAAAAAAAAAAAAAAAACAPw==",
        "encoding": "base64",
        "path": [
         "model_matrix",
         "data"
        ]
       },
       {
        "data": "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",
        "encoding": "base64",
        "path": [
         "origins",
         "data"
        ]
       },
       {
        "data": "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",
        "encoding": "base64",
        "path": [
         "vectors",
         "data"
        ]
       }
      ],
      "model_module": "k3d",
      "model_module_version": "2.11.0",
      "model_name": "ObjectModel",
      "state": {
       "_view_count": null,
       "_view_module": null,
       "_view_module_version": "",
       "_view_name": null,
       "colorLegend": false,
       "colors": {
        "dtype": "uint32",
        "shape": [
         128,
         2
        ]
       },
       "compression_level": 0,
       "head_color": 255,
       "head_size": 1,
       "id": 139669890396896,
       "label_size": 1,
       "labels": [],
       "line_width": 0.01,
       "model_matrix": {
        "dtype": "float32",
        "shape": [
         4,
         4
        ]
       },
       "name": "Vectors #1",
       "origin_color": 255,
       "origins": {
        "dtype": "float32",
        "shape": [
         128,
         3
        ]
       },
       "type": "Vectors",
       "use_head": true,
       "vectors": {
        "dtype": "float32",
        "shape": [
         128,
         3
        ]
       },
       "visible": true
      }
     },
     "841f1a64e03147cb92170b909230d877": {
      "model_module": "@jupyter-widgets/base",
      "model_module_version": "1.2.0",
      "model_name": "LayoutModel",
      "state": {}
     },
     "865e041905f4478d87a23a5a2028b341": {
      "buffers": [
       {
        "data": "YK4nAA==",
        "encoding": "base64",
        "path": [
         "color_map",
         "data"
        ]
       },
       {
        "data": "AAAgQQAAAAAAAAAAAAAAAAAAAAAAAMBAAAAAAAAAAAAAAAAAAAAAAAAAgEAAAAAAAAAAAAAAAAAAAAAAAACAPw==",
        "encoding": "base64",
        "path": [
         "model_matrix",
         "data"
        ]
       },
       {
        "data": "AAAAAAAAAAAAAAAAAAAAAAAAAAAAAAAAAAAAAAAAAAAAAAAAAAAAAAAAAAAAAAAAAAAAAAAAAAAAAAAAAAAAAAAAAAABAQEBAAAAAAAAAAAAAAAAAAABAQEBAQEBAQAAAAAAAAAAAAAAAQEBAQEBAQEBAQAAAAAAAAAAAAABAQEBAQEBAQEBAAAAAAAAAAAAAAABAQEBAQEBAQAAAAAAAAAAAAAAAAAAAQEBAQAAAAAAAAAAAAAAAAAAAAAAAAAAAAAAAAAAAAAAAAAAAAAAAAAAAAAAAAAAAAAAAAAAAAAAAAAAAAAAAAAAAAAAAAAAAAAAAAAAAAAAAAAAAAAAAAAAAAAAAAAAAAAAAAEBAQEAAAAAAAAAAAAAAAAAAQEBAQEBAQEBAQAAAAAAAAAAAQEBAQEBAQEBAQEBAQEAAAAAAAABAQEBAQEBAQEBAQEBAQAAAAAAAQEBAQEBAQEBAQEBAQEBAQAAAAABAQEBAQEBAQEBAQEBAQEBAAAAAAABAQEBAQEBAQEBAQEBAQAAAAAAAAEBAQEBAQEBAQEBAQEBAAAAAAAAAAABAQEBAQEBAQEBAAAAAAAAAAAAAAAAAAEBAQEAAAAAAAAAAAAAAAAAAAAAAAAAAAAAAAAAAAAAAAAAAAAAAAAAAQEAAAAAAAAAAAAAAAAAAAEBAQEBAQEBAQEAAAAAAAAAAAEBAQEBAQEBAQEBAQEBAAAAAAABAQEBAQEBAQEBAQEBAQEBAAAAAQEBAQEBAQEBAQEBAQEBAQEBAAABAQEBAQEBAQEBAQEBAQEBAQEAAAEBAQEBAQEBAQEBAQEBAQEBAQAAAQEBAQEBAQEBAQEBAQEBAQEBAAAAAQEBAQEBAQEBAQEBAQEBAQAAAAAAAQEBAQEBAQEBAQEBAQEAAAAAAAAAAAEBAQEBAQEBAQEAAAAAAAAAAAAAAAAAAAEBAAAAAAAAAAAAAAAAAAAAAQEBAQEBAQEAAAAAAAAAAAAAAQEBAQEBAQEBAQEBAAAAAAAAAQEBAQEBAQEBAQEBAQEBAQAAAAEBAQEBAQEBAQEBAQEBAQEBAQABAQEBAQEBAQEBAQEBAQEBAQEBAQEBAQEBAQEBAQEBAQEBAQEBAQEBAQEBAQEBAQEBAQEBAQEBAQEBAQEBAQEBAQEBAQEBAQEBAQEBAQEBAQABAQEBAQEBAQEBAQEBAQEBAQEAAAABAQEBAQEBAQEBAQEBAQEBAAAAAAAAAQEBAQEBAQEBAQEBAAAAAAAAAAAAAAEBAQEBAQEBAAAAAAAAAAAAAAAAAQEBAQEBAQEAAAAAAAAAAAAAAQEBAQEBAQEBAQEBAAAAAAAAAQEBAQEBAQEBAQEBAQEBAQAAAAEBAQEBAQEBAQEBAQEBAQEBAQABAQEBAQEBAQEBAQEBAQEBAQEBAQEBAQEBAQEBAQEBAQEBAQEBAQEBAQEBAQEBAQEBAQEBAQEBAQEBAQEBAQEBAQEBAQEBAQEBAQEBAQEBAQABAQEBAQEBAQEBAQEBAQEBAQEAAAABAQEBAQEBAQEBAQEBAQEBAAAAAAAAAQEBAQEBAQEBAQEBAAAAAAAAAAAAAAEBAQEBAQEBAAAAAAAAAAAAAAAAAAAAAQEAAAAAAAAAAAAAAAAAAAEBAQEBAQEBAQEAAAAAAAAAAAEBAQEBAQEBAQEBAQEBAAAAAAABAQEBAQEBAQEBAQEBAQEBAAAAAQEBAQEBAQEBAQEBAQEBAQEBAAABAQEBAQEBAQEBAQEBAQEBAQEAAAEBAQEBAQEBAQEBAQEBAQEBAQAAAQEBAQEBAQEBAQEBAQEBAQEBAAAAAQEBAQEBAQEBAQEBAQEBAQAAAAAAAQEBAQEBAQEBAQEBAQEAAAAAAAAAAAEBAQEBAQEBAQEAAAAAAAAAAAAAAAAAAAEBAAAAAAAAAAAAAAAAAAAAAAAAAAAAAAAAAAAAAAAAAAAAAAAAAAEBAQEAAAAAAAAAAAAAAAAAAQEBAQEBAQEBAQAAAAAAAAAAAQEBAQEBAQEBAQEBAQEAAAAAAAABAQEBAQEBAQEBAQEBAQAAAAAAAQEBAQEBAQEBAQEBAQEBAQAAAAABAQEBAQEBAQEBAQEBAQEBAAAAAAABAQEBAQEBAQEBAQEBAQAAAAAAAAEBAQEBAQEBAQEBAQEBAAAAAAAAAAABAQEBAQEBAQEBAAAAAAAAAAAAAAAAAAEBAQEAAAAAAAAAAAAAAAAAAAAAAAAAAAAAAAAAAAAAAAAAAAAAAAAAAAAAAAAAAAAAAAAAAAAAAAAAAAAAAAAAAAAAAAAAAAAAAAAAAAAAAAAAAAAAAAAAAAAAAAAAAAAAAAABAQEBAAAAAAAAAAAAAAAAAAABAQEBAQEBAQAAAAAAAAAAAAAAAQEBAQEBAQEBAQAAAAAAAAAAAAABAQEBAQEBAQEBAAAAAAAAAAAAAAABAQEBAQEBAQAAAAAAAAAAAAAAAAAAAQEBAQAAAAAAAAAAAAAAAAAAAAAAAAAAAAAAAAAAAAAAAAAAAAAAAAAAAAAAAAAAAAAAAAAAAAAAAAAAAAAAAAAAAAAAAAAA",
        "encoding": "base64",
        "path": [
         "voxels",
         "data"
        ]
       }
      ],
      "model_module": "k3d",
      "model_module_version": "2.11.0",
      "model_name": "ObjectModel",
      "state": {
       "_view_count": null,
       "_view_module": null,
       "_view_module_version": "",
       "_view_name": null,
       "colorLegend": false,
       "color_map": {
        "dtype": "uint32",
        "shape": []
       },
       "compression_level": 0,
       "id": 139671939852800,
       "model_matrix": {
        "dtype": "float32",
        "shape": [
         4,
         4
        ]
       },
       "name": "Voxels #1",
       "opacity": 1,
       "outlines": false,
       "outlines_color": 0,
       "type": "Voxels",
       "visible": true,
       "voxels": {
        "dtype": "uint8",
        "shape": [
         8,
         12,
         20
        ]
       },
       "wireframe": false
      }
     },
     "88b825f3a8df4bf592de380e7a39ee0b": {
      "buffers": [
       {
        "data": "XSkAAF0pAABTJQAAUyUAAE4iAABOIgAATiIAAE4iAABTJQAAUyUAAF0pAABdKQAAbEo9AGxKPQBsRzgAbEc4AG1EMwBtRDMAbUIvAG1CLwBtQi8AbUIvAG1EMwBtRDMAbEc4AGxHOABsSj0AbEo9AHFsagBxbGoAcWpoAHFqaABwaWYAcGlmAHBoZQBwaGUAcGhlAHBoZQBwaGUAcGhlAHBoZQBwaGUAcGlmAHBpZgBxamgAcWpoAHFsagBxbGoAeIuRAHiLkQB4jZIAeI2SAHeOlAB3jpQAd5CWAHeQlgB3kJYAd5CWAHeQlgB3kJYAd5CWAHeQlgB3jpQAd46UAHiNkgB4jZIAeIuRAHiLkQBqssEAarLBAGe2xgBntsYAZbnLAGW5ywBjvM4AY7zOAGO8zgBjvM4AZbnLAGW5ywBntsYAZ7bGAGqywQBqssEAPt73AD7e9wA05P4ANOT+ADjo/gA46P4AOOj+ADjo/gA05P4ANOT+AD7e9wA+3vcA",
        "encoding": "base64",
        "path": [
         "colors",
         "data"
        ]
       },
       {
        "data": "AACAPwAAAAAAAAAAAAAAAAAAAAAAAIA/AAAAAAAAAAAAAAAAAAAAAAAAgD8AAAAAAAAAAAAAAAAAAAAAAACAPw==",
        "encoding": "base64",
        "path": [
         "model_matrix",
         "data"
        ]
       },
       {
        "data": "Wa9JwL7Far9OoYy/gRpGwJT2zL6op4u/0hZCwERg3z3QG4u/Luk9wAjsGz/QG4u/f+U5wFvCjD+op4u/p1A2wCGdyj9OoYy/okBNwHBZtr8OSCm/LCxKwEp7Zr/9lSe//HFGwITwwr4SOCa/ijZCwN5+BT6IcSW/dsk9wLhfIT+IcSW/BI45wN9Djz8SOCa/1NM1wFvCzD/9lSe/Xr8ywEjTBEAOSCm/AABQwI7j+L85jmO+Fo9NwN9itb8WAmG+GHJKwPgTZL/mkl6+nqNGwJFAvb5gl1y+rEhCwGr2ET48dVu+VLc9wJp9JD88dVu+Ylw5wNyvkD9gl1y+6I01wAT2zT/mkl6+6nAywJBOBUAWAmG+AAAwwDmOI0A5jmO+AABQwI7j+L85jmM+Fo9NwN9itb8WAmE+GHJKwPgTZL/mkl4+nqNGwJFAvb5gl1w+rEhCwGr2ET48dVs+VLc9wJp9JD88dVs+Ylw5wNyvkD9gl1w+6I01wAT2zT/mkl4+6nAywJBOBUAWAmE+AAAwwDmOI0A5jmM+okBNwHBZtr8OSCk/LCxKwEp7Zr/9lSc//HFGwITwwr4SOCY/ijZCwN5+BT6IcSU/dsk9wLhfIT+IcSU/BI45wN9Djz8SOCY/1NM1wFvCzD/9lSc/Xr8ywEjTBEAOSCk/Wa9JwL7Far9OoYw/gRpGwJT2zL6op4s/0hZCwERg3z3QG4s/Luk9wAjsGz/QG4s/f+U5wFvCjD+op4s/p1A2wCGdyj9OoYw/",
        "encoding": "base64",
        "path": [
         "origins",
         "data"
        ]
       },
       {
        "data": "j/WaPoR0Kr+P9Zq+GVBDPmwJM7+/wqK+arSFPRHYN7+EIae+arSFvRHYN7+EIae+GVBDvmwJM7+/wqK+j/WavoR0Kr+P9Zq+JArUPkGaJr+NvzW+v8KiPmwJM78ZUEO+cD9OPnwPPb9wP06+f6KNPW+/Qr++c1S+f6KNvW+/Qr++c1S+cD9OvnwPPb9wP06+v8KivmwJM78ZUEO+JArUvkGaJr+NvzW+AAAAP8dxHL85jmO9YvHYPoR0Kr9M73e9hCGnPhHYN79qtIW9vnNUPm+/Qr9/oo29DyuSPTX7SL8PK5K9DyuSvTX7SL8PK5K9vnNUvm+/Qr9/oo29hCGnvhHYN79qtIW9YvHYvoR0Kr9M73e9AAAAv8dxHL85jmO9AAAAP8dxHL85jmM9YvHYPoR0Kr9M73c9hCGnPhHYN79qtIU9vnNUPm+/Qr9/oo09DyuSPTX7SL8PK5I9DyuSvTX7SL8PK5I9vnNUvm+/Qr9/oo09hCGnvhHYN79qtIU9YvHYvoR0Kr9M73c9AAAAv8dxHL85jmM9JArUPkGaJr+NvzU+v8KiPmwJM78ZUEM+cD9OPnwPPb9wP04+f6KNPW+/Qr++c1Q+f6KNvW+/Qr++c1Q+cD9OvnwPPb9wP04+v8KivmwJM78ZUEM+JArUvkGaJr+NvzU+j/WaPoR0Kr+P9Zo+GVBDPmwJM7+/wqI+arSFPRHYN7+EIac+arSFvRHYN7+EIac+GVBDvmwJM7+/wqI+j/WavoR0Kr+P9Zo+",
        "encoding": "base64",
        "path": [
         "vectors",
         "data"
        ]
       }
      ],
      "model_module": "k3d",
      "model_module_version": "2.11.0",
      "model_name": "ObjectModel",
      "state": {
       "_view_count": null,
       "_view_module": null,
       "_view_module_version": "",
       "_view_name": null,
       "colorLegend": false,
       "colors": {
        "dtype": "uint32",
        "shape": [
         48,
         2
        ]
       },
       "compression_level": 0,
       "head_color": 255,
       "head_size": 1,
       "id": 139671939698160,
       "label_size": 1,
       "labels": [],
       "line_width": 0.01,
       "model_matrix": {
        "dtype": "float32",
        "shape": [
         4,
         4
        ]
       },
       "name": "Vectors #1",
       "origin_color": 255,
       "origins": {
        "dtype": "float32",
        "shape": [
         48,
         3
        ]
       },
       "type": "Vectors",
       "use_head": true,
       "vectors": {
        "dtype": "float32",
        "shape": [
         48,
         3
        ]
       },
       "visible": true
      }
     },
     "89d718fbd6da4012b799994a22aa2d38": {
      "model_module": "@jupyter-widgets/output",
      "model_module_version": "1.0.0",
      "model_name": "OutputModel",
      "state": {
       "layout": "IPY_MODEL_094ab5753ed840488231dc24a3a7a6fb",
       "outputs": [
        {
         "data": {
          "application/vnd.jupyter.widget-view+json": {
           "model_id": "4884e72c1eb242e1a73f1fffbb4c736a",
           "version_major": 2,
           "version_minor": 0
          },
          "text/plain": "Plot(antialias=3, axes=['x\\\\,\\\\text{ (nm)}', 'y\\\\,\\\\text{ (nm)}', 'z\\\\,\\\\text{ (nm)}'], axes_helper=1.0, backg…"
         },
         "metadata": {},
         "output_type": "display_data"
        }
       ]
      }
     },
     "8b2949e703bb4834acb97b7c644374c5": {
      "model_module": "@jupyter-widgets/controls",
      "model_module_version": "1.5.0",
      "model_name": "SelectionSliderModel",
      "state": {
       "_options_labels": [
        "-2.75",
        "-2.25",
        "-1.75",
        "-1.25",
        "-0.75",
        "-0.25",
        "0.25",
        "0.75",
        "1.25",
        "1.75",
        "2.25",
        "2.75"
       ],
       "description": "y (nm)",
       "index": 6,
       "layout": "IPY_MODEL_6d702d720247494cbbae3c466d0999fa",
       "style": "IPY_MODEL_bebbaad1a5ba4ad89991149049892303"
      }
     },
     "8b74848be90b49eca6a47711399cd538": {
      "model_module": "@jupyter-widgets/controls",
      "model_module_version": "1.5.0",
      "model_name": "DescriptionStyleModel",
      "state": {
       "description_width": ""
      }
     },
     "8eded32753ed4c1199c2d86017ddf1a8": {
      "buffers": [
       {
        "data": "UoTdAFKE3QBShN0AUoTdAFKE3QBShN0AUoTdAFKE3QBShN0AUoTdAFKE3QBShN0AUoTdAFKE3QBShN0AUoTdAFKE3QBShN0AUoTdAFKE3QBShN0AUoTdAFKE3QBShN0AUoTdAFKE3QBShN0AUoTdAFKE3QBShN0AUoTdAFKE3QBShN0AUoTdAFKE3QBShN0AUoTdAFKE3QBShN0AUoTdAFKE3QBShN0AUoTdAFKE3QBShN0AUoTdAFKE3QBShN0AUoTdAFKE3QBShN0AUoTdAFKE3QBShN0AUoTdAFKE3QBShN0AUoTdAFKE3QBShN0AUoTdAFKE3QBShN0AUoTdAFKE3QBShN0AUoTdAFKE3QBShN0AUoTdAFKE3QBShN0AUoTdAFKE3QBShN0AUoTdAFKE3QBShN0AUoTdAFKE3QBShN0AUoTdAFKE3QBShN0AUoTdAFKE3QBShN0AUoTdAFKE3QBShN0AUoTdAFKE3QBShN0AUoTdAFKE3QBShN0AUoTdAFKE3QBShN0AUoTdAFKE3QBShN0AUoTdAFKE3QBShN0AUoTdAFKE3QBShN0AUoTdAFKE3QBShN0AUoTdAFKE3QBShN0AUoTdAFKE3QBShN0AUoTdAFKE3QBShN0AUoTdAFKE3QBShN0AUoTdAFKE3QBShN0AUoTdAFKE3QBShN0AUoTdAFKE3QBShN0AUoTdAFKE3QBShN0AUoTdAFKE3QBShN0AUoTdAFKE3QBShN0AUoTdAFKE3QBShN0AUoTdAFKE3QBShN0AUoTdAFKE3QBShN0AUoTdAFKE3QBShN0AUoTdAFKE3QBShN0AUoTdAFKE3QBShN0AUoTdAA==",
        "encoding": "base64",
        "path": [
         "colors",
         "data"
        ]
       },
       {
        "data": "AACAPwAAAAAAAAAAAAAAAAAAAAAAAIA/AAAAAAAAAAAAAAAAAAAAAAAAgD8AAAAAAAAAAAAAAAAAAAAAAACAPw==",
        "encoding": "base64",
        "path": [
         "model_matrix",
         "data"
        ]
       },
       {
        "data": "pgQVvre5o7/868W/tZ3JvZJmSL8AmcK/oJEQvTQSkr4lYMC/oJEQPZjbWz4lYMC/tZ3JPW6ZNz8AmcK/pgQVPklGnD/868W/wJFgvjyPEcCoZ5C/HKBQvre5479rX42/CbY0vo2EpL8/aYm/WOICvjLoSr+Du4S/3rBGvRzWmL5d9IC/3rBGPchTTj5d9IC/WOICPs4XNT+Du4S/CbY0PnN7mz8/aYm/HKBQPklG3D9rX42/wJFgPsRwDkCoZ5C/YQ94vtFoMcA5Fi+/QoNzvumwEcAQtSu//jdrvkkz5L9JzCa/6CNavhl0pb9qRx+/NqQxvq/NTr/ylhO/96SbvT7ppr4jogW/96SbPYQtMj4jogW/NqQxPlEyMT/ylhO/6CNaPueLmj9qRx+//jdrPrfM2z9JzCa/QoNzPhdPDkAQtSu/YQ94Pi+XLkA5Fi+/AACAvl10McAuumi+dfp+vkvFEcBIq2O+2f58vo2E5L+Y21u+FV14voc1pr/IU06+c3dpvp90U7+ELTK+pgQVvlOCyr609tW9pgQVPrT21T209tW9c3dpPmGLLD+ELTK+FV14PnnKmT/IU06+2f58PnN72z+Y21u+dfp+PrU6DkBIq2O+AACAPqOLLkAuumi+AACAvl10McAuumg+dfp+vkvFEcBIq2M+2f58vo2E5L+Y21s+FV14voc1pr/IU04+c3dpvp90U7+ELTI+pgQVvlOCyr609tU9pgQVPrT21T209tU9c3dpPmGLLD+ELTI+FV14PnnKmT/IU04+2f58PnN72z+Y21s+dfp+PrU6DkBIq2M+AACAPqOLLkAuumg+YQ94vtFoMcA5Fi8/QoNzvumwEcAQtSs//jdrvkkz5L9JzCY/6CNavhl0pb9qRx8/NqQxvq/NTr/ylhM/96SbvT7ppr4jogU/96SbPYQtMj4jogU/NqQxPlEyMT/ylhM/6CNaPueLmj9qRx8//jdrPrfM2z9JzCY/QoNzPhdPDkAQtSs/YQ94Pi+XLkA5Fi8/wJFgvjyPEcCoZ5A/HKBQvre5479rX40/CbY0vo2EpL8/aYk/WOICvjLoSr+Du4Q/3rBGvRzWmL5d9IA/3rBGPchTTj5d9IA/WOICPs4XNT+Du4Q/CbY0PnN7mz8/aYk/HKBQPklG3D9rX40/wJFgPsRwDkCoZ5A/pgQVvre5o7/868U/tZ3JvZJmSL8AmcI/oJEQvTQSkr4lYMA/oJEQPZjbWz4lYMA/tZ3JPW6ZNz8AmcI/pgQVPklGnD/868U/",
        "encoding": "base64",
        "path": [
         "origins",
         "data"
        ]
       },
       {
        "data": "pgSVPtdtbj0coNC+tZ1JPiNphj3+N+u+oJGQPaCRkD3Z/vy+oJGQvaCRkD3Z/vy+tZ1JviNphj3+N+u+pgSVvtdtbj0coNC+wJHgPgCeRz2AhXm+HKDQPtdtbj2mBJW+Cba0PqCRkD0JtrS+WOKCPiCDrj3oI9q+3rDGPd6wxj0VXfi+3rDGvd6wxj0VXfi+WOKCviCDrj3oI9q+Cba0vqCRkD0JtrS+HKDQvtdtbj2mBJW+wJHgvgCeRz2AhXm+YQ/4PkdoND01Tge+QoPzPqx0WD2BVyK+/jfrPiNphj21nUm+6CPaPiCDrj1Y4oK+NqSxPvLa7D02pLG+96QbPvekGz5zd+m+96QbvvekGz5zd+m+NqSxvvLa7D02pLG+6CPaviCDrj1Y4oK+/jfrviNphj21nUm+QoPzvqx0WD2BVyK+YQ/4vkdoND01Tge+AAAAP4wuOj2MLjq9dfr+Pr2lYj29pWK92f78PqCRkD2gkZC9FV34Pt6wxj3esMa9c3fpPvekGz73pBu+pgSVPqYElT6mBJW+pgSVvqYElT6mBJW+c3fpvvekGz73pBu+FV34vt6wxj3esMa92f78vqCRkD2gkZC9dfr+vr2lYj29pWK9AAAAv4wuOj2MLjq9AAAAP4wuOj2MLjo9dfr+Pr2lYj29pWI92f78PqCRkD2gkZA9FV34Pt6wxj3esMY9c3fpPvekGz73pBs+pgSVPqYElT6mBJU+pgSVvqYElT6mBJU+c3fpvvekGz73pBs+FV34vt6wxj3esMY92f78vqCRkD2gkZA9dfr+vr2lYj29pWI9AAAAv4wuOj2MLjo9YQ/4PkdoND01Tgc+QoPzPqx0WD2BVyI+/jfrPiNphj21nUk+6CPaPiCDrj1Y4oI+NqSxPvLa7D02pLE+96QbPvekGz5zd+k+96QbvvekGz5zd+k+NqSxvvLa7D02pLE+6CPaviCDrj1Y4oI+/jfrviNphj21nUk+QoPzvqx0WD2BVyI+YQ/4vkdoND01Tgc+wJHgPgCeRz2AhXk+HKDQPtdtbj2mBJU+Cba0PqCRkD0JtrQ+WOKCPiCDrj3oI9o+3rDGPd6wxj0VXfg+3rDGvd6wxj0VXfg+WOKCviCDrj3oI9o+Cba0vqCRkD0JtrQ+HKDQvtdtbj2mBJU+wJHgvgCeRz2AhXk+pgSVPtdtbj0coNA+tZ1JPiNphj3+N+s+oJGQPaCRkD3Z/vw+oJGQvaCRkD3Z/vw+tZ1JviNphj3+N+s+pgSVvtdtbj0coNA+",
        "encoding": "base64",
        "path": [
         "vectors",
         "data"
        ]
       }
      ],
      "model_module": "k3d",
      "model_module_version": "2.11.0",
      "model_name": "ObjectModel",
      "state": {
       "_view_count": null,
       "_view_module": null,
       "_view_module_version": "",
       "_view_name": null,
       "colorLegend": false,
       "colors": {
        "dtype": "uint32",
        "shape": [
         80,
         2
        ]
       },
       "compression_level": 0,
       "head_color": 255,
       "head_size": 1,
       "id": 139669891284368,
       "label_size": 1,
       "labels": [],
       "line_width": 0.01,
       "model_matrix": {
        "dtype": "float32",
        "shape": [
         4,
         4
        ]
       },
       "name": "Vectors #1",
       "origin_color": 255,
       "origins": {
        "dtype": "float32",
        "shape": [
         80,
         3
        ]
       },
       "type": "Vectors",
       "use_head": true,
       "vectors": {
        "dtype": "float32",
        "shape": [
         80,
         3
        ]
       },
       "visible": true
      }
     },
     "8f6f34a0ff4c45a0b84e8f6e9593ec73": {
      "model_module": "@jupyter-widgets/base",
      "model_module_version": "1.2.0",
      "model_name": "LayoutModel",
      "state": {}
     },
     "939549375e4c476cb660e78e925ccc0f": {
      "model_module": "@jupyter-widgets/output",
      "model_module_version": "1.0.0",
      "model_name": "OutputModel",
      "state": {
       "layout": "IPY_MODEL_df2b29257aef4cd19ad55b6486f8c1e3"
      }
     },
     "9a8b64c0b77a4cff95ec1af8995c8dbe": {
      "model_module": "@jupyter-widgets/base",
      "model_module_version": "1.2.0",
      "model_name": "LayoutModel",
      "state": {}
     },
     "9bd8c4d572cb45309b5db68e2aad51c9": {
      "model_module": "@jupyter-widgets/base",
      "model_module_version": "1.2.0",
      "model_name": "LayoutModel",
      "state": {}
     },
     "9d2197cd505148fdbfcbb41f27b9e032": {
      "model_module": "@jupyter-widgets/base",
      "model_module_version": "1.2.0",
      "model_name": "LayoutModel",
      "state": {}
     },
     "a42f09e29a5143bcaaf0ac878c220f5f": {
      "buffers": [
       {
        "data": "",
        "encoding": "base64",
        "path": [
         "attribute",
         "data"
        ]
       },
       {
        "data": "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",
        "encoding": "base64",
        "path": [
         "color_map",
         "data"
        ]
       },
       {
        "data": "",
        "encoding": "base64",
        "path": [
         "colors",
         "data"
        ]
       },
       {
        "data": "AACAPwAAAAAAAAAAAAAAAAAAAAAAAIA/AAAAAAAAAAAAAAAAAAAAAAAAgD8AAAAAAAAAAAAAAAAAAAAAAACAPw==",
        "encoding": "base64",
        "path": [
         "model_matrix",
         "data"
        ]
       },
       {
        "data": "",
        "encoding": "base64",
        "path": [
         "opacities",
         "data"
        ]
       },
       {
        "data": "",
        "encoding": "base64",
        "path": [
         "opacity_function",
         "data"
        ]
       },
       {
        "data": "",
        "encoding": "base64",
        "path": [
         "point_sizes",
         "data"
        ]
       },
       {
        "data": "AAAAAAAAoL8AAOC/AAAAAAAAQL8AAOC/AAAAAAAAgL4AAOC/AAAAAAAAgD4AAOC/AAAAAAAAQD8AAOC/AAAAAAAAoD8AAOC/AAAAAAAAEMAAAKC/AAAAAAAA4L8AAKC/AAAAAAAAoL8AAKC/AAAAAAAAQL8AAKC/AAAAAAAAgL4AAKC/AAAAAAAAgD4AAKC/AAAAAAAAQD8AAKC/AAAAAAAAoD8AAKC/AAAAAAAA4D8AAKC/AAAAAAAAEEAAAKC/AAAAAAAAMMAAAEC/AAAAAAAAEMAAAEC/AAAAAAAA4L8AAEC/AAAAAAAAoL8AAEC/AAAAAAAAQL8AAEC/AAAAAAAAgL4AAEC/AAAAAAAAgD4AAEC/AAAAAAAAQD8AAEC/AAAAAAAAoD8AAEC/AAAAAAAA4D8AAEC/AAAAAAAAEEAAAEC/AAAAAAAAMEAAAEC/AAAAAAAAMMAAAIC+AAAAAAAAEMAAAIC+AAAAAAAA4L8AAIC+AAAAAAAAoL8AAIC+AAAAAAAAQL8AAIC+AAAAAAAAgL4AAIC+AAAAAAAAgD4AAIC+AAAAAAAAQD8AAIC+AAAAAAAAoD8AAIC+AAAAAAAA4D8AAIC+AAAAAAAAEEAAAIC+AAAAAAAAMEAAAIC+AAAAAAAAMMAAAIA+AAAAAAAAEMAAAIA+AAAAAAAA4L8AAIA+AAAAAAAAoL8AAIA+AAAAAAAAQL8AAIA+AAAAAAAAgL4AAIA+AAAAAAAAgD4AAIA+AAAAAAAAQD8AAIA+AAAAAAAAoD8AAIA+AAAAAAAA4D8AAIA+AAAAAAAAEEAAAIA+AAAAAAAAMEAAAIA+AAAAAAAAMMAAAEA/AAAAAAAAEMAAAEA/AAAAAAAA4L8AAEA/AAAAAAAAoL8AAEA/AAAAAAAAQL8AAEA/AAAAAAAAgL4AAEA/AAAAAAAAgD4AAEA/AAAAAAAAQD8AAEA/AAAAAAAAoD8AAEA/AAAAAAAA4D8AAEA/AAAAAAAAEEAAAEA/AAAAAAAAMEAAAEA/AAAAAAAAEMAAAKA/AAAAAAAA4L8AAKA/AAAAAAAAoL8AAKA/AAAAAAAAQL8AAKA/AAAAAAAAgL4AAKA/AAAAAAAAgD4AAKA/AAAAAAAAQD8AAKA/AAAAAAAAoD8AAKA/AAAAAAAA4D8AAKA/AAAAAAAAEEAAAKA/AAAAAAAAoL8AAOA/AAAAAAAAQL8AAOA/AAAAAAAAgL4AAOA/AAAAAAAAgD4AAOA/AAAAAAAAQD8AAOA/AAAAAAAAoD8AAOA/",
        "encoding": "base64",
        "path": [
         "positions",
         "data"
        ]
       }
      ],
      "model_module": "k3d",
      "model_module_version": "2.11.0",
      "model_name": "ObjectModel",
      "state": {
       "_view_count": null,
       "_view_module": null,
       "_view_module_version": "",
       "_view_name": null,
       "attribute": {
        "dtype": "float32",
        "shape": [
         0
        ]
       },
       "color": 5010096,
       "colorLegend": false,
       "color_map": {
        "dtype": "float32",
        "shape": [
         1024
        ]
       },
       "color_range": [],
       "colors": {
        "dtype": "uint32",
        "shape": [
         0
        ]
       },
       "compression_level": 0,
       "id": 139670025892480,
       "mesh_detail": 2,
       "model_matrix": {
        "dtype": "float32",
        "shape": [
         4,
         4
        ]
       },
       "name": "Points #1",
       "opacities": {
        "dtype": "float32",
        "shape": [
         0
        ]
       },
       "opacity": 1,
       "opacity_function": {
        "dtype": "float32",
        "shape": [
         0
        ]
       },
       "point_size": 0.125,
       "point_sizes": {
        "dtype": "float32",
        "shape": [
         0
        ]
       },
       "positions": {
        "dtype": "float32",
        "shape": [
         80,
         3
        ]
       },
       "shader": "3dSpecular",
       "type": "Points",
       "visible": true
      }
     },
     "a49ce079cefe4339991253404a5bdf97": {
      "model_module": "@jupyter-widgets/base",
      "model_module_version": "1.2.0",
      "model_name": "LayoutModel",
      "state": {}
     },
     "a5dda612770843c0894f7c97e302e41a": {
      "model_module": "@jupyter-widgets/base",
      "model_module_version": "1.2.0",
      "model_name": "LayoutModel",
      "state": {}
     },
     "a8d2f2b0a5e54c3a9dfc7195cf473a47": {
      "model_module": "@jupyter-widgets/base",
      "model_module_version": "1.2.0",
      "model_name": "LayoutModel",
      "state": {}
     },
     "aaf6a7cc3d964f94af6d0382b66dc3a2": {
      "model_module": "@jupyter-widgets/base",
      "model_module_version": "1.2.0",
      "model_name": "LayoutModel",
      "state": {}
     },
     "acb83b99f6494593a57d7242f6a6dcd0": {
      "buffers": [
       {
        "data": "TiIAAE8jAABRJAAAUyUAAFQlAABWJgAAWCcAAFkoAABbKAAAXSkAAF8qAABhKgAAYisAAGQsAABmLAAAaC0AAGouAABsLgAAbS8AAG8wAABwMAAAcDEAAHExAABxMgEAcTMFAHAzCABwNAwAcDUPAHA1EgBwNhQAcDcWAG83GABvOBoAbzkcAG86HgBvOiAAbjshAG48IwBuPCQAbj0mAG4+JwBuPykAbT8qAG1AKwBtQS0AbUEuAG1CLwBtQzEAbUMyAG1EMwBsRTQAbEU1AGxGNgBsRzgAbEg5AGxIOgBsSTsAbEo8AGxKPQBsSz4AbEw/AGxMQABsTUEAbE5CAGxOQwBsT0QAbFBFAGxRRgBsUUcAbFJIAGxTSQBsU0oAbFRLAGxVTABsVU0AbFZOAGxXTwBsV1AAbVhRAG1ZUgBtWlMAbVpUAG1bVQBtXFUAbVxWAG1dVwBtXlgAbl5ZAG5fWgBuYFsAbmFcAG5hXQBuYl4Ab2NeAG9jXwBvZGAAb2VhAG9lYgBwZmMAcGdkAHBoZQBwaGUAcGlmAHFqZwBxamgAcWtpAHFsagBybWsAcm1sAHJubAByb20Ac29uAHNwbwBzcXAAdHJxAHRycgB0c3IAdXRzAHV0dAB1dXUAdnZ2AHZ3dwB3d3cAd3h4AHd5eQB4enoAeHp7AHh7fAB4fH0AeHx+AHh9fgB4fn8AeH+AAHh/gQB5gIIAeYGDAHmChAB5goUAeYOGAHiEhwB4hYgAeIWJAHiGigB4h4sAeIiMAHiIjQB4iY4AeIqPAHiLkAB4i5EAeIySAHiNkgB4jpMAd46UAHePlQB3kJYAd5GXAHeSmAB3kpkAdpOaAHaUmwB2lZwAdpWdAHaWngB1l58AdZigAHWZoQB1maIAdJqjAHSbpAB0nKUAdJymAHOdpwBznqgAc5+pAHOgqgByoKsAcqGsAHKirQBxo64AcaSvAHGlsABwpbEAcKazAG+ntABvqLUAb6m2AG6ptwBuqrgAbau5AG2sugBtrbsAbK68AGyuvQBrr74Aa7C/AGqxwABqssEAabPCAGmzwwBotMQAaLXFAGe2xgBnt8cAZrjIAGW5yQBlucsAZLrMAGO7zQBjvM4AYr3PAGK+0ABhv9EAYMDSAF/A0wBfwdQAXsLVAF3D1gBcxNcAXMXZAFvG2gBax9sAWcjcAFjI3QBYyd4AV8rfAFbL4ABVzOEAVM3iAFPO5ABSz+UAUdDmAFDR5wBP0ugATtPpAEzT6gBL1OsAStXtAEnW7gBI1+8ARtjwAEXZ8QBE2vIAQtvzAEHc9QA/3fYAPt73ADzf+AA64PkAOOH7ADbi/AA04/0ANOT+ADXl/gA25v4AOOj+AA==",
        "encoding": "base64",
        "path": [
         "color_map",
         "data"
        ]
       },
       {
        "data": "AAAgQQAAAAAAAAAAAAAAAAAAAAAAAMBAAAAAAAAAAAAAAAAAAAAAAAAAAD8AAAAAAAAAAAAAAAAAAAAAAACAPw==",
        "encoding": "base64",
        "path": [
         "model_matrix",
         "data"
        ]
       },
       {
        "data": "AAAAAAAA7PT7///79OwAAAAAAAAAAAAA0drl7/n+/vnv5drRAAAAAAAAtr3Fztrn9f7+9efazsW9tgAAAKSorrW+ytrs+/vs2sq+ta6opACUlpmdoqiywdj09NjBsqiinZmWlIeIiIqMjpKZp8rKp5mSjoyKiIiHeXh4dnRybmdZNjZZZ25ydHZ4eHlsamdjXlhOPygMDCg/TlheY2dqbABcWFJLQjYmFAUFFCY2QktSWFwAAABKQzsyJhkLAgILGSYyO0NKAAAAAAAALyYbEQcCAgcRGyYvAAAAAAAAAAAAABQMBQEBBQwUAAAAAAAA",
        "encoding": "base64",
        "path": [
         "voxels",
         "data"
        ]
       }
      ],
      "model_module": "k3d",
      "model_module_version": "2.11.0",
      "model_name": "ObjectModel",
      "state": {
       "_view_count": null,
       "_view_module": null,
       "_view_module_version": "",
       "_view_name": null,
       "colorLegend": false,
       "color_map": {
        "dtype": "uint32",
        "shape": [
         256
        ]
       },
       "compression_level": 0,
       "id": 139671939943632,
       "model_matrix": {
        "dtype": "float32",
        "shape": [
         4,
         4
        ]
       },
       "name": "Voxels #1",
       "opacity": 1,
       "outlines": false,
       "outlines_color": 0,
       "type": "Voxels",
       "visible": true,
       "voxels": {
        "dtype": "uint8",
        "shape": [
         1,
         12,
         20
        ]
       },
       "wireframe": false
      }
     },
     "ace3b67fbea4458fb133bdac2c011d18": {
      "model_module": "@jupyter-widgets/controls",
      "model_module_version": "1.5.0",
      "model_name": "DescriptionStyleModel",
      "state": {
       "description_width": ""
      }
     },
     "ad36eebe2213486ab50679ed6f7a63a4": {
      "model_module": "k3d",
      "model_module_version": "2.11.0",
      "model_name": "PlotModel",
      "state": {
       "_backend_version": "2.11.0",
       "_dom_classes": [],
       "_view_count": null,
       "antialias": 3,
       "auto_rendering": true,
       "axes": [
        "x\\,\\text{ (nm)}",
        "y\\,\\text{ (nm)}",
        "z\\,\\text{ (nm)}"
       ],
       "axes_helper": 1,
       "background_color": 16777215,
       "camera": [
        10.284874878314442,
        -15.489812314444864,
        1.0059874815822867,
        -0.02499999711290002,
        -0.025000001303851604,
        -0.025000005960464478,
        0,
        0,
        1
       ],
       "camera_animation": [],
       "camera_auto_fit": true,
       "camera_damping_factor": 0,
       "camera_fov": 60,
       "camera_mode": "trackball",
       "camera_no_pan": false,
       "camera_no_rotate": false,
       "camera_no_zoom": false,
       "camera_pan_speed": 0.3,
       "camera_rotate_speed": 1,
       "camera_zoom_speed": 1.2,
       "clipping_planes": [],
       "colorbar_object_id": -1,
       "colorbar_scientific": false,
       "fps": 25,
       "fps_meter": false,
       "grid": [
        -1,
        -1,
        -1,
        1,
        1,
        1
       ],
       "grid_auto_fit": true,
       "grid_color": 15132390,
       "grid_visible": true,
       "height": 512,
       "label_color": 4473924,
       "layout": "IPY_MODEL_a8d2f2b0a5e54c3a9dfc7195cf473a47",
       "lighting": 1.5,
       "manipulate_mode": "translate",
       "menu_visibility": true,
       "mode": "view",
       "name": null,
       "object_ids": [
        139671939852800
       ],
       "rendering_steps": 1,
       "screenshot": "",
       "screenshot_scale": 2,
       "snapshot": "",
       "snapshot_type": "full",
       "time": 0,
       "voxel_paint_color": 0
      }
     },
     "ae054fabb6384e29a77aff59db130f30": {
      "buffers": [
       {
        "data": "sHJMAA==",
        "encoding": "base64",
        "path": [
         "color_map",
         "data"
        ]
       },
       {
        "data": "AAAgQQAAAAAAAAAAAAAAAAAAAAAAAMBAAAAAAAAAAAAAAAAAAAAAAAAAgEAAAAAAAAAAAAAAAAAAAAAAAACAPw==",
        "encoding": "base64",
        "path": [
         "model_matrix",
         "data"
        ]
       },
       {
        "data": "AAAAAAAAAAAAAAAAAAAAAAAAAAAAAAAAAAAAAAAAAAAAAAAAAAAAAAAAAAAAAAAAAAAAAAAAAAAAAAAAAAAAAAAAAAABAQEBAAAAAAAAAAAAAAAAAAABAQEBAQEBAQAAAAAAAAAAAAAAAQEBAQEBAQEBAQAAAAAAAAAAAAABAQEBAQEBAQEBAAAAAAAAAAAAAAABAQEBAQEBAQAAAAAAAAAAAAAAAAAAAQEBAQAAAAAAAAAAAAAAAAAAAAAAAAAAAAAAAAAAAAAAAAAAAAAAAAAAAAAAAAAAAAAAAAAAAAAAAAAAAAAAAAAAAAAAAAAAAAAAAAAAAAAAAAAAAAAAAAAAAAAAAAAAAAAAAAEBAQEAAAAAAAAAAAAAAAAAAQEBAQEBAQEBAQAAAAAAAAAAAQEBAQEBAQEBAQEBAQEAAAAAAAABAQEBAQEBAQEBAQEBAQAAAAAAAQEBAQEBAQEBAQEBAQEBAQAAAAABAQEBAQEBAQEBAQEBAQEBAAAAAAABAQEBAQEBAQEBAQEBAQAAAAAAAAEBAQEBAQEBAQEBAQEBAAAAAAAAAAABAQEBAQEBAQEBAAAAAAAAAAAAAAAAAAEBAQEAAAAAAAAAAAAAAAAAAAAAAAAAAAAAAAAAAAAAAAAAAAAAAAAAAQEAAAAAAAAAAAAAAAAAAAEBAQEBAQEBAQEAAAAAAAAAAAEBAQEBAQEBAQEBAQEBAAAAAAABAQEBAQEBAQEBAQEBAQEBAAAAAQEBAQEBAQEBAQEBAQEBAQEBAAABAQEBAQEBAQEBAQEBAQEBAQEAAAEBAQEBAQEBAQEBAQEBAQEBAQAAAQEBAQEBAQEBAQEBAQEBAQEBAAAAAQEBAQEBAQEBAQEBAQEBAQAAAAAAAQEBAQEBAQEBAQEBAQEAAAAAAAAAAAEBAQEBAQEBAQEAAAAAAAAAAAAAAAAAAAEBAAAAAAAAAAAAAAAAAAAAAQEBAQEBAQEAAAAAAAAAAAAAAQEBAQEBAQEBAQEBAAAAAAAAAQEBAQEBAQEBAQEBAQEBAQAAAAEBAQEBAQEBAQEBAQEBAQEBAQABAQEBAQEBAQEBAQEBAQEBAQEBAQEBAQEBAQEBAQEBAQEBAQEBAQEBAQEBAQEBAQEBAQEBAQEBAQEBAQEBAQEBAQEBAQEBAQEBAQEBAQEBAQABAQEBAQEBAQEBAQEBAQEBAQEAAAABAQEBAQEBAQEBAQEBAQEBAAAAAAAAAQEBAQEBAQEBAQEBAAAAAAAAAAAAAAEBAQEBAQEBAAAAAAAAAAAAAAAAAQEBAQEBAQEAAAAAAAAAAAAAAQEBAQEBAQEBAQEBAAAAAAAAAQEBAQEBAQEBAQEBAQEBAQAAAAEBAQEBAQEBAQEBAQEBAQEBAQABAQEBAQEBAQEBAQEBAQEBAQEBAQEBAQEBAQEBAQEBAQEBAQEBAQEBAQEBAQEBAQEBAQEBAQEBAQEBAQEBAQEBAQEBAQEBAQEBAQEBAQEBAQABAQEBAQEBAQEBAQEBAQEBAQEAAAABAQEBAQEBAQEBAQEBAQEBAAAAAAAAAQEBAQEBAQEBAQEBAAAAAAAAAAAAAAEBAQEBAQEBAAAAAAAAAAAAAAAAAAAAAQEAAAAAAAAAAAAAAAAAAAEBAQEBAQEBAQEAAAAAAAAAAAEBAQEBAQEBAQEBAQEBAAAAAAABAQEBAQEBAQEBAQEBAQEBAAAAAQEBAQEBAQEBAQEBAQEBAQEBAAABAQEBAQEBAQEBAQEBAQEBAQEAAAEBAQEBAQEBAQEBAQEBAQEBAQAAAQEBAQEBAQEBAQEBAQEBAQEBAAAAAQEBAQEBAQEBAQEBAQEBAQAAAAAAAQEBAQEBAQEBAQEBAQEAAAAAAAAAAAEBAQEBAQEBAQEAAAAAAAAAAAAAAAAAAAEBAAAAAAAAAAAAAAAAAAAAAAAAAAAAAAAAAAAAAAAAAAAAAAAAAAEBAQEAAAAAAAAAAAAAAAAAAQEBAQEBAQEBAQAAAAAAAAAAAQEBAQEBAQEBAQEBAQEAAAAAAAABAQEBAQEBAQEBAQEBAQAAAAAAAQEBAQEBAQEBAQEBAQEBAQAAAAABAQEBAQEBAQEBAQEBAQEBAAAAAAABAQEBAQEBAQEBAQEBAQAAAAAAAAEBAQEBAQEBAQEBAQEBAAAAAAAAAAABAQEBAQEBAQEBAAAAAAAAAAAAAAAAAAEBAQEAAAAAAAAAAAAAAAAAAAAAAAAAAAAAAAAAAAAAAAAAAAAAAAAAAAAAAAAAAAAAAAAAAAAAAAAAAAAAAAAAAAAAAAAAAAAAAAAAAAAAAAAAAAAAAAAAAAAAAAAAAAAAAAABAQEBAAAAAAAAAAAAAAAAAAABAQEBAQEBAQAAAAAAAAAAAAAAAQEBAQEBAQEBAQAAAAAAAAAAAAABAQEBAQEBAQEBAAAAAAAAAAAAAAABAQEBAQEBAQAAAAAAAAAAAAAAAAAAAQEBAQAAAAAAAAAAAAAAAAAAAAAAAAAAAAAAAAAAAAAAAAAAAAAAAAAAAAAAAAAAAAAAAAAAAAAAAAAAAAAAAAAAAAAAAAAA",
        "encoding": "base64",
        "path": [
         "voxels",
         "data"
        ]
       }
      ],
      "model_module": "k3d",
      "model_module_version": "2.11.0",
      "model_name": "ObjectModel",
      "state": {
       "_view_count": null,
       "_view_module": null,
       "_view_module_version": "",
       "_view_name": null,
       "colorLegend": false,
       "color_map": {
        "dtype": "uint32",
        "shape": []
       },
       "compression_level": 0,
       "id": 139671939743600,
       "model_matrix": {
        "dtype": "float32",
        "shape": [
         4,
         4
        ]
       },
       "name": "Voxels #1",
       "opacity": 1,
       "outlines": false,
       "outlines_color": 0,
       "type": "Voxels",
       "visible": true,
       "voxels": {
        "dtype": "uint8",
        "shape": [
         8,
         12,
         20
        ]
       },
       "wireframe": false
      }
     },
     "aeeaaac6f5df44308380678a4ab81594": {
      "model_module": "k3d",
      "model_module_version": "2.11.0",
      "model_name": "PlotModel",
      "state": {
       "_backend_version": "2.11.0",
       "_dom_classes": [],
       "_view_count": null,
       "antialias": 3,
       "auto_rendering": true,
       "axes": [
        "x\\,\\text{ (nm)}",
        "y\\,\\text{ (nm)}",
        "z\\,\\text{ (nm)}"
       ],
       "axes_helper": 1,
       "background_color": 16777215,
       "camera": [],
       "camera_animation": [],
       "camera_auto_fit": true,
       "camera_damping_factor": 0,
       "camera_fov": 60,
       "camera_mode": "trackball",
       "camera_no_pan": false,
       "camera_no_rotate": false,
       "camera_no_zoom": false,
       "camera_pan_speed": 0.3,
       "camera_rotate_speed": 1,
       "camera_zoom_speed": 1.2,
       "clipping_planes": [],
       "colorbar_object_id": -1,
       "colorbar_scientific": false,
       "fps": 25,
       "fps_meter": false,
       "grid": [
        -1,
        -1,
        -1,
        1,
        1,
        1
       ],
       "grid_auto_fit": true,
       "grid_color": 15132390,
       "grid_visible": true,
       "height": 512,
       "label_color": 4473924,
       "layout": "IPY_MODEL_381820a8c3964502812d540c51188b52",
       "lighting": 1.5,
       "manipulate_mode": "translate",
       "menu_visibility": true,
       "mode": "view",
       "name": null,
       "object_ids": [
        139671939698160,
        139671939698400,
        139669890828416,
        139669890828512,
        139669891280960,
        139671939743696
       ],
       "rendering_steps": 1,
       "screenshot": "",
       "screenshot_scale": 2,
       "snapshot": "",
       "snapshot_type": "full",
       "time": 0,
       "voxel_paint_color": 0
      }
     },
     "af1d89c21b574093af106404816508fc": {
      "model_module": "@jupyter-widgets/output",
      "model_module_version": "1.0.0",
      "model_name": "OutputModel",
      "state": {
       "layout": "IPY_MODEL_385a2f94aa6e4e44bc49947d88888dc0",
       "outputs": [
        {
         "data": {
          "application/vnd.jupyter.widget-view+json": {
           "model_id": "d00c573935c7404bbbcc3a4d7fc0a651",
           "version_major": 2,
           "version_minor": 0
          },
          "text/plain": "Plot(antialias=3, axes=['x', 'y', 'z'], axes_helper=1.0, background_color=16777215, camera_animation=[], camer…"
         },
         "metadata": {},
         "output_type": "display_data"
        }
       ]
      }
     },
     "afc2f4cc005c4e369432cd78b5d2e9a1": {
      "model_module": "@jupyter-widgets/output",
      "model_module_version": "1.0.0",
      "model_name": "OutputModel",
      "state": {
       "layout": "IPY_MODEL_5c449ee837734cea892e1b70ae622013",
       "outputs": [
        {
         "data": {
          "application/vnd.jupyter.widget-view+json": {
           "model_id": "ce9f4d4b0f204103b3000c50b2845f0c",
           "version_major": 2,
           "version_minor": 0
          },
          "text/plain": "Plot(antialias=3, axes=['x\\\\,\\\\text{ (nm)}', 'y\\\\,\\\\text{ (nm)}', 'z\\\\,\\\\text{ (nm)}'], axes_helper=1.0, backg…"
         },
         "metadata": {},
         "output_type": "display_data"
        }
       ]
      }
     },
     "b028efd50ea14d41a6244360f440d9c3": {
      "model_module": "@jupyter-widgets/base",
      "model_module_version": "1.2.0",
      "model_name": "LayoutModel",
      "state": {}
     },
     "b31441613db24b6988b61e41c3e4b316": {
      "model_module": "@jupyter-widgets/base",
      "model_module_version": "1.2.0",
      "model_name": "LayoutModel",
      "state": {}
     },
     "b5d826a9b8364eb2ac167d9b4ebd6ed1": {
      "model_module": "@jupyter-widgets/controls",
      "model_module_version": "1.5.0",
      "model_name": "DescriptionStyleModel",
      "state": {
       "description_width": ""
      }
     },
     "b78c9286de7e4832a106ee2b1747ec8c": {
      "model_module": "k3d",
      "model_module_version": "2.11.0",
      "model_name": "PlotModel",
      "state": {
       "_backend_version": "2.11.0",
       "_dom_classes": [],
       "_view_count": null,
       "antialias": 3,
       "auto_rendering": true,
       "axes": [
        "x\\,\\text{(m)}",
        "y\\,\\text{(m)}",
        "z\\,\\text{(m)}"
       ],
       "axes_helper": 1,
       "background_color": 16777215,
       "camera": [],
       "camera_animation": [],
       "camera_auto_fit": true,
       "camera_damping_factor": 0,
       "camera_fov": 60,
       "camera_mode": "trackball",
       "camera_no_pan": false,
       "camera_no_rotate": false,
       "camera_no_zoom": false,
       "camera_pan_speed": 0.3,
       "camera_rotate_speed": 1,
       "camera_zoom_speed": 1.2,
       "clipping_planes": [],
       "colorbar_object_id": -1,
       "colorbar_scientific": false,
       "fps": 25,
       "fps_meter": false,
       "grid": [
        -1,
        -1,
        -1,
        1,
        1,
        1
       ],
       "grid_auto_fit": true,
       "grid_color": 15132390,
       "grid_visible": true,
       "height": 512,
       "label_color": 4473924,
       "layout": "IPY_MODEL_aaf6a7cc3d964f94af6d0382b66dc3a2",
       "lighting": 1.5,
       "manipulate_mode": "translate",
       "menu_visibility": true,
       "mode": "view",
       "name": null,
       "object_ids": [
        139671939850784
       ],
       "rendering_steps": 1,
       "screenshot": "",
       "screenshot_scale": 2,
       "snapshot": "",
       "snapshot_type": "full",
       "time": 0,
       "voxel_paint_color": 0
      }
     },
     "be46bcbb41e04276b7ad10cb8233a772": {
      "buffers": [
       {
        "data": "",
        "encoding": "base64",
        "path": [
         "attribute",
         "data"
        ]
       },
       {
        "data": "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",
        "encoding": "base64",
        "path": [
         "color_map",
         "data"
        ]
       },
       {
        "data": "",
        "encoding": "base64",
        "path": [
         "colors",
         "data"
        ]
       },
       {
        "data": "AACAPwAAAAAAAAAAAAAAAAAAAAAAAIA/AAAAAAAAAAAAAAAAAAAAAAAAgD8AAAAAAAAAAAAAAAAAAAAAAACAPw==",
        "encoding": "base64",
        "path": [
         "model_matrix",
         "data"
        ]
       },
       {
        "data": "",
        "encoding": "base64",
        "path": [
         "opacities",
         "data"
        ]
       },
       {
        "data": "",
        "encoding": "base64",
        "path": [
         "opacity_function",
         "data"
        ]
       },
       {
        "data": "",
        "encoding": "base64",
        "path": [
         "point_sizes",
         "data"
        ]
       },
       {
        "data": "AAAQwAAAgD4AAOC/AADgvwAAgD4AAOC/AACgvwAAgD4AAOC/AABAvwAAgD4AAOC/AACAvgAAgD4AAOC/AACAPgAAgD4AAOC/AABAPwAAgD4AAOC/AACgPwAAgD4AAOC/AADgPwAAgD4AAOC/AAAQQAAAgD4AAOC/AABwwAAAgD4AAKC/AABQwAAAgD4AAKC/AAAwwAAAgD4AAKC/AAAQwAAAgD4AAKC/AADgvwAAgD4AAKC/AACgvwAAgD4AAKC/AABAvwAAgD4AAKC/AACAvgAAgD4AAKC/AACAPgAAgD4AAKC/AABAPwAAgD4AAKC/AACgPwAAgD4AAKC/AADgPwAAgD4AAKC/AAAQQAAAgD4AAKC/AAAwQAAAgD4AAKC/AABQQAAAgD4AAKC/AABwQAAAgD4AAKC/AACIwAAAgD4AAEC/AABwwAAAgD4AAEC/AABQwAAAgD4AAEC/AAAwwAAAgD4AAEC/AAAQwAAAgD4AAEC/AADgvwAAgD4AAEC/AACgvwAAgD4AAEC/AABAvwAAgD4AAEC/AACAvgAAgD4AAEC/AACAPgAAgD4AAEC/AABAPwAAgD4AAEC/AACgPwAAgD4AAEC/AADgPwAAgD4AAEC/AAAQQAAAgD4AAEC/AAAwQAAAgD4AAEC/AABQQAAAgD4AAEC/AABwQAAAgD4AAEC/AACIQAAAgD4AAEC/AACYwAAAgD4AAIC+AACIwAAAgD4AAIC+AABwwAAAgD4AAIC+AABQwAAAgD4AAIC+AAAwwAAAgD4AAIC+AAAQwAAAgD4AAIC+AADgvwAAgD4AAIC+AACgvwAAgD4AAIC+AABAvwAAgD4AAIC+AACAvgAAgD4AAIC+AACAPgAAgD4AAIC+AABAPwAAgD4AAIC+AACgPwAAgD4AAIC+AADgPwAAgD4AAIC+AAAQQAAAgD4AAIC+AAAwQAAAgD4AAIC+AABQQAAAgD4AAIC+AABwQAAAgD4AAIC+AACIQAAAgD4AAIC+AACYQAAAgD4AAIC+AACYwAAAgD4AAIA+AACIwAAAgD4AAIA+AABwwAAAgD4AAIA+AABQwAAAgD4AAIA+AAAwwAAAgD4AAIA+AAAQwAAAgD4AAIA+AADgvwAAgD4AAIA+AACgvwAAgD4AAIA+AABAvwAAgD4AAIA+AACAvgAAgD4AAIA+AACAPgAAgD4AAIA+AABAPwAAgD4AAIA+AACgPwAAgD4AAIA+AADgPwAAgD4AAIA+AAAQQAAAgD4AAIA+AAAwQAAAgD4AAIA+AABQQAAAgD4AAIA+AABwQAAAgD4AAIA+AACIQAAAgD4AAIA+AACYQAAAgD4AAIA+AACIwAAAgD4AAEA/AABwwAAAgD4AAEA/AABQwAAAgD4AAEA/AAAwwAAAgD4AAEA/AAAQwAAAgD4AAEA/AADgvwAAgD4AAEA/AACgvwAAgD4AAEA/AABAvwAAgD4AAEA/AACAvgAAgD4AAEA/AACAPgAAgD4AAEA/AABAPwAAgD4AAEA/AACgPwAAgD4AAEA/AADgPwAAgD4AAEA/AAAQQAAAgD4AAEA/AAAwQAAAgD4AAEA/AABQQAAAgD4AAEA/AABwQAAAgD4AAEA/AACIQAAAgD4AAEA/AABwwAAAgD4AAKA/AABQwAAAgD4AAKA/AAAwwAAAgD4AAKA/AAAQwAAAgD4AAKA/AADgvwAAgD4AAKA/AACgvwAAgD4AAKA/AABAvwAAgD4AAKA/AACAvgAAgD4AAKA/AACAPgAAgD4AAKA/AABAPwAAgD4AAKA/AACgPwAAgD4AAKA/AADgPwAAgD4AAKA/AAAQQAAAgD4AAKA/AAAwQAAAgD4AAKA/AABQQAAAgD4AAKA/AABwQAAAgD4AAKA/AAAQwAAAgD4AAOA/AADgvwAAgD4AAOA/AACgvwAAgD4AAOA/AABAvwAAgD4AAOA/AACAvgAAgD4AAOA/AACAPgAAgD4AAOA/AABAPwAAgD4AAOA/AACgPwAAgD4AAOA/AADgPwAAgD4AAOA/AAAQQAAAgD4AAOA/",
        "encoding": "base64",
        "path": [
         "positions",
         "data"
        ]
       }
      ],
      "model_module": "k3d",
      "model_module_version": "2.11.0",
      "model_name": "ObjectModel",
      "state": {
       "_view_count": null,
       "_view_module": null,
       "_view_module_version": "",
       "_view_name": null,
       "attribute": {
        "dtype": "float32",
        "shape": [
         0
        ]
       },
       "color": 5010096,
       "colorLegend": false,
       "color_map": {
        "dtype": "float32",
        "shape": [
         1024
        ]
       },
       "color_range": [],
       "colors": {
        "dtype": "uint32",
        "shape": [
         0
        ]
       },
       "compression_level": 0,
       "id": 139669890400064,
       "mesh_detail": 2,
       "model_matrix": {
        "dtype": "float32",
        "shape": [
         4,
         4
        ]
       },
       "name": "Points #1",
       "opacities": {
        "dtype": "float32",
        "shape": [
         0
        ]
       },
       "opacity": 1,
       "opacity_function": {
        "dtype": "float32",
        "shape": [
         0
        ]
       },
       "point_size": 0.12499999999999997,
       "point_sizes": {
        "dtype": "float32",
        "shape": [
         0
        ]
       },
       "positions": {
        "dtype": "float32",
        "shape": [
         128,
         3
        ]
       },
       "shader": "3dSpecular",
       "type": "Points",
       "visible": true
      }
     },
     "bebbaad1a5ba4ad89991149049892303": {
      "model_module": "@jupyter-widgets/controls",
      "model_module_version": "1.5.0",
      "model_name": "DescriptionStyleModel",
      "state": {
       "description_width": ""
      }
     },
     "c113145fe4194a4db1f081dba62d931c": {
      "model_module": "k3d",
      "model_module_version": "2.11.0",
      "model_name": "PlotModel",
      "state": {
       "_backend_version": "2.11.0",
       "_dom_classes": [],
       "_view_count": null,
       "antialias": 3,
       "auto_rendering": true,
       "axes": [
        "x\\,\\text{ (nm)}",
        "y\\,\\text{ (nm)}",
        "z\\,\\text{ (nm)}"
       ],
       "axes_helper": 1,
       "background_color": 16777215,
       "camera": [
        9.862991706364406,
        -14.794487559546608,
        0.9862991706364569,
        0,
        0,
        0,
        0,
        0,
        1
       ],
       "camera_animation": [],
       "camera_auto_fit": true,
       "camera_damping_factor": 0,
       "camera_fov": 60,
       "camera_mode": "trackball",
       "camera_no_pan": false,
       "camera_no_rotate": false,
       "camera_no_zoom": false,
       "camera_pan_speed": 0.3,
       "camera_rotate_speed": 1,
       "camera_zoom_speed": 1.2,
       "clipping_planes": [],
       "colorbar_object_id": -1,
       "colorbar_scientific": false,
       "fps": 25,
       "fps_meter": false,
       "grid": [
        -1,
        -1,
        -1,
        1,
        1,
        1
       ],
       "grid_auto_fit": true,
       "grid_color": 15132390,
       "grid_visible": true,
       "height": 512,
       "label_color": 4473924,
       "layout": "IPY_MODEL_41065f9ae312416d81643b6c24297e77",
       "lighting": 1.5,
       "manipulate_mode": "translate",
       "menu_visibility": true,
       "mode": "view",
       "name": null,
       "object_ids": [
        139670025893824
       ],
       "rendering_steps": 1,
       "screenshot": "",
       "screenshot_scale": 2,
       "snapshot": "",
       "snapshot_type": "full",
       "time": 0,
       "voxel_paint_color": 0
      }
     },
     "c81b28ee3d66450886ccc48561606fd6": {
      "buffers": [
       {
        "data": "",
        "encoding": "base64",
        "path": [
         "attribute",
         "data"
        ]
       },
       {
        "data": "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",
        "encoding": "base64",
        "path": [
         "color_map",
         "data"
        ]
       },
       {
        "data": "",
        "encoding": "base64",
        "path": [
         "colors",
         "data"
        ]
       },
       {
        "data": "AACAPwAAAAAAAAAAAAAAAAAAAAAAAIA/AAAAAAAAAAAAAAAAAAAAAAAAgD8AAAAAAAAAAAAAAAAAAAAAAACAPw==",
        "encoding": "base64",
        "path": [
         "model_matrix",
         "data"
        ]
       },
       {
        "data": "",
        "encoding": "base64",
        "path": [
         "opacities",
         "data"
        ]
       },
       {
        "data": "",
        "encoding": "base64",
        "path": [
         "opacity_function",
         "data"
        ]
       },
       {
        "data": "",
        "encoding": "base64",
        "path": [
         "point_sizes",
         "data"
        ]
       },
       {
        "data": "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",
        "encoding": "base64",
        "path": [
         "positions",
         "data"
        ]
       }
      ],
      "model_module": "k3d",
      "model_module_version": "2.11.0",
      "model_name": "ObjectModel",
      "state": {
       "_view_count": null,
       "_view_module": null,
       "_view_module_version": "",
       "_view_name": null,
       "attribute": {
        "dtype": "float32",
        "shape": [
         0
        ]
       },
       "color": 5010096,
       "colorLegend": false,
       "color_map": {
        "dtype": "float32",
        "shape": [
         1024
        ]
       },
       "color_range": [],
       "colors": {
        "dtype": "uint32",
        "shape": [
         0
        ]
       },
       "compression_level": 0,
       "id": 139671939853328,
       "mesh_detail": 2,
       "model_matrix": {
        "dtype": "float32",
        "shape": [
         4,
         4
        ]
       },
       "name": "Points #1",
       "opacities": {
        "dtype": "float32",
        "shape": [
         0
        ]
       },
       "opacity": 1,
       "opacity_function": {
        "dtype": "float32",
        "shape": [
         0
        ]
       },
       "point_size": 0.125,
       "point_sizes": {
        "dtype": "float32",
        "shape": [
         0
        ]
       },
       "positions": {
        "dtype": "float32",
        "shape": [
         1008,
         3
        ]
       },
       "shader": "3dSpecular",
       "type": "Points",
       "visible": true
      }
     },
     "c97ae46653a94d4faf4dc54fe682a4b8": {
      "model_module": "@jupyter-widgets/base",
      "model_module_version": "1.2.0",
      "model_name": "LayoutModel",
      "state": {}
     },
     "c989f48a09744814a4adf0c12a659328": {
      "buffers": [
       {
        "data": "TiIAAE8jAABRJAAAUyUAAFQlAABWJgAAWCcAAFkoAABbKAAAXSkAAF8qAABhKgAAYisAAGQsAABmLAAAaC0AAGouAABsLgAAbS8AAG8wAABwMAAAcDEAAHExAABxMgEAcTMFAHAzCABwNAwAcDUPAHA1EgBwNhQAcDcWAG83GABvOBoAbzkcAG86HgBvOiAAbjshAG48IwBuPCQAbj0mAG4+JwBuPykAbT8qAG1AKwBtQS0AbUEuAG1CLwBtQzEAbUMyAG1EMwBsRTQAbEU1AGxGNgBsRzgAbEg5AGxIOgBsSTsAbEo8AGxKPQBsSz4AbEw/AGxMQABsTUEAbE5CAGxOQwBsT0QAbFBFAGxRRgBsUUcAbFJIAGxTSQBsU0oAbFRLAGxVTABsVU0AbFZOAGxXTwBsV1AAbVhRAG1ZUgBtWlMAbVpUAG1bVQBtXFUAbVxWAG1dVwBtXlgAbl5ZAG5fWgBuYFsAbmFcAG5hXQBuYl4Ab2NeAG9jXwBvZGAAb2VhAG9lYgBwZmMAcGdkAHBoZQBwaGUAcGlmAHFqZwBxamgAcWtpAHFsagBybWsAcm1sAHJubAByb20Ac29uAHNwbwBzcXAAdHJxAHRycgB0c3IAdXRzAHV0dAB1dXUAdnZ2AHZ3dwB3d3cAd3h4AHd5eQB4enoAeHp7AHh7fAB4fH0AeHx+AHh9fgB4fn8AeH+AAHh/gQB5gIIAeYGDAHmChAB5goUAeYOGAHiEhwB4hYgAeIWJAHiGigB4h4sAeIiMAHiIjQB4iY4AeIqPAHiLkAB4i5EAeIySAHiNkgB4jpMAd46UAHePlQB3kJYAd5GXAHeSmAB3kpkAdpOaAHaUmwB2lZwAdpWdAHaWngB1l58AdZigAHWZoQB1maIAdJqjAHSbpAB0nKUAdJymAHOdpwBznqgAc5+pAHOgqgByoKsAcqGsAHKirQBxo64AcaSvAHGlsABwpbEAcKazAG+ntABvqLUAb6m2AG6ptwBuqrgAbau5AG2sugBtrbsAbK68AGyuvQBrr74Aa7C/AGqxwABqssEAabPCAGmzwwBotMQAaLXFAGe2xgBnt8cAZrjIAGW5yQBlucsAZLrMAGO7zQBjvM4AYr3PAGK+0ABhv9EAYMDSAF/A0wBfwdQAXsLVAF3D1gBcxNcAXMXZAFvG2gBax9sAWcjcAFjI3QBYyd4AV8rfAFbL4ABVzOEAVM3iAFPO5ABSz+UAUdDmAFDR5wBP0ugATtPpAEzT6gBL1OsAStXtAEnW7gBI1+8ARtjwAEXZ8QBE2vIAQtvzAEHc9QA/3fYAPt73ADzf+AA64PkAOOH7ADbi/AA04/0ANOT+ADXl/gA25v4AOOj+AA==",
        "encoding": "base64",
        "path": [
         "color_map",
         "data"
        ]
       },
       {
        "data": "AAAgQQAAAAAAAAAAAAAAAAAAAAAAAMBAAAAAAAAAAAAAAAAAAAAAAAAAAD8AAIA+AAAAAAAAAAAAAAAAAACAPw==",
        "encoding": "base64",
        "path": [
         "model_matrix",
         "data"
        ]
       },
       {
        "data": "AAAAAAAAIyUnKSknJSMAAAAAAAAAAAAAICMnLC8xMS8sJyMgAAAAAAAAHB8jJy00Oj8/OjQtJyMfHAAAABodISUsND9LVlZLPzQsJSEdGgAYGh4iJy86S2aGhmZLOi8nIh4aGBgbHiMpMT9Whv//hlY/MSkjHhsYGBseIykxP1aG//+GVj8xKSMeGxgYGh4iJy86S2aGhmZLOi8nIh4aGAAaHSElLDQ/S1ZWSz80LCUhHRoAAAAcHyMnLTQ6Pz86NC0nIx8cAAAAAAAAICMnLC8xMS8sJyMgAAAAAAAAAAAAACMlJykpJyUjAAAAAAAA",
        "encoding": "base64",
        "path": [
         "voxels",
         "data"
        ]
       }
      ],
      "model_module": "k3d",
      "model_module_version": "2.11.0",
      "model_name": "ObjectModel",
      "state": {
       "_view_count": null,
       "_view_module": null,
       "_view_module_version": "",
       "_view_name": null,
       "colorLegend": false,
       "color_map": {
        "dtype": "uint32",
        "shape": [
         256
        ]
       },
       "compression_level": 0,
       "id": 139669890804704,
       "model_matrix": {
        "dtype": "float32",
        "shape": [
         4,
         4
        ]
       },
       "name": "Voxels #2",
       "opacity": 1,
       "outlines": false,
       "outlines_color": 0,
       "type": "Voxels",
       "visible": true,
       "voxels": {
        "dtype": "uint8",
        "shape": [
         1,
         12,
         20
        ]
       },
       "wireframe": false
      }
     },
     "cbd7aa7bfaab457da074360761d589ed": {
      "model_module": "@jupyter-widgets/base",
      "model_module_version": "1.2.0",
      "model_name": "LayoutModel",
      "state": {}
     },
     "ce9f4d4b0f204103b3000c50b2845f0c": {
      "model_module": "k3d",
      "model_module_version": "2.11.0",
      "model_name": "PlotModel",
      "state": {
       "_backend_version": "2.11.0",
       "_dom_classes": [],
       "_view_count": null,
       "antialias": 3,
       "auto_rendering": true,
       "axes": [
        "x\\,\\text{ (nm)}",
        "y\\,\\text{ (nm)}",
        "z\\,\\text{ (nm)}"
       ],
       "axes_helper": 1,
       "background_color": 16777215,
       "camera": [],
       "camera_animation": [],
       "camera_auto_fit": false,
       "camera_damping_factor": 0,
       "camera_fov": 60,
       "camera_mode": "trackball",
       "camera_no_pan": false,
       "camera_no_rotate": false,
       "camera_no_zoom": false,
       "camera_pan_speed": 0.3,
       "camera_rotate_speed": 1,
       "camera_zoom_speed": 1.2,
       "clipping_planes": [],
       "colorbar_object_id": -1,
       "colorbar_scientific": false,
       "fps": 25,
       "fps_meter": false,
       "grid": [
        -1,
        -1,
        -1,
        1,
        1,
        1
       ],
       "grid_auto_fit": true,
       "grid_color": 15132390,
       "grid_visible": true,
       "height": 512,
       "label_color": 4473924,
       "layout": "IPY_MODEL_23490d1382cf44ecb4f77a89f4afccc1",
       "lighting": 1.5,
       "manipulate_mode": "translate",
       "menu_visibility": true,
       "mode": "view",
       "name": null,
       "object_ids": [
        139669891024160,
        139669891023392
       ],
       "rendering_steps": 1,
       "screenshot": "",
       "screenshot_scale": 2,
       "snapshot": "",
       "snapshot_type": "full",
       "time": 0,
       "voxel_paint_color": 0
      }
     },
     "d00c573935c7404bbbcc3a4d7fc0a651": {
      "model_module": "k3d",
      "model_module_version": "2.11.0",
      "model_name": "PlotModel",
      "state": {
       "_backend_version": "2.11.0",
       "_dom_classes": [],
       "_view_count": null,
       "antialias": 3,
       "auto_rendering": true,
       "axes": [
        "x\\,\\text{ (nm)}",
        "y\\,\\text{ (nm)}",
        "z\\,\\text{ (nm)}"
       ],
       "axes_helper": 1,
       "background_color": 16777215,
       "camera": [
        5.7463874005806295,
        -8.619581100870944,
        0.5746387400580748,
        0,
        0,
        0,
        0,
        0,
        1
       ],
       "camera_animation": [],
       "camera_auto_fit": true,
       "camera_damping_factor": 0,
       "camera_fov": 60,
       "camera_mode": "trackball",
       "camera_no_pan": false,
       "camera_no_rotate": false,
       "camera_no_zoom": false,
       "camera_pan_speed": 0.3,
       "camera_rotate_speed": 1,
       "camera_zoom_speed": 1.2,
       "clipping_planes": [],
       "colorbar_object_id": -1,
       "colorbar_scientific": false,
       "fps": 25,
       "fps_meter": false,
       "grid": [
        -1,
        -1,
        -1,
        1,
        1,
        1
       ],
       "grid_auto_fit": true,
       "grid_color": 15132390,
       "grid_visible": true,
       "height": 512,
       "label_color": 4473924,
       "layout": "IPY_MODEL_7b13bb7c94314983987b00308690240a",
       "lighting": 1.5,
       "manipulate_mode": "translate",
       "menu_visibility": true,
       "mode": "view",
       "name": null,
       "object_ids": [
        139670026012512,
        139670025892480
       ],
       "rendering_steps": 1,
       "screenshot": "",
       "screenshot_scale": 2,
       "snapshot": "",
       "snapshot_type": "full",
       "time": 0,
       "voxel_paint_color": 0
      }
     },
     "d276140b3b1d4dd2b6bfdfb5a091645b": {
      "model_module": "@jupyter-widgets/base",
      "model_module_version": "1.2.0",
      "model_name": "LayoutModel",
      "state": {}
     },
     "d3b2a07971d94756bb166eadd2d386a6": {
      "model_module": "k3d",
      "model_module_version": "2.11.0",
      "model_name": "PlotModel",
      "state": {
       "_backend_version": "2.11.0",
       "_dom_classes": [],
       "_view_count": null,
       "antialias": 3,
       "auto_rendering": true,
       "axes": [
        "x\\,\\text{ (nm)}",
        "y\\,\\text{ (nm)}",
        "z\\,\\text{ (nm)}"
       ],
       "axes_helper": 1,
       "background_color": 16777215,
       "camera": [
        10.284874878314442,
        -15.489812314444864,
        1.0059874815822867,
        -0.02499999711290002,
        -0.025000001303851604,
        -0.025000005960464478,
        0,
        0,
        1
       ],
       "camera_animation": [],
       "camera_auto_fit": true,
       "camera_damping_factor": 0,
       "camera_fov": 60,
       "camera_mode": "trackball",
       "camera_no_pan": false,
       "camera_no_rotate": false,
       "camera_no_zoom": false,
       "camera_pan_speed": 0.3,
       "camera_rotate_speed": 1,
       "camera_zoom_speed": 1.2,
       "clipping_planes": [],
       "colorbar_object_id": -1,
       "colorbar_scientific": false,
       "fps": 25,
       "fps_meter": false,
       "grid": [
        -1,
        -1,
        -1,
        1,
        1,
        1
       ],
       "grid_auto_fit": true,
       "grid_color": 15132390,
       "grid_visible": true,
       "height": 512,
       "label_color": 4473924,
       "layout": "IPY_MODEL_7d78e6ab871a421ea01a88a474ad4a6c",
       "lighting": 1.5,
       "manipulate_mode": "translate",
       "menu_visibility": true,
       "mode": "view",
       "name": null,
       "object_ids": [
        139671939743600
       ],
       "rendering_steps": 1,
       "screenshot": "",
       "screenshot_scale": 2,
       "snapshot": "",
       "snapshot_type": "full",
       "time": 0,
       "voxel_paint_color": 0
      }
     },
     "d5f17758bc1e458eb183a4ffdb34618f": {
      "model_module": "@jupyter-widgets/base",
      "model_module_version": "1.2.0",
      "model_name": "LayoutModel",
      "state": {}
     },
     "d800c44f112a494da445370009723c9b": {
      "buffers": [
       {
        "data": "",
        "encoding": "base64",
        "path": [
         "attribute",
         "data"
        ]
       },
       {
        "data": "AAAAAKabxDpvEgM607xjPCSXfzuZuxY7w2SqOgdfmDwkl/870ERYO+AtEDsUP8Y8ylRBPLx0kzuJ0l47/yH9PEmdgDymm8Q7dQKaOwkbHj0ukKA8SFD8O4LixztbsT89EoPAPFJJHTxIUPw7irBhPa5H4TxbsT88dQIaPEoMgj1JnQA9QmBlPDSANzxPQJM9vJYQPbn8hzxioVY8VHSkPS6QID3A7J48/mV3PMbctT2giTA9NIC3PATnjDw5Rcc97utAPYZa0zwJG548GeLYPWDlUD1F2PA8xSCwPGiz6j3T3mA9cM4IPYEmwjwkufw9RdhwPVFrGj09LNQ8cF8HPtxogD3EQi09+THmPIV8ED4Cmog9NxpAPbU3+DwHzhk+vJaQPYZaUz24HgU9ih8jPnWTmD2wA2c9u7gNPQ1xLD4ukKA9tRV7PeLpFT3G3DU+VcGoPUvIhz0tsh097nw/Pg6+sD0qOpI9nRElPRUdST7Hurg9duCcPVafKz08vVI+gLfAPZ7vpz1XWzE9mndcPjm0yD3F/rI9fa42PfkxZj5g5dA9yXa+PRHHOj2OBnA+GeLYPTojyj3tDT497MB5PtPe4D2GONY9EoNAPaW9gT6M2+g9003iPYEmQj3UmoY+RdjwPWkA7z04+EI96GqLPmwJ+T3/svs9XI9CPeAtkD4SgwA+OGcEPqW9QT2945Q+b4EEPigPCz43GkA9Y3+ZPsx/CD5O0RE+Njw9PdIAnj5fmAw+rK0YPjVeOj3uWqI+vJYQPgmKHz59rjY9uY2mPhiVFD7UmiY+6pUyPUymqj51kxg+n6stPnsULj1yiq4+0ZEcPmq8ND4Mkyk9KjqyPmWqID42zTs+nRElPY/CtT7BqCQ+OPhCPgn5ID1sCbk+HqcoPgMJSj5SSR099ii8PnqlLD7OGVE+dQIaPRIUvz7XozA+mSpYPlCNFz3c18E+arw0Pi0hXz7i6RU9HVrEPse6OD75MWY+KxgVPQu1xj4kuTw+Vg5tPisYFT2n6Mg+gLdAPuoEdD7i6RU98fTKPhTQRD5I4Xo+K/YXPc3MzD5wzkg+t9GAPlFrGj1yis4+zcxMPsoyhD4JGx49xSDQPinLUD7ek4c+nDMiPcWP0T6GyVQ+1eeKPsKGJz2q8dI+GeJYPs07jj6fqy09PSzUPnbgXD7Fj5E+fdAzPZhM1T7T3mA+veOUPhHHOj29UtY+L91kPpkqmD5cj0I9x0vXPsP1aD52cZs+qFdKPZkq2D4f9Gw+NquePs6IUj0179g+fPJwPhPyoT7RIls9tabZPtjwdD7UK6U+07xjPRpR2j4173g+lWWoPrG/bD1I4do+yAd9Plafqz5rK3Y9WmTbPhKDgD4X2a4+SS5/PVHa2z5BgoI+1xKyPgFNhD0tQ9w+b4GEPn0/tT7eAok97Z7cPp2Ahj4+ebg+u7iNPZHt3D7njIg+46W7PgWjkj0bL90+FYyKPqTfvj7iWJc9iGPdPkSLjD5KDMI+LUOcPduK3T5yio4+7zjFPgn5oD0tst0+vJaQPrByyD7mrqU9SL/dPuqVkj5Wn8s+MZmqPWTM3T4YlZQ++8vOPg5Prz1kzN0+RpSWPqH40T7qBLQ9SL/dPnWTmD5GJdU+x7q4PRKl3T6+n5o+7FHYPqRwvT3bit0+7Z6cPqyL2z6BJsI9iGPdPhuenj5SuN4+XdzGPRsv3T5JnaA+9+ThPsxdyz2t+tw+eJyiPp0R5T6pE9A9JLncPsGopD5eS+g+GJXUPX9q3D7wp6Y+A3jrPvVK2T2/Dtw+HqeoPqmk7j5kzN09/7LbPkymqj5O0fE+003iPSNK2z6Wsqw+Dwv1PrAD5z1I4do+xLGuPrU3+D4fhes9NV7aPvKwsD5aZPs+jgbwPT7o2T4hsLI+G57+Pv2H9D0QWNk+T6+0PmDlAD9sCfk948fYPpm7tj6zewI/24r9PZkq2D7Hurg+kxgEPyUGAT40gNc+9bm6PuauBT+lLAM+tMjWPiS5vD45RQc/XW0FPjQR1j5SuL4+GeIIPxSuBz60WdU+nMTAPmx4Cj/M7gk+/YfUPsrDwj5NFQw/gy8MPka20z74wsQ+n6sNPztwDj5z19I+J8LGPvJBDz/ysBA+ofjRPnDOyD7T3hA/4QsTPrMM0T6fzco+JXUSP5hMFT6pE9A+zczMPngLFD9QjRc+hA3PPvvLzj7LoRU/PugZPl8Hzj4py9A+HTgXPy1DHD4f9Mw+c9fSPnDOGD/kgx4+w9PLPqHW1D7DZBo/CfkgPmizyj7Q1dY+FvsbP/hTIz7whck+/tTYPmiRHT/mriU+XkvIPkjh2j67Jx8/CyQoPssQxz524Nw+gLcgPzGZKj4dycU+pN/ePtNNIj9WDi0+VHTEPtPe4D6Y3SM/e4MvPoofwz4B3uI+63MlP9cSMj6lvcE+S+rkPrADJz80ojQ+pU7APnnp5j51kyg/x0s3PonSvj6n6Og+rBwqPyPbOT5tVr0+1efqPnGsKz/tnjw+Udq7PgTn7D6oNS0/gEg/Pv5Duj5N8+4+bcUuP0oMQj7Hurg+fPLwPqVOMD8U0EQ+WRe3Pqrx8j5O0TE/FK5HPutztT7Y8PQ+hlozP0ymSj5hw7M+Iv32Pi/dND9NhE0+1xKyPlD8+D7ZXzY/vJZQPjJVsD5/+/o+guI3P/OOUz5yiq4+rfr8Pp5eOT+Zu1Y+sb+sPtv5/j662jo/PuhZPvH0qj4SgwA/1lY8P+QUXT75D6k+qoIBP2TMPT/AW2A+HTinPkGCAj/yQT8/07xjPiZTpT7YgQM/gLdAP+cdZz4TYaM+b4EEP4EmQj8xmWo+AG+hPpSHBT+BlUM/si5uPtJvnz4rhwY/gQRFPzPEcT6kcJ0+woYHP/RsRj/rc3U+WmSbPlmGCD/Zzkc/oyN5PhBYmT5+jAk/vjBJP8gHfT7HS5c+FYwKP6OSSj/3dYA+YTKVPqyLCz/67Us/CmiCPvwYkz5Eiww/UklNP1R0hD588pA+24oNPxueTj+dgIY++8uOPgCRDj9X7E8/ApqIPnqljD6XkA8/kzpRP4PAij7ecYo+LpAQP86IUj8E54w+Qj6IPsWPET990FM/oBqPPov9hT5cjxI/nRFVP1dbkT7vyYM+gZUTP71SVj8qqZM+N4mBPhiVFD9QjVc//faVPgCRfj6vlBU/VcFYPwdfmD5a9Xk+RpQWP1r1WT8Rx5o+tFl1PmuaFz/RIls/Gy+dPg6+cD4Cmhg/uklcP1uxnz5oImw+mpkZP6RwXT+cM6I+woZnPjGZGj8AkV4/+MKkPuXQYj7ImBs/zqpfP3Bfpz4JG14+7Z4cP5zEYD8DCao+LGVZPoSeHT/c12E/lrKsPhiVVD4bnh4/j+RiP0Rprz47308+sp0fP7PqYz8OLbI+KA9LPtejID/Y8GQ/2PC0PhQ/Rj5uoyE/b/BlP77Btz4Ab0E+BaMiP3npZj++n7o+toQ8PpyiIz/122c/v329PqK0Nz40oiQ/cM5oP/d1wD5YyjI+WKglP166aT8TYcM+DeAtPvCnJj++n2o/ZmbGPozbKD6Hpyc/kX5rP7pryT5B8SM+HqcoP9ZWbD8ofsw+wOwePrWmKT8bL20/l5DPPj7oGT7arCo/RPptPyGw0j694xQ+cawrP23Fbj+rz9U+BcUPPgisLD8Jim8/UPzYPkymCj6fqy0/pU5wPxE23D6UhwU+xLEuPyUGcT/Sb98+3GgAPluxLz+lvXE/rrbiPkaU9j3ysDA/mG5yP4v95T5oIuw9irAxP/wYcz+DUek+irDhPSGwMj/TvHM/eqXsPj0K1z1GtjM/HVp0P3L57z5fmMw93bU0P2b3dD+hZ/M+E/LBPXS1NT+Uh3U/tMj2PsdLtz0LtTY/whd2P+M2+j56paw9orQ3P2Khdj8tsv0+Lv+hPce6OD90JHc/LpAAP+JYlz1eujk/+aB3P2FUAj+Wsow99bk6P34deD8GEgQ/SgyCPYy5Oz/njHg/xtwFP9c0bz2xvzw/UPx4P/mgBz8aUVo9SL89PyxleT+6awk/FD9GPeC+Pj96x3k/ejYLP+qVMj13vj8/OiN6PzsBDT9SJyA9Dr5AP2x4ej+J0g4/TfMOPTPEQT+fzXo/ZaoQP0mdAD3Kw0I/tRV7P7N7Ej/VeOk8YcNDP8xdez+PUxQ/YqHWPPjCRD9Wn3s/aysWP6hXyjyPwkU/Udp7P0cDGD84+MI8tMhGP78OfD+x4Rk/ylTBPEvIRz+fPHw/GsAbPxQ/xjzjx0g/f2p8PxKlHT8Xt9E8esdJP0SLfD97gx8/07zjPJ/NSj8IrHw/c2ghP/8h/Tw2zUs/sb98P2pNIz9N8w49zcxMP1vTfD9hMiU/L24jPWTMTT924Hw/5x0nPxHHOj37y04/BOd8P2wJKT9hw1M9INJPPwTnfD9j7io/+8tuPbfRUD8E53w/duAsPwK8hT1O0VE/6Nl8P/vLLj/hepQ95dBSP83MfD8OvjA/CtejPQrXUz+Wsnw/k6kyPw+csz2h1lQ/X5h8P6abND9d/sM9OdZVP5p3fD9GlDY/hsnUPdDVVj9IUHw/WYY4Px3J5T1n1Vc/aCJ8P2x4Oj/+Zfc9jNtYP/rtez8NcTw/ppsEPiPbWT//sns/rWk+P/LSDT662lo/dnF7P8BbQD90JBc+UdpbP+wvez9hVEI/ZaogPujZXD9I4Xo/AU1EP8NkKj4N4F0/o5J6P6JFRj9YOTQ+pN9eP3E9ej/QREg/klw+PjvfXz+x4Xk/cT1KPzm0SD7T3mA/Y395PxE2TD9PQFM+9+RhPxUdeT+yLk4/CRtePo/kYj85tHg/UidQPzAqaT4m5GM/0ER4P/MfUj/GbXQ+veNkP9nOdz+TGFQ/AACAPlTjZT/iWHc/NBFWP1TjhT556WY/6+J2P0cDWD8W+4s+EOlnP2Zmdj/n+1k/Di2SPqfoaD/i6XU/+u1bP3WTmD4+6Gk/XW11P3/ZXT8tIZ8+1edqP9jwdD8FxV8/VOOlPvrtaz/henQ/irBhP83MrD6R7Ww/6gR0P/OOYz+z6rM+Ke1tP4GVcz9dbWU/7C+7PsDsbj8zM3M/OUVnP662wj7l8m8/Ad5yP4cWaT/DZMo+fPJwP+qVcj+62mo/RUfSPhPycT98YXI/X5hsPxpR2j6q8XI/RUdyP+lIbj9BguI+QfFzP0VHcj9X7G8/n83qPmb3dD8KaHI/HHxxPzMz8z799nU/k6lyP1MFcz/ImPs+lPZ2P28Scz9vgXQ/vAUCPyv2dz+conM/4ul1P/kxBj/D9Xg/HVp0PzlFdz+oVwo/5/t5P+84dT91k3g/rWkOP3/7ej+GOHY/ldR5PwpoEj8W+3s/4lh3PygPez+9UhY/rfp8P5CgeD+fPHw/xykaP9IAfj/n+3k/iGN9P5vmHT9pAH8/A3h7P1Z9fj83iSE/AACAP8gHfT8kl38/KxglPw==",
        "encoding": "base64",
        "path": [
         "color_map",
         "data"
        ]
       },
       {
        "data": "",
        "encoding": "base64",
        "path": [
         "colors",
         "data"
        ]
       },
       {
        "data": "AACAPwAAAAAAAAAAAAAAAAAAAAAAAIA/AAAAAAAAAAAAAAAAAAAAAAAAgD8AAAAAAAAAAAAAAAAAAAAAAACAPw==",
        "encoding": "base64",
        "path": [
         "model_matrix",
         "data"
        ]
       },
       {
        "data": "",
        "encoding": "base64",
        "path": [
         "opacities",
         "data"
        ]
       },
       {
        "data": "",
        "encoding": "base64",
        "path": [
         "opacity_function",
         "data"
        ]
       },
       {
        "data": "",
        "encoding": "base64",
        "path": [
         "point_sizes",
         "data"
        ]
       },
       {
        "data": "AAAAAAAAoL8AAOC/AAAAAAAAQL8AAOC/AAAAAAAAgL4AAOC/AAAAAAAAgD4AAOC/AAAAAAAAQD8AAOC/AAAAAAAAoD8AAOC/AAAAAAAAEMAAAKC/AAAAAAAA4L8AAKC/AAAAAAAAoL8AAKC/AAAAAAAAQL8AAKC/AAAAAAAAgL4AAKC/AAAAAAAAgD4AAKC/AAAAAAAAQD8AAKC/AAAAAAAAoD8AAKC/AAAAAAAA4D8AAKC/AAAAAAAAEEAAAKC/AAAAAAAAMMAAAEC/AAAAAAAAEMAAAEC/AAAAAAAA4L8AAEC/AAAAAAAAoL8AAEC/AAAAAAAAQL8AAEC/AAAAAAAAgL4AAEC/AAAAAAAAgD4AAEC/AAAAAAAAQD8AAEC/AAAAAAAAoD8AAEC/AAAAAAAA4D8AAEC/AAAAAAAAEEAAAEC/AAAAAAAAMEAAAEC/AAAAAAAAMMAAAIC+AAAAAAAAEMAAAIC+AAAAAAAA4L8AAIC+AAAAAAAAoL8AAIC+AAAAAAAAQL8AAIC+AAAAAAAAgL4AAIC+AAAAAAAAgD4AAIC+AAAAAAAAQD8AAIC+AAAAAAAAoD8AAIC+AAAAAAAA4D8AAIC+AAAAAAAAEEAAAIC+AAAAAAAAMEAAAIC+AAAAAAAAMMAAAIA+AAAAAAAAEMAAAIA+AAAAAAAA4L8AAIA+AAAAAAAAoL8AAIA+AAAAAAAAQL8AAIA+AAAAAAAAgL4AAIA+AAAAAAAAgD4AAIA+AAAAAAAAQD8AAIA+AAAAAAAAoD8AAIA+AAAAAAAA4D8AAIA+AAAAAAAAEEAAAIA+AAAAAAAAMEAAAIA+AAAAAAAAMMAAAEA/AAAAAAAAEMAAAEA/AAAAAAAA4L8AAEA/AAAAAAAAoL8AAEA/AAAAAAAAQL8AAEA/AAAAAAAAgL4AAEA/AAAAAAAAgD4AAEA/AAAAAAAAQD8AAEA/AAAAAAAAoD8AAEA/AAAAAAAA4D8AAEA/AAAAAAAAEEAAAEA/AAAAAAAAMEAAAEA/AAAAAAAAEMAAAKA/AAAAAAAA4L8AAKA/AAAAAAAAoL8AAKA/AAAAAAAAQL8AAKA/AAAAAAAAgL4AAKA/AAAAAAAAgD4AAKA/AAAAAAAAQD8AAKA/AAAAAAAAoD8AAKA/AAAAAAAA4D8AAKA/AAAAAAAAEEAAAKA/AAAAAAAAoL8AAOA/AAAAAAAAQL8AAOA/AAAAAAAAgL4AAOA/AAAAAAAAgD4AAOA/AAAAAAAAQD8AAOA/AAAAAAAAoD8AAOA/",
        "encoding": "base64",
        "path": [
         "positions",
         "data"
        ]
       }
      ],
      "model_module": "k3d",
      "model_module_version": "2.11.0",
      "model_name": "ObjectModel",
      "state": {
       "_view_count": null,
       "_view_module": null,
       "_view_module_version": "",
       "_view_name": null,
       "attribute": {
        "dtype": "float32",
        "shape": [
         0
        ]
       },
       "color": 5010096,
       "colorLegend": false,
       "color_map": {
        "dtype": "float32",
        "shape": [
         1024
        ]
       },
       "color_range": [],
       "colors": {
        "dtype": "uint32",
        "shape": [
         0
        ]
       },
       "compression_level": 0,
       "id": 139669891284848,
       "mesh_detail": 2,
       "model_matrix": {
        "dtype": "float32",
        "shape": [
         4,
         4
        ]
       },
       "name": "Points #1",
       "opacities": {
        "dtype": "float32",
        "shape": [
         0
        ]
       },
       "opacity": 1,
       "opacity_function": {
        "dtype": "float32",
        "shape": [
         0
        ]
       },
       "point_size": 0.125,
       "point_sizes": {
        "dtype": "float32",
        "shape": [
         0
        ]
       },
       "positions": {
        "dtype": "float32",
        "shape": [
         80,
         3
        ]
       },
       "shader": "3dSpecular",
       "type": "Points",
       "visible": true
      }
     },
     "db7292d09e8145aaaa5afa25e1463cdd": {
      "model_module": "@jupyter-widgets/controls",
      "model_module_version": "1.5.0",
      "model_name": "VBoxModel",
      "state": {
       "_dom_classes": [
        "widget-interact"
       ],
       "children": [
        "IPY_MODEL_8b2949e703bb4834acb97b7c644374c5",
        "IPY_MODEL_16e9c6c4c47e4bd3bbdd565d7e4d2446",
        "IPY_MODEL_939549375e4c476cb660e78e925ccc0f"
       ],
       "layout": "IPY_MODEL_755c497a1ec645e2a79dd9c5c90208d8"
      }
     },
     "df2b29257aef4cd19ad55b6486f8c1e3": {
      "model_module": "@jupyter-widgets/base",
      "model_module_version": "1.2.0",
      "model_name": "LayoutModel",
      "state": {}
     },
     "e4031378ce1e4a4e8e3943f61d54daea": {
      "buffers": [
       {
        "data": "",
        "encoding": "base64",
        "path": [
         "attribute",
         "data"
        ]
       },
       {
        "data": "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",
        "encoding": "base64",
        "path": [
         "color_map",
         "data"
        ]
       },
       {
        "data": "",
        "encoding": "base64",
        "path": [
         "colors",
         "data"
        ]
       },
       {
        "data": "AACAPwAAAAAAAAAAAAAAAAAAAAAAAIA/AAAAAAAAAAAAAAAAAAAAAAAAgD8AAAAAAAAAAAAAAAAAAAAAAACAPw==",
        "encoding": "base64",
        "path": [
         "model_matrix",
         "data"
        ]
       },
       {
        "data": "",
        "encoding": "base64",
        "path": [
         "opacities",
         "data"
        ]
       },
       {
        "data": "",
        "encoding": "base64",
        "path": [
         "opacity_function",
         "data"
        ]
       },
       {
        "data": "",
        "encoding": "base64",
        "path": [
         "point_sizes",
         "data"
        ]
       },
       {
        "data": "AABAwAAAoL8AAKC/AABAwAAAQL8AAKC/AABAwAAAgL4AAKC/AABAwAAAgD4AAKC/AABAwAAAQD8AAKC/AABAwAAAoD8AAKC/AABAwAAA4L8AAEC/AABAwAAAoL8AAEC/AABAwAAAQL8AAEC/AABAwAAAgL4AAEC/AABAwAAAgD4AAEC/AABAwAAAQD8AAEC/AABAwAAAoD8AAEC/AABAwAAA4D8AAEC/AABAwAAAEMAAAIC+AABAwAAA4L8AAIC+AABAwAAAoL8AAIC+AABAwAAAQL8AAIC+AABAwAAAgL4AAIC+AABAwAAAgD4AAIC+AABAwAAAQD8AAIC+AABAwAAAoD8AAIC+AABAwAAA4D8AAIC+AABAwAAAEEAAAIC+AABAwAAAEMAAAIA+AABAwAAA4L8AAIA+AABAwAAAoL8AAIA+AABAwAAAQL8AAIA+AABAwAAAgL4AAIA+AABAwAAAgD4AAIA+AABAwAAAQD8AAIA+AABAwAAAoD8AAIA+AABAwAAA4D8AAIA+AABAwAAAEEAAAIA+AABAwAAA4L8AAEA/AABAwAAAoL8AAEA/AABAwAAAQL8AAEA/AABAwAAAgL4AAEA/AABAwAAAgD4AAEA/AABAwAAAQD8AAEA/AABAwAAAoD8AAEA/AABAwAAA4D8AAEA/AABAwAAAoL8AAKA/AABAwAAAQL8AAKA/AABAwAAAgL4AAKA/AABAwAAAgD4AAKA/AABAwAAAQD8AAKA/AABAwAAAoD8AAKA/",
        "encoding": "base64",
        "path": [
         "positions",
         "data"
        ]
       }
      ],
      "model_module": "k3d",
      "model_module_version": "2.11.0",
      "model_name": "ObjectModel",
      "state": {
       "_view_count": null,
       "_view_module": null,
       "_view_module_version": "",
       "_view_name": null,
       "attribute": {
        "dtype": "float32",
        "shape": [
         0
        ]
       },
       "color": 5010096,
       "colorLegend": false,
       "color_map": {
        "dtype": "float32",
        "shape": [
         1024
        ]
       },
       "color_range": [],
       "colors": {
        "dtype": "uint32",
        "shape": [
         0
        ]
       },
       "compression_level": 0,
       "id": 139671939698400,
       "mesh_detail": 2,
       "model_matrix": {
        "dtype": "float32",
        "shape": [
         4,
         4
        ]
       },
       "name": "Points #1",
       "opacities": {
        "dtype": "float32",
        "shape": [
         0
        ]
       },
       "opacity": 1,
       "opacity_function": {
        "dtype": "float32",
        "shape": [
         0
        ]
       },
       "point_size": 0.125,
       "point_sizes": {
        "dtype": "float32",
        "shape": [
         0
        ]
       },
       "positions": {
        "dtype": "float32",
        "shape": [
         48,
         3
        ]
       },
       "shader": "3dSpecular",
       "type": "Points",
       "visible": true
      }
     },
     "e7d6c85fd6a44463babcac88dad7ace9": {
      "buffers": [
       {
        "data": "TiIAAE8jAABRJAAAUyUAAFQlAABWJgAAWCcAAFkoAABbKAAAXSkAAF8qAABhKgAAYisAAGQsAABmLAAAaC0AAGouAABsLgAAbS8AAG8wAABwMAAAcDEAAHExAABxMgEAcTMFAHAzCABwNAwAcDUPAHA1EgBwNhQAcDcWAG83GABvOBoAbzkcAG86HgBvOiAAbjshAG48IwBuPCQAbj0mAG4+JwBuPykAbT8qAG1AKwBtQS0AbUEuAG1CLwBtQzEAbUMyAG1EMwBsRTQAbEU1AGxGNgBsRzgAbEg5AGxIOgBsSTsAbEo8AGxKPQBsSz4AbEw/AGxMQABsTUEAbE5CAGxOQwBsT0QAbFBFAGxRRgBsUUcAbFJIAGxTSQBsU0oAbFRLAGxVTABsVU0AbFZOAGxXTwBsV1AAbVhRAG1ZUgBtWlMAbVpUAG1bVQBtXFUAbVxWAG1dVwBtXlgAbl5ZAG5fWgBuYFsAbmFcAG5hXQBuYl4Ab2NeAG9jXwBvZGAAb2VhAG9lYgBwZmMAcGdkAHBoZQBwaGUAcGlmAHFqZwBxamgAcWtpAHFsagBybWsAcm1sAHJubAByb20Ac29uAHNwbwBzcXAAdHJxAHRycgB0c3IAdXRzAHV0dAB1dXUAdnZ2AHZ3dwB3d3cAd3h4AHd5eQB4enoAeHp7AHh7fAB4fH0AeHx+AHh9fgB4fn8AeH+AAHh/gQB5gIIAeYGDAHmChAB5goUAeYOGAHiEhwB4hYgAeIWJAHiGigB4h4sAeIiMAHiIjQB4iY4AeIqPAHiLkAB4i5EAeIySAHiNkgB4jpMAd46UAHePlQB3kJYAd5GXAHeSmAB3kpkAdpOaAHaUmwB2lZwAdpWdAHaWngB1l58AdZigAHWZoQB1maIAdJqjAHSbpAB0nKUAdJymAHOdpwBznqgAc5+pAHOgqgByoKsAcqGsAHKirQBxo64AcaSvAHGlsABwpbEAcKazAG+ntABvqLUAb6m2AG6ptwBuqrgAbau5AG2sugBtrbsAbK68AGyuvQBrr74Aa7C/AGqxwABqssEAabPCAGmzwwBotMQAaLXFAGe2xgBnt8cAZrjIAGW5yQBlucsAZLrMAGO7zQBjvM4AYr3PAGK+0ABhv9EAYMDSAF/A0wBfwdQAXsLVAF3D1gBcxNcAXMXZAFvG2gBax9sAWcjcAFjI3QBYyd4AV8rfAFbL4ABVzOEAVM3iAFPO5ABSz+UAUdDmAFDR5wBP0ugATtPpAEzT6gBL1OsAStXtAEnW7gBI1+8ARtjwAEXZ8QBE2vIAQtvzAEHc9QA/3fYAPt73ADzf+AA64PkAOOH7ADbi/AA04/0ANOT+ADXl/gA25v4AOOj+AA==",
        "encoding": "base64",
        "path": [
         "color_map",
         "data"
        ]
       },
       {
        "data": "CtcjPAAAAAAAAAAAAAAAAAAAAACmm8Q7AAAAAAAAAAAAAAAAAAAAAG8SgzsAAAAAAAAAAAAAAAAAAAAAAACAPw==",
        "encoding": "base64",
        "path": [
         "model_matrix",
         "data"
        ]
       },
       {
        "data": "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",
        "encoding": "base64",
        "path": [
         "voxels",
         "data"
        ]
       }
      ],
      "model_module": "k3d",
      "model_module_version": "2.11.0",
      "model_name": "ObjectModel",
      "state": {
       "_view_count": null,
       "_view_module": null,
       "_view_module_version": "",
       "_view_name": null,
       "colorLegend": false,
       "color_map": {
        "dtype": "uint32",
        "shape": [
         256
        ]
       },
       "compression_level": 0,
       "id": 139671939941280,
       "model_matrix": {
        "dtype": "float32",
        "shape": [
         4,
         4
        ]
       },
       "name": "Voxels #1",
       "opacity": 1,
       "outlines": false,
       "outlines_color": 0,
       "type": "Voxels",
       "visible": true,
       "voxels": {
        "dtype": "uint8",
        "shape": [
         8,
         12,
         20
        ]
       },
       "wireframe": false
      }
     },
     "e89e34ed6e044a51bb9ccb21a35c7edc": {
      "buffers": [
       {
        "data": "Z7bGAGe2xgByoq0AcqKtAHiJjgB4iY4Acm5sAHJubABsV1AAbFdQAGxHOABsRzgASNfvAEjX7wBR0OYAUdDmAFzE1wBcxNcAbK69AGyuvQB4jpMAeI6TAHFqZwBxamcAbE1BAGxNQQBuPCMAbjwjAHEzBQBxMwUAai4AAGouAAA04/0ANOP9ADjh+wA44fsAP932AD/d9gBL1OsAS9TrAF7C1QBewtUAdZmhAHWZoQBuYFsAbmBbAG49JgBuPSYAbzAAAG8wAABfKgAAXyoAAFgnAABYJwAAVCUAAFQlAAA46P4AOOj+ADbm/gA25v4ANub+ADbm/gA04/0ANOP9AEHc9QBB3PUAZ7bGAGe2xgBsRzgAbEc4AGEqAABhKgAAVCUAAFQlAABPIwAATyMAAE8jAABPIwAATiIAAE4iAAA46P4AOOj+ADbm/gA25v4ANub+ADbm/gA04/0ANOP9AEHc9QBB3PUAZ7bGAGe2xgBsRzgAbEc4AGEqAABhKgAAVCUAAFQlAABPIwAATyMAAE8jAABPIwAATiIAAE4iAAA04/0ANOP9ADjh+wA44fsAP932AD/d9gBL1OsAS9TrAF7C1QBewtUAdZmhAHWZoQBuYFsAbmBbAG49JgBuPSYAbzAAAG8wAABfKgAAXyoAAFgnAABYJwAAVCUAAFQlAABI1+8ASNfvAFHQ5gBR0OYAXMTXAFzE1wBsrr0AbK69AHiOkwB4jpMAcWpnAHFqZwBsTUEAbE1BAG48IwBuPCMAcTMFAHEzBQBqLgAAai4AAGe2xgBntsYAcqKtAHKirQB4iY4AeImOAHJubABybmwAbFdQAGxXUABsRzgAbEc4AA==",
        "encoding": "base64",
        "path": [
         "colors",
         "data"
        ]
       },
       {
        "data": "AACAPwAAAAAAAAAAAAAAAAAAAAAAAIA/AAAAAAAAAAAAAAAAAAAAAAAAgD8AAAAAAAAAAAAAAAAAAAAAAACAPw==",
        "encoding": "base64",
        "path": [
         "model_matrix",
         "data"
        ]
       },
       {
        "data": "pgQVvre5o7/868W/tZ3JvZJmSL8AmcK/oJEQvTQSkr4lYMC/oJEQPZjbWz4lYMC/tZ3JPW6ZNz8AmcK/pgQVPklGnD/868W/wJFgvjyPEcCoZ5C/HKBQvre5479rX42/CbY0vo2EpL8/aYm/WOICvjLoSr+Du4S/3rBGvRzWmL5d9IC/3rBGPchTTj5d9IC/WOICPs4XNT+Du4S/CbY0PnN7mz8/aYm/HKBQPklG3D9rX42/wJFgPsRwDkCoZ5C/YQ94vtFoMcA5Fi+/QoNzvumwEcAQtSu//jdrvkkz5L9JzCa/6CNavhl0pb9qRx+/NqQxvq/NTr/ylhO/96SbvT7ppr4jogW/96SbPYQtMj4jogW/NqQxPlEyMT/ylhO/6CNaPueLmj9qRx+//jdrPrfM2z9JzCa/QoNzPhdPDkAQtSu/YQ94Pi+XLkA5Fi+/AACAvl10McAuumi+dfp+vkvFEcBIq2O+2f58vo2E5L+Y21u+FV14voc1pr/IU06+c3dpvp90U7+ELTK+pgQVvlOCyr609tW9pgQVPrT21T209tW9c3dpPmGLLD+ELTK+FV14PnnKmT/IU06+2f58PnN72z+Y21u+dfp+PrU6DkBIq2O+AACAPqOLLkAuumi+AACAvl10McAuumg+dfp+vkvFEcBIq2M+2f58vo2E5L+Y21s+FV14voc1pr/IU04+c3dpvp90U7+ELTI+pgQVvlOCyr609tU9pgQVPrT21T209tU9c3dpPmGLLD+ELTI+FV14PnnKmT/IU04+2f58PnN72z+Y21s+dfp+PrU6DkBIq2M+AACAPqOLLkAuumg+YQ94vtFoMcA5Fi8/QoNzvumwEcAQtSs//jdrvkkz5L9JzCY/6CNavhl0pb9qRx8/NqQxvq/NTr/ylhM/96SbvT7ppr4jogU/96SbPYQtMj4jogU/NqQxPlEyMT/ylhM/6CNaPueLmj9qRx8//jdrPrfM2z9JzCY/QoNzPhdPDkAQtSs/YQ94Pi+XLkA5Fi8/wJFgvjyPEcCoZ5A/HKBQvre5479rX40/CbY0vo2EpL8/aYk/WOICvjLoSr+Du4Q/3rBGvRzWmL5d9IA/3rBGPchTTj5d9IA/WOICPs4XNT+Du4Q/CbY0PnN7mz8/aYk/HKBQPklG3D9rX40/wJFgPsRwDkCoZ5A/pgQVvre5o7/868U/tZ3JvZJmSL8AmcI/oJEQvTQSkr4lYMA/oJEQPZjbWz4lYMA/tZ3JPW6ZNz8AmcI/pgQVPklGnD/868U/",
        "encoding": "base64",
        "path": [
         "origins",
         "data"
        ]
       },
       {
        "data": "pgSVPtdtbj0coNC+tZ1JPiNphj3+N+u+oJGQPaCRkD3Z/vy+oJGQvaCRkD3Z/vy+tZ1JviNphj3+N+u+pgSVvtdtbj0coNC+wJHgPgCeRz2AhXm+HKDQPtdtbj2mBJW+Cba0PqCRkD0JtrS+WOKCPiCDrj3oI9q+3rDGPd6wxj0VXfi+3rDGvd6wxj0VXfi+WOKCviCDrj3oI9q+Cba0vqCRkD0JtrS+HKDQvtdtbj2mBJW+wJHgvgCeRz2AhXm+YQ/4PkdoND01Tge+QoPzPqx0WD2BVyK+/jfrPiNphj21nUm+6CPaPiCDrj1Y4oK+NqSxPvLa7D02pLG+96QbPvekGz5zd+m+96QbvvekGz5zd+m+NqSxvvLa7D02pLG+6CPaviCDrj1Y4oK+/jfrviNphj21nUm+QoPzvqx0WD2BVyK+YQ/4vkdoND01Tge+AAAAP4wuOj2MLjq9dfr+Pr2lYj29pWK92f78PqCRkD2gkZC9FV34Pt6wxj3esMa9c3fpPvekGz73pBu+pgSVPqYElT6mBJW+pgSVvqYElT6mBJW+c3fpvvekGz73pBu+FV34vt6wxj3esMa92f78vqCRkD2gkZC9dfr+vr2lYj29pWK9AAAAv4wuOj2MLjq9AAAAP4wuOj2MLjo9dfr+Pr2lYj29pWI92f78PqCRkD2gkZA9FV34Pt6wxj3esMY9c3fpPvekGz73pBs+pgSVPqYElT6mBJU+pgSVvqYElT6mBJU+c3fpvvekGz73pBs+FV34vt6wxj3esMY92f78vqCRkD2gkZA9dfr+vr2lYj29pWI9AAAAv4wuOj2MLjo9YQ/4PkdoND01Tgc+QoPzPqx0WD2BVyI+/jfrPiNphj21nUk+6CPaPiCDrj1Y4oI+NqSxPvLa7D02pLE+96QbPvekGz5zd+k+96QbvvekGz5zd+k+NqSxvvLa7D02pLE+6CPaviCDrj1Y4oI+/jfrviNphj21nUk+QoPzvqx0WD2BVyI+YQ/4vkdoND01Tgc+wJHgPgCeRz2AhXk+HKDQPtdtbj2mBJU+Cba0PqCRkD0JtrQ+WOKCPiCDrj3oI9o+3rDGPd6wxj0VXfg+3rDGvd6wxj0VXfg+WOKCviCDrj3oI9o+Cba0vqCRkD0JtrQ+HKDQvtdtbj2mBJU+wJHgvgCeRz2AhXk+pgSVPtdtbj0coNA+tZ1JPiNphj3+N+s+oJGQPaCRkD3Z/vw+oJGQvaCRkD3Z/vw+tZ1JviNphj3+N+s+pgSVvtdtbj0coNA+",
        "encoding": "base64",
        "path": [
         "vectors",
         "data"
        ]
       }
      ],
      "model_module": "k3d",
      "model_module_version": "2.11.0",
      "model_name": "ObjectModel",
      "state": {
       "_view_count": null,
       "_view_module": null,
       "_view_module_version": "",
       "_view_name": null,
       "colorLegend": false,
       "colors": {
        "dtype": "uint32",
        "shape": [
         80,
         2
        ]
       },
       "compression_level": 0,
       "head_color": 255,
       "head_size": 1,
       "id": 139670026012512,
       "label_size": 1,
       "labels": [],
       "line_width": 0.01,
       "model_matrix": {
        "dtype": "float32",
        "shape": [
         4,
         4
        ]
       },
       "name": "Vectors #1",
       "origin_color": 255,
       "origins": {
        "dtype": "float32",
        "shape": [
         80,
         3
        ]
       },
       "type": "Vectors",
       "use_head": true,
       "vectors": {
        "dtype": "float32",
        "shape": [
         80,
         3
        ]
       },
       "visible": true
      }
     },
     "eb35a6454b4148dbb164db1ab7b39d4b": {
      "model_module": "@jupyter-widgets/base",
      "model_module_version": "1.2.0",
      "model_name": "LayoutModel",
      "state": {}
     },
     "ebfd35adf4c141679bcad218d7e5abf5": {
      "buffers": [
       {
        "data": "TiIAAE8jAABRJAAAUyUAAFQlAABWJgAAWCcAAFkoAABbKAAAXSkAAF8qAABhKgAAYisAAGQsAABmLAAAaC0AAGouAABsLgAAbS8AAG8wAABwMAAAcDEAAHExAABxMgEAcTMFAHAzCABwNAwAcDUPAHA1EgBwNhQAcDcWAG83GABvOBoAbzkcAG86HgBvOiAAbjshAG48IwBuPCQAbj0mAG4+JwBuPykAbT8qAG1AKwBtQS0AbUEuAG1CLwBtQzEAbUMyAG1EMwBsRTQAbEU1AGxGNgBsRzgAbEg5AGxIOgBsSTsAbEo8AGxKPQBsSz4AbEw/AGxMQABsTUEAbE5CAGxOQwBsT0QAbFBFAGxRRgBsUUcAbFJIAGxTSQBsU0oAbFRLAGxVTABsVU0AbFZOAGxXTwBsV1AAbVhRAG1ZUgBtWlMAbVpUAG1bVQBtXFUAbVxWAG1dVwBtXlgAbl5ZAG5fWgBuYFsAbmFcAG5hXQBuYl4Ab2NeAG9jXwBvZGAAb2VhAG9lYgBwZmMAcGdkAHBoZQBwaGUAcGlmAHFqZwBxamgAcWtpAHFsagBybWsAcm1sAHJubAByb20Ac29uAHNwbwBzcXAAdHJxAHRycgB0c3IAdXRzAHV0dAB1dXUAdnZ2AHZ3dwB3d3cAd3h4AHd5eQB4enoAeHp7AHh7fAB4fH0AeHx+AHh9fgB4fn8AeH+AAHh/gQB5gIIAeYGDAHmChAB5goUAeYOGAHiEhwB4hYgAeIWJAHiGigB4h4sAeIiMAHiIjQB4iY4AeIqPAHiLkAB4i5EAeIySAHiNkgB4jpMAd46UAHePlQB3kJYAd5GXAHeSmAB3kpkAdpOaAHaUmwB2lZwAdpWdAHaWngB1l58AdZigAHWZoQB1maIAdJqjAHSbpAB0nKUAdJymAHOdpwBznqgAc5+pAHOgqgByoKsAcqGsAHKirQBxo64AcaSvAHGlsABwpbEAcKazAG+ntABvqLUAb6m2AG6ptwBuqrgAbau5AG2sugBtrbsAbK68AGyuvQBrr74Aa7C/AGqxwABqssEAabPCAGmzwwBotMQAaLXFAGe2xgBnt8cAZrjIAGW5yQBlucsAZLrMAGO7zQBjvM4AYr3PAGK+0ABhv9EAYMDSAF/A0wBfwdQAXsLVAF3D1gBcxNcAXMXZAFvG2gBax9sAWcjcAFjI3QBYyd4AV8rfAFbL4ABVzOEAVM3iAFPO5ABSz+UAUdDmAFDR5wBP0ugATtPpAEzT6gBL1OsAStXtAEnW7gBI1+8ARtjwAEXZ8QBE2vIAQtvzAEHc9QA/3fYAPt73ADzf+AA64PkAOOH7ADbi/AA04/0ANOT+ADXl/gA25v4AOOj+AA==",
        "encoding": "base64",
        "path": [
         "color_map",
         "data"
        ]
       },
       {
        "data": "AAAgQQAAAAAAAAAAAAAAAAAAAAAAAMBAAAAAAAAAAAAAAAAAAAAAAAAAAD8AAAAAAAAAAAAAAAAAAAAAAACAPw==",
        "encoding": "base64",
        "path": [
         "model_matrix",
         "data"
        ]
       },
       {
        "data": "AAAAAAAAIyUnKSknJSMAAAAAAAAAAAAAICMnLC8xMS8sJyMgAAAAAAAAHB8jJy00Oj8/OjQtJyMfHAAAABodISUsND9LVlZLPzQsJSEdGgAYGh4iJy86S2aGhmZLOi8nIh4aGBgbHiMpMT9Whv//hlY/MSkjHhsYGBseIykxP1aG//+GVj8xKSMeGxgYGh4iJy86S2aGhmZLOi8nIh4aGAAaHSElLDQ/S1ZWSz80LCUhHRoAAAAcHyMnLTQ6Pz86NC0nIx8cAAAAAAAAICMnLC8xMS8sJyMgAAAAAAAAAAAAACMlJykpJyUjAAAAAAAA",
        "encoding": "base64",
        "path": [
         "voxels",
         "data"
        ]
       }
      ],
      "model_module": "k3d",
      "model_module_version": "2.11.0",
      "model_name": "ObjectModel",
      "state": {
       "_view_count": null,
       "_view_module": null,
       "_view_module_version": "",
       "_view_name": null,
       "colorLegend": false,
       "color_map": {
        "dtype": "uint32",
        "shape": [
         256
        ]
       },
       "compression_level": 0,
       "id": 139670026012560,
       "model_matrix": {
        "dtype": "float32",
        "shape": [
         4,
         4
        ]
       },
       "name": "Voxels #1",
       "opacity": 1,
       "outlines": false,
       "outlines_color": 0,
       "type": "Voxels",
       "visible": true,
       "voxels": {
        "dtype": "uint8",
        "shape": [
         1,
         12,
         20
        ]
       },
       "wireframe": false
      }
     },
     "ecfee2dfed9543f1aa55fe9b7ae4fc5b": {
      "model_module": "@jupyter-widgets/base",
      "model_module_version": "1.2.0",
      "model_name": "LayoutModel",
      "state": {}
     },
     "f2ce19f6a78f4671816f0af13a15b046": {
      "model_module": "@jupyter-widgets/output",
      "model_module_version": "1.0.0",
      "model_name": "OutputModel",
      "state": {
       "layout": "IPY_MODEL_d5f17758bc1e458eb183a4ffdb34618f",
       "outputs": [
        {
         "data": {
          "application/vnd.jupyter.widget-view+json": {
           "model_id": "c113145fe4194a4db1f081dba62d931c",
           "version_major": 2,
           "version_minor": 0
          },
          "text/plain": "Plot(antialias=3, axes=['x', 'y', 'z'], axes_helper=1.0, background_color=16777215, camera_animation=[], camer…"
         },
         "metadata": {},
         "output_type": "display_data"
        }
       ]
      }
     },
     "f3944a11d7b0454ab351ab85d8980a67": {
      "model_module": "@jupyter-widgets/output",
      "model_module_version": "1.0.0",
      "model_name": "OutputModel",
      "state": {
       "layout": "IPY_MODEL_eb35a6454b4148dbb164db1ab7b39d4b"
      }
     },
     "f6896e77f0554b6386c569ab93a6db40": {
      "model_module": "@jupyter-widgets/base",
      "model_module_version": "1.2.0",
      "model_name": "LayoutModel",
      "state": {}
     },
     "f69f492965b54e07991d0f9fa48da08f": {
      "model_module": "@jupyter-widgets/output",
      "model_module_version": "1.0.0",
      "model_name": "OutputModel",
      "state": {
       "layout": "IPY_MODEL_b028efd50ea14d41a6244360f440d9c3",
       "outputs": [
        {
         "data": {
          "application/vnd.jupyter.widget-view+json": {
           "model_id": "2260e299e1c541eeb7ad125057e591a8",
           "version_major": 2,
           "version_minor": 0
          },
          "text/plain": "Plot(antialias=3, axes=['x', 'y', 'z'], axes_helper=1.0, background_color=16777215, camera_animation=[], camer…"
         },
         "metadata": {},
         "output_type": "display_data"
        }
       ]
      }
     },
     "f76d3ca335364b33ba180ac78aac59c2": {
      "buffers": [
       {
        "data": "sHJMAA==",
        "encoding": "base64",
        "path": [
         "color_map",
         "data"
        ]
       },
       {
        "data": "AAAgQQAAAAAAAAAAAAAAAAAAAAAAAMBAAAAAAAAAAAAAAAAAAAAAAAAAgEAAAAAAAAAAAAAAAAAAAAAAAACAPw==",
        "encoding": "base64",
        "path": [
         "model_matrix",
         "data"
        ]
       },
       {
        "data": "AQ==",
        "encoding": "base64",
        "path": [
         "voxels",
         "data"
        ]
       }
      ],
      "model_module": "k3d",
      "model_module_version": "2.11.0",
      "model_name": "ObjectModel",
      "state": {
       "_view_count": null,
       "_view_module": null,
       "_view_module_version": "",
       "_view_name": null,
       "colorLegend": false,
       "color_map": {
        "dtype": "uint32",
        "shape": []
       },
       "compression_level": 0,
       "id": 139669891024160,
       "model_matrix": {
        "dtype": "float32",
        "shape": [
         4,
         4
        ]
       },
       "name": "total_region",
       "opacity": 0.025,
       "outlines": false,
       "outlines_color": 0,
       "type": "Voxels",
       "visible": true,
       "voxels": {
        "dtype": "uint8",
        "shape": [
         1,
         1,
         1
        ]
       },
       "wireframe": false
      }
     },
     "f7b03f9364524747841b956ea763950b": {
      "model_module": "@jupyter-widgets/controls",
      "model_module_version": "1.5.0",
      "model_name": "VBoxModel",
      "state": {
       "_dom_classes": [
        "widget-interact"
       ],
       "children": [
        "IPY_MODEL_fa1b6f3034fb44419d5315aeda59b7b1",
        "IPY_MODEL_577d09c654d348db98e14a71d8d0085f"
       ],
       "layout": "IPY_MODEL_8f6f34a0ff4c45a0b84e8f6e9593ec73"
      }
     },
     "fa1b6f3034fb44419d5315aeda59b7b1": {
      "model_module": "@jupyter-widgets/controls",
      "model_module_version": "1.5.0",
      "model_name": "SelectionSliderModel",
      "state": {
       "_options_labels": [
        "-1.75",
        "-1.25",
        "-0.75",
        "-0.25",
        "0.25",
        "0.75",
        "1.25",
        "1.75"
       ],
       "description": "z (nm)",
       "index": 4,
       "layout": "IPY_MODEL_9bd8c4d572cb45309b5db68e2aad51c9",
       "style": "IPY_MODEL_8b74848be90b49eca6a47711399cd538"
      }
     },
     "fa5b255ef4f74cc0a849f2a90fa66f5a": {
      "model_module": "@jupyter-widgets/output",
      "model_module_version": "1.0.0",
      "model_name": "OutputModel",
      "state": {
       "layout": "IPY_MODEL_c97ae46653a94d4faf4dc54fe682a4b8",
       "outputs": [
        {
         "data": {
          "application/vnd.jupyter.widget-view+json": {
           "model_id": "ad36eebe2213486ab50679ed6f7a63a4",
           "version_major": 2,
           "version_minor": 0
          },
          "text/plain": "Plot(antialias=3, axes=['x', 'y', 'z'], axes_helper=1.0, background_color=16777215, camera_animation=[], camer…"
         },
         "metadata": {},
         "output_type": "display_data"
        }
       ]
      }
     },
     "fb77292d79ea4aaa9c3c92e272c7278d": {
      "buffers": [
       {
        "data": "",
        "encoding": "base64",
        "path": [
         "attribute",
         "data"
        ]
       },
       {
        "data": "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",
        "encoding": "base64",
        "path": [
         "color_map",
         "data"
        ]
       },
       {
        "data": "",
        "encoding": "base64",
        "path": [
         "colors",
         "data"
        ]
       },
       {
        "data": "AACAPwAAAAAAAAAAAAAAAAAAAAAAAIA/AAAAAAAAAAAAAAAAAAAAAAAAgD8AAAAAAAAAAAAAAAAAAAAAAACAPw==",
        "encoding": "base64",
        "path": [
         "model_matrix",
         "data"
        ]
       },
       {
        "data": "",
        "encoding": "base64",
        "path": [
         "opacities",
         "data"
        ]
       },
       {
        "data": "",
        "encoding": "base64",
        "path": [
         "opacity_function",
         "data"
        ]
       },
       {
        "data": "",
        "encoding": "base64",
        "path": [
         "point_sizes",
         "data"
        ]
       },
       {
        "data": "AABAQAAAoL8AAKC/AABAQAAAQL8AAKC/AABAQAAAgL4AAKC/AABAQAAAgD4AAKC/AABAQAAAQD8AAKC/AABAQAAAoD8AAKC/AABAQAAA4L8AAEC/AABAQAAAoL8AAEC/AABAQAAAQL8AAEC/AABAQAAAgL4AAEC/AABAQAAAgD4AAEC/AABAQAAAQD8AAEC/AABAQAAAoD8AAEC/AABAQAAA4D8AAEC/AABAQAAA4L8AAIC+AABAQAAAoL8AAIC+AABAQAAAQL8AAIC+AABAQAAAgL4AAIC+AABAQAAAgD4AAIC+AABAQAAAQD8AAIC+AABAQAAAoD8AAIC+AABAQAAA4D8AAIC+AABAQAAA4L8AAIA+AABAQAAAoL8AAIA+AABAQAAAQL8AAIA+AABAQAAAgL4AAIA+AABAQAAAgD4AAIA+AABAQAAAQD8AAIA+AABAQAAAoD8AAIA+AABAQAAA4D8AAIA+AABAQAAA4L8AAEA/AABAQAAAoL8AAEA/AABAQAAAQL8AAEA/AABAQAAAgL4AAEA/AABAQAAAgD4AAEA/AABAQAAAQD8AAEA/AABAQAAAoD8AAEA/AABAQAAA4D8AAEA/AABAQAAAoL8AAKA/AABAQAAAQL8AAKA/AABAQAAAgL4AAKA/AABAQAAAgD4AAKA/AABAQAAAQD8AAKA/AABAQAAAoD8AAKA/",
        "encoding": "base64",
        "path": [
         "positions",
         "data"
        ]
       }
      ],
      "model_module": "k3d",
      "model_module_version": "2.11.0",
      "model_name": "ObjectModel",
      "state": {
       "_view_count": null,
       "_view_module": null,
       "_view_module_version": "",
       "_view_name": null,
       "attribute": {
        "dtype": "float32",
        "shape": [
         0
        ]
       },
       "color": 5010096,
       "colorLegend": false,
       "color_map": {
        "dtype": "float32",
        "shape": [
         1024
        ]
       },
       "color_range": [],
       "colors": {
        "dtype": "uint32",
        "shape": [
         0
        ]
       },
       "compression_level": 0,
       "id": 139671939743696,
       "mesh_detail": 2,
       "model_matrix": {
        "dtype": "float32",
        "shape": [
         4,
         4
        ]
       },
       "name": "Points #3",
       "opacities": {
        "dtype": "float32",
        "shape": [
         0
        ]
       },
       "opacity": 1,
       "opacity_function": {
        "dtype": "float32",
        "shape": [
         0
        ]
       },
       "point_size": 0.125,
       "point_sizes": {
        "dtype": "float32",
        "shape": [
         0
        ]
       },
       "positions": {
        "dtype": "float32",
        "shape": [
         44,
         3
        ]
       },
       "shader": "3dSpecular",
       "type": "Points",
       "visible": true
      }
     },
     "fb936205c23f4bc9ad90ba7a44b62d8f": {
      "buffers": [
       {
        "data": "TiIAAE8jAABRJAAAUyUAAFQlAABWJgAAWCcAAFkoAABbKAAAXSkAAF8qAABhKgAAYisAAGQsAABmLAAAaC0AAGouAABsLgAAbS8AAG8wAABwMAAAcDEAAHExAABxMgEAcTMFAHAzCABwNAwAcDUPAHA1EgBwNhQAcDcWAG83GABvOBoAbzkcAG86HgBvOiAAbjshAG48IwBuPCQAbj0mAG4+JwBuPykAbT8qAG1AKwBtQS0AbUEuAG1CLwBtQzEAbUMyAG1EMwBsRTQAbEU1AGxGNgBsRzgAbEg5AGxIOgBsSTsAbEo8AGxKPQBsSz4AbEw/AGxMQABsTUEAbE5CAGxOQwBsT0QAbFBFAGxRRgBsUUcAbFJIAGxTSQBsU0oAbFRLAGxVTABsVU0AbFZOAGxXTwBsV1AAbVhRAG1ZUgBtWlMAbVpUAG1bVQBtXFUAbVxWAG1dVwBtXlgAbl5ZAG5fWgBuYFsAbmFcAG5hXQBuYl4Ab2NeAG9jXwBvZGAAb2VhAG9lYgBwZmMAcGdkAHBoZQBwaGUAcGlmAHFqZwBxamgAcWtpAHFsagBybWsAcm1sAHJubAByb20Ac29uAHNwbwBzcXAAdHJxAHRycgB0c3IAdXRzAHV0dAB1dXUAdnZ2AHZ3dwB3d3cAd3h4AHd5eQB4enoAeHp7AHh7fAB4fH0AeHx+AHh9fgB4fn8AeH+AAHh/gQB5gIIAeYGDAHmChAB5goUAeYOGAHiEhwB4hYgAeIWJAHiGigB4h4sAeIiMAHiIjQB4iY4AeIqPAHiLkAB4i5EAeIySAHiNkgB4jpMAd46UAHePlQB3kJYAd5GXAHeSmAB3kpkAdpOaAHaUmwB2lZwAdpWdAHaWngB1l58AdZigAHWZoQB1maIAdJqjAHSbpAB0nKUAdJymAHOdpwBznqgAc5+pAHOgqgByoKsAcqGsAHKirQBxo64AcaSvAHGlsABwpbEAcKazAG+ntABvqLUAb6m2AG6ptwBuqrgAbau5AG2sugBtrbsAbK68AGyuvQBrr74Aa7C/AGqxwABqssEAabPCAGmzwwBotMQAaLXFAGe2xgBnt8cAZrjIAGW5yQBlucsAZLrMAGO7zQBjvM4AYr3PAGK+0ABhv9EAYMDSAF/A0wBfwdQAXsLVAF3D1gBcxNcAXMXZAFvG2gBax9sAWcjcAFjI3QBYyd4AV8rfAFbL4ABVzOEAVM3iAFPO5ABSz+UAUdDmAFDR5wBP0ugATtPpAEzT6gBL1OsAStXtAEnW7gBI1+8ARtjwAEXZ8QBE2vIAQtvzAEHc9QA/3fYAPt73ADzf+AA64PkAOOH7ADbi/AA04/0ANOT+ADXl/gA25v4AOOj+AA==",
        "encoding": "base64",
        "path": [
         "color_map",
         "data"
        ]
       },
       {
        "data": "AAAgQQAAAAAAAAAAAAAAAAAAAAAAAMBAAAAAAAAAAAAAAAAAAAAAAAAAgEAAAAAAAAAAAAAAAAAAAAAAAACAPw==",
        "encoding": "base64",
        "path": [
         "model_matrix",
         "data"
        ]
       },
       {
        "data": "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",
        "encoding": "base64",
        "path": [
         "voxels",
         "data"
        ]
       }
      ],
      "model_module": "k3d",
      "model_module_version": "2.11.0",
      "model_name": "ObjectModel",
      "state": {
       "_view_count": null,
       "_view_module": null,
       "_view_module_version": "",
       "_view_name": null,
       "colorLegend": false,
       "color_map": {
        "dtype": "uint32",
        "shape": [
         256
        ]
       },
       "compression_level": 0,
       "id": 139670025895264,
       "model_matrix": {
        "dtype": "float32",
        "shape": [
         4,
         4
        ]
       },
       "name": "Voxels #1",
       "opacity": 1,
       "outlines": false,
       "outlines_color": 0,
       "type": "Voxels",
       "visible": true,
       "voxels": {
        "dtype": "uint8",
        "shape": [
         8,
         12,
         20
        ]
       },
       "wireframe": false
      }
     },
     "fb96bbc9a70e461d96976cc6fdf38d0f": {
      "model_module": "@jupyter-widgets/controls",
      "model_module_version": "1.5.0",
      "model_name": "DescriptionStyleModel",
      "state": {
       "description_width": ""
      }
     }
    },
    "version_major": 2,
    "version_minor": 0
   }
  }
 },
 "nbformat": 4,
 "nbformat_minor": 4
}
